{
 "cells": [
  {
   "cell_type": "markdown",
   "id": "ea7cb2be",
   "metadata": {},
   "source": [
    "#  <font color=red> Module_01_建立資料框與資料框的基本操作</font>"
   ]
  },
  {
   "cell_type": "markdown",
   "id": "1ac9c596",
   "metadata": {},
   "source": [
    "## 建立資料框物件"
   ]
  },
  {
   "cell_type": "code",
   "execution_count": null,
   "id": "e8cfae64",
   "metadata": {},
   "outputs": [],
   "source": [
    "import pandas as pd\n",
    "import numpy as np\n",
    "\n",
    "a = pd.DataFrame(np.arange(1,6))\n",
    "a"
   ]
  },
  {
   "cell_type": "code",
   "execution_count": null,
   "id": "139a1a50",
   "metadata": {},
   "outputs": [],
   "source": [
    "a.shape"
   ]
  },
  {
   "cell_type": "code",
   "execution_count": null,
   "id": "cb2752b1",
   "metadata": {},
   "outputs": [],
   "source": [
    "a.size"
   ]
  },
  {
   "cell_type": "code",
   "execution_count": null,
   "id": "f49f9e53",
   "metadata": {},
   "outputs": [],
   "source": [
    "len(a)"
   ]
  },
  {
   "cell_type": "code",
   "execution_count": null,
   "id": "3cbfd724",
   "metadata": {},
   "outputs": [],
   "source": [
    "a.dtypes"
   ]
  },
  {
   "cell_type": "code",
   "execution_count": null,
   "id": "95255459",
   "metadata": {},
   "outputs": [],
   "source": [
    "type(a)"
   ]
  },
  {
   "cell_type": "code",
   "execution_count": null,
   "id": "64d5a071",
   "metadata": {},
   "outputs": [],
   "source": [
    "a.values"
   ]
  },
  {
   "cell_type": "markdown",
   "id": "ff37f120",
   "metadata": {},
   "source": [
    "---"
   ]
  },
  {
   "cell_type": "code",
   "execution_count": null,
   "id": "2ab39297",
   "metadata": {},
   "outputs": [],
   "source": [
    "b = pd.DataFrame(np.array([[10, 11], [20, 21]]))\n",
    "b"
   ]
  },
  {
   "cell_type": "code",
   "execution_count": null,
   "id": "9ce6dc5f",
   "metadata": {},
   "outputs": [],
   "source": [
    "b.shape"
   ]
  },
  {
   "cell_type": "code",
   "execution_count": null,
   "id": "a383c37f",
   "metadata": {},
   "outputs": [],
   "source": [
    "b.size"
   ]
  },
  {
   "cell_type": "code",
   "execution_count": null,
   "id": "86fb4a9d",
   "metadata": {},
   "outputs": [],
   "source": [
    "b.dtypes"
   ]
  },
  {
   "cell_type": "code",
   "execution_count": null,
   "id": "39e364e9",
   "metadata": {},
   "outputs": [],
   "source": [
    "b.index"
   ]
  },
  {
   "cell_type": "code",
   "execution_count": null,
   "id": "ad544854",
   "metadata": {},
   "outputs": [],
   "source": [
    "b.columns # 沒有設定一樣產生一個 RangeIndex 物件來代表行"
   ]
  },
  {
   "cell_type": "code",
   "execution_count": null,
   "id": "3d545465",
   "metadata": {},
   "outputs": [],
   "source": [
    "b.values"
   ]
  },
  {
   "cell_type": "markdown",
   "id": "9e6a0221",
   "metadata": {},
   "source": [
    "---"
   ]
  },
  {
   "cell_type": "code",
   "execution_count": null,
   "id": "02ee80cb",
   "metadata": {},
   "outputs": [],
   "source": [
    "c = pd.DataFrame(np.array([[70, 71], [90, 91]]), \n",
    "                 columns = ['Missoula', 'Philadelphia'],\n",
    "                 index = ['a', 'b'])\n",
    "c"
   ]
  },
  {
   "cell_type": "code",
   "execution_count": null,
   "id": "fc39e7bd",
   "metadata": {},
   "outputs": [],
   "source": [
    "c.shape"
   ]
  },
  {
   "cell_type": "code",
   "execution_count": null,
   "id": "597f0fc2",
   "metadata": {},
   "outputs": [],
   "source": [
    "len(c) # 列的個數"
   ]
  },
  {
   "cell_type": "code",
   "execution_count": null,
   "id": "06c6065e",
   "metadata": {},
   "outputs": [],
   "source": [
    "c.columns"
   ]
  },
  {
   "cell_type": "code",
   "execution_count": null,
   "id": "b66edb24",
   "metadata": {},
   "outputs": [],
   "source": [
    "c.index"
   ]
  },
  {
   "cell_type": "markdown",
   "id": "7c5d71d5",
   "metadata": {},
   "source": [
    "---"
   ]
  },
  {
   "cell_type": "code",
   "execution_count": null,
   "id": "cdd15394",
   "metadata": {},
   "outputs": [],
   "source": [
    "temps_missoula = [70, 71]\n",
    "temps_philly =  [90, 91]\n",
    "temperatures ={'Missoula': temps_missoula,\n",
    "               'Philadephia': temps_philly}\n",
    "d = pd.DataFrame(temperatures)\n",
    "d"
   ]
  },
  {
   "cell_type": "markdown",
   "id": "b599cf6b",
   "metadata": {},
   "source": [
    "---"
   ]
  },
  {
   "cell_type": "code",
   "execution_count": null,
   "id": "f3184857",
   "metadata": {},
   "outputs": [],
   "source": [
    "temps_at_time0 = pd.Series([70, 90], index = ['a', 'b'])\n",
    "temps_at_time1 = pd.Series([71, 91], index = ['a', 'b'])\n",
    "e = pd.DataFrame([temps_at_time0, temps_at_time1])\n",
    "e"
   ]
  },
  {
   "cell_type": "code",
   "execution_count": null,
   "id": "49188942",
   "metadata": {},
   "outputs": [],
   "source": [
    "e.columns"
   ]
  },
  {
   "cell_type": "code",
   "execution_count": null,
   "id": "10791276",
   "metadata": {},
   "outputs": [],
   "source": [
    "e.columns = ['Missoula', 'Philadephia']"
   ]
  },
  {
   "cell_type": "code",
   "execution_count": null,
   "id": "715d7252",
   "metadata": {},
   "outputs": [],
   "source": [
    "e"
   ]
  },
  {
   "cell_type": "markdown",
   "id": "9861fff4",
   "metadata": {},
   "source": [
    "---"
   ]
  },
  {
   "cell_type": "code",
   "execution_count": null,
   "id": "22b39780",
   "metadata": {},
   "outputs": [],
   "source": [
    "temps_mso_series = pd.Series([70, 71], index = ['a', 'b'])\n",
    "temps_phl_series = pd.Series([90, 91], index = ['a', 'b'])\n",
    "f = pd.DataFrame({'Missoula': temps_mso_series,\n",
    "                 'Philadephia': temps_phl_series})\n",
    "f"
   ]
  },
  {
   "cell_type": "code",
   "execution_count": null,
   "id": "3c8d0612",
   "metadata": {},
   "outputs": [],
   "source": [
    "f.index = e.index"
   ]
  },
  {
   "cell_type": "code",
   "execution_count": null,
   "id": "6b85028f",
   "metadata": {},
   "outputs": [],
   "source": [
    "f"
   ]
  },
  {
   "cell_type": "markdown",
   "id": "cb6df1c9",
   "metadata": {},
   "source": [
    "---"
   ]
  },
  {
   "cell_type": "code",
   "execution_count": null,
   "id": "645e9035",
   "metadata": {},
   "outputs": [],
   "source": [
    "# 在建構 Dataframe 時，Series 會被對齊\n",
    "\n",
    "temps_mso_series = pd.Series([70, 71])\n",
    "temps_phl_series = pd.Series([90, 91])\n",
    "temps_nyc_series = pd.Series([85, 87], index = [1, 2])\n",
    "f = pd.DataFrame({'Missoula': temps_mso_series,\n",
    "                 'Philadephia': temps_phl_series,\n",
    "                 'New York': temps_nyc_series})\n",
    "f"
   ]
  },
  {
   "cell_type": "markdown",
   "id": "f9e9c0f6",
   "metadata": {},
   "source": [
    "---"
   ]
  },
  {
   "cell_type": "code",
   "execution_count": null,
   "id": "6535c3ba",
   "metadata": {},
   "outputs": [],
   "source": [
    "# 使用 pd.read_csv 讀取 csv 檔案建立資料框\n",
    "# pandas 能夠讀取更多不同類型的檔案來建立資料框，之後會詳細介紹\n",
    "\n",
    "sp500 = pd.read_csv('./mod01/sp500.csv', index_col = 'Symbol', usecols = [0, 2, 3, 7])\n",
    "sp500"
   ]
  },
  {
   "cell_type": "code",
   "execution_count": null,
   "id": "c09631c5",
   "metadata": {},
   "outputs": [],
   "source": [
    "len(sp500)"
   ]
  },
  {
   "cell_type": "code",
   "execution_count": null,
   "id": "f840bf67",
   "metadata": {},
   "outputs": [],
   "source": [
    "sp500.shape"
   ]
  },
  {
   "cell_type": "code",
   "execution_count": null,
   "id": "6acfc4a2",
   "metadata": {},
   "outputs": [],
   "source": [
    "sp500.size"
   ]
  },
  {
   "cell_type": "code",
   "execution_count": null,
   "id": "9d63efc5",
   "metadata": {},
   "outputs": [],
   "source": [
    "sp500.index"
   ]
  },
  {
   "cell_type": "code",
   "execution_count": null,
   "id": "a54dda20",
   "metadata": {},
   "outputs": [],
   "source": [
    "sp500.columns"
   ]
  },
  {
   "cell_type": "markdown",
   "id": "7da81830",
   "metadata": {},
   "source": [
    "## 選擇資料框的行"
   ]
  },
  {
   "cell_type": "code",
   "execution_count": null,
   "id": "c83405ae",
   "metadata": {},
   "outputs": [],
   "source": [
    "sp500 = pd.read_csv('./mod01/sp500.csv', index_col = 'Symbol', usecols = [0, 2, 3, 7])\n",
    "sp500.head()"
   ]
  },
  {
   "cell_type": "code",
   "execution_count": null,
   "id": "39c0542a",
   "metadata": {},
   "outputs": [],
   "source": [
    "a = sp500['Sector']\n",
    "a.head()"
   ]
  },
  {
   "cell_type": "code",
   "execution_count": null,
   "id": "3bc184ec",
   "metadata": {},
   "outputs": [],
   "source": [
    "type(a) # 從 Dataframe 提取的一行就是 Series"
   ]
  },
  {
   "cell_type": "code",
   "execution_count": null,
   "id": "32bcc463",
   "metadata": {},
   "outputs": [],
   "source": [
    "b = sp500[['Price', 'Book Value']] # 記得要加 list\n",
    "b.head()"
   ]
  },
  {
   "cell_type": "code",
   "execution_count": null,
   "id": "7043e943",
   "metadata": {},
   "outputs": [],
   "source": [
    "type(b) # 從 Dataframe 提取多行就還會是 Dataframe"
   ]
  },
  {
   "cell_type": "code",
   "execution_count": null,
   "id": "0142f523",
   "metadata": {},
   "outputs": [],
   "source": [
    "c = sp500[['Sector']] # 提取一行也希望是 Dataframe，只要多加一個 List 即可\n",
    "c.head()"
   ]
  },
  {
   "cell_type": "code",
   "execution_count": null,
   "id": "3f7e5925",
   "metadata": {},
   "outputs": [],
   "source": [
    "sp500.Price # 用屬性的方式來提取行 # 限制比較多 # 比如行的名稱有空格無法使用"
   ]
  },
  {
   "cell_type": "markdown",
   "id": "7b94681e",
   "metadata": {},
   "source": [
    "## 選擇資料框的列"
   ]
  },
  {
   "cell_type": "code",
   "execution_count": null,
   "id": "66941ec8",
   "metadata": {},
   "outputs": [],
   "source": [
    "sp500 = pd.read_csv('./mod01/sp500.csv', index_col = 'Symbol', usecols = [0, 2, 3, 7])\n",
    "sp500.head()"
   ]
  },
  {
   "cell_type": "code",
   "execution_count": null,
   "id": "8993a528",
   "metadata": {},
   "outputs": [],
   "source": [
    "# 傳入索引標籤值，利用 .loc[] 來提取\n",
    "a = sp500.loc['MMM']\n",
    "a"
   ]
  },
  {
   "cell_type": "code",
   "execution_count": null,
   "id": "af7f1c2d",
   "metadata": {},
   "outputs": [],
   "source": [
    "type(a) # 從 Dataframe 提取的一列就是 Series"
   ]
  },
  {
   "cell_type": "code",
   "execution_count": null,
   "id": "fd793159",
   "metadata": {},
   "outputs": [],
   "source": [
    "b = sp500.loc[['MMM', 'MSFT']]\n",
    "b"
   ]
  },
  {
   "cell_type": "code",
   "execution_count": null,
   "id": "263f159a",
   "metadata": {},
   "outputs": [],
   "source": [
    "type(b) # 從 Dataframe 提取多列就還會是 Dataframe"
   ]
  },
  {
   "cell_type": "code",
   "execution_count": null,
   "id": "2606640b",
   "metadata": {},
   "outputs": [],
   "source": [
    "c = sp500.loc[['MMM']] # 提取一列也希望是 Dataframe，只要多加一個 List 即可\n",
    "c"
   ]
  },
  {
   "cell_type": "markdown",
   "id": "4f43b9ce",
   "metadata": {},
   "source": [
    "---"
   ]
  },
  {
   "cell_type": "code",
   "execution_count": null,
   "id": "78c969f6",
   "metadata": {},
   "outputs": [],
   "source": [
    "# 傳入位置值，利用 .iloc[] 來提取\n",
    "\n",
    "c = sp500.iloc[[0, 2]]\n",
    "c"
   ]
  },
  {
   "cell_type": "code",
   "execution_count": null,
   "id": "42cc521c",
   "metadata": {},
   "outputs": [],
   "source": [
    "i1 = sp500.index.get_loc('MMM')\n",
    "i2 = sp500.index.get_loc('A')\n",
    "print(i1)\n",
    "print(i2)"
   ]
  },
  {
   "cell_type": "code",
   "execution_count": null,
   "id": "4c181117",
   "metadata": {},
   "outputs": [],
   "source": [
    "d = sp500.iloc[[i1, i2]]\n",
    "d"
   ]
  },
  {
   "cell_type": "markdown",
   "id": "1652404c",
   "metadata": {},
   "source": [
    "## 利用 .at[ ] 及 .iat[ ] ，以標籤或位置進行純量查詢"
   ]
  },
  {
   "cell_type": "code",
   "execution_count": null,
   "id": "f3f2f1d2",
   "metadata": {},
   "outputs": [],
   "source": [
    "sp500 = pd.read_csv('./mod01/sp500.csv', index_col = 'Symbol', usecols = [0, 2, 3, 7])\n",
    "sp500.head()"
   ]
  },
  {
   "cell_type": "code",
   "execution_count": null,
   "id": "58e74c4c",
   "metadata": {},
   "outputs": [],
   "source": [
    "a = sp500.at['MMM', 'Price'] # 利用索引標籤\n",
    "a"
   ]
  },
  {
   "cell_type": "code",
   "execution_count": null,
   "id": "aca10374",
   "metadata": {},
   "outputs": [],
   "source": [
    "b = sp500.iat[0, 1] # 利用位置\n",
    "b"
   ]
  },
  {
   "cell_type": "markdown",
   "id": "02187b95",
   "metadata": {},
   "source": [
    "---"
   ]
  },
  {
   "cell_type": "code",
   "execution_count": null,
   "id": "1e9a5de6",
   "metadata": {},
   "outputs": [],
   "source": [
    "sp500.loc['MMM'].loc['Price']"
   ]
  },
  {
   "cell_type": "code",
   "execution_count": null,
   "id": "6a9d1d58",
   "metadata": {},
   "outputs": [],
   "source": [
    "sp500['Price'].loc['MMM']"
   ]
  },
  {
   "cell_type": "markdown",
   "id": "9cb55ce1",
   "metadata": {},
   "source": [
    "## 利用 [ ]、.loc[ ]、.iloc[ ] 運算子做切割(Slicing)"
   ]
  },
  {
   "cell_type": "code",
   "execution_count": null,
   "id": "9c025940",
   "metadata": {},
   "outputs": [],
   "source": [
    "sp500 = pd.read_csv('./mod01/sp500.csv', index_col = 'Symbol', usecols = [0, 2, 3, 7])\n",
    "sp500.head()"
   ]
  },
  {
   "cell_type": "code",
   "execution_count": null,
   "id": "f504d39e",
   "metadata": {},
   "outputs": [],
   "source": [
    "sp500[:3] # 使用位置，對列切割"
   ]
  },
  {
   "cell_type": "code",
   "execution_count": null,
   "id": "6c8313ef",
   "metadata": {},
   "outputs": [],
   "source": [
    "# [] 運算子只能對列做切片\n",
    "sp500[:3, :2] "
   ]
  },
  {
   "cell_type": "code",
   "execution_count": null,
   "id": "ace9f0e5",
   "metadata": {},
   "outputs": [],
   "source": [
    "sp500['ABT':'ACN']"
   ]
  },
  {
   "cell_type": "code",
   "execution_count": null,
   "id": "f12ce3f2",
   "metadata": {},
   "outputs": [],
   "source": [
    "# [] 運算子只能對列做切片\n",
    "sp500['ABT':'ACN', 'Sector':'Price'] "
   ]
  },
  {
   "cell_type": "code",
   "execution_count": null,
   "id": "77ed0f3b",
   "metadata": {},
   "outputs": [],
   "source": [
    "sp500.iloc[:3]"
   ]
  },
  {
   "cell_type": "code",
   "execution_count": null,
   "id": "2dcf893f",
   "metadata": {},
   "outputs": [],
   "source": [
    "sp500.iloc[:3, :2] "
   ]
  },
  {
   "cell_type": "code",
   "execution_count": null,
   "id": "1222dc0b",
   "metadata": {},
   "outputs": [],
   "source": [
    "sp500.loc['ABT':'ACN']"
   ]
  },
  {
   "cell_type": "code",
   "execution_count": null,
   "id": "0ce47865",
   "metadata": {},
   "outputs": [],
   "source": [
    "# 索引標籤的切片會包含最後一項\n",
    "sp500.loc['ABT':'ACN', 'Sector':'Price']"
   ]
  },
  {
   "cell_type": "markdown",
   "id": "ab70289e",
   "metadata": {},
   "source": [
    "---"
   ]
  },
  {
   "cell_type": "code",
   "execution_count": null,
   "id": "03278ef2",
   "metadata": {},
   "outputs": [],
   "source": [
    "df = pd.DataFrame(np.arange(9).reshape(3, 3), index = [3, 4, 5])\n",
    "df"
   ]
  },
  {
   "cell_type": "code",
   "execution_count": null,
   "id": "67c30df8",
   "metadata": {},
   "outputs": [],
   "source": [
    "df[:2]"
   ]
  },
  {
   "cell_type": "markdown",
   "id": "d81d5a1b",
   "metadata": {},
   "source": [
    "## 利用布林選擇選取列"
   ]
  },
  {
   "cell_type": "code",
   "execution_count": null,
   "id": "13b68001",
   "metadata": {},
   "outputs": [],
   "source": [
    "sp500 = pd.read_csv('./mod01/sp500.csv', index_col = 'Symbol', usecols = [0, 2, 3, 7])\n",
    "sp500.head()"
   ]
  },
  {
   "cell_type": "code",
   "execution_count": null,
   "id": "1d7ef2db",
   "metadata": {},
   "outputs": [],
   "source": [
    "# 找出股價小於 100 的股票\n",
    "a = sp500.Price < 100\n",
    "a"
   ]
  },
  {
   "cell_type": "code",
   "execution_count": null,
   "id": "3007a925",
   "metadata": {},
   "outputs": [],
   "source": [
    "b = sp500[a]\n",
    "b"
   ]
  },
  {
   "cell_type": "code",
   "execution_count": null,
   "id": "7f42416a",
   "metadata": {},
   "outputs": [],
   "source": [
    "# 提取價格在 6 到 10 之間的股票符號跟價格\n",
    "\n",
    "c = sp500[(sp500.Price > 6) & (sp500.Price < 10)]['Price']\n",
    "c"
   ]
  },
  {
   "cell_type": "code",
   "execution_count": null,
   "id": "70d71d6a",
   "metadata": {},
   "outputs": [],
   "source": [
    "# 找出 Sector 是 Health Care、Price >= 100 的所有列，且只要印出 Sector 和 Price\n",
    "\n",
    "d = sp500[(sp500.Sector == 'Health Care') & (sp500.Price >= 100)][['Sector', 'Price']]\n",
    "d"
   ]
  },
  {
   "cell_type": "markdown",
   "id": "492cd851",
   "metadata": {},
   "source": [
    "## 跨越行與列進行選取"
   ]
  },
  {
   "cell_type": "code",
   "execution_count": null,
   "id": "1ffd0739",
   "metadata": {},
   "outputs": [],
   "source": [
    "# 選取股票 ABT 與 ZTS，印出 Sector 與 Price\n",
    "sp500 = pd.read_csv('./mod01/sp500.csv', index_col = 'Symbol', usecols = [0, 2, 3, 7])\n",
    "sp500.head()"
   ]
  },
  {
   "cell_type": "code",
   "execution_count": null,
   "id": "dfca0b67",
   "metadata": {},
   "outputs": [],
   "source": [
    "a = sp500.loc[['ABT', 'ZTS']][['Sector', 'Price']] # 先選列，再選行\n",
    "a"
   ]
  },
  {
   "cell_type": "code",
   "execution_count": null,
   "id": "44e60c8c",
   "metadata": {},
   "outputs": [],
   "source": [
    "b = sp500[['Sector', 'Price']].loc[['ABT', 'ZTS']] # 先選行，再選列\n",
    "b"
   ]
  },
  {
   "cell_type": "markdown",
   "id": "15376eda",
   "metadata": {},
   "source": [
    "## 重新命名行"
   ]
  },
  {
   "cell_type": "code",
   "execution_count": null,
   "id": "5bc4b57e",
   "metadata": {},
   "outputs": [],
   "source": [
    "sp500 = pd.read_csv('./mod01/sp500.csv', index_col = 'Symbol', usecols = [0, 2, 3, 7])\n",
    "sp500.head()"
   ]
  },
  {
   "cell_type": "code",
   "execution_count": null,
   "id": "185a02c8",
   "metadata": {},
   "outputs": [],
   "source": [
    "newSp500 = sp500.rename(columns = {'Book Value': 'BookValue'})\n",
    "newSp500[:2]"
   ]
  },
  {
   "cell_type": "code",
   "execution_count": null,
   "id": "06355ca7",
   "metadata": {},
   "outputs": [],
   "source": [
    "sp500 # not in-place"
   ]
  },
  {
   "cell_type": "code",
   "execution_count": null,
   "id": "599f937d",
   "metadata": {},
   "outputs": [],
   "source": [
    "sp500.rename(columns = {'Book Value': 'BookValue'}, inplace = True)"
   ]
  },
  {
   "cell_type": "code",
   "execution_count": null,
   "id": "472d0fa3",
   "metadata": {},
   "outputs": [],
   "source": [
    "sp500.columns"
   ]
  },
  {
   "cell_type": "code",
   "execution_count": null,
   "id": "4e21871e",
   "metadata": {},
   "outputs": [],
   "source": [
    "# 沒有空格才可以用屬性的方式取欄位\n",
    "sp500.BookValue[:5]"
   ]
  },
  {
   "cell_type": "markdown",
   "id": "e97e0e7a",
   "metadata": {},
   "source": [
    "---"
   ]
  },
  {
   "cell_type": "code",
   "execution_count": null,
   "id": "6ca136aa",
   "metadata": {},
   "outputs": [],
   "source": [
    "sp500"
   ]
  },
  {
   "cell_type": "code",
   "execution_count": null,
   "id": "1004b91a",
   "metadata": {},
   "outputs": [],
   "source": [
    "# 另一種改行名的方式\n",
    "sp500.columns.values[2] = 'Book Value'"
   ]
  },
  {
   "cell_type": "code",
   "execution_count": null,
   "id": "2ef41e30",
   "metadata": {},
   "outputs": [],
   "source": [
    "sp500"
   ]
  },
  {
   "cell_type": "markdown",
   "id": "cd9148bf",
   "metadata": {},
   "source": [
    "## 利用 [ ] 及 .insert() 方法增加新行"
   ]
  },
  {
   "cell_type": "code",
   "execution_count": null,
   "id": "16c1990d",
   "metadata": {},
   "outputs": [],
   "source": [
    "sp500 = pd.read_csv('./mod01/sp500.csv', index_col = 'Symbol', usecols = [0, 2, 3, 7])\n",
    "sp500.head()"
   ]
  },
  {
   "cell_type": "code",
   "execution_count": null,
   "id": "fa2b5c0f",
   "metadata": {},
   "outputs": [],
   "source": [
    "sp500_copy = sp500.copy()\n",
    "sp500_copy['RoundedPrice'] = sp500.Price.round() # 會對齊 # 放在最後\n",
    "sp500_copy[:2] "
   ]
  },
  {
   "cell_type": "code",
   "execution_count": null,
   "id": "db806fe0",
   "metadata": {},
   "outputs": [],
   "source": [
    "a = pd.DataFrame(np.array([[1, 2], [3, 4]]), index = ['a', 'b'], columns = ['Col1', 'Col2'])\n",
    "a"
   ]
  },
  {
   "cell_type": "code",
   "execution_count": null,
   "id": "d80dae9e",
   "metadata": {},
   "outputs": [],
   "source": [
    "# 注意，會對齊\n",
    "# 但是不會擴增列數\n",
    "a['Col3'] = pd.Series([5, 6], index = ['a', 'c'])\n",
    "a"
   ]
  },
  {
   "cell_type": "markdown",
   "id": "8e19c237",
   "metadata": {},
   "source": [
    "---"
   ]
  },
  {
   "cell_type": "code",
   "execution_count": null,
   "id": "0eec429d",
   "metadata": {},
   "outputs": [],
   "source": [
    "# .insert() 方法的優點是可以決定放的位置\n",
    "# 如果 insert 重複的欄名會產生例外\n",
    "copy = sp500.copy()\n",
    "copy.insert(1, 'RoundedPrice', sp500.Price.round()) # in-place"
   ]
  },
  {
   "cell_type": "code",
   "execution_count": null,
   "id": "0f243d1c",
   "metadata": {},
   "outputs": [],
   "source": [
    "copy[:5]"
   ]
  },
  {
   "cell_type": "code",
   "execution_count": null,
   "id": "95f3c77b",
   "metadata": {},
   "outputs": [],
   "source": [
    "copy.insert(2, 'RoundedPrice', 1)"
   ]
  },
  {
   "cell_type": "markdown",
   "id": "1f3bd231",
   "metadata": {},
   "source": [
    "---"
   ]
  },
  {
   "cell_type": "code",
   "execution_count": null,
   "id": "623eb9fe",
   "metadata": {},
   "outputs": [],
   "source": [
    "b = pd.DataFrame(np.array([[1, 2], [3, 4]]), index = ['a', 'b'], columns = ['Col1', 'Col2'])\n",
    "b"
   ]
  },
  {
   "cell_type": "code",
   "execution_count": null,
   "id": "7d1f6662",
   "metadata": {},
   "outputs": [],
   "source": [
    "b.insert(1, 'Col3', pd.Series([5, 6], index = ['a', 'c']))\n",
    "b"
   ]
  },
  {
   "cell_type": "markdown",
   "id": "b16d931b",
   "metadata": {},
   "source": [
    "## 利用擴展增加新行"
   ]
  },
  {
   "cell_type": "code",
   "execution_count": null,
   "id": "1b279a22",
   "metadata": {},
   "outputs": [],
   "source": [
    "sp500 = pd.read_csv('./mod01/sp500.csv', index_col = 'Symbol', usecols = [0, 2, 3, 7])\n",
    "sp500.head()"
   ]
  },
  {
   "cell_type": "code",
   "execution_count": null,
   "id": "c439e276",
   "metadata": {},
   "outputs": [],
   "source": [
    "sp500_copy = sp500.copy()\n",
    "sp500_copy.loc[:, 'PER'] = 0\n",
    "sp500_copy[:5]"
   ]
  },
  {
   "cell_type": "code",
   "execution_count": null,
   "id": "99db6cd9",
   "metadata": {},
   "outputs": [],
   "source": [
    "sp500_copy = sp500.copy()\n",
    "np.random.seed(12345)\n",
    "sp500_copy.loc[:,'PER'] = pd.Series(np.random.normal(size = len(sp500)), index = sp500.index)\n",
    "sp500_copy[:10]"
   ]
  },
  {
   "cell_type": "markdown",
   "id": "c0355e5a",
   "metadata": {},
   "source": [
    "## 利用串連增加新行"
   ]
  },
  {
   "cell_type": "code",
   "execution_count": null,
   "id": "dd0f9efc",
   "metadata": {},
   "outputs": [],
   "source": [
    "sp500 = pd.read_csv('./mod01/sp500.csv', index_col = 'Symbol', usecols = [0, 2, 3, 7])\n",
    "sp500.head()"
   ]
  },
  {
   "cell_type": "code",
   "execution_count": null,
   "id": "72d683f7",
   "metadata": {},
   "outputs": [],
   "source": [
    "rounded_price = pd.DataFrame({'RoundedPrice': sp500.Price.round()})\n",
    "rounded_price[:5]"
   ]
  },
  {
   "cell_type": "code",
   "execution_count": null,
   "id": "bbb68a74",
   "metadata": {},
   "outputs": [],
   "source": [
    "concatenated = pd.concat([sp500, rounded_price], axis = 1) # not in place\n",
    "concatenated[:5]"
   ]
  },
  {
   "cell_type": "code",
   "execution_count": null,
   "id": "0d2a6b8c",
   "metadata": {},
   "outputs": [],
   "source": [
    "sp500"
   ]
  },
  {
   "cell_type": "markdown",
   "id": "1137947a",
   "metadata": {},
   "source": [
    "---"
   ]
  },
  {
   "cell_type": "code",
   "execution_count": null,
   "id": "9bb22e6c",
   "metadata": {},
   "outputs": [],
   "source": [
    "sp500"
   ]
  },
  {
   "cell_type": "code",
   "execution_count": null,
   "id": "c6c0d918",
   "metadata": {},
   "outputs": [],
   "source": [
    "rounded_price = pd.DataFrame({'Price': sp500.Price.round()})\n",
    "rounded_price"
   ]
  },
  {
   "cell_type": "code",
   "execution_count": null,
   "id": "ae4d52a3",
   "metadata": {},
   "outputs": [],
   "source": [
    "dups = pd.concat([sp500, rounded_price], axis = 1) # 串連可以行名重複\n",
    "dups[:5]"
   ]
  },
  {
   "cell_type": "code",
   "execution_count": null,
   "id": "5dc437ce",
   "metadata": {},
   "outputs": [],
   "source": [
    "dups.Price[:5] # 如果只想提取其中一個只能用位置來提取"
   ]
  },
  {
   "cell_type": "code",
   "execution_count": null,
   "id": "b44d7191",
   "metadata": {},
   "outputs": [],
   "source": [
    "dups.iloc[:, 1]"
   ]
  },
  {
   "cell_type": "markdown",
   "id": "f5fdee39",
   "metadata": {},
   "source": [
    "## 改變行的順序"
   ]
  },
  {
   "cell_type": "code",
   "execution_count": null,
   "id": "fefa8ae2",
   "metadata": {},
   "outputs": [],
   "source": [
    "sp500 = pd.read_csv('./mod01/sp500.csv', index_col = 'Symbol', usecols = [0, 2, 3, 7])\n",
    "sp500.head()"
   ]
  },
  {
   "cell_type": "code",
   "execution_count": null,
   "id": "b9202211",
   "metadata": {},
   "outputs": [],
   "source": [
    "df_sp500 = sp500[['Sector', 'Book Value', 'Price']]\n",
    "df_sp500"
   ]
  },
  {
   "cell_type": "code",
   "execution_count": null,
   "id": "6a1f39df",
   "metadata": {},
   "outputs": [],
   "source": [
    "sp500"
   ]
  },
  {
   "cell_type": "markdown",
   "id": "4ab7e6f9",
   "metadata": {},
   "source": [
    "---"
   ]
  },
  {
   "cell_type": "code",
   "execution_count": null,
   "id": "b0733fee",
   "metadata": {},
   "outputs": [],
   "source": [
    "reversed_colnum_names = sp500.columns[::-1]\n",
    "reversed_colnum_names"
   ]
  },
  {
   "cell_type": "code",
   "execution_count": null,
   "id": "83457f96",
   "metadata": {},
   "outputs": [],
   "source": [
    "new_sp500 = sp500[reversed_colnum_names] # not in-place\n",
    "new_sp500"
   ]
  },
  {
   "cell_type": "code",
   "execution_count": null,
   "id": "1546a8ba",
   "metadata": {},
   "outputs": [],
   "source": [
    "sp500"
   ]
  },
  {
   "cell_type": "markdown",
   "id": "5760d209",
   "metadata": {},
   "source": [
    "---"
   ]
  },
  {
   "cell_type": "code",
   "execution_count": null,
   "id": "21ee4164",
   "metadata": {},
   "outputs": [],
   "source": [
    "sp500.columns = reversed_colnum_names # 錯誤示範"
   ]
  },
  {
   "cell_type": "code",
   "execution_count": null,
   "id": "631eeae9",
   "metadata": {},
   "outputs": [],
   "source": [
    "sp500 # 只有名字換掉而已"
   ]
  },
  {
   "cell_type": "markdown",
   "id": "a4fb092e",
   "metadata": {},
   "source": [
    "## 取代行的內容"
   ]
  },
  {
   "cell_type": "code",
   "execution_count": null,
   "id": "d59e7814",
   "metadata": {},
   "outputs": [],
   "source": [
    "sp500 = pd.read_csv('./mod01/sp500.csv', index_col = 'Symbol', usecols = [0, 2, 3, 7])\n",
    "sp500.head()"
   ]
  },
  {
   "cell_type": "code",
   "execution_count": null,
   "id": "6c0ca05f",
   "metadata": {},
   "outputs": [],
   "source": [
    "copy = sp500.copy()\n",
    "rounded_price = sp500.Price.round()\n",
    "rounded_price[:5]"
   ]
  },
  {
   "cell_type": "code",
   "execution_count": null,
   "id": "aab5089b",
   "metadata": {},
   "outputs": [],
   "source": [
    "copy['Price'] = rounded_price\n",
    "copy[:5]"
   ]
  },
  {
   "cell_type": "markdown",
   "id": "2006be90",
   "metadata": {},
   "source": [
    "---"
   ]
  },
  {
   "cell_type": "code",
   "execution_count": null,
   "id": "2f2ae790",
   "metadata": {},
   "outputs": [],
   "source": [
    "copy = sp500.copy()\n",
    "copy.loc[:, 'Price'] = rounded_price\n",
    "copy[:5]"
   ]
  },
  {
   "cell_type": "markdown",
   "id": "f79c1d10",
   "metadata": {},
   "source": [
    "## 刪除行"
   ]
  },
  {
   "cell_type": "code",
   "execution_count": null,
   "id": "23d2d273",
   "metadata": {},
   "outputs": [],
   "source": [
    "sp500 = pd.read_csv('./mod01/sp500.csv', index_col = 'Symbol', usecols = [0, 2, 3, 7])\n",
    "sp500.head()"
   ]
  },
  {
   "cell_type": "code",
   "execution_count": null,
   "id": "9355fc35",
   "metadata": {},
   "outputs": [],
   "source": [
    "copy = sp500.copy()\n",
    "del copy['Book Value'] # in-place\n",
    "copy[:5]"
   ]
  },
  {
   "cell_type": "markdown",
   "id": "5ed78d23",
   "metadata": {},
   "source": [
    "---"
   ]
  },
  {
   "cell_type": "code",
   "execution_count": null,
   "id": "21043439",
   "metadata": {},
   "outputs": [],
   "source": [
    "copy = sp500.copy()\n",
    "popped = copy.pop('Sector') # in-place\n",
    "copy[:5]"
   ]
  },
  {
   "cell_type": "code",
   "execution_count": null,
   "id": "cf465cc6",
   "metadata": {},
   "outputs": [],
   "source": [
    "popped[:5] # 返回被刪的序列"
   ]
  },
  {
   "cell_type": "markdown",
   "id": "5d561f5d",
   "metadata": {},
   "source": [
    "---"
   ]
  },
  {
   "cell_type": "code",
   "execution_count": null,
   "id": "8b594481",
   "metadata": {},
   "outputs": [],
   "source": [
    "copy = sp500.copy()\n",
    "afterdrop = copy.drop('Sector', axis = 1) # not in-place\n",
    "afterdrop"
   ]
  },
  {
   "cell_type": "code",
   "execution_count": null,
   "id": "a0aace2d",
   "metadata": {},
   "outputs": [],
   "source": [
    "copy"
   ]
  },
  {
   "cell_type": "code",
   "execution_count": null,
   "id": "edaa3383",
   "metadata": {},
   "outputs": [],
   "source": [
    "afterdrop = copy.drop(['Sector', 'Book Value'], axis = 1) # 兩個以上要加上 list\n",
    "afterdrop"
   ]
  },
  {
   "cell_type": "code",
   "execution_count": null,
   "id": "2f168d4d",
   "metadata": {},
   "outputs": [],
   "source": [
    "copy"
   ]
  },
  {
   "cell_type": "code",
   "execution_count": null,
   "id": "03cdf33f",
   "metadata": {},
   "outputs": [],
   "source": [
    "# 當 axis = 0 可以用來刪除列，後面會提到\n",
    "copy.drop(['Sector', 'Book Value'], axis = 1, inplace = True) # in-place\n",
    "copy"
   ]
  },
  {
   "cell_type": "markdown",
   "id": "6da62b81",
   "metadata": {},
   "source": [
    "## 附加新列"
   ]
  },
  {
   "cell_type": "code",
   "execution_count": null,
   "id": "ed10d9ff",
   "metadata": {},
   "outputs": [],
   "source": [
    "sp500 = pd.read_csv('./mod01/sp500.csv', index_col = 'Symbol', usecols = [0, 2, 3, 7])\n",
    "sp500.head()"
   ]
  },
  {
   "cell_type": "code",
   "execution_count": null,
   "id": "98278a76",
   "metadata": {},
   "outputs": [],
   "source": [
    "df1 = sp500.iloc[0:3].copy()\n",
    "df1"
   ]
  },
  {
   "cell_type": "code",
   "execution_count": null,
   "id": "b9896dda",
   "metadata": {},
   "outputs": [],
   "source": [
    "df2 = sp500.iloc[[10, 11, 2]]\n",
    "df2"
   ]
  },
  {
   "cell_type": "code",
   "execution_count": null,
   "id": "088b9c8a",
   "metadata": {},
   "outputs": [],
   "source": [
    "# 附加是對第 0 軸做串連，對第 1 軸做聯集對齊\n",
    "# 索引標籤有可能因此重複\n",
    "# .concat() 的功能較少的弱化版，有一章節會介紹\n",
    "appended = df1.append(df2)   \n",
    "appended"
   ]
  },
  {
   "cell_type": "markdown",
   "id": "4203ef57",
   "metadata": {},
   "source": [
    "---"
   ]
  },
  {
   "cell_type": "code",
   "execution_count": null,
   "id": "0abf4445",
   "metadata": {},
   "outputs": [],
   "source": [
    "df3 = pd.DataFrame(0.0, index = df1.index, columns = ['PER'])\n",
    "df3"
   ]
  },
  {
   "cell_type": "code",
   "execution_count": null,
   "id": "39377994",
   "metadata": {},
   "outputs": [],
   "source": [
    "df1.append(df3) # 行會實行聯集 # 無資料的地方會補 NaN"
   ]
  },
  {
   "cell_type": "code",
   "execution_count": null,
   "id": "01736c51",
   "metadata": {},
   "outputs": [],
   "source": [
    "df1.append(df3, ignore_index = True)"
   ]
  },
  {
   "cell_type": "markdown",
   "id": "20a3fab5",
   "metadata": {},
   "source": [
    "## 列的串連"
   ]
  },
  {
   "cell_type": "code",
   "execution_count": null,
   "id": "b9cb600f",
   "metadata": {},
   "outputs": [],
   "source": [
    "sp500 = pd.read_csv('./mod01/sp500.csv', index_col = 'Symbol', usecols = [0, 2, 3, 7])\n",
    "sp500.head()"
   ]
  },
  {
   "cell_type": "code",
   "execution_count": null,
   "id": "aa1e315e",
   "metadata": {},
   "outputs": [],
   "source": [
    "df1 = sp500.iloc[0:3].copy()\n",
    "df1"
   ]
  },
  {
   "cell_type": "code",
   "execution_count": null,
   "id": "dfd623f3",
   "metadata": {},
   "outputs": [],
   "source": [
    "df2 = sp500.iloc[[10, 11, 2]]\n",
    "df2"
   ]
  },
  {
   "cell_type": "code",
   "execution_count": null,
   "id": "af35dde1",
   "metadata": {},
   "outputs": [],
   "source": [
    "pd.concat([df1, df2], axis = 0) # 跟 .append() 方法相同"
   ]
  },
  {
   "cell_type": "markdown",
   "id": "23cbc655",
   "metadata": {},
   "source": [
    "---"
   ]
  },
  {
   "cell_type": "code",
   "execution_count": null,
   "id": "5bb7215f",
   "metadata": {},
   "outputs": [],
   "source": [
    "df2_2 = df2.copy()\n",
    "df2_2"
   ]
  },
  {
   "cell_type": "code",
   "execution_count": null,
   "id": "246f9999",
   "metadata": {},
   "outputs": [],
   "source": [
    "df2_2.insert(3, 'Foo', pd.Series(0, index = df2.index))\n",
    "df2_2"
   ]
  },
  {
   "cell_type": "code",
   "execution_count": null,
   "id": "fe883bc0",
   "metadata": {},
   "outputs": [],
   "source": [
    "df1"
   ]
  },
  {
   "cell_type": "code",
   "execution_count": null,
   "id": "975e69c0",
   "metadata": {},
   "outputs": [],
   "source": [
    "pd.concat([df1, df2_2], axis = 0)"
   ]
  },
  {
   "cell_type": "code",
   "execution_count": null,
   "id": "7236f0e5",
   "metadata": {},
   "outputs": [],
   "source": [
    "pd.concat([df1, df2_2], axis = 0, keys = ['df1', 'df2']) # keys 可以區分某一組是來自於哪個資料框"
   ]
  },
  {
   "cell_type": "markdown",
   "id": "fa11ad56",
   "metadata": {},
   "source": [
    "## 經由擴展增加與取代列"
   ]
  },
  {
   "cell_type": "code",
   "execution_count": null,
   "id": "7e8d3908",
   "metadata": {},
   "outputs": [],
   "source": [
    "sp500 = pd.read_csv('./mod01/sp500.csv', index_col = 'Symbol', usecols = [0, 2, 3, 7])\n",
    "sp500.head()"
   ]
  },
  {
   "cell_type": "code",
   "execution_count": null,
   "id": "c5d738cc",
   "metadata": {},
   "outputs": [],
   "source": [
    "copy =sp500[:3].copy()\n",
    "copy"
   ]
  },
  {
   "cell_type": "code",
   "execution_count": null,
   "id": "7de05f92",
   "metadata": {},
   "outputs": [],
   "source": [
    "copy.loc['Foo'] = ['the sector', 100, 110] # in-place\n",
    "copy"
   ]
  },
  {
   "cell_type": "code",
   "execution_count": null,
   "id": "aa5d456e",
   "metadata": {},
   "outputs": [],
   "source": [
    "# copy.loc['ABT'][ 'Sector'] = 'Industrials' 會產生例外\n",
    "copy.loc['ABT', 'Sector'] = 'Industrials'"
   ]
  },
  {
   "cell_type": "code",
   "execution_count": null,
   "id": "6a625a85",
   "metadata": {},
   "outputs": [],
   "source": [
    "copy"
   ]
  },
  {
   "cell_type": "markdown",
   "id": "6c450f01",
   "metadata": {},
   "source": [
    "## 使用 .drop() 方法移除列"
   ]
  },
  {
   "cell_type": "code",
   "execution_count": null,
   "id": "bd416ffd",
   "metadata": {},
   "outputs": [],
   "source": [
    "sp500 = pd.read_csv('./mod01/sp500.csv', index_col = 'Symbol', usecols = [0, 2, 3, 7])\n",
    "sp500.head()"
   ]
  },
  {
   "cell_type": "code",
   "execution_count": null,
   "id": "7aa38c5c",
   "metadata": {},
   "outputs": [],
   "source": [
    "ss = sp500[:5]\n",
    "ss"
   ]
  },
  {
   "cell_type": "code",
   "execution_count": null,
   "id": "0fded538",
   "metadata": {},
   "outputs": [],
   "source": [
    "afterdrop = ss.drop(['ABT', 'ACN'], axis = 0) # not in-place\n",
    "afterdrop"
   ]
  },
  {
   "cell_type": "code",
   "execution_count": null,
   "id": "b37e902f",
   "metadata": {},
   "outputs": [],
   "source": [
    "ss"
   ]
  },
  {
   "cell_type": "markdown",
   "id": "62864f6a",
   "metadata": {},
   "source": [
    "## 利用布林選擇移除列"
   ]
  },
  {
   "cell_type": "code",
   "execution_count": null,
   "id": "3004c67f",
   "metadata": {},
   "outputs": [],
   "source": [
    "sp500 = pd.read_csv('./mod01/sp500.csv', index_col = 'Symbol', usecols = [0, 2, 3, 7])\n",
    "sp500.head()"
   ]
  },
  {
   "cell_type": "code",
   "execution_count": null,
   "id": "0b339c7f",
   "metadata": {},
   "outputs": [],
   "source": [
    "selection = sp500.Price > 300\n",
    "~selection"
   ]
  },
  {
   "cell_type": "code",
   "execution_count": null,
   "id": "7f1c5006",
   "metadata": {},
   "outputs": [],
   "source": [
    "# 500檔股票中，只有十檔大於 300 元\n",
    "(len(selection), selection.sum())"
   ]
  },
  {
   "cell_type": "code",
   "execution_count": null,
   "id": "a4b54d16",
   "metadata": {},
   "outputs": [],
   "source": [
    "price_less_than_300 = sp500[~selection] # 使用補集符號　～\n",
    "price_less_than_300"
   ]
  },
  {
   "cell_type": "markdown",
   "id": "f840f439",
   "metadata": {},
   "source": [
    "## 使用切割移除列"
   ]
  },
  {
   "cell_type": "code",
   "execution_count": null,
   "id": "8eacd93f",
   "metadata": {},
   "outputs": [],
   "source": [
    "sp500 = pd.read_csv('./mod01/sp500.csv', index_col = 'Symbol', usecols = [0, 2, 3, 7])\n",
    "sp500.head()"
   ]
  },
  {
   "cell_type": "code",
   "execution_count": null,
   "id": "f4d2c60c",
   "metadata": {},
   "outputs": [],
   "source": [
    "only_first_three = sp500[:3] # view\n",
    "only_first_three"
   ]
  },
  {
   "cell_type": "code",
   "execution_count": null,
   "id": "d600d38b",
   "metadata": {},
   "outputs": [],
   "source": [
    "only_first_three = sp500[:3].copy() # copy\n",
    "only_first_three"
   ]
  },
  {
   "cell_type": "markdown",
   "id": "9e5f2487",
   "metadata": {},
   "source": [
    "## 綜合應用"
   ]
  },
  {
   "cell_type": "code",
   "execution_count": null,
   "id": "9fe0683e",
   "metadata": {},
   "outputs": [],
   "source": [
    "dates = pd.date_range('2016-04-01', '2016-04-06')\n",
    "dates"
   ]
  },
  {
   "cell_type": "code",
   "execution_count": null,
   "id": "12068b3f",
   "metadata": {},
   "outputs": [],
   "source": [
    "temps1 = pd.Series([80, 82, 85, 90, 83, 87], index = dates)\n",
    "temps1"
   ]
  },
  {
   "cell_type": "code",
   "execution_count": null,
   "id": "7d4bd74d",
   "metadata": {},
   "outputs": [],
   "source": [
    "temps2 = pd.Series([70, 75, 69, 83, 79, 77], index = dates)\n",
    "temps2"
   ]
  },
  {
   "cell_type": "code",
   "execution_count": null,
   "id": "e1a844ea",
   "metadata": {},
   "outputs": [],
   "source": [
    "temps_df = pd.DataFrame({'Missoula': temps1,\n",
    "                         'Philadelphia': temps2})\n",
    "temps_df"
   ]
  },
  {
   "cell_type": "code",
   "execution_count": null,
   "id": "5cb775a2",
   "metadata": {},
   "outputs": [],
   "source": [
    "temps_df['Missoula']"
   ]
  },
  {
   "cell_type": "code",
   "execution_count": null,
   "id": "ee81442d",
   "metadata": {},
   "outputs": [],
   "source": [
    "temps_df['Philadelphia']"
   ]
  },
  {
   "cell_type": "code",
   "execution_count": null,
   "id": "d0456d00",
   "metadata": {},
   "outputs": [],
   "source": [
    "temps_df[['Missoula', 'Philadelphia']]"
   ]
  },
  {
   "cell_type": "code",
   "execution_count": null,
   "id": "2365adad",
   "metadata": {},
   "outputs": [],
   "source": [
    "temps_df.Missoula"
   ]
  },
  {
   "cell_type": "code",
   "execution_count": null,
   "id": "f0b605ab",
   "metadata": {},
   "outputs": [],
   "source": [
    "# 會對齊\n",
    "temp_diffs = temps_df.Missoula - temps_df.Philadelphia\n",
    "temp_diffs"
   ]
  },
  {
   "cell_type": "code",
   "execution_count": null,
   "id": "c5be6e40",
   "metadata": {},
   "outputs": [],
   "source": [
    "temps_df['difference'] = temp_diffs\n",
    "temps_df"
   ]
  },
  {
   "cell_type": "code",
   "execution_count": null,
   "id": "d707c481",
   "metadata": {},
   "outputs": [],
   "source": [
    "temps_df.columns"
   ]
  },
  {
   "cell_type": "code",
   "execution_count": null,
   "id": "3c34d46e",
   "metadata": {},
   "outputs": [],
   "source": [
    "temps_df.difference[1:4]"
   ]
  },
  {
   "cell_type": "code",
   "execution_count": null,
   "id": "9cbeb8a0",
   "metadata": {},
   "outputs": [],
   "source": [
    "temps_df.iloc[1]"
   ]
  },
  {
   "cell_type": "code",
   "execution_count": null,
   "id": "72c07b6b",
   "metadata": {},
   "outputs": [],
   "source": [
    "temps_df.iloc[1].index"
   ]
  },
  {
   "cell_type": "code",
   "execution_count": null,
   "id": "93dadb09",
   "metadata": {},
   "outputs": [],
   "source": [
    "temps_df.loc['2016-04-05']"
   ]
  },
  {
   "cell_type": "code",
   "execution_count": null,
   "id": "ee9fa53d",
   "metadata": {},
   "outputs": [],
   "source": [
    "temps_df.iloc[[1, 3, 5]].difference"
   ]
  },
  {
   "cell_type": "code",
   "execution_count": null,
   "id": "9f155073",
   "metadata": {},
   "outputs": [],
   "source": [
    "temps_df.Missoula > 82"
   ]
  },
  {
   "cell_type": "code",
   "execution_count": null,
   "id": "37b9f3fa",
   "metadata": {},
   "outputs": [],
   "source": [
    "temps_df[temps_df.Missoula > 82]"
   ]
  },
  {
   "cell_type": "markdown",
   "id": "1f2b51c2",
   "metadata": {},
   "source": [
    "---"
   ]
  },
  {
   "cell_type": "code",
   "execution_count": null,
   "id": "9caec13e",
   "metadata": {},
   "outputs": [],
   "source": [
    "df = pd.read_csv('./mod01/goog.csv')\n",
    "df"
   ]
  },
  {
   "cell_type": "code",
   "execution_count": null,
   "id": "7976fe24",
   "metadata": {},
   "outputs": [],
   "source": [
    "df.Date"
   ]
  },
  {
   "cell_type": "code",
   "execution_count": null,
   "id": "9f474564",
   "metadata": {},
   "outputs": [],
   "source": [
    "df.Date[0]"
   ]
  },
  {
   "cell_type": "code",
   "execution_count": null,
   "id": "8716cd9e",
   "metadata": {},
   "outputs": [],
   "source": [
    "type(df.Date[0])"
   ]
  },
  {
   "cell_type": "code",
   "execution_count": null,
   "id": "2fe2f102",
   "metadata": {},
   "outputs": [],
   "source": [
    "#  Only booleans, lists, and dictionaries are accepted for the 'parse_dates' parameter\n",
    "df = pd.read_csv('./mod01/goog.csv', parse_dates = ['Date'])\n",
    "df"
   ]
  },
  {
   "cell_type": "code",
   "execution_count": null,
   "id": "4c351fe4",
   "metadata": {},
   "outputs": [],
   "source": [
    "type(df.Date[0])"
   ]
  },
  {
   "cell_type": "code",
   "execution_count": null,
   "id": "fabe4423",
   "metadata": {},
   "outputs": [],
   "source": [
    "df.index"
   ]
  },
  {
   "cell_type": "code",
   "execution_count": null,
   "id": "cac93104",
   "metadata": {},
   "outputs": [],
   "source": [
    "df = pd.read_csv('./mod01/goog.csv', parse_dates = ['Date'], index_col= 'Date')\n",
    "df"
   ]
  },
  {
   "cell_type": "code",
   "execution_count": null,
   "id": "e35d2f9e",
   "metadata": {},
   "outputs": [],
   "source": [
    "df.index"
   ]
  },
  {
   "cell_type": "markdown",
   "id": "1d79bf1f",
   "metadata": {},
   "source": [
    "---"
   ]
  },
  {
   "cell_type": "code",
   "execution_count": null,
   "id": "8c63d151",
   "metadata": {},
   "outputs": [],
   "source": [
    "frame = pd.DataFrame(np.arange(9).reshape(3, 3), \n",
    "                     index = ['a', 'c', 'd'],\n",
    "                     columns = ['ohio', 'Texas', 'California']) \n",
    "frame"
   ]
  },
  {
   "cell_type": "code",
   "execution_count": null,
   "id": "4cdae04a",
   "metadata": {},
   "outputs": [],
   "source": [
    "frame2 = frame.reindex(['a', 'b', 'c', 'd'])\n",
    "frame2"
   ]
  },
  {
   "cell_type": "code",
   "execution_count": null,
   "id": "8238b626",
   "metadata": {},
   "outputs": [],
   "source": [
    "frame3 = frame.reindex(['a', 'b', 'c', 'd'], columns = ['ohio', 'Utah'])\n",
    "frame3"
   ]
  },
  {
   "cell_type": "code",
   "execution_count": null,
   "id": "ca71be02",
   "metadata": {},
   "outputs": [],
   "source": [
    "frame4 = frame.reindex(['a', 'b', 'c', 'd'], columns = ['ohio', 'Utah'], fill_value = 0)\n",
    "frame4"
   ]
  },
  {
   "cell_type": "code",
   "execution_count": null,
   "id": "c6c4a5e9",
   "metadata": {},
   "outputs": [],
   "source": [
    "frame5 = frame.reindex(['a', 'b', 'c', 'd'],  method = 'bfill')\n",
    "frame5"
   ]
  },
  {
   "cell_type": "markdown",
   "id": "d47ac145",
   "metadata": {},
   "source": [
    "---"
   ]
  },
  {
   "cell_type": "code",
   "execution_count": null,
   "id": "5daf0489",
   "metadata": {},
   "outputs": [],
   "source": [
    "data = pd.DataFrame(np.arange(16).reshape(4, 4),\n",
    "                   index = ['Ohio', 'Colorado', 'Utah', 'New York'],\n",
    "                   columns = ['one', 'two', 'three', 'four'])\n",
    "data"
   ]
  },
  {
   "cell_type": "code",
   "execution_count": null,
   "id": "dbab48bf",
   "metadata": {},
   "outputs": [],
   "source": [
    "data[data['three'] > 5]"
   ]
  },
  {
   "cell_type": "code",
   "execution_count": null,
   "id": "a807adf5",
   "metadata": {},
   "outputs": [],
   "source": [
    "# True 的才會取到值\n",
    "data[data < 5]"
   ]
  },
  {
   "cell_type": "code",
   "execution_count": null,
   "id": "fc2520d3",
   "metadata": {},
   "outputs": [],
   "source": [
    "# 把資料框裡的資料小於 5 的都變成 0 的方法\n",
    "data[data < 5] = 0 \n",
    "data"
   ]
  }
 ],
 "metadata": {
  "kernelspec": {
   "display_name": "Python 3",
   "language": "python",
   "name": "python3"
  },
  "language_info": {
   "codemirror_mode": {
    "name": "ipython",
    "version": 3
   },
   "file_extension": ".py",
   "mimetype": "text/x-python",
   "name": "python",
   "nbconvert_exporter": "python",
   "pygments_lexer": "ipython3",
   "version": "3.8.10"
  }
 },
 "nbformat": 4,
 "nbformat_minor": 5
}
