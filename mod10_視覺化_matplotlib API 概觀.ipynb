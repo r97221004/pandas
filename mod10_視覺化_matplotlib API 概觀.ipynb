{
 "cells": [
  {
   "cell_type": "markdown",
   "id": "f6d59415",
   "metadata": {},
   "source": [
    "#  <font color=red> Module_10_視覺化_matplotlib API 概觀</font>"
   ]
  },
  {
   "cell_type": "markdown",
   "id": "7c0a149e",
   "metadata": {},
   "source": [
    "## 簡單的例子"
   ]
  },
  {
   "cell_type": "markdown",
   "id": "55dae10e",
   "metadata": {},
   "source": [
    " <img src=\"./mod10/2.png\" style='height:452px; width:964px'><br>"
   ]
  },
  {
   "cell_type": "code",
   "execution_count": null,
   "id": "b5ac09de",
   "metadata": {},
   "outputs": [],
   "source": [
    "# Figure: 代表整個面板\n",
    "# Axes: 代表整個圖表\n",
    "# Axis: 代表軸\n",
    "# Legend: 代表圖示說明，也就是圖例\n",
    "# Label: 代表軸標頭\n",
    "# Title: 代表圖表標頭"
   ]
  },
  {
   "cell_type": "code",
   "execution_count": null,
   "id": "6d6b6562",
   "metadata": {},
   "outputs": [],
   "source": [
    "import matplotlib.pyplot as plt\n",
    "import numpy as np\n",
    "import pandas as pd\n",
    "from datetime import datetime\n",
    "\n",
    "fig, ax = plt.subplots()  # Create a figure containing a single axes.\n",
    "ax.plot([1, 2, 3, 4], [1, 4, 2, 3]) # Plot some data on the axes.\n",
    "plt.show()"
   ]
  },
  {
   "cell_type": "code",
   "execution_count": null,
   "id": "732a9060",
   "metadata": {},
   "outputs": [],
   "source": [
    "# Matplotlib plot\n",
    "# 會畫在最新的 figure 和 axes 上，如果沒有會自動建立 figure 和 axes\n",
    "plt.plot([1, 2, 3, 4], [1, 4, 2, 3])\n",
    "plt.show()"
   ]
  },
  {
   "cell_type": "markdown",
   "id": "1fc284c4",
   "metadata": {},
   "source": [
    "---"
   ]
  },
  {
   "cell_type": "code",
   "execution_count": null,
   "id": "caf6f8c0",
   "metadata": {},
   "outputs": [],
   "source": [
    "# Method 1\n",
    "# Explicitly create figures and axes, and call methods on them (the \"object-oriented (OO) style\")\n",
    "# Note that even in the OO-style, we use `.pyplot.figure` to create the figure."
   ]
  },
  {
   "cell_type": "code",
   "execution_count": null,
   "id": "3da8f2bb",
   "metadata": {},
   "outputs": [],
   "source": [
    "x = np.linspace(0, 2, 100)\n",
    "y = x\n",
    "y1 = x**2\n",
    "y2 = x**3\n",
    "\n",
    "fig, ax = plt.subplots()  # Create a figure and an axes.\n",
    "ax.plot(x, y, label = 'linear')  # Plot some data on the axes.\n",
    "ax.plot(x, y1, label = 'quadratic')  # Plot more data on the axes...\n",
    "ax.plot(x, y2, label = 'cubic')  # ... and some more.\n",
    "ax.set_xlabel('x label')  # Add an x-label to the axes.\n",
    "ax.set_ylabel('y label')  # Add a y-label to the axes.\n",
    "ax.set_title(\"Simple Plot\")  # Add a title to the axes.\n",
    "ax.legend()  # Add a legend.\n",
    "plt.show()"
   ]
  },
  {
   "cell_type": "code",
   "execution_count": null,
   "id": "351e9502",
   "metadata": {},
   "outputs": [],
   "source": [
    "# Method 2\n",
    "# Rely on pyplot to automatically create and manage the figures and axes, and use pyplot functions for plotting (pyplot-style)"
   ]
  },
  {
   "cell_type": "code",
   "execution_count": null,
   "id": "2aab46cd",
   "metadata": {},
   "outputs": [],
   "source": [
    "x = np.linspace(0, 2, 100)\n",
    "\n",
    "plt.plot(x, x, label='linear')  # Plot some data on the (implicit) axes.\n",
    "plt.plot(x, x**2, label='quadratic')  # etc.\n",
    "plt.plot(x, x**3, label='cubic')\n",
    "plt.xlabel('x label')\n",
    "plt.ylabel('y label')\n",
    "plt.title(\"Simple Plot\")\n",
    "plt.legend()\n",
    "plt.show()"
   ]
  },
  {
   "cell_type": "markdown",
   "id": "9a82bbea",
   "metadata": {},
   "source": [
    "## pyplot-style 的介紹"
   ]
  },
  {
   "cell_type": "code",
   "execution_count": null,
   "id": "22ee84c3",
   "metadata": {},
   "outputs": [],
   "source": [
    "# If you provide a single list or array to ~.pyplot.plot, matplotlib assumes it is a sequence of y values and automatically generates the x values for you. \n",
    "# Since python ranges start with 0, the default x vector has the same length as y but starts with 0. Hence the x data are [0, 1, 2, 3]."
   ]
  },
  {
   "cell_type": "code",
   "execution_count": null,
   "id": "dc2bd066",
   "metadata": {},
   "outputs": [],
   "source": [
    "plt.plot([1, 2, 3, 4])\n",
    "plt.ylabel('some numbers')\n",
    "plt.show()"
   ]
  },
  {
   "cell_type": "code",
   "execution_count": null,
   "id": "7d4324a5",
   "metadata": {},
   "outputs": [],
   "source": [
    "plt.plot([1, 2, 3, 4], [1, 4, 9, 16]);"
   ]
  },
  {
   "cell_type": "markdown",
   "id": "09ca655e",
   "metadata": {},
   "source": [
    "---"
   ]
  },
  {
   "cell_type": "code",
   "execution_count": null,
   "id": "83fed94f",
   "metadata": {},
   "outputs": [],
   "source": [
    "# The default format string is 'b-', which is a solid blue line.\n",
    "# The ~.pyplot.axis function takes a list of [xmin, xmax, ymin, ymax] and specifies the viewport of the axes.\n",
    "# If matplotlib were limited to working with lists, it would be fairly useless for numeric processing. Generally, you will use ndarrays. "
   ]
  },
  {
   "cell_type": "code",
   "execution_count": null,
   "id": "c9364562",
   "metadata": {},
   "outputs": [],
   "source": [
    "plt.plot([1, 2, 3, 4], [1, 4, 9, 16], 'ro')\n",
    "plt.axis([0, 6, 0, 20])\n",
    "plt.show()"
   ]
  },
  {
   "cell_type": "code",
   "execution_count": null,
   "id": "d0550c7b",
   "metadata": {},
   "outputs": [],
   "source": [
    "t = np.arange(0., 5., 0.2)\n",
    "# 可以用好幾個 plt.plot() 分開畫，也可以合在一起畫 # 有些參數就沒辦法設立\n",
    "# red dashes, blue squares and green triangles\n",
    "plt.plot(t, t, 'r--', t, t**2, 'bs', t, t**3, 'g^')\n",
    "plt.show()"
   ]
  },
  {
   "cell_type": "markdown",
   "id": "4ccc706e",
   "metadata": {},
   "source": [
    "---"
   ]
  },
  {
   "cell_type": "code",
   "execution_count": null,
   "id": "659015c7",
   "metadata": {},
   "outputs": [],
   "source": [
    "x = np.linspace(-3, 3, 50)\n",
    "y1 = 2*x + 1\n",
    "y2 = x**2\n",
    "\n",
    "plt.figure()\n",
    "plt.plot(x, y1)\n",
    "\n",
    "\n",
    "plt.figure(num=3, figsize=(8, 5))\n",
    "plt.plot(x, y2)\n",
    "# plot the second curve in this figure with certain parameters\n",
    "plt.plot(x, y1, color = 'red', linewidth = 1.0, linestyle = '--')\n",
    "plt.show()"
   ]
  },
  {
   "cell_type": "markdown",
   "id": "f53e1db6",
   "metadata": {},
   "source": [
    "---"
   ]
  },
  {
   "cell_type": "code",
   "execution_count": null,
   "id": "4839c95a",
   "metadata": {},
   "outputs": [],
   "source": [
    "x = np.linspace(-3, 3, 50)\n",
    "y1 = 2*x + 1\n",
    "y2 = x**2\n",
    "\n",
    "plt.figure()\n",
    "plt.plot(x, y2)\n",
    "# plot the second curve in this figure with certain parameters\n",
    "plt.plot(x, y1, color='red', linewidth=1.0, linestyle='--')\n",
    "# set x limits\n",
    "plt.xlim((-1, 2))\n",
    "plt.ylim((-2, 3))\n",
    "plt.xlabel('I am x')\n",
    "plt.ylabel('I am y')\n",
    "\n",
    "# set new sticks\n",
    "new_ticks = np.linspace(-1, 2, 5)\n",
    "\n",
    "plt.xticks(new_ticks)\n",
    "# set tick labels\n",
    "plt.yticks([-2, -1.8, -1, 1.22, 3],\n",
    "           [r'$really\\ bad$', r'$bad$', r'$normal$', r'$good$', r'$really\\ good$'])\n",
    "plt.show()"
   ]
  },
  {
   "cell_type": "markdown",
   "id": "c266f15c",
   "metadata": {},
   "source": [
    "---"
   ]
  },
  {
   "cell_type": "code",
   "execution_count": null,
   "id": "54ae8fed",
   "metadata": {},
   "outputs": [],
   "source": [
    "x = np.linspace(-3, 3, 50)\n",
    "y1 = 2*x + 1\n",
    "y2 = x**2\n",
    "\n",
    "plt.figure()\n",
    "plt.plot(x, y2)\n",
    "# plot the second curve in this figure with certain parameters\n",
    "plt.plot(x, y1, color='red', linewidth=1.0, linestyle='--')\n",
    "# set x limits\n",
    "plt.xlim((-1, 2))\n",
    "plt.ylim((-2, 3))\n",
    "\n",
    "# set new ticks\n",
    "new_ticks = np.linspace(-1, 2, 5)\n",
    "plt.xticks(new_ticks)\n",
    "# set tick labels\n",
    "plt.yticks([-2, -1.8, -1, 1.22, 3],\n",
    "           ['$really\\ bad$', '$bad$', '$normal$', '$good$', '$really\\ good$'])\n",
    "# to use '$ $' for math text and nice looking, e.g. '$\\pi$'\n",
    "\n",
    "# gca = 'get current axis'\n",
    "ax = plt.gca()\n",
    "ax.spines['right'].set_color('none')\n",
    "ax.spines['top'].set_color('none')\n",
    "\n",
    "ax.xaxis.set_ticks_position('bottom')\n",
    "# ACCEPTS: [ 'top' | 'bottom' | 'both' | 'default' | 'none' ]\n",
    "\n",
    "ax.spines['bottom'].set_position(('data', 0))\n",
    "# the 1st is in 'outward' | 'axes' | 'data'\n",
    "# axes: percentage of y axis\n",
    "# data: depend on y data\n",
    "\n",
    "ax.yaxis.set_ticks_position('left')\n",
    "# ACCEPTS: [ 'left' | 'right' | 'both' | 'default' | 'none' ]\n",
    "\n",
    "ax.spines['left'].set_position(('data',0))\n",
    "plt.show()"
   ]
  },
  {
   "cell_type": "markdown",
   "id": "a0b378a1",
   "metadata": {},
   "source": [
    "---"
   ]
  },
  {
   "cell_type": "code",
   "execution_count": null,
   "id": "1ea1984a",
   "metadata": {},
   "outputs": [],
   "source": [
    "x = np.linspace(-3, 3, 50)\n",
    "y1 = 2*x + 1\n",
    "y2 = x**2\n",
    "\n",
    "plt.figure()\n",
    "# set x limits\n",
    "plt.xlim((-1, 2))\n",
    "plt.ylim((-2, 3))\n",
    "\n",
    "# set new sticks\n",
    "new_sticks = np.linspace(-1, 2, 5)\n",
    "plt.xticks(new_sticks)\n",
    "# set tick labels\n",
    "plt.yticks([-2, -1.8, -1, 1.22, 3],\n",
    "           [r'$really\\ bad$', r'$bad$', r'$normal$', r'$good$', r'$really\\ good$'])\n",
    "\n",
    "plt.plot(x, y1, label = 'linear line')\n",
    "plt.plot(x, y2, color = 'red', linewidth = 1.0, linestyle='--', label = 'square line')\n",
    "\n",
    "plt.legend(loc = 'best')\n",
    "plt.show()"
   ]
  },
  {
   "cell_type": "code",
   "execution_count": null,
   "id": "ce05a9c1",
   "metadata": {},
   "outputs": [],
   "source": [
    "x = np.linspace(-3, 3, 50)\n",
    "y1 = 2*x + 1\n",
    "y2 = x**2\n",
    "\n",
    "plt.figure()\n",
    "# set x limits\n",
    "plt.xlim((-1, 2))\n",
    "plt.ylim((-2, 3))\n",
    "\n",
    "# set new sticks\n",
    "new_sticks = np.linspace(-1, 2, 5)\n",
    "plt.xticks(new_sticks)\n",
    "# set tick labels\n",
    "plt.yticks([-2, -1.8, -1, 1.22, 3],\n",
    "           [r'$really\\ bad$', r'$bad$', r'$normal$', r'$good$', r'$really\\ good$'])\n",
    "\n",
    "l1, = plt.plot(x, y1, label = 'linear line')\n",
    "l2, = plt.plot(x, y2, color = 'red', linewidth = 1.0, linestyle='--', label = 'square line')\n",
    "\n",
    "plt.legend(handles = [l1, l2], labels = ['up', 'down'],  loc = 'upper left')\n",
    "# the \",\" is very important in here l1, = plt... and l2, = plt... for this step\n",
    "\"\"\"legend( handles=(line1, line2, line3),\n",
    "           labels=('label1', 'label2', 'label3'),\n",
    "           'upper right')\n",
    "    The *loc* location codes are::\n",
    "          'best' : 0,          (currently not supported for figure legends)\n",
    "          'upper right'  : 1,\n",
    "          'upper left'   : 2,\n",
    "          'lower left'   : 3,\n",
    "          'lower right'  : 4,\n",
    "          'right'        : 5,\n",
    "          'center left'  : 6,\n",
    "          'center right' : 7,\n",
    "          'lower center' : 8,\n",
    "          'upper center' : 9,\n",
    "          'center'       : 10,\"\"\"\n",
    "\n",
    "plt.show()"
   ]
  },
  {
   "cell_type": "markdown",
   "id": "07ad6055",
   "metadata": {},
   "source": [
    "---"
   ]
  },
  {
   "cell_type": "code",
   "execution_count": null,
   "id": "9f8a552e",
   "metadata": {},
   "outputs": [],
   "source": [
    "# Working with text\n",
    "# ~.pyplot.text can be used to add text in an arbitrary location, and ~.pyplot.xlabel, ~.pyplot.ylabel and ~.pyplot.title are used to add text in the indicated locations\n",
    "# see :doc:/tutorials/text/text_intro for a more detailed example\n",
    "# Latex cheat sheet"
   ]
  },
  {
   "cell_type": "code",
   "execution_count": null,
   "id": "a18e781e",
   "metadata": {},
   "outputs": [],
   "source": [
    "x = np.linspace(-3, 3, 50)\n",
    "y = 2*x + 1\n",
    "\n",
    "plt.figure(num = 1, figsize = (8, 5))\n",
    "plt.plot(x, y)\n",
    "\n",
    "ax = plt.gca()\n",
    "ax.spines['right'].set_color('none')\n",
    "ax.spines['top'].set_color('none')\n",
    "ax.xaxis.set_ticks_position('bottom')\n",
    "ax.spines['bottom'].set_position(('data', 0))\n",
    "ax.yaxis.set_ticks_position('left')\n",
    "ax.spines['left'].set_position(('data', 0))\n",
    "\n",
    "x0 = 1\n",
    "y0 = 2*x0 + 1\n",
    "plt.plot([x0, x0], [0, y0], 'k--', linewidth = 2.5)\n",
    "plt.scatter([x0], [y0], s = 50, color = 'b')\n",
    "\n",
    "# method 1:\n",
    "#####################\n",
    "plt.annotate(r'$2x+1=%s$' % y0, xy = (x0, y0), xycoords = 'data', xytext = (+30, -30),\n",
    "             textcoords='offset points', fontsize = 16,\n",
    "             arrowprops=dict(arrowstyle='->', connectionstyle=\"arc3,rad=.2\"))\n",
    "\n",
    "# method 2:\n",
    "########################\n",
    "plt.text(-3.7, 3, r'$This\\ is\\ the\\ some\\ text. \\mu\\ \\sigma_i\\ \\alpha_t$',\n",
    "         fontdict={'size': 16, 'color': 'r'})\n",
    "\n",
    "plt.show() "
   ]
  },
  {
   "cell_type": "markdown",
   "id": "34f7e516",
   "metadata": {},
   "source": [
    "---"
   ]
  },
  {
   "cell_type": "code",
   "execution_count": null,
   "id": "1c43fdc1",
   "metadata": {},
   "outputs": [],
   "source": [
    "# Annotating text\n",
    "# The uses of the basic ~.pyplot.text function above place text at an arbitrary position on the Axes\n",
    "# A common use for text is to annotate some feature of the plot, and the ~.pyplot.annotate method provides helper functionality to make annotations easy\n",
    "# In an annotation, there are two points to consider: the location being annotated represented by the argument xy and the location of the text xytext\n",
    "# Both of these arguments are (x, y) tuples\n",
    "# In this basic example, both the xy (arrow tip) and xytext locations (text location) are in data coordinates."
   ]
  },
  {
   "cell_type": "code",
   "execution_count": null,
   "id": "2467dfdd",
   "metadata": {},
   "outputs": [],
   "source": [
    "t = np.arange(0.0, 5.0, 0.01)\n",
    "s = np.cos(2*np.pi*t)\n",
    "line, = plt.plot(t, s, lw = 2)\n",
    "\n",
    "plt.annotate('local max', xy = (2, 1), xytext = (3, 1.5),\n",
    "             arrowprops = dict(facecolor = 'black', shrink = 0.05),\n",
    "             )\n",
    "\n",
    "plt.ylim(-2, 2)\n",
    "plt.show()"
   ]
  },
  {
   "cell_type": "markdown",
   "id": "5dec41f5",
   "metadata": {},
   "source": [
    "---"
   ]
  },
  {
   "cell_type": "code",
   "execution_count": null,
   "id": "7fa7e6c7",
   "metadata": {},
   "outputs": [],
   "source": [
    "x = np.linspace(-3, 3, 50)\n",
    "y = 0.1*x\n",
    "\n",
    "# set zorder for ordering the plot in plt 2.0.2 or higher\n",
    "# Artists with lower zorder values are drawn first.\n",
    "plt.figure()\n",
    "plt.plot(x, y, linewidth = 10, zorder = 1)    \n",
    "plt.ylim(-2, 2)\n",
    "ax = plt.gca()\n",
    "ax.spines['right'].set_color('none')\n",
    "ax.spines['top'].set_color('none')\n",
    "ax.spines['top'].set_color('none')\n",
    "ax.xaxis.set_ticks_position('bottom')\n",
    "ax.spines['bottom'].set_position(('data', 0))\n",
    "ax.yaxis.set_ticks_position('left')\n",
    "ax.spines['left'].set_position(('data', 0))\n",
    "\n",
    "\n",
    "for label in ax.get_xticklabels() + ax.get_yticklabels():\n",
    "    label.set_fontsize(12)\n",
    "    # set zorder for ordering the plot in plt 2.0.2 or higher\n",
    "    label.set_bbox(dict(facecolor='white', edgecolor='none', alpha=0.8, zorder=2))\n",
    "plt.show()"
   ]
  },
  {
   "cell_type": "markdown",
   "id": "b35f3d47",
   "metadata": {},
   "source": [
    "---"
   ]
  },
  {
   "cell_type": "code",
   "execution_count": null,
   "id": "d84b9b77",
   "metadata": {},
   "outputs": [],
   "source": [
    "# Working with multiple figures and axes\n",
    "# The ~.pyplot.figure call here is optional because a figure will be created if none exists, just as an axes will be created  if none exists"
   ]
  },
  {
   "cell_type": "code",
   "execution_count": null,
   "id": "3191315e",
   "metadata": {},
   "outputs": [],
   "source": [
    "def f(t):\n",
    "    return np.exp(-t) * np.cos(2*np.pi*t)\n",
    "\n",
    "t1 = np.arange(0.0, 5.0, 0.1)\n",
    "t2 = np.arange(0.0, 5.0, 0.02)\n",
    "\n",
    "plt.figure()\n",
    "plt.subplot(211)\n",
    "plt.plot(t1, f(t1), 'bo', t2, f(t2), 'k')\n",
    "\n",
    "plt.subplot(212)\n",
    "plt.plot(t2, np.cos(2*np.pi*t2), 'r--')\n",
    "plt.show()"
   ]
  },
  {
   "cell_type": "markdown",
   "id": "efa75726",
   "metadata": {},
   "source": [
    "---"
   ]
  },
  {
   "cell_type": "code",
   "execution_count": null,
   "id": "c215e0aa",
   "metadata": {},
   "outputs": [],
   "source": [
    "# Plotting with categorical variables\n",
    "# It is also possible to create a plot using categorical variables. Matplotlib allows you to pass categorical variables directly to many plotting functions. For example:"
   ]
  },
  {
   "cell_type": "code",
   "execution_count": null,
   "id": "f9b94cbc",
   "metadata": {},
   "outputs": [],
   "source": [
    "names = ['group_a', 'group_b', 'group_c']\n",
    "values = [1, 10, 100]\n",
    "\n",
    "plt.figure(figsize=(9, 3))\n",
    "plt.subplot(1, 3, 1)\n",
    "plt.bar(names, values)\n",
    "plt.subplot(1, 3, 2)\n",
    "plt.scatter(names, values)\n",
    "plt.subplot(133) # 也可以不用加逗號\n",
    "plt.plot(names, values)\n",
    "plt.suptitle('Categorical Plotting')\n",
    "plt.show()"
   ]
  },
  {
   "cell_type": "markdown",
   "id": "bf8ee237",
   "metadata": {},
   "source": [
    "---"
   ]
  },
  {
   "cell_type": "code",
   "execution_count": null,
   "id": "da9e4a4a",
   "metadata": {},
   "outputs": [],
   "source": [
    "plt.figure(figsize=(6, 4))\n",
    "# plt.subplot(n_rows, n_cols, plot_num)\n",
    "plt.subplot(2, 1, 1)\n",
    "# figure splits into 2 rows, 1 col, plot to the 1st sub-fig\n",
    "plt.plot([0, 1], [0, 1])\n",
    "\n",
    "plt.subplot(234)\n",
    "# figure splits into 2 rows, 3 col, plot to the 4th sub-fig\n",
    "plt.plot([0, 1], [0, 2])\n",
    "\n",
    "plt.subplot(235)\n",
    "# figure splits into 2 rows, 3 col, plot to the 5th sub-fig\n",
    "plt.plot([0, 1], [0, 3])\n",
    "\n",
    "plt.subplot(236)\n",
    "# figure splits into 2 rows, 3 col, plot to the 6th sub-fig\n",
    "plt.plot([0, 1], [0, 4])\n",
    "\n",
    "\n",
    "plt.tight_layout()\n",
    "plt.show()"
   ]
  },
  {
   "cell_type": "markdown",
   "id": "5b31475c",
   "metadata": {},
   "source": [
    "---"
   ]
  },
  {
   "cell_type": "code",
   "execution_count": null,
   "id": "ddcab007",
   "metadata": {},
   "outputs": [],
   "source": [
    "plt.figure(1)                # the first figure\n",
    "plt.subplot(211)             # the first subplot in the first figure\n",
    "plt.plot([1, 2, 3])\n",
    "plt.subplot(212)             # the second subplot in the first figure\n",
    "plt.plot([4, 5, 6])\n",
    "\n",
    "\n",
    "plt.figure(2)                # a second figure\n",
    "plt.plot([4, 5, 6])          # creates a subplot() by default\n",
    "\n",
    "plt.figure(1)                # figure 1 current; subplot(212) still current\n",
    "plt.subplot(211)             # make subplot(211) in figure1 current\n",
    "plt.title('Easy as 1, 2, 3'); # subplot 211 title"
   ]
  },
  {
   "cell_type": "markdown",
   "id": "293c2e4f",
   "metadata": {},
   "source": [
    "---"
   ]
  },
  {
   "cell_type": "code",
   "execution_count": null,
   "id": "cbb26887",
   "metadata": {},
   "outputs": [],
   "source": [
    "# Logarithmic and other nonlinear axes\n",
    "# :mod:matplotlib.pyplot supports not only linear axis scales, but also logarithmic and logit scales. \n",
    "# This is commonly used if data spans many orders of magnitude. Changing the scale of an axis is easy: plt.xscale('log')\n",
    "# An example of four plots with the same data and different scales for the y axis is shown below"
   ]
  },
  {
   "cell_type": "code",
   "execution_count": null,
   "id": "e7be0630",
   "metadata": {},
   "outputs": [],
   "source": [
    "# An order of magnitude is an exponential change of plus-or-minus 1 in the value of a quantity or unit. The term is generally used in conjunction with power-of-10"
   ]
  },
  {
   "cell_type": "code",
   "execution_count": null,
   "id": "ab5cd276",
   "metadata": {},
   "outputs": [],
   "source": [
    "# Fixing random state for reproducibility\n",
    "np.random.seed(19680801)\n",
    "\n",
    "# make up some data in the open interval (0, 1)\n",
    "y = np.random.normal(loc = 0.5, scale = 0.4, size = 1000)\n",
    "y = y[(y > 0) & (y < 1)]\n",
    "y.sort()\n",
    "x = np.arange(len(y))\n",
    "\n",
    "# plot with various axes scales\n",
    "plt.figure()\n",
    "\n",
    "# linear\n",
    "plt.subplot(221)\n",
    "plt.plot(x, y)\n",
    "plt.yscale('linear')\n",
    "plt.title('linear')\n",
    "plt.grid(True)\n",
    "\n",
    "# log\n",
    "plt.subplot(222)\n",
    "plt.plot(x, y)\n",
    "plt.yscale('log')\n",
    "plt.title('log')\n",
    "plt.grid(True)\n",
    "\n",
    "# symmetric log\n",
    "plt.subplot(223)\n",
    "plt.plot(x, y - y.mean())\n",
    "plt.yscale('symlog', linthresh=0.01)\n",
    "plt.title('symlog')\n",
    "plt.grid(True)\n",
    "\n",
    "# logit\n",
    "plt.subplot(224)\n",
    "plt.plot(x, y)\n",
    "plt.yscale('logit')\n",
    "plt.title('logit')\n",
    "plt.grid(True)\n",
    "# Adjust the subplot layout, because the logit one may take more space\n",
    "# than usual, due to y-tick labels like \"1 - 10^{-3}\"\n",
    "plt.subplots_adjust(top=0.92, bottom=0.08, left=0.10, right=0.95, hspace=0.25,\n",
    "                    wspace=0.35)\n",
    "\n",
    "plt.subplots_adjust(wspace = 0.4, hspace = 0.5)\n",
    "plt.show()"
   ]
  },
  {
   "cell_type": "markdown",
   "id": "b76ea467",
   "metadata": {},
   "source": [
    "## object-oriented (OO) style"
   ]
  },
  {
   "cell_type": "code",
   "execution_count": null,
   "id": "bc5e685c",
   "metadata": {},
   "outputs": [],
   "source": [
    "# 可以在 matplotlib文件 (http://matplotlib.sourceforge.net) 找到完整的繪圖型態目錄"
   ]
  },
  {
   "cell_type": "code",
   "execution_count": null,
   "id": "e6fe8311",
   "metadata": {},
   "outputs": [],
   "source": [
    "fig = plt.figure(figsize = (10, 6)) # 利用 plt.figure() 函式建立一個 Figure 物件\n",
    "ax1 = fig.add_subplot(2, 2, 1) # 圖被規劃成 2 × 2，然後建立第一張子圖 (從編號 1 開始)\n",
    "ax2 = fig.add_subplot(2, 2, 2)\n",
    "ax3 = fig.add_subplot(2, 2, 3)\n",
    "# 執行繪圖命令時，會在最近被使用的子圖上作畫，沒有就會自動建立\n",
    "plt.plot(np.random.randn(50).cumsum(), 'k--', label ='a') \n",
    "plt.legend(loc = 'best')\n",
    "# fig.add_subplot() 回傳的是 AxesSubplot 物件，藉由呼叫 AxesSubplot 的實例方法，就可直接在對應的空白子圖上畫圖了\n",
    "ax1.hist(np.random.randn(100), bins = 20, color = 'k', alpha = 0.3, label = 'b')\n",
    "ax1.legend(loc='best')\n",
    "ax2.scatter(np.arange(30), np.arange(30) + 3*np.random.randn(30));"
   ]
  },
  {
   "cell_type": "markdown",
   "id": "ffa12f4c",
   "metadata": {},
   "source": [
    "---"
   ]
  },
  {
   "cell_type": "code",
   "execution_count": null,
   "id": "32a64a36",
   "metadata": {},
   "outputs": [],
   "source": [
    "# 因為常要建立數個子圖，所以 matplotlib 有個便利的 plt.subplots() 函式可供使用\n",
    "# 它用來建立一個新圖，並回傳子圖物件的 NumPy 陣列\n",
    "# nrows: 子圖有幾列\n",
    "# ncols: 子圖有幾欄\n",
    "fig, axes = plt.subplots(nrows= 2, ncols= 3)"
   ]
  },
  {
   "cell_type": "code",
   "execution_count": null,
   "id": "1946336c",
   "metadata": {},
   "outputs": [],
   "source": [
    "fig, axes = plt.subplots(2, 3, figsize = (10, 6), sharex = True, sharey = True)\n",
    "axes[0, 0].plot([0, 1], [0, 1], 'ro')\n",
    "axes[0, 1].plot([0, 1], [0, 1], 'b--d')\n",
    "\n",
    "x = np.linspace(0, 1, 5)\n",
    "y = x**2\n",
    "axes[1, 1].plot(x, y, color = 'g', marker = 'o', linestyle = ':')\n",
    "axes[1, 1].text(0, 0.5, 'test123' )\n",
    "plt.show()"
   ]
  },
  {
   "cell_type": "markdown",
   "id": "b37e5156",
   "metadata": {},
   "source": [
    "---"
   ]
  },
  {
   "cell_type": "code",
   "execution_count": null,
   "id": "1b0da528",
   "metadata": {},
   "outputs": [],
   "source": [
    "# 可以使用 Figure 物件的 subplots_adjust 方法或是頂層 subplots_adjuct 函式改變留白大小\n",
    "# subplots_adjust(left = None, bottom = None, right = None, top = None, wspace = None, hspace = None)\n",
    "fig, axes = plt.subplots(2, 2, sharex = True, sharey = True)\n",
    "for i in range(2):\n",
    "    for j in range(2):\n",
    "        axes[i, j].hist(np.random.randn(500), bins = 50, color = 'k', alpha = 0.5)\n",
    "plt.subplots_adjust(wspace = 0, hspace = 0) "
   ]
  },
  {
   "cell_type": "markdown",
   "id": "19711f0e",
   "metadata": {},
   "source": [
    "---"
   ]
  },
  {
   "cell_type": "code",
   "execution_count": null,
   "id": "8b4cbd02",
   "metadata": {},
   "outputs": [],
   "source": [
    "plt.figure(figsize= (10, 6))\n",
    "ax1 = plt.subplot2grid((3, 3), (0, 0), colspan = 3)  # stands for axes\n",
    "ax1.plot([1, 2], [1, 2])\n",
    "ax1.set_title('ax1_title')\n",
    "ax2 = plt.subplot2grid((3, 3), (1, 0), colspan = 2)\n",
    "ax3 = plt.subplot2grid((3, 3), (1, 2), rowspan = 2)\n",
    "ax4 = plt.subplot2grid((3, 3), (2, 0))\n",
    "ax4.scatter([1, 2], [2, 2])\n",
    "ax4.set_xlabel('ax4_x')\n",
    "ax4.set_ylabel('ax4_y')\n",
    "ax5 = plt.subplot2grid((3, 3), (2, 1))\n",
    "\n",
    "plt.tight_layout()\n",
    "plt.show()"
   ]
  },
  {
   "cell_type": "markdown",
   "id": "d789fa4e",
   "metadata": {},
   "source": [
    "---"
   ]
  },
  {
   "cell_type": "code",
   "execution_count": null,
   "id": "f19a7017",
   "metadata": {},
   "outputs": [],
   "source": [
    "fig, axes = plt.subplots(2, 1, figsize = (10, 10))\n",
    "axes[0].plot(np.random.randn(30).cumsum(), 'ko--') # 順序依序是色彩、標示類型和線條樣式\n",
    "axes[1].plot(np.random.randn(30).cumsum(), color = 'k', linestyle = 'dashed', marker = 'o') # 可以改為明確寫法 \n",
    "plt.show()"
   ]
  },
  {
   "cell_type": "code",
   "execution_count": null,
   "id": "d85b25ba",
   "metadata": {},
   "outputs": [],
   "source": [
    "# 對於折線圖來說，預設是用線性插值來連接後面的資料點\n",
    "# 可藉由 drawstyle 選項變更\n",
    "fig, ax = plt.subplots(figsize = (10, 6))\n",
    "data = np.random.randn(30).cumsum()\n",
    "ax.plot(data, 'r--', label = 'Default')\n",
    "ax.plot(data, 'k-', drawstyle = 'steps-post', label = 'steps-post')\n",
    "ax.legend(loc = 'best')\n",
    "plt.show()"
   ]
  },
  {
   "cell_type": "markdown",
   "id": "a98a16ef",
   "metadata": {},
   "source": [
    "---"
   ]
  },
  {
   "cell_type": "code",
   "execution_count": null,
   "id": "665a2939",
   "metadata": {},
   "outputs": [],
   "source": [
    "# 修改 y 軸的流程是一樣的，把 x 換成 y 就可以\n",
    "# axes 類別有一個叫 set 的方法，可以批次的設定圖的屬性\n",
    "np.random.seed(123)\n",
    "fig = plt.figure()\n",
    "ax = fig.add_subplot(1, 1, 1)\n",
    "ax.plot(np.random.randn(1000).cumsum())\n",
    "ticks = ax.set_xticks([0, 250, 500, 750, 1000])\n",
    "labels = ax.set_xticklabels(['one', 'two', 'three', 'four', 'five'], rotation = 30, fontsize = 'small')\n",
    "ax.set_title('My first matplotlib plot')\n",
    "ax.set_xlabel('Stages')"
   ]
  },
  {
   "cell_type": "code",
   "execution_count": null,
   "id": "9c64981a",
   "metadata": {},
   "outputs": [],
   "source": [
    "# 修改 y 軸的流程是一樣的，把 x 換成 y 就可以\n",
    "# axes 類別有一個叫 set 的方法，可以批次的設定圖的屬性\n",
    "fig = plt.figure(figsize = (10, 6))\n",
    "ax = fig.add_subplot(1, 1, 1)\n",
    "ax.plot(np.random.randn(1000).cumsum())\n",
    "ticks = ax.set_xticks([0, 250, 500, 750, 1000])\n",
    "labels = ax.set_xticklabels(['one', 'two', 'three', 'four', 'five'], rotation = 30, fontsize = 'small')\n",
    "ax.set_title('My first matplotlib plot')\n",
    "ax.set_xlabel('Stages')\n",
    "plt.show()"
   ]
  },
  {
   "cell_type": "markdown",
   "id": "704d8482",
   "metadata": {},
   "source": [
    "---"
   ]
  },
  {
   "cell_type": "code",
   "execution_count": null,
   "id": "fe35b5b4",
   "metadata": {},
   "outputs": [],
   "source": [
    "# 圖例是識別繪圖元素的重要單位，加圖例的方法有好幾種\n",
    "# 最簡單的方法是在畫每一樣東西的時候，都傳入 label 參數\n",
    "# 如果有不想顯示的圖例上的元素，就不要傳 label\n",
    "fig, ax = plt.subplots(figsize = (10, 6))\n",
    "ax.plot(np.random.randn(200).cumsum(), 'k', label = 'one')\n",
    "ax.plot(np.random.randn(200).cumsum(), 'k--', label = 'two')\n",
    "ax.plot(np.random.randn(200).cumsum(), 'k.', label = 'three')\n",
    "ax.legend(loc = 'best')\n",
    "plt.show()"
   ]
  },
  {
   "cell_type": "markdown",
   "id": "15ab717d",
   "metadata": {},
   "source": [
    "---"
   ]
  },
  {
   "cell_type": "code",
   "execution_count": null,
   "id": "d7d7b92a",
   "metadata": {},
   "outputs": [],
   "source": [
    "# fontfamily = family = 字型\n",
    "fig, ax =plt.subplots()\n",
    "ax.text(0.2, 0.4, 'Hello World', family = 'monospace', fontsize = 10)"
   ]
  },
  {
   "cell_type": "code",
   "execution_count": null,
   "id": "5a8513aa",
   "metadata": {},
   "outputs": [],
   "source": [
    "fig, ax = plt.subplots(figsize = (10, 6))\n",
    "\n",
    "data = pd.read_csv('./mod10/spx.csv', index_col = 0, parse_dates = True)\n",
    "spx = data['SPX']\n",
    "ax.plot(spx, 'k-')\n",
    "# Zoom in on 2007-2010\n",
    "ax.set_xlim([datetime(2007,1,1), datetime(2011,1,1)])\n",
    "ax.set_ylim([600, 1800])\n",
    "\n",
    "ax.set_title('Important dates in the 2008-2009 financial crisis')\n",
    "\n",
    "crisis_data = [\n",
    "    (datetime(2007, 10, 11), 'Peak of bull market'),\n",
    "    (datetime(2008, 3, 12), 'Bear Stearns Fails'),\n",
    "    (datetime(2008, 9, 15), 'Lehman Bankruptcy')\n",
    "]\n",
    "\n",
    "for date, label in crisis_data:\n",
    "    ax.annotate(label, xy=(date, spx.asof(date) + 75),\n",
    "                xytext=(date, spx.asof(date) + 200),\n",
    "                arrowprops=dict(facecolor = 'w',edgecolor = 'r', headwidth = 4, width = 2,\n",
    "                                headlength = 4),\n",
    "                horizontalalignment = 'left', verticalalignment ='top')"
   ]
  },
  {
   "cell_type": "markdown",
   "id": "9c0dd57a",
   "metadata": {},
   "source": [
    "---"
   ]
  },
  {
   "cell_type": "code",
   "execution_count": null,
   "id": "4112c0eb",
   "metadata": {},
   "outputs": [],
   "source": [
    "# matplotlib 有代表各種常見形狀的物件，稱為 patches\n",
    "# 雖然其中一些像是 Rectangle 和 Circle 可以在 matplotlib.pyplot 中找到，不過 matplotlib.patches 中有所有的物件\n",
    "# 先建立 shp 物件，然後再用 ax.add_patch(shp) 把它加子圖中\n",
    "# 去看各種繪圖程式碼的實作，會發現它們之中很多都是由 patch 物件組成\n",
    "fig, ax = plt.subplots(figsize = (10, 6))\n",
    "\n",
    "rect = plt.Rectangle((0.2, 0.75), 0.4, 0.15, color = 'k', alpha = 0.3)\n",
    "circ = plt.Circle((0.7, 0.2), 0.15, color = 'b', alpha = 0.3)\n",
    "pgon = plt.Polygon([[0.15, 0.15], [0.35, 0.4], [0.2, 0.6]], color = 'g', alpha = 0.5)\n",
    "ax.add_patch(rect)\n",
    "ax.add_patch(circ)\n",
    "ax.add_patch(pgon)\n",
    "plt.show()"
   ]
  },
  {
   "cell_type": "markdown",
   "id": "a6350e78",
   "metadata": {},
   "source": [
    "## 把圖存檔"
   ]
  },
  {
   "cell_type": "code",
   "execution_count": null,
   "id": "d5ee0d4f",
   "metadata": {},
   "outputs": [],
   "source": [
    "fig, ax = plt.subplots(figsize = (10, 6))\n",
    "\n",
    "rect = plt.Rectangle((0.2, 0.75), 0.4, 0.15, color = 'k', alpha = 0.3)\n",
    "circ = plt.Circle((0.7, 0.2), 0.15, color = 'b', alpha = 0.3)\n",
    "pgon = plt.Polygon([[0.15, 0.15], [0.35, 0.4], [0.2, 0.6]], color = 'g', alpha = 0.5)\n",
    "ax.add_patch(rect)\n",
    "ax.add_patch(circ)\n",
    "ax.add_patch(pgon)\n",
    "\n",
    "# fname: 圖的格式會以副檔名為準(例如 .pdf 是 PDF)\n",
    "# dpi: 圖每英吋的解析度，預設 100\n",
    "# facecolor: 子圖以外的圖背景的顏色\n",
    "# edgecolor\n",
    "# bbox_inches: 圖的哪個部分要存檔，如果指定 'tight' 的話，就會試著將圖的周圍空白去掉\n",
    "plt.savefig('./mod10/figpath.png', dpi = 400, bbox_inches = 'tight')\n",
    "\n",
    "\n",
    "# 如果要存檔，不能在之前 plt.show()\n",
    "plt.show()"
   ]
  },
  {
   "cell_type": "markdown",
   "id": "41323170",
   "metadata": {},
   "source": [
    "## 統計分析常見的繪圖"
   ]
  },
  {
   "cell_type": "markdown",
   "id": "f5798470",
   "metadata": {},
   "source": [
    "### 散佈圖 (scatter plot)"
   ]
  },
  {
   "cell_type": "code",
   "execution_count": null,
   "id": "5f5163aa",
   "metadata": {},
   "outputs": [],
   "source": [
    "x = np.arange(0, 50.0, 2.0)\n",
    "y = x**2 + 1\n",
    "plt.scatter(x, y, s = 100, c = \"r\", alpha = 0.5, marker = '^')"
   ]
  },
  {
   "cell_type": "markdown",
   "id": "84caf5a0",
   "metadata": {},
   "source": [
    "---"
   ]
  },
  {
   "cell_type": "code",
   "execution_count": null,
   "id": "109fa3a9",
   "metadata": {},
   "outputs": [],
   "source": [
    "# Fixing random state for reproducibility\n",
    "np.random.seed(19680801)\n",
    "\n",
    "x = np.arange(0.0, 50.0, 2.0)\n",
    "y = x ** 1.3 + np.random.rand(*x.shape) * 30.0\n",
    "s = np.random.rand(*x.shape) * 800 + 500\n",
    "\n",
    "plt.scatter(x, y, s, c = \"g\", alpha = 0.5, marker = r'$\\clubsuit$', label = \"Luck\")\n",
    "plt.xlabel(\"Leprechauns\")\n",
    "plt.ylabel(\"Gold\")\n",
    "plt.legend(loc = 'upper left')\n",
    "plt.show()"
   ]
  },
  {
   "cell_type": "markdown",
   "id": "0ad4562b",
   "metadata": {},
   "source": [
    "---"
   ]
  },
  {
   "cell_type": "code",
   "execution_count": null,
   "id": "295cca64",
   "metadata": {},
   "outputs": [],
   "source": [
    "n = 1024    # data size\n",
    "X = np.random.normal(0, 1, n)\n",
    "Y = np.random.normal(0, 1, n)\n",
    "T = np.arctan2(Y, X)    # for color later on\n",
    "plt.scatter(X, Y, s = 75, c = T, alpha = .5)\n",
    "\n",
    "plt.xlim(-1.5, 1.5)\n",
    "plt.xticks(())  # ignore xticks\n",
    "plt.ylim(-1.5, 1.5)\n",
    "plt.yticks(())  # ignore yticks\n",
    "\n",
    "plt.show()"
   ]
  },
  {
   "cell_type": "markdown",
   "id": "0bceb5b5",
   "metadata": {},
   "source": [
    "---"
   ]
  },
  {
   "cell_type": "code",
   "execution_count": null,
   "id": "465a0332",
   "metadata": {},
   "outputs": [],
   "source": [
    "# Plotting with keyword strings\n",
    "# There are some instances where you have data in a format that lets you access particular variables with strings. For example, with numpy.recarray or pandas.DataFrame.\n",
    "# Matplotlib allows you provide such an object with the data keyword argument. If provided, then you may generate plots with the strings corresponding to these variables."
   ]
  },
  {
   "cell_type": "code",
   "execution_count": null,
   "id": "a620b00e",
   "metadata": {},
   "outputs": [],
   "source": [
    "# s：表示的是大小，是一个標量或者是一个 shape 大小为 (n,) 的列表，預設 20\n",
    "# c：表示的是色彩或颜色列表，預設 'b'\n",
    "data = {'a': np.arange(50),\n",
    "        'c': np.random.randint(0, 50, 50),\n",
    "        'd': np.random.randn(50)}\n",
    "data['b'] = data['a'] + 10 * np.random.randn(50)\n",
    "data['d'] = np.abs(data['d']) * 100\n",
    "\n",
    "plt.scatter('a', 'b', c = 'c', s = 'd', data = data)\n",
    "plt.xlabel('entry a')\n",
    "plt.ylabel('entry b')\n",
    "plt.show()"
   ]
  },
  {
   "cell_type": "markdown",
   "id": "6bf0e94d",
   "metadata": {},
   "source": [
    "### 柱狀圖 (bar chart)"
   ]
  },
  {
   "cell_type": "code",
   "execution_count": null,
   "id": "1e6a9ff1",
   "metadata": {},
   "outputs": [],
   "source": [
    "x = ['Taipei', 'Taichung', 'Kaohsiung']\n",
    "temp = [-5, 18, 28]\n",
    "plt.bar(x, temp, color = 'b', alpha = 0.5)\n",
    "plt.show()"
   ]
  },
  {
   "cell_type": "markdown",
   "id": "5ff5f039",
   "metadata": {},
   "source": [
    "---"
   ]
  },
  {
   "cell_type": "code",
   "execution_count": null,
   "id": "ce26fea1",
   "metadata": {},
   "outputs": [],
   "source": [
    "np.random.seed(123456)\n",
    "\n",
    "n = 12\n",
    "X = np.arange(n)\n",
    "Y1 = (1 - X / float(n)) * np.random.uniform(0.5, 1.0, n)\n",
    "Y2 = (1 - X / float(n)) * np.random.uniform(0.5, 1.0, n)\n",
    "\n",
    "plt.figure(figsize = (10, 6))\n",
    "# 顏色可以使用內建的單一字元編碼，或是十六進位的 RGB 編碼指定顏色，格式是 #RRGGBB\n",
    "plt.bar(X, + Y1, facecolor = '#9999ff', edgecolor = 'white') \n",
    "plt.bar(X, - Y2, facecolor = '#ff9999', edgecolor = 'white')\n",
    "\n",
    "for x, y in zip(X, Y1):\n",
    "    # ha: horizontal alignment\n",
    "    # va: vertical alignment\n",
    "    plt.text(x, y + 0.05, '%.2f' % y, ha = 'center', va = 'bottom')\n",
    "\n",
    "for x, y in zip(X, Y2):\n",
    "    # ha: horizontal alignment\n",
    "    # va: vertical alignment\n",
    "    plt.text(x, -y - 0.05, '%.2f' % -y, ha = 'center', va = 'top')\n",
    "\n",
    "plt.xticks(())\n",
    "plt.ylim(-1.25, 1.25)\n",
    "plt.yticks(())\n",
    "plt.show()"
   ]
  },
  {
   "cell_type": "markdown",
   "id": "266e285c",
   "metadata": {},
   "source": [
    "### 直方圖 (histogram)"
   ]
  },
  {
   "cell_type": "code",
   "execution_count": null,
   "id": "f400bc56",
   "metadata": {},
   "outputs": [],
   "source": [
    "np.random.seed(19680801)\n",
    "\n",
    "# example data\n",
    "mu = 2  # mean of distribution\n",
    "sigma = 3  # standard deviation of distribution\n",
    "x = mu + sigma * np.random.randn(500)\n",
    "\n",
    "fig, ax = plt.subplots()\n",
    "# the histogram of the data\n",
    "ax.hist(x, bins = 50)\n",
    "plt.show()"
   ]
  },
  {
   "cell_type": "markdown",
   "id": "84c22b75",
   "metadata": {},
   "source": [
    "---"
   ]
  },
  {
   "cell_type": "code",
   "execution_count": null,
   "id": "b6d8e9b4",
   "metadata": {},
   "outputs": [],
   "source": [
    "mu, sigma = 100, 15\n",
    "x = mu + sigma * np.random.randn(10000)\n",
    "\n",
    "# the histogram of the data\n",
    "n, bins, patches = plt.hist(x, 50, density = 1, facecolor = 'g', alpha = 0.75)\n",
    "\n",
    "\n",
    "plt.xlabel('Smarts')\n",
    "plt.ylabel('Probability')\n",
    "plt.title('Histogram of IQ')\n",
    "plt.text(60, .025, r'$\\mu=100,\\ \\sigma=15$')\n",
    "plt.axis([40, 160, 0, 0.03])\n",
    "plt.grid(True)\n",
    "plt.show()"
   ]
  },
  {
   "cell_type": "markdown",
   "id": "876619c0",
   "metadata": {},
   "source": [
    "---"
   ]
  },
  {
   "cell_type": "code",
   "execution_count": null,
   "id": "e77cd955",
   "metadata": {},
   "outputs": [],
   "source": [
    "np.random.seed(19680801)\n",
    "\n",
    "# example data\n",
    "mu = 100  # mean of distribution\n",
    "sigma = 15  # standard deviation of distribution\n",
    "x = mu + sigma * np.random.randn(437)\n",
    "\n",
    "num_bins = 50\n",
    "\n",
    "fig, ax = plt.subplots()\n",
    "\n",
    "# the histogram of the data\n",
    "n, bins, patches = ax.hist(x, num_bins, density=True)\n",
    "\n",
    "# add a 'best fit' line\n",
    "y = ((1 / (np.sqrt(2 * np.pi) * sigma)) *\n",
    "     np.exp(-0.5 * (1 / sigma * (bins - mu))**2))\n",
    "ax.plot(bins, y, '--')\n",
    "ax.set_xlabel('Smarts')\n",
    "ax.set_ylabel('Probability density')\n",
    "ax.set_title(r'Histogram of IQ: $\\mu=100$, $\\sigma=15$')\n",
    "\n",
    "plt.show()"
   ]
  },
  {
   "cell_type": "markdown",
   "id": "6ecc4757",
   "metadata": {},
   "source": [
    "### 箱型圖 (box plot)"
   ]
  },
  {
   "cell_type": "markdown",
   "id": "894ed412",
   "metadata": {},
   "source": [
    " <img src=\"./mod10/3.PNG\" style='height:452px; width:964px'><br>"
   ]
  },
  {
   "cell_type": "code",
   "execution_count": null,
   "id": "1167d639",
   "metadata": {},
   "outputs": [],
   "source": [
    "# 箱形圖（英文：Box plot）：又稱為盒須圖、盒式圖、盒狀圖或箱線圖，是一種用作顯示一組資料分散情況資料的統計圖。因型狀如箱子而得名\n",
    "# 箱形圖最大的優點就是不受異常值的影響，可以說是一種相對穩定的方式描述資料的離散分佈情況"
   ]
  },
  {
   "cell_type": "code",
   "execution_count": null,
   "id": "48246768",
   "metadata": {},
   "outputs": [],
   "source": [
    "# 以第 1 四分位數 Q1 與 第 3 四分位數 Q3 繪出盒子的兩邊，盒寬即為 IQR = Q3 - Q1\n",
    "# 盒子中間的一條直線繪出中位數 m 的位置\n",
    "# 由 Q1 往下延伸 1.5IQR，往上沿伸 1.5IQR 即為內籬\n",
    "# 以線繪製鬚的部分，從盒子兩端延伸至內籬內的最小和最大值\n",
    "# 內籬外的稱為離群值"
   ]
  },
  {
   "cell_type": "code",
   "execution_count": null,
   "id": "4b0fe6e6",
   "metadata": {},
   "outputs": [],
   "source": [
    "# 求箱型圖需要先把資料由小排到大\n",
    "# m = 5\n",
    "# Q1 = 3, Q3 = 7\n",
    "# IQR = 7 - 3 = 4 \n",
    "# Q3 + 1.5*IQR = 13 => max = 9\n",
    "# Q1 - 1.5*IQR = -3 => min = 1\n",
    "data = [1, 2, 3, 4, 5, 6, 7, 8, 9]\n",
    "plt.boxplot(data)\n",
    "plt.grid(True)\n",
    "plt.show()"
   ]
  },
  {
   "cell_type": "code",
   "execution_count": null,
   "id": "f8949246",
   "metadata": {},
   "outputs": [],
   "source": [
    "# m = 5\n",
    "# Q1 = 3, Q3 = 7\n",
    "# IQR = 7 - 3 = 4 \n",
    "# Q3 + 1.5*IQR = 13 => max = 8\n",
    "# Q1 - 1.5*IQR = -3 => min = 2\n",
    "data = [-5, 2, 3, 4, 5, 6, 7, 8, 20]\n",
    "plt.boxplot(data)\n",
    "plt.yticks(np.arange(-5, 21, 2))\n",
    "plt.grid(True)\n",
    "plt.show()"
   ]
  },
  {
   "cell_type": "code",
   "execution_count": null,
   "id": "dfd78433",
   "metadata": {},
   "outputs": [],
   "source": [
    "data = [-5, 2, 3, 4, 5, 6, 7, 8, 20]\n",
    "plt.boxplot(data, vert = False)\n",
    "plt.grid(True)\n",
    "plt.show()"
   ]
  },
  {
   "cell_type": "markdown",
   "id": "8d8d6b85",
   "metadata": {},
   "source": [
    "---"
   ]
  },
  {
   "cell_type": "code",
   "execution_count": null,
   "id": "2f4ff5e8",
   "metadata": {},
   "outputs": [],
   "source": [
    "data = np.random.normal(5, 2, 10000)\n",
    "plt.figure(figsize = (10, 6))\n",
    "plt.subplot(211)\n",
    "plt.boxplot(data, vert = False)\n",
    "\n",
    "plt.subplot(212)\n",
    "plt.hist(data, bins = 50, density = True, alpha = 0.7)\n",
    "plt.show()"
   ]
  },
  {
   "cell_type": "markdown",
   "id": "7aa59a21",
   "metadata": {},
   "source": [
    "### 等高線圖 (contour plot)"
   ]
  },
  {
   "cell_type": "code",
   "execution_count": null,
   "id": "fcb2d1b5",
   "metadata": {},
   "outputs": [],
   "source": [
    "def f(x,y):\n",
    "    # the height function\n",
    "    return (1 - x / 2 + x**5 + y**3) * np.exp(-x**2 -y**2)\n",
    "\n",
    "n = 256\n",
    "x = np.linspace(-3, 3, n)\n",
    "y = np.linspace(-3, 3, n)\n",
    "X,Y = np.meshgrid(x, y)\n",
    "\n",
    "# use plt.contourf to filling contours\n",
    "# X, Y and value for (X,Y) point\n",
    "plt.contourf(X, Y, f(X, Y), 8, alpha = .75, cmap = plt.cm.hot)\n",
    "\n",
    "# use plt.contour to add contour lines\n",
    "C = plt.contour(X, Y, f(X, Y), 8, colors = 'black')\n",
    "# adding label\n",
    "plt.clabel(C, inline = True, fontsize = 10)\n",
    "\n",
    "plt.xticks(())\n",
    "plt.yticks(())\n",
    "plt.show()"
   ]
  },
  {
   "cell_type": "markdown",
   "id": "1ed247cf",
   "metadata": {},
   "source": [
    "### 圖像 (image)"
   ]
  },
  {
   "cell_type": "code",
   "execution_count": null,
   "id": "c82cfc8c",
   "metadata": {},
   "outputs": [],
   "source": [
    "# image data\n",
    "a = np.array([0.313660827978, 0.365348418405, 0.423733120134,\n",
    "              0.365348418405, 0.439599930621, 0.525083754405,\n",
    "              0.423733120134, 0.525083754405, 0.651536351379]).reshape(3,3)\n",
    "\n",
    "\"\"\"\n",
    "for the value of \"interpolation\", check this:\n",
    "http://matplotlib.org/examples/images_contours_and_fields/interpolation_methods.html\n",
    "for the value of \"origin\"= ['upper', 'lower'], check this:\n",
    "http://matplotlib.org/examples/pylab_examples/image_origin.html\n",
    "\"\"\"\n",
    "plt.imshow(a, interpolation = 'nearest', cmap = 'bone', origin = 'upper') # 也可寫成 cmap = plt.cm.bone\n",
    "plt.colorbar(shrink = .92) # colorbar 內縮 8%\n",
    "\n",
    "plt.xticks(())\n",
    "plt.yticks(())\n",
    "plt.show()"
   ]
  },
  {
   "cell_type": "markdown",
   "id": "905cf777",
   "metadata": {},
   "source": [
    "---"
   ]
  },
  {
   "cell_type": "code",
   "execution_count": null,
   "id": "0e31b68e",
   "metadata": {},
   "outputs": [],
   "source": [
    "# Fixing random state for reproducibility\n",
    "np.random.seed(19680801)\n",
    "\n",
    "plt.figure(figsize = (10, 6))\n",
    "plt.imshow(np.random.random((100, 100)), cmap = plt.cm.BuPu_r)\n",
    "plt.colorbar()\n",
    "plt.show()"
   ]
  },
  {
   "cell_type": "markdown",
   "id": "03604189",
   "metadata": {},
   "source": [
    "### 3D圖 (3D plot)"
   ]
  },
  {
   "cell_type": "code",
   "execution_count": null,
   "id": "608e9ee4",
   "metadata": {},
   "outputs": [],
   "source": [
    "fig = plt.figure(figsize = (10, 6))\n",
    "ax = fig.add_subplot(projection='3d')\n",
    "# X, Y value\n",
    "X = np.arange(-4, 4, 0.25)\n",
    "Y = np.arange(-4, 4, 0.25)\n",
    "X, Y = np.meshgrid(X, Y)\n",
    "# height value\n",
    "Z = np.sqrt(X ** 2 + Y ** 2)\n",
    "\n",
    "\n",
    "ax.plot_surface(X, Y, Z, rstride=1, cstride=1, cmap=plt.get_cmap('rainbow'))\n",
    "\"\"\"\n",
    "============= ================================================\n",
    "        Argument      Description\n",
    "        ============= ================================================\n",
    "        *X*, *Y*, *Z* Data values as 2D arrays\n",
    "        *rstride*     Array row stride (step size), defaults to 10\n",
    "        *cstride*     Array column stride (step size), defaults to 10\n",
    "        *color*       Color of the surface patches\n",
    "        *cmap*        A colormap for the surface patches.\n",
    "        *facecolors*  Face colors for the individual patches\n",
    "        *norm*        An instance of Normalize to map values to colors\n",
    "        *vmin*        Minimum value to map\n",
    "        *vmax*        Maximum value to map\n",
    "        *shade*       Whether to shade the facecolors\n",
    "        ============= ================================================\n",
    "\"\"\"\n",
    "\n",
    "# I think this is different from plt12_contours\n",
    "ax.contourf(X, Y, Z, zdir = 'z', offset = -2, cmap = plt.get_cmap('rainbow'))\n",
    "\"\"\"\n",
    "==========  ================================================\n",
    "        Argument    Description\n",
    "        ==========  ================================================\n",
    "        *X*, *Y*,   Data values as numpy.arrays\n",
    "        *Z*\n",
    "        *zdir*      The direction to use: x, y or z (default)\n",
    "        *offset*    If specified plot a projection of the filled contour\n",
    "                    on this position in plane normal to zdir\n",
    "        ==========  ================================================\n",
    "\"\"\"\n",
    "\n",
    "ax.set_zlim(-2, 2)\n",
    "\n",
    "plt.show()"
   ]
  },
  {
   "cell_type": "markdown",
   "id": "abb4efee",
   "metadata": {},
   "source": [
    "## 補充"
   ]
  },
  {
   "cell_type": "markdown",
   "id": "eb23edd7",
   "metadata": {},
   "source": [
    "### * 與 ** 運算子的進階用法"
   ]
  },
  {
   "cell_type": "code",
   "execution_count": null,
   "id": "e9d60427",
   "metadata": {},
   "outputs": [],
   "source": [
    "# In a function call\n",
    "# # *t means \"treat the elements of this iterable as positional arguments to this function call.\""
   ]
  },
  {
   "cell_type": "code",
   "execution_count": null,
   "id": "85223a13",
   "metadata": {},
   "outputs": [],
   "source": [
    "def foo(x, y):\n",
    "    print(x, y)\n",
    "\n",
    "t = (1, 2)\n",
    "foo(*t)"
   ]
  },
  {
   "cell_type": "code",
   "execution_count": null,
   "id": "0843a214",
   "metadata": {},
   "outputs": [],
   "source": [
    "# Since v3.5, you can also do this in a list/tuple/set literals:\n",
    "List1 = [1, *(2, 3), 4]\n",
    "List1"
   ]
  },
  {
   "cell_type": "markdown",
   "id": "6be88316",
   "metadata": {},
   "source": [
    "---"
   ]
  },
  {
   "cell_type": "code",
   "execution_count": null,
   "id": "765e71e5",
   "metadata": {},
   "outputs": [],
   "source": [
    "# In a function call\n",
    "# **d means \"treat the key-value pairs in the dictionary as additional named arguments to this function call.\""
   ]
  },
  {
   "cell_type": "code",
   "execution_count": null,
   "id": "e2d81328",
   "metadata": {},
   "outputs": [],
   "source": [
    "def foo(x, y):\n",
    "    print(x, y)\n",
    "\n",
    "d = {'x':1, 'y':2}\n",
    "foo(**d)"
   ]
  },
  {
   "cell_type": "code",
   "execution_count": null,
   "id": "e8ac2feb",
   "metadata": {},
   "outputs": [],
   "source": [
    "d = {'y':2, 'x':1}\n",
    "foo(**d)"
   ]
  },
  {
   "cell_type": "code",
   "execution_count": null,
   "id": "56501c3c",
   "metadata": {},
   "outputs": [],
   "source": [
    "# Since v3.5, you can also do this in a dictionary literals:\n",
    "d = {'a': 1}\n",
    "{'b': 2, **d}"
   ]
  },
  {
   "cell_type": "markdown",
   "id": "70b3a861",
   "metadata": {},
   "source": [
    "---"
   ]
  },
  {
   "cell_type": "code",
   "execution_count": null,
   "id": "1491ee88",
   "metadata": {},
   "outputs": [],
   "source": [
    "# In a function signature\n",
    "# *t means \"take all additional positional arguments to this function and pack them into this parameter as a tuple.\""
   ]
  },
  {
   "cell_type": "code",
   "execution_count": null,
   "id": "0500ab06",
   "metadata": {},
   "outputs": [],
   "source": [
    "def foo(*t):\n",
    "    print(t)\n",
    "\n",
    "foo(1, 2)"
   ]
  },
  {
   "cell_type": "code",
   "execution_count": null,
   "id": "b174c6a5",
   "metadata": {},
   "outputs": [],
   "source": [
    "# In a function signature\n",
    "# **d means \"take all additional named arguments to this function and insert them into this parameter as dictionary entries.\""
   ]
  },
  {
   "cell_type": "code",
   "execution_count": null,
   "id": "88dba543",
   "metadata": {},
   "outputs": [],
   "source": [
    "def foo(**d):\n",
    "    print(d)\n",
    "\n",
    "foo(x = 1, y = 2)"
   ]
  },
  {
   "cell_type": "markdown",
   "id": "1f815504",
   "metadata": {},
   "source": [
    "---"
   ]
  },
  {
   "cell_type": "code",
   "execution_count": null,
   "id": "f4d3303d",
   "metadata": {},
   "outputs": [],
   "source": [
    "# in assignments and for loops\n",
    "# *x means \"consume additional elements in the right hand side\"\n",
    "# but it doesn't have to be the last item. Note that x will always be a list."
   ]
  },
  {
   "cell_type": "code",
   "execution_count": null,
   "id": "9904a19c",
   "metadata": {},
   "outputs": [],
   "source": [
    "x, *xs = (1, 2, 3, 4)\n",
    "x"
   ]
  },
  {
   "cell_type": "code",
   "execution_count": null,
   "id": "1231e243",
   "metadata": {},
   "outputs": [],
   "source": [
    "xs"
   ]
  },
  {
   "cell_type": "code",
   "execution_count": null,
   "id": "edfc82d4",
   "metadata": {},
   "outputs": [],
   "source": [
    "*xs, x = (1, 2, 3, 4)\n",
    "xs"
   ]
  },
  {
   "cell_type": "code",
   "execution_count": null,
   "id": "a92a0143",
   "metadata": {},
   "outputs": [],
   "source": [
    "x"
   ]
  },
  {
   "cell_type": "code",
   "execution_count": null,
   "id": "6f561c9b",
   "metadata": {},
   "outputs": [],
   "source": [
    "x, *xs, y = (1, 2, 3, 4)\n",
    "x"
   ]
  },
  {
   "cell_type": "code",
   "execution_count": null,
   "id": "56a9d30e",
   "metadata": {},
   "outputs": [],
   "source": [
    "xs"
   ]
  },
  {
   "cell_type": "code",
   "execution_count": null,
   "id": "2641ba56",
   "metadata": {},
   "outputs": [],
   "source": [
    "y"
   ]
  },
  {
   "cell_type": "code",
   "execution_count": null,
   "id": "1798f344",
   "metadata": {},
   "outputs": [],
   "source": [
    "for (x, *y, z) in [ (1, 2, 3, 4) ]: print(x, y, z)"
   ]
  },
  {
   "cell_type": "markdown",
   "id": "c7a4106c",
   "metadata": {},
   "source": [
    "---"
   ]
  },
  {
   "cell_type": "code",
   "execution_count": null,
   "id": "706fa698",
   "metadata": {},
   "outputs": [],
   "source": [
    "# Note that parameters that appear after a * are keyword-only:"
   ]
  },
  {
   "cell_type": "code",
   "execution_count": null,
   "id": "48d901a3",
   "metadata": {},
   "outputs": [],
   "source": [
    "def f(a, *, b): \n",
    "    print(a, b)\n",
    "\n",
    "f(1, b = 2)  # fine"
   ]
  },
  {
   "cell_type": "code",
   "execution_count": null,
   "id": "4111b100",
   "metadata": {},
   "outputs": [],
   "source": [
    "f(1, 2)   # error: b is keyword-only"
   ]
  },
  {
   "cell_type": "code",
   "execution_count": null,
   "id": "bd1b1e2e",
   "metadata": {},
   "outputs": [],
   "source": [
    "# Python3.8 added positional-only parameters, meaning parameters that cannot be used as keyword arguments \n",
    "# They are appear before a / (a pun on * preceding keyword-only args)."
   ]
  },
  {
   "cell_type": "code",
   "execution_count": null,
   "id": "521d3384",
   "metadata": {},
   "outputs": [],
   "source": [
    "def f(a, /, p, *, k): \n",
    "    print(a, p ,k)\n",
    "\n",
    "f(1, 2, k = 3)  # fine"
   ]
  },
  {
   "cell_type": "code",
   "execution_count": null,
   "id": "13615cc7",
   "metadata": {},
   "outputs": [],
   "source": [
    "f(  1, p = 2, k = 3)  # fine"
   ]
  },
  {
   "cell_type": "code",
   "execution_count": null,
   "id": "c71f2b57",
   "metadata": {},
   "outputs": [],
   "source": [
    "f(a = 1, p = 2, k = 3)  # error: a is positional-only"
   ]
  },
  {
   "cell_type": "markdown",
   "id": "84c484d9",
   "metadata": {},
   "source": [
    "### What is the difference between 'log' and 'symlog'?"
   ]
  },
  {
   "cell_type": "code",
   "execution_count": null,
   "id": "20ee0c69",
   "metadata": {},
   "outputs": [],
   "source": [
    "# log only allows positive values, and lets you choose how to handle negative ones (mask or clip)\n",
    "# symlog means symmetrical log, and allows positive and negative values\n",
    "# symlog allows to set a range around zero within the plot will be linear instead of logarithmic"
   ]
  },
  {
   "cell_type": "code",
   "execution_count": null,
   "id": "0299c0b4",
   "metadata": {},
   "outputs": [],
   "source": [
    "# Enable interactive mode\n",
    "plt.ion()\n",
    "\n",
    "# Draw the grid lines\n",
    "plt.grid(True)\n",
    "\n",
    "# Numbers from -50 to 50, with 0.1 as step\n",
    "xdomain = np.arange(-50, 50, 0.1)\n",
    "\n",
    "# Plots a simple linear function 'f(x) = x'\n",
    "plt.plot(xdomain, xdomain)\n",
    "# Plots 'sin(x)'\n",
    "plt.plot(xdomain, np.sin(xdomain))\n",
    "\n",
    "# 'linear' is the default mode, so this next line is redundant:\n",
    "plt.xscale('linear')\n",
    "plt.show()"
   ]
  },
  {
   "cell_type": "code",
   "execution_count": null,
   "id": "72256536",
   "metadata": {},
   "outputs": [],
   "source": [
    "# Draw the grid lines\n",
    "plt.grid(True)\n",
    "\n",
    "# Numbers from -50 to 50, with 0.1 as step\n",
    "xdomain = np.arange(-50, 50, 0.1)\n",
    "\n",
    "# Plots a simple linear function 'f(x) = x'\n",
    "plt.plot(xdomain, xdomain)\n",
    "# Plots 'sin(x)'\n",
    "plt.plot(xdomain, np.sin(xdomain))\n",
    "\n",
    "#  How to treat negative values?\n",
    "# 'mask' will treat negative values as invalid\n",
    "# 'mask' is the default, so the next two lines are equivalent\n",
    "plt.xscale('log')\n",
    "plt.xscale('log', nonpositive = 'mask')\n",
    "plt.show()"
   ]
  },
  {
   "cell_type": "code",
   "execution_count": null,
   "id": "75457c91",
   "metadata": {},
   "outputs": [],
   "source": [
    "# Draw the grid lines\n",
    "plt.grid(True)\n",
    "\n",
    "# Numbers from -50 to 50, with 0.1 as step\n",
    "xdomain = np.arange(-50, 50, 0.1)\n",
    "\n",
    "# Plots a simple linear function 'f(x) = x'\n",
    "plt.plot(xdomain, xdomain)\n",
    "# Plots 'sin(x)'\n",
    "plt.plot(xdomain, np.sin(xdomain))\n",
    "\n",
    "# 'clip' will map all negative values a very small positive one\n",
    "plt.xscale('log', nonpositive='clip')\n",
    "plt.show()"
   ]
  },
  {
   "cell_type": "code",
   "execution_count": null,
   "id": "2243c941",
   "metadata": {},
   "outputs": [],
   "source": [
    "# Draw the grid lines\n",
    "plt.grid(True)\n",
    "\n",
    "# Numbers from -50 to 50, with 0.1 as step\n",
    "xdomain = np.arange(-50, 50, 0.1)\n",
    "\n",
    "# Plots a simple linear function 'f(x) = x'\n",
    "plt.plot(xdomain, xdomain)\n",
    "# Plots 'sin(x)'\n",
    "plt.plot(xdomain, np.sin(xdomain))\n",
    "\n",
    "# 'symlog' scaling, however, handles negative values nicely\n",
    "plt.xscale('symlog')\n",
    "plt.show()"
   ]
  },
  {
   "cell_type": "code",
   "execution_count": null,
   "id": "00238913",
   "metadata": {},
   "outputs": [],
   "source": [
    "# Draw the grid lines\n",
    "plt.grid(True)\n",
    "\n",
    "# Numbers from -50 to 50, with 0.1 as step\n",
    "xdomain = np.arange(-50, 50, 0.1)\n",
    "\n",
    "# Plots a simple linear function 'f(x) = x'\n",
    "plt.plot(xdomain, xdomain)\n",
    "# Plots 'sin(x)'\n",
    "plt.plot(xdomain, np.sin(xdomain))\n",
    "\n",
    "# And you can even set a linear range around zero\n",
    "plt.xscale('symlog')\n",
    "plt.show()"
   ]
  },
  {
   "cell_type": "markdown",
   "id": "226ff8c5",
   "metadata": {},
   "source": [
    "### 圖中圖"
   ]
  },
  {
   "cell_type": "code",
   "execution_count": null,
   "id": "61524a94",
   "metadata": {},
   "outputs": [],
   "source": [
    "fig = plt.figure(figsize = (10, 6))\n",
    "x = [1, 2, 3, 4, 5, 6, 7]\n",
    "y = [1, 3, 4, 2, 5, 8, 6]\n",
    "\n",
    "# below are all percentage\n",
    "left, bottom, width, height = 0.1, 0.1, 0.8, 0.8\n",
    "ax1 = fig.add_axes([left, bottom, width, height])  # main axes\n",
    "ax1.plot(x, y, 'r')\n",
    "ax1.set_xlabel('x')\n",
    "ax1.set_ylabel('y')\n",
    "ax1.set_title('title')\n",
    "\n",
    "ax2 = fig.add_axes([0.2, 0.6, 0.25, 0.25])  # inside axes\n",
    "ax2.plot(y, x, 'b')\n",
    "ax2.set_xlabel('x')\n",
    "ax2.set_ylabel('y')\n",
    "ax2.set_title('title inside 1')\n",
    "\n",
    "\n",
    "# different method to add axes\n",
    "####################################\n",
    "plt.axes([0.6, 0.2, 0.25, 0.25])\n",
    "plt.plot(y[::-1], x, 'g')\n",
    "plt.xlabel('x')\n",
    "plt.ylabel('y')\n",
    "plt.title('title inside 2')\n",
    "\n",
    "plt.show()"
   ]
  },
  {
   "cell_type": "markdown",
   "id": "ac7a8d5c",
   "metadata": {},
   "source": [
    "### Second y-axis"
   ]
  },
  {
   "cell_type": "code",
   "execution_count": null,
   "id": "3055106f",
   "metadata": {},
   "outputs": [],
   "source": [
    "x = np.arange(0, 10, 0.1)\n",
    "y1 = 0.05 * x**2\n",
    "y2 = -x**2\n",
    "\n",
    "fig, ax1 = plt.subplots()\n",
    "\n",
    "ax2 = ax1.twinx()    # Create a twin Axes sharing the xaxis\n",
    "ax1.plot(x, y1, 'g-')\n",
    "ax2.plot(x, y2, 'b-')\n",
    "\n",
    "ax1.set_xlabel('X data')\n",
    "ax1.set_ylabel('Y1 data', color = 'g')\n",
    "ax2.set_ylabel('Y2 data', color = 'b')\n",
    "\n",
    "plt.show()"
   ]
  },
  {
   "cell_type": "markdown",
   "id": "124afc36",
   "metadata": {},
   "source": [
    "### matplotlib 設定"
   ]
  },
  {
   "cell_type": "code",
   "execution_count": null,
   "id": "e520cb1b",
   "metadata": {},
   "outputs": [],
   "source": [
    "# matplotlib 原本就有色彩方案和預設設定，適合出版的圖片，幸運的是所有的預設值都可以透過一組全域變數進行設定"
   ]
  },
  {
   "cell_type": "code",
   "execution_count": null,
   "id": "5d54d4e4",
   "metadata": {},
   "outputs": [],
   "source": [
    "# 如果想要將預設的圖形大小變為 10 × 10 的話，可以輸入:\n",
    "plt.rc('figure', figsize = (10, 10))"
   ]
  },
  {
   "cell_type": "code",
   "execution_count": null,
   "id": "0e4c9a93",
   "metadata": {},
   "outputs": [],
   "source": [
    "plt.figure()\n",
    "plt.plot([1,2],[3,4])\n",
    "plt.show()"
   ]
  },
  {
   "cell_type": "markdown",
   "id": "2862d936",
   "metadata": {},
   "source": [
    "---"
   ]
  },
  {
   "cell_type": "code",
   "execution_count": null,
   "id": "fea556cc",
   "metadata": {},
   "outputs": [],
   "source": [
    "# .rc() 方法第一個參數是要調整的目標元件，例如: 'figure'、'axes'、'xtick'、'ytick'、'grid'、'legend'\n",
    "# 後面放一串想要調整的關鍵字參數，此時就可以用 dict 型態一次傳遞多個參數\n",
    "font_options = {'family': 'monospace',\n",
    "                'weight': 'bold',\n",
    "                'size':10}\n",
    "plt.rc('font', **font_options)"
   ]
  }
 ],
 "metadata": {
  "kernelspec": {
   "display_name": "Python 3",
   "language": "python",
   "name": "python3"
  },
  "language_info": {
   "codemirror_mode": {
    "name": "ipython",
    "version": 3
   },
   "file_extension": ".py",
   "mimetype": "text/x-python",
   "name": "python",
   "nbconvert_exporter": "python",
   "pygments_lexer": "ipython3",
   "version": "3.8.10"
  }
 },
 "nbformat": 4,
 "nbformat_minor": 5
}
