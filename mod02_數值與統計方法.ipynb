{
 "cells": [
  {
   "cell_type": "markdown",
   "id": "a378537d",
   "metadata": {},
   "source": [
    "#  <font color=red> Module_02_數值與統計方法</font>"
   ]
  },
  {
   "cell_type": "markdown",
   "id": "5731ea7e",
   "metadata": {},
   "source": [
    "## 對序列與資料框執行算術運算"
   ]
  },
  {
   "cell_type": "code",
   "execution_count": null,
   "id": "8b7774cf",
   "metadata": {},
   "outputs": [],
   "source": [
    "import pandas as pd\n",
    "import numpy as np\n",
    "import matplotlib.pyplot as plt\n",
    "\n",
    "df = pd.DataFrame(np.random.randn(5, 4), columns = ['A', 'B', 'C', 'D'])\n",
    "df"
   ]
  },
  {
   "cell_type": "code",
   "execution_count": null,
   "id": "39732348",
   "metadata": {},
   "outputs": [],
   "source": [
    "# 每個資料乘 2\n",
    "df*2 "
   ]
  },
  {
   "cell_type": "code",
   "execution_count": null,
   "id": "6aa8d110",
   "metadata": {},
   "outputs": [],
   "source": [
    "# 每個資料 + 1\n",
    "df + 1"
   ]
  },
  {
   "cell_type": "markdown",
   "id": "28a3ea91",
   "metadata": {},
   "source": [
    "---"
   ]
  },
  {
   "cell_type": "code",
   "execution_count": null,
   "id": "7e5d9b5d",
   "metadata": {},
   "outputs": [],
   "source": [
    "df"
   ]
  },
  {
   "cell_type": "code",
   "execution_count": null,
   "id": "e5a710ae",
   "metadata": {},
   "outputs": [],
   "source": [
    "s = df.iloc[0]\n",
    "s"
   ]
  },
  {
   "cell_type": "code",
   "execution_count": null,
   "id": "77040c1a",
   "metadata": {},
   "outputs": [],
   "source": [
    "# 序列索引與資料框的行索引的聯集 \n",
    "# 依照對齊規則，依照行對齊\n",
    "diff = df - s \n",
    "diff"
   ]
  },
  {
   "cell_type": "code",
   "execution_count": null,
   "id": "4e4a0cfb",
   "metadata": {},
   "outputs": [],
   "source": [
    "diff2 = s - df\n",
    "diff2"
   ]
  },
  {
   "cell_type": "markdown",
   "id": "65a080c2",
   "metadata": {},
   "source": [
    "---"
   ]
  },
  {
   "cell_type": "code",
   "execution_count": null,
   "id": "117256d2",
   "metadata": {},
   "outputs": [],
   "source": [
    "s2 = s[1:3]\n",
    "s2"
   ]
  },
  {
   "cell_type": "code",
   "execution_count": null,
   "id": "944669f7",
   "metadata": {},
   "outputs": [],
   "source": [
    "s2['E'] = 0\n",
    "s2"
   ]
  },
  {
   "cell_type": "code",
   "execution_count": null,
   "id": "8695499a",
   "metadata": {},
   "outputs": [],
   "source": [
    "df"
   ]
  },
  {
   "cell_type": "code",
   "execution_count": null,
   "id": "ff78356c",
   "metadata": {},
   "outputs": [],
   "source": [
    "df + s2 # 序列索引與資料框的行索引的聯集 # 依照對齊規則，對行對齊"
   ]
  },
  {
   "cell_type": "markdown",
   "id": "b1af2724",
   "metadata": {},
   "source": [
    "---"
   ]
  },
  {
   "cell_type": "code",
   "execution_count": null,
   "id": "0bda3d6b",
   "metadata": {},
   "outputs": [],
   "source": [
    "subframe = df[1:4][['B', 'C']]\n",
    "subframe"
   ]
  },
  {
   "cell_type": "code",
   "execution_count": null,
   "id": "5f425f28",
   "metadata": {},
   "outputs": [],
   "source": [
    "df - subframe # 行列會對齊"
   ]
  },
  {
   "cell_type": "markdown",
   "id": "8be91934",
   "metadata": {},
   "source": [
    "---"
   ]
  },
  {
   "cell_type": "code",
   "execution_count": null,
   "id": "2ae9daa6",
   "metadata": {},
   "outputs": [],
   "source": [
    "df"
   ]
  },
  {
   "cell_type": "code",
   "execution_count": null,
   "id": "f0c9d851",
   "metadata": {},
   "outputs": [],
   "source": [
    "a_col = df['A']\n",
    "a_col"
   ]
  },
  {
   "cell_type": "code",
   "execution_count": null,
   "id": "e786b267",
   "metadata": {},
   "outputs": [],
   "source": [
    "df + a_col"
   ]
  },
  {
   "cell_type": "code",
   "execution_count": null,
   "id": "0f019338",
   "metadata": {},
   "outputs": [],
   "source": [
    "# 等於 df + a_col\n",
    "# df.sub() 方法的好處是有 axis 參數可以使用\n",
    "# df.add()、df.sub()、df.mul()、df.div() 方法類似\n",
    "df.sub(a_col, axis = 1) "
   ]
  },
  {
   "cell_type": "code",
   "execution_count": null,
   "id": "5e9e8acc",
   "metadata": {},
   "outputs": [],
   "source": [
    "df.sub(a_col, axis = 0)"
   ]
  },
  {
   "cell_type": "markdown",
   "id": "9b1b02b3",
   "metadata": {},
   "source": [
    "---"
   ]
  },
  {
   "cell_type": "code",
   "execution_count": null,
   "id": "2737e6de",
   "metadata": {},
   "outputs": [],
   "source": [
    "df1 = pd.DataFrame(np.arange(12).reshape(3, 4), columns = list('abcd') )\n",
    "df1"
   ]
  },
  {
   "cell_type": "code",
   "execution_count": null,
   "id": "3d1f7d25",
   "metadata": {},
   "outputs": [],
   "source": [
    "df2 = pd.DataFrame(np.arange(20).reshape(4, 5), columns = list('abcde') )\n",
    "df2"
   ]
  },
  {
   "cell_type": "code",
   "execution_count": null,
   "id": "72251b19",
   "metadata": {},
   "outputs": [],
   "source": [
    "# 對列跟行對齊\n",
    "df1 + df2 "
   ]
  },
  {
   "cell_type": "code",
   "execution_count": null,
   "id": "15a95286",
   "metadata": {},
   "outputs": [],
   "source": [
    "# Fill missing (NaN) values with this value. If both DataFrame locations are missing, the result will be missing.\n",
    "df1.add(df2, fill_value = 0) "
   ]
  },
  {
   "cell_type": "code",
   "execution_count": null,
   "id": "0e643324",
   "metadata": {},
   "outputs": [],
   "source": [
    "# inf 表示無窮大    # 1/0.1 = 10, 1/0.01 = 100, 1/0.001 = 1000, .... => inf \n",
    "1/df1"
   ]
  },
  {
   "cell_type": "markdown",
   "id": "6912f886",
   "metadata": {},
   "source": [
    "---"
   ]
  },
  {
   "cell_type": "code",
   "execution_count": null,
   "id": "10fb3ef3",
   "metadata": {},
   "outputs": [],
   "source": [
    "df = pd.DataFrame(np.arange(1, 5).reshape(2, 2), columns = ['a', 'b'])\n",
    "df"
   ]
  },
  {
   "cell_type": "code",
   "execution_count": null,
   "id": "3dc638a8",
   "metadata": {},
   "outputs": [],
   "source": [
    "df.div(2)"
   ]
  },
  {
   "cell_type": "code",
   "execution_count": null,
   "id": "89622243",
   "metadata": {},
   "outputs": [],
   "source": [
    "# 數學運算方法加 r 通常代表反向\n",
    "df.rdiv(2) "
   ]
  },
  {
   "cell_type": "markdown",
   "id": "0ffba745",
   "metadata": {},
   "source": [
    "## 讀取值出現次數的資訊"
   ]
  },
  {
   "cell_type": "code",
   "execution_count": null,
   "id": "6fd5a6a3",
   "metadata": {},
   "outputs": [],
   "source": [
    "# Nat a number\n",
    "s = pd.Series(['a', 'a', 'b', 'c', np.NaN])\n",
    "s"
   ]
  },
  {
   "cell_type": "code",
   "execution_count": null,
   "id": "6e4e4565",
   "metadata": {},
   "outputs": [],
   "source": [
    "s.count() # 出現非 NaN 的次數"
   ]
  },
  {
   "cell_type": "markdown",
   "id": "26acd196",
   "metadata": {},
   "source": [
    "---"
   ]
  },
  {
   "cell_type": "code",
   "execution_count": null,
   "id": "a37f7f17",
   "metadata": {},
   "outputs": [],
   "source": [
    "df = pd.DataFrame(np.array([\n",
    "      [1, np.NaN, 2],\n",
    "      [np.NaN, np.NaN, 3],\n",
    "      [3, 4, np.NaN]\n",
    "]), columns = ['A', 'B', 'C'])\n",
    "\n",
    "df"
   ]
  },
  {
   "cell_type": "code",
   "execution_count": null,
   "id": "31840e70",
   "metadata": {},
   "outputs": [],
   "source": [
    "df.count()"
   ]
  },
  {
   "cell_type": "code",
   "execution_count": null,
   "id": "0d64de42",
   "metadata": {},
   "outputs": [],
   "source": [
    "df.count(axis = 1)"
   ]
  },
  {
   "cell_type": "markdown",
   "id": "2b501551",
   "metadata": {},
   "source": [
    "## 決定唯一值、出現次數與成員關係"
   ]
  },
  {
   "cell_type": "code",
   "execution_count": null,
   "id": "8dea2edd",
   "metadata": {},
   "outputs": [],
   "source": [
    "s = pd.Series(['a', 'a', 'b', 'c', np.NaN])\n",
    "s"
   ]
  },
  {
   "cell_type": "code",
   "execution_count": null,
   "id": "ef9fb99c",
   "metadata": {},
   "outputs": [],
   "source": [
    "s.unique() # 包含 NaN # 只能用在序列"
   ]
  },
  {
   "cell_type": "code",
   "execution_count": null,
   "id": "352f58c6",
   "metadata": {},
   "outputs": [],
   "source": [
    "s.nunique() # 不包含 NaN # 求不同的非 NaN 數有幾個 "
   ]
  },
  {
   "cell_type": "code",
   "execution_count": null,
   "id": "3faab628",
   "metadata": {},
   "outputs": [],
   "source": [
    "s.nunique(dropna = False) # 包含 NaN "
   ]
  },
  {
   "cell_type": "markdown",
   "id": "024d624d",
   "metadata": {},
   "source": [
    "---"
   ]
  },
  {
   "cell_type": "code",
   "execution_count": null,
   "id": "8ae8a155",
   "metadata": {},
   "outputs": [],
   "source": [
    "h = s.value_counts(dropna = False) # 預設 dropna = True 且 sort = True\n",
    "h"
   ]
  },
  {
   "cell_type": "code",
   "execution_count": null,
   "id": "c8747bc8",
   "metadata": {},
   "outputs": [],
   "source": [
    "# 繪出柱狀圖，之後會學到\n",
    "h.plot(kind = 'bar')\n",
    "plt.show()"
   ]
  },
  {
   "cell_type": "code",
   "execution_count": null,
   "id": "4117f1b7",
   "metadata": {},
   "outputs": [],
   "source": [
    "pd.value_counts(s, dropna = False) # 有函式可用"
   ]
  },
  {
   "cell_type": "markdown",
   "id": "b5da3b0f",
   "metadata": {},
   "source": [
    "---"
   ]
  },
  {
   "cell_type": "code",
   "execution_count": null,
   "id": "de8dc2bf",
   "metadata": {},
   "outputs": [],
   "source": [
    "df = pd.DataFrame(np.array([\n",
    "      [1, np.NaN, 2],\n",
    "      [np.NaN, np.NaN, 3],\n",
    "      [3, 4, np.NaN]\n",
    "]), columns = ['A', 'B', 'C'])\n",
    "\n",
    "df"
   ]
  },
  {
   "cell_type": "code",
   "execution_count": null,
   "id": "c6de15b0",
   "metadata": {},
   "outputs": [],
   "source": [
    "df.nunique(axis = 0, dropna = False)"
   ]
  },
  {
   "cell_type": "code",
   "execution_count": null,
   "id": "c4637215",
   "metadata": {},
   "outputs": [],
   "source": [
    "df.nunique(axis = 1)"
   ]
  },
  {
   "cell_type": "markdown",
   "id": "76fb0ebe",
   "metadata": {},
   "source": [
    "---"
   ]
  },
  {
   "cell_type": "code",
   "execution_count": null,
   "id": "79ec0d85",
   "metadata": {},
   "outputs": [],
   "source": [
    "obj = pd.Series(['c', 'a', 'd', 'a', 'a', 'b', 'b', 'c', 'c'])\n",
    "obj"
   ]
  },
  {
   "cell_type": "code",
   "execution_count": null,
   "id": "f0f6f075",
   "metadata": {},
   "outputs": [],
   "source": [
    "obj.value_counts()"
   ]
  },
  {
   "cell_type": "code",
   "execution_count": null,
   "id": "2723dda0",
   "metadata": {},
   "outputs": [],
   "source": [
    "pd.value_counts(obj, sort = False)"
   ]
  },
  {
   "cell_type": "markdown",
   "id": "1ea36c49",
   "metadata": {},
   "source": [
    "---"
   ]
  },
  {
   "cell_type": "code",
   "execution_count": null,
   "id": "1a147536",
   "metadata": {},
   "outputs": [],
   "source": [
    "# 成員關係\n",
    "mask = obj.isin(['b', 'c'])\n",
    "mask"
   ]
  },
  {
   "cell_type": "code",
   "execution_count": null,
   "id": "bedc9d5c",
   "metadata": {},
   "outputs": [],
   "source": [
    "obj[mask]"
   ]
  },
  {
   "cell_type": "markdown",
   "id": "f67c7eee",
   "metadata": {},
   "source": [
    "---"
   ]
  },
  {
   "cell_type": "code",
   "execution_count": null,
   "id": "3e822f8c",
   "metadata": {},
   "outputs": [],
   "source": [
    "to_match = pd.Series(['c', 'a', 'b', 'b', 'c', 'a'])\n",
    "unique_vals = pd.Series(['c', 'b', 'a'])\n",
    "to_match"
   ]
  },
  {
   "cell_type": "code",
   "execution_count": null,
   "id": "b4e5b3f4",
   "metadata": {},
   "outputs": [],
   "source": [
    "unique_vals"
   ]
  },
  {
   "cell_type": "code",
   "execution_count": null,
   "id": "dd6e9f93",
   "metadata": {},
   "outputs": [],
   "source": [
    "# 用 pd.Index 建立 Index 物件\n",
    "idx = pd.Index(unique_vals)\n",
    "idx"
   ]
  },
  {
   "cell_type": "code",
   "execution_count": null,
   "id": "b51b852b",
   "metadata": {},
   "outputs": [],
   "source": [
    "# 使用 Index 物件的方法\n",
    "idx.get_indexer(to_match)"
   ]
  },
  {
   "cell_type": "markdown",
   "id": "ec00bb7e",
   "metadata": {},
   "source": [
    "## 找出最小值與最大值"
   ]
  },
  {
   "cell_type": "code",
   "execution_count": null,
   "id": "62a6705e",
   "metadata": {},
   "outputs": [],
   "source": [
    "omh = pd.read_csv('./mod02/omh.csv')\n",
    "omh"
   ]
  },
  {
   "cell_type": "code",
   "execution_count": null,
   "id": "34809fd3",
   "metadata": {},
   "outputs": [],
   "source": [
    "# 在執行分析方法，要考慮到每個欄位的可執行性跟合理性\n",
    "omh.min()"
   ]
  },
  {
   "cell_type": "code",
   "execution_count": null,
   "id": "63675697",
   "metadata": {},
   "outputs": [],
   "source": [
    "omh[['MSFT', 'AAPL']].min()"
   ]
  },
  {
   "cell_type": "code",
   "execution_count": null,
   "id": "cdb55868",
   "metadata": {},
   "outputs": [],
   "source": [
    "omh[['MSFT', 'AAPL']].max()"
   ]
  },
  {
   "cell_type": "code",
   "execution_count": null,
   "id": "6b833809",
   "metadata": {},
   "outputs": [],
   "source": [
    "omh[['MSFT', 'AAPL']].min(axis = 1)"
   ]
  },
  {
   "cell_type": "markdown",
   "id": "2a95dde5",
   "metadata": {},
   "source": [
    "---"
   ]
  },
  {
   "cell_type": "code",
   "execution_count": null,
   "id": "5c96092d",
   "metadata": {},
   "outputs": [],
   "source": [
    "omh[['MSFT', 'AAPL']].idxmin() # 間接統計 # 回傳索引標籤"
   ]
  },
  {
   "cell_type": "code",
   "execution_count": null,
   "id": "549bb75c",
   "metadata": {},
   "outputs": [],
   "source": [
    "omh[['MSFT', 'AAPL']].idxmax() # 間接統計 # 回傳索引標籤"
   ]
  },
  {
   "cell_type": "code",
   "execution_count": null,
   "id": "93b18461",
   "metadata": {},
   "outputs": [],
   "source": [
    "omh[['MSFT', 'AAPL']].idxmin(axis = 1)"
   ]
  },
  {
   "cell_type": "markdown",
   "id": "5a934dc4",
   "metadata": {},
   "source": [
    "## 找出 n 個最小值及最大值"
   ]
  },
  {
   "cell_type": "code",
   "execution_count": null,
   "id": "dfb15061",
   "metadata": {},
   "outputs": [],
   "source": [
    "omh = pd.read_csv('./mod02/omh.csv')\n",
    "omh"
   ]
  },
  {
   "cell_type": "code",
   "execution_count": null,
   "id": "ea68b6e7",
   "metadata": {},
   "outputs": [],
   "source": [
    "omh.nsmallest(4, ['MSFT']) # 傳回 Dataframe # 以遞增呈現"
   ]
  },
  {
   "cell_type": "code",
   "execution_count": null,
   "id": "8447c845",
   "metadata": {},
   "outputs": [],
   "source": [
    "omh.nsmallest(4, ['MSFT'])['MSFT']"
   ]
  },
  {
   "cell_type": "code",
   "execution_count": null,
   "id": "70dc36f9",
   "metadata": {},
   "outputs": [],
   "source": [
    "# 對 MSFT 的股價由小排到大\n",
    "omh.nsmallest(len(omh), ['MSFT'])"
   ]
  },
  {
   "cell_type": "markdown",
   "id": "c28ec052",
   "metadata": {},
   "source": [
    "---"
   ]
  },
  {
   "cell_type": "code",
   "execution_count": null,
   "id": "0a70cb9e",
   "metadata": {},
   "outputs": [],
   "source": [
    "omh.nlargest(4, ['MSFT']) # 以遞減的方式呈現"
   ]
  },
  {
   "cell_type": "code",
   "execution_count": null,
   "id": "f85fcada",
   "metadata": {},
   "outputs": [],
   "source": [
    "omh.nlargest(4, ['MSFT'])['MSFT'] "
   ]
  },
  {
   "cell_type": "code",
   "execution_count": null,
   "id": "9bf6c93d",
   "metadata": {},
   "outputs": [],
   "source": [
    "omh.MSFT.nlargest(4) # 序列的用法"
   ]
  },
  {
   "cell_type": "markdown",
   "id": "da194325",
   "metadata": {},
   "source": [
    "## 計算累計值"
   ]
  },
  {
   "cell_type": "code",
   "execution_count": null,
   "id": "c9979fe2",
   "metadata": {},
   "outputs": [],
   "source": [
    "a = pd.Series([1, 2, 3, 4])\n",
    "a"
   ]
  },
  {
   "cell_type": "code",
   "execution_count": null,
   "id": "8ceeef21",
   "metadata": {},
   "outputs": [],
   "source": [
    "a.cumprod() # cumulative product"
   ]
  },
  {
   "cell_type": "code",
   "execution_count": null,
   "id": "2fde145a",
   "metadata": {},
   "outputs": [],
   "source": [
    "a.cumsum() # cumulative sum"
   ]
  },
  {
   "cell_type": "markdown",
   "id": "222cb311",
   "metadata": {},
   "source": [
    "---"
   ]
  },
  {
   "cell_type": "code",
   "execution_count": null,
   "id": "74caa298",
   "metadata": {},
   "outputs": [],
   "source": [
    "df = pd.DataFrame(np.arange(9).reshape(3, 3), columns = list('abc'))\n",
    "df"
   ]
  },
  {
   "cell_type": "code",
   "execution_count": null,
   "id": "9cb901c0",
   "metadata": {},
   "outputs": [],
   "source": [
    "df.cumsum()"
   ]
  },
  {
   "cell_type": "code",
   "execution_count": null,
   "id": "7bf700a5",
   "metadata": {},
   "outputs": [],
   "source": [
    "df.cumsum(axis = 1)"
   ]
  },
  {
   "cell_type": "code",
   "execution_count": null,
   "id": "8d03353b",
   "metadata": {},
   "outputs": [],
   "source": [
    "df.cumprod(axis = 1)"
   ]
  },
  {
   "cell_type": "markdown",
   "id": "f641735c",
   "metadata": {},
   "source": [
    "## 提取概括敘述統計量"
   ]
  },
  {
   "cell_type": "code",
   "execution_count": null,
   "id": "6a61188a",
   "metadata": {},
   "outputs": [],
   "source": [
    "omh = pd.read_csv('./mod02/omh.csv')\n",
    "omh[:5]"
   ]
  },
  {
   "cell_type": "code",
   "execution_count": null,
   "id": "e4290be4",
   "metadata": {},
   "outputs": [],
   "source": [
    "omh.describe() # Date 這一行非數值，所以沒有顯示"
   ]
  },
  {
   "cell_type": "code",
   "execution_count": null,
   "id": "afcc7aa1",
   "metadata": {},
   "outputs": [],
   "source": [
    "omh.MSFT.describe() # 序列的使用"
   ]
  },
  {
   "cell_type": "code",
   "execution_count": null,
   "id": "1e0ec4d7",
   "metadata": {},
   "outputs": [],
   "source": [
    "omh.MSFT.describe()['mean']"
   ]
  },
  {
   "cell_type": "markdown",
   "id": "2b8ed6ef",
   "metadata": {},
   "source": [
    "---"
   ]
  },
  {
   "cell_type": "code",
   "execution_count": null,
   "id": "4368b3e7",
   "metadata": {},
   "outputs": [],
   "source": [
    "s = pd.Series(['a', 'a', 'b', 'b', 'b', 'c', np.NaN])\n",
    "s"
   ]
  },
  {
   "cell_type": "code",
   "execution_count": null,
   "id": "92710628",
   "metadata": {},
   "outputs": [],
   "source": [
    "s.describe() # 非數值型資料 # top: 最常出現值、freq: 出現次數"
   ]
  },
  {
   "cell_type": "code",
   "execution_count": null,
   "id": "d404250a",
   "metadata": {},
   "outputs": [],
   "source": [
    "omh.Date.describe()"
   ]
  },
  {
   "cell_type": "markdown",
   "id": "e17a3b41",
   "metadata": {},
   "source": [
    "## 測量集中趨勢: 平均值、中位數、眾數"
   ]
  },
  {
   "cell_type": "raw",
   "id": "4d99ecb8",
   "metadata": {},
   "source": [
    "# 中央趨勢量數 (measures of central tendency) 又稱集中趨勢量數\n",
    "# 目標欲用一個量數來摘要出一筆資料中央在哪裡的資訊"
   ]
  },
  {
   "cell_type": "markdown",
   "id": "625ddda9",
   "metadata": {},
   "source": [
    "---"
   ]
  },
  {
   "cell_type": "raw",
   "id": "7652ce9e",
   "metadata": {},
   "source": [
    "# 母體算術平均數: 有一組母體資料 X_1, X_2, ..., X_N，定義母體算術平均數為 "
   ]
  },
  {
   "cell_type": "markdown",
   "id": "b15359dc",
   "metadata": {},
   "source": [
    "$$\\mu = \\frac{1}{N}\\sum_{i=1}^{N}X_i$$"
   ]
  },
  {
   "cell_type": "raw",
   "id": "e14db585",
   "metadata": {},
   "source": [
    "# 樣本算術平均數: 有一組樣本資料 X_1, X_2, ..., X_n，定義樣本算術平均數為 "
   ]
  },
  {
   "cell_type": "markdown",
   "id": "8808d7e4",
   "metadata": {},
   "source": [
    "$$\\overline{X} = \\frac{1}{n}\\sum_{i=1}^{n}X_i$$"
   ]
  },
  {
   "cell_type": "raw",
   "id": "5b4dfa7a",
   "metadata": {},
   "source": [
    "# 算術平均數 (arithmetic mean) 常簡稱為平均數 (mean)，而日常生活中的普通英文則是用 average 這個字\n",
    "# 重要的缺點之一: 極易受到離群值 (outliers) 的影響\n",
    "# 重要的優點之一: 不管是母體平均數或是樣本平均數都會讓離差平方和最小，也就是說"
   ]
  },
  {
   "cell_type": "markdown",
   "id": "af9cdaaa",
   "metadata": {},
   "source": [
    "$$\\sum_{i=1}^{N}(X_i -\\mu)^2 \\le \\sum_{i=1}^{N}(X_i - a)^2, \\ \\ \\forall a$$"
   ]
  },
  {
   "cell_type": "markdown",
   "id": "a2c21132",
   "metadata": {},
   "source": [
    "$$\\sum_{i=1}^{n}(X_i -\\overline{X})^2 \\le \\sum_{i=1}^{n}(X_i - a)^2, \\ \\ \\forall a$$"
   ]
  },
  {
   "cell_type": "raw",
   "id": "1eda666f",
   "metadata": {},
   "source": [
    "# 例如樣本為 1, 3, 2, 4, 5，那麼樣本平均數為 "
   ]
  },
  {
   "cell_type": "markdown",
   "id": "a02c85d5",
   "metadata": {},
   "source": [
    "$$\\overline{X} = \\frac{1}{5}\\sum_{i=1}^{5}X_i = \\frac{1+3+2+4+5}{5} = 3 $$"
   ]
  },
  {
   "cell_type": "raw",
   "id": "b223aaea",
   "metadata": {},
   "source": [
    "# 而離差平方和為"
   ]
  },
  {
   "cell_type": "markdown",
   "id": "91aa6302",
   "metadata": {},
   "source": [
    "$$\\sum_{i=1}^{5}(X_i -\\overline{X})^2 = (1-3)^2 + (3-3)^2 + (2-3)^2 + (4-3)^2 + (5-3)^2 = 10$$"
   ]
  },
  {
   "cell_type": "raw",
   "id": "79419c4c",
   "metadata": {},
   "source": [
    "# 我們可以證明 10 是最小的離差平方和"
   ]
  },
  {
   "cell_type": "markdown",
   "id": "3c78b12c",
   "metadata": {},
   "source": [
    "---"
   ]
  },
  {
   "cell_type": "code",
   "execution_count": null,
   "id": "6415b739",
   "metadata": {},
   "outputs": [],
   "source": [
    "omh = pd.read_csv('./mod02/omh.csv')\n",
    "omh[:5]"
   ]
  },
  {
   "cell_type": "code",
   "execution_count": null,
   "id": "25dfb575",
   "metadata": {},
   "outputs": [],
   "source": [
    "omh.mean(numeric_only = True)"
   ]
  },
  {
   "cell_type": "code",
   "execution_count": null,
   "id": "f0c48759",
   "metadata": {},
   "outputs": [],
   "source": [
    "omh.mean(numeric_only = True, axis = 1)[:5]"
   ]
  },
  {
   "cell_type": "markdown",
   "id": "c6650839",
   "metadata": {},
   "source": [
    "---"
   ]
  },
  {
   "cell_type": "code",
   "execution_count": null,
   "id": "377ebb95",
   "metadata": {},
   "outputs": [],
   "source": [
    "df = pd.DataFrame([[1.4, np.NaN], [7.1, -4.5]], index = ['a', 'b'], columns = ['one', 'two'])\n",
    "df"
   ]
  },
  {
   "cell_type": "code",
   "execution_count": null,
   "id": "593d9234",
   "metadata": {},
   "outputs": [],
   "source": [
    "df.sum()"
   ]
  },
  {
   "cell_type": "code",
   "execution_count": null,
   "id": "f42e2909",
   "metadata": {},
   "outputs": [],
   "source": [
    "df.sum(skipna = False)"
   ]
  },
  {
   "cell_type": "code",
   "execution_count": null,
   "id": "3e2b234c",
   "metadata": {},
   "outputs": [],
   "source": [
    "# 預設是忽略 NaN\n",
    "df.mean()"
   ]
  },
  {
   "cell_type": "code",
   "execution_count": null,
   "id": "08dfc16a",
   "metadata": {},
   "outputs": [],
   "source": [
    "df.mean(skipna = False)"
   ]
  },
  {
   "cell_type": "code",
   "execution_count": null,
   "id": "83997357",
   "metadata": {},
   "outputs": [],
   "source": [
    "df.mean(axis = 1)"
   ]
  },
  {
   "cell_type": "code",
   "execution_count": null,
   "id": "8fc519eb",
   "metadata": {},
   "outputs": [],
   "source": [
    "df.mean(axis = 1, skipna = False)"
   ]
  },
  {
   "cell_type": "markdown",
   "id": "d5c9519b",
   "metadata": {},
   "source": [
    "---"
   ]
  },
  {
   "cell_type": "raw",
   "id": "9f520d05",
   "metadata": {},
   "source": [
    "# 中位數 (median) 是一筆數據資料中 (母體資料或樣本資料皆可) 中，由小排到大之後，最中央的數\n",
    "# 也就是說，有 50% 的數據要小於或等於中位數，有另外 50% 的數據要大於或等於中位數\n",
    "# 母體中位數一般用 η 表示， 樣本中位數一般用 m_e 或 m_d 表示"
   ]
  },
  {
   "cell_type": "raw",
   "id": "6618e650",
   "metadata": {},
   "source": [
    "# 重要缺點之一: 不容易進行統計推論\n",
    "# 重要優點之一: 不易受到離群值影響"
   ]
  },
  {
   "cell_type": "raw",
   "id": "1002153b",
   "metadata": {},
   "source": [
    "# 例如樣本 1, 3, 2, 4, 5 的樣本中位數是 3，而樣本 1, 3, 2, 4, 6, 5 的樣本中位數是 3.5"
   ]
  },
  {
   "cell_type": "code",
   "execution_count": null,
   "id": "e159243f",
   "metadata": {},
   "outputs": [],
   "source": [
    "medi = omh.median(numeric_only = True) \n",
    "medi"
   ]
  },
  {
   "cell_type": "code",
   "execution_count": null,
   "id": "61ee4f7a",
   "metadata": {},
   "outputs": [],
   "source": [
    "omh.MSFT.plot(kind = 'hist', bins = 10, alpha = 0.5)\n",
    "plt.plot([medi['MSFT'], medi['MSFT']], [0, 5.3], 'r--', alpha = 0.7)\n",
    "\n",
    "plt.annotate(r'$median$', xy = (medi['MSFT'], 5), xycoords = 'data', xytext = (50, -30),\n",
    "             textcoords='offset points', fontsize = 16,\n",
    "             arrowprops=dict(arrowstyle='->', connectionstyle=\"arc3,rad=.2\"))\n",
    "plt.show()"
   ]
  },
  {
   "cell_type": "code",
   "execution_count": null,
   "id": "944e412c",
   "metadata": {},
   "outputs": [],
   "source": [
    "omh.median(numeric_only = True, axis = 1)[:5]"
   ]
  },
  {
   "cell_type": "markdown",
   "id": "701ee8cc",
   "metadata": {},
   "source": [
    "---"
   ]
  },
  {
   "cell_type": "raw",
   "id": "77e17e91",
   "metadata": {},
   "source": [
    "# 眾數 (mode) 是一筆數據資料 (母體資料或樣本資料皆可) 中，出現頻率 (即次數, frequency) 最多者，一般用 m_o 來表示眾數"
   ]
  },
  {
   "cell_type": "code",
   "execution_count": null,
   "id": "657d4306",
   "metadata": {},
   "outputs": [],
   "source": [
    "df = pd.DataFrame([\n",
    "    [1, 2, 1],\n",
    "    [1, 3, 2],\n",
    "    [2, 3, 3],\n",
    "    [2, 3, 4]\n",
    "], columns = ['a', 'b', 'c'])\n",
    "\n",
    "df"
   ]
  },
  {
   "cell_type": "code",
   "execution_count": null,
   "id": "447ce934",
   "metadata": {},
   "outputs": [],
   "source": [
    "df.mode() # 返回資料框 # 眾數不唯一"
   ]
  },
  {
   "cell_type": "code",
   "execution_count": null,
   "id": "ff8e4885",
   "metadata": {},
   "outputs": [],
   "source": [
    "df['b'].mode() # 返回序列"
   ]
  },
  {
   "cell_type": "code",
   "execution_count": null,
   "id": "6854953d",
   "metadata": {},
   "outputs": [],
   "source": [
    "df.a.mode()"
   ]
  },
  {
   "cell_type": "code",
   "execution_count": null,
   "id": "543a19f8",
   "metadata": {},
   "outputs": [],
   "source": [
    "df.mode(axis = 1) # 注意資料的放置"
   ]
  },
  {
   "cell_type": "markdown",
   "id": "f1d69133",
   "metadata": {},
   "source": [
    "---"
   ]
  },
  {
   "cell_type": "raw",
   "id": "96bcb6b3",
   "metadata": {},
   "source": [
    "# 右偏（skewed to the right 或稱正偏 positively skewed），是指分布的平均值（Mean）在眾數（Mode）的右邊\n",
    "# 左偏（skewed to the left 或稱負偏 negatively skewed），是指分布的平均值（Mean）在眾數（Mode）的左邊\n",
    "# 常態分布的均值和眾數是相等的。與常態分布對比，平均值往左去了，就左偏了，右偏以此類推"
   ]
  },
  {
   "cell_type": "markdown",
   "id": "f0b0e8a7",
   "metadata": {},
   "source": [
    " <img src=\"./mod02/2.png\" style='height:452px; width:964px'><br>"
   ]
  },
  {
   "cell_type": "markdown",
   "id": "b8b03591",
   "metadata": {},
   "source": [
    "## 測量分散程度: 變異數及標準差"
   ]
  },
  {
   "cell_type": "raw",
   "id": "23cd0a62",
   "metadata": {},
   "source": [
    "# 分散趨勢量數 (measures of variability), 是欲用一個量數來摘要一筆資料的分散性 (dispersion) 或 變異性 (variability)"
   ]
  },
  {
   "cell_type": "raw",
   "id": "e4892b8a",
   "metadata": {},
   "source": [
    "# 母體變異數 (population variance): 有一組母體資料 X_1, X_2, ..., X_N，定義母體變異數為: "
   ]
  },
  {
   "cell_type": "markdown",
   "id": "43b9ba0e",
   "metadata": {},
   "source": [
    "$$\\sigma^2 = \\frac{1}{N}\\sum_{i=1}^{N}(X_i - \\mu)^2$$"
   ]
  },
  {
   "cell_type": "raw",
   "id": "487f7cd1",
   "metadata": {},
   "source": [
    "# 樣本變異數 (sample variance): 有一組樣本資料 X_1, X_2, ..., X_n，定義樣本變異數為: "
   ]
  },
  {
   "cell_type": "markdown",
   "id": "48c33770",
   "metadata": {},
   "source": [
    "$$S^2 = \\frac{1}{n-1}\\sum_{i=1}^{n}(X_i - \\overline{X})^2$$"
   ]
  },
  {
   "cell_type": "raw",
   "id": "613f5166",
   "metadata": {},
   "source": [
    "# 母體標準差(standard deviation): 有一組母體資料 X_1, X_2, ..., X_N，定義母體標準差為: "
   ]
  },
  {
   "cell_type": "markdown",
   "id": "52cbe248",
   "metadata": {},
   "source": [
    "$$\\sigma = \\sqrt{\\sigma^{2}}$$"
   ]
  },
  {
   "cell_type": "raw",
   "id": "18743dcb",
   "metadata": {},
   "source": [
    "# 樣本標準差(sample standard deviation): 有一組樣本資料 X_1, X_2, ..., X_n，定義樣本標準差為: "
   ]
  },
  {
   "cell_type": "markdown",
   "id": "948a1574",
   "metadata": {},
   "source": [
    "$$S = \\sqrt{S^{2}}$$"
   ]
  },
  {
   "cell_type": "raw",
   "id": "1371a4a4",
   "metadata": {},
   "source": [
    "# 變異數的單位為原資料單位的平方，故並不實用，我們把變異數開根號，定義出標準差，其用意在於還原其單位使之與原資料相同"
   ]
  },
  {
   "cell_type": "markdown",
   "id": "5c74534d",
   "metadata": {},
   "source": [
    "---"
   ]
  },
  {
   "cell_type": "raw",
   "id": "8a4e0bd6",
   "metadata": {},
   "source": [
    "# 例如樣本 10, 8, 10, 16，則樣本變異數為:"
   ]
  },
  {
   "cell_type": "markdown",
   "id": "34e323db",
   "metadata": {},
   "source": [
    "$$S^2 = \\frac{1}{3}\\sum_{i=1}^{4}(X_i - \\overline{X})^2 = \\frac{1}{3}\\left[(10-11)^2 +(8-11)^2+(10-11)^2+(16-11)^2\\right]\n",
    "=12$$\n"
   ]
  },
  {
   "cell_type": "raw",
   "id": "5f377c24",
   "metadata": {},
   "source": [
    "# 樣本標準差為:"
   ]
  },
  {
   "cell_type": "markdown",
   "id": "1f4256a3",
   "metadata": {},
   "source": [
    "$$S = \\sqrt{S^{2}} = \\sqrt{12} = 3.46$$ "
   ]
  },
  {
   "cell_type": "code",
   "execution_count": null,
   "id": "2a063d99",
   "metadata": {},
   "outputs": [],
   "source": [
    "data = np.array([10, 8, 10, 16])\n",
    "data"
   ]
  },
  {
   "cell_type": "code",
   "execution_count": null,
   "id": "825ce7f3",
   "metadata": {},
   "outputs": [],
   "source": [
    "data.var() # ndarray的 .var() 方法預設是 ddof = 0，母體變異數"
   ]
  },
  {
   "cell_type": "code",
   "execution_count": null,
   "id": "aa25a8ce",
   "metadata": {},
   "outputs": [],
   "source": [
    "data.var(ddof = 1) # 樣本變異數"
   ]
  },
  {
   "cell_type": "code",
   "execution_count": null,
   "id": "ead59a9a",
   "metadata": {},
   "outputs": [],
   "source": [
    "data.std() # ndarray的 .std() 方法預設是 ddof = 0，母體變異數"
   ]
  },
  {
   "cell_type": "code",
   "execution_count": null,
   "id": "7981c5ab",
   "metadata": {},
   "outputs": [],
   "source": [
    "data.std(ddof = 1) # 樣本標準差"
   ]
  },
  {
   "cell_type": "code",
   "execution_count": null,
   "id": "fd1c15f0",
   "metadata": {},
   "outputs": [],
   "source": [
    "s = pd.Series(data)\n",
    "s"
   ]
  },
  {
   "cell_type": "code",
   "execution_count": null,
   "id": "4e828e16",
   "metadata": {},
   "outputs": [],
   "source": [
    "s.var() # 序列跟資料框預設是 ddof = 1 ，也就是樣本變異數"
   ]
  },
  {
   "cell_type": "code",
   "execution_count": null,
   "id": "d7c42e5c",
   "metadata": {},
   "outputs": [],
   "source": [
    "s.std() # 序列跟資料框預設是 ddof = 1 ，也就是樣本標準差"
   ]
  },
  {
   "cell_type": "markdown",
   "id": "8a482ea1",
   "metadata": {},
   "source": [
    "---"
   ]
  },
  {
   "cell_type": "code",
   "execution_count": null,
   "id": "545f2aab",
   "metadata": {},
   "outputs": [],
   "source": [
    "omh = pd.read_csv('./mod02/omh.csv')\n",
    "omh[:5]"
   ]
  },
  {
   "cell_type": "code",
   "execution_count": null,
   "id": "85fda27b",
   "metadata": {},
   "outputs": [],
   "source": [
    "omh.var(numeric_only = True) # 樣本變異數"
   ]
  },
  {
   "cell_type": "code",
   "execution_count": null,
   "id": "30653fa2",
   "metadata": {},
   "outputs": [],
   "source": [
    "omh.std(numeric_only = True) # 樣本標準差"
   ]
  },
  {
   "cell_type": "markdown",
   "id": "f4812bd3",
   "metadata": {},
   "source": [
    "## 決定共變異數及相關係數"
   ]
  },
  {
   "cell_type": "markdown",
   "id": "a28a3097",
   "metadata": {},
   "source": [
    "><img src=\"./mod02/1.png\" style='height:452px; width:964px'><br>"
   ]
  },
  {
   "cell_type": "raw",
   "id": "f25a7a4a",
   "metadata": {},
   "source": [
    "# 目標用一個數量找出變數 X 與 Y 是滿足哪一種線性相關"
   ]
  },
  {
   "cell_type": "markdown",
   "id": "486acb41",
   "metadata": {},
   "source": [
    "---"
   ]
  },
  {
   "cell_type": "raw",
   "id": "c7088d29",
   "metadata": {},
   "source": [
    "# 假設樣本數值為(X1, Y1), (X2, Y2), (X3, Y3), …, (Xn, Yn)，定義 X 與 Y 變數之三種常用的平方和"
   ]
  },
  {
   "cell_type": "markdown",
   "id": "1be98f8f",
   "metadata": {},
   "source": [
    "$$S_{XX} = \\sum_{i=1}^{n}(X_i - \\overline{X})^2$$\n",
    "$$S_{YY} = \\sum_{i=1}^{n}(Y_i - \\overline{Y})^2$$\n",
    "$$S_{XY} = \\sum_{i=1}^{n}(X_{i}-\\overline{X})(Y_{i}-\\overline{Y})$$"
   ]
  },
  {
   "cell_type": "raw",
   "id": "1482d856",
   "metadata": {},
   "source": [
    "# 所以 X 與 Y 變數之樣本變異數可定義如下"
   ]
  },
  {
   "cell_type": "markdown",
   "id": "59f6013d",
   "metadata": {},
   "source": [
    "$$S_{X}^2 = \\frac{1}{n-1}\\sum_{i=1}^{n}(X_i - \\overline{X})^2 = \\frac{1}{n-1}S_{XX}$$\n",
    "$$S_{Y}^2 = \\frac{1}{n-1}\\sum_{i=1}^{n}(Y_i - \\overline{Y})^2 = \\frac{1}{n-1}S_{YY}$$"
   ]
  },
  {
   "cell_type": "markdown",
   "id": "5f16d6cc",
   "metadata": {},
   "source": [
    "---"
   ]
  },
  {
   "cell_type": "raw",
   "id": "0603032c",
   "metadata": {},
   "source": [
    "# 假設樣本數值為(X1, Y1), (X2, Y2), (X3, Y3), …, (Xn, Yn)，則樣本共變異數 (sample covariance) 為"
   ]
  },
  {
   "cell_type": "markdown",
   "id": "4213e21e",
   "metadata": {},
   "source": [
    "$$\\hat{\\sigma}_{XY} = \\frac{1}{n-1}\\sum_{i=1}^{n}(X_{i}-\\overline{X})(Y_{i}-\\overline{Y}) = \\frac{1}{n-1}S_{XY}$$"
   ]
  },
  {
   "cell_type": "raw",
   "id": "c97a39e4",
   "metadata": {},
   "source": [
    "# 假設某旅行社 A、B 兩種套裝行程，在過去半年的銷售數量如下"
   ]
  },
  {
   "cell_type": "markdown",
   "id": "7b28029b",
   "metadata": {},
   "source": [
    "| 月份   | 1      | 2      |3      |4      |5     |6       |平均數      |\n",
    "| :-----:| :----: | :----: |:----: |:----: |:----: |:----: |:----: |\n",
    "| A      | 5      | 6      |8      |4      |5      |7      |5.83 |\n",
    "| B      | 8      | 12     |15     |13     |11     |11      |11.67 |"
   ]
  },
  {
   "cell_type": "raw",
   "id": "f700f32b",
   "metadata": {},
   "source": [
    "# 此兩種套裝行程的樣本共變異數為"
   ]
  },
  {
   "cell_type": "markdown",
   "id": "5af1d934",
   "metadata": {},
   "source": [
    "$$\\hat{\\sigma}_{AB} = \\frac{1}{6-1}\\sum_{i=1}^{6}(A_{i}-\\overline{A})(B_{i}-\\overline{B}) \n",
    "=\\frac{1}{6-1}\\left[(5-5.83)(8-11.67)+...+(7-5.83)(11-11.67)  \\right] = \\frac{7.67}{5} = 1.53$$"
   ]
  },
  {
   "cell_type": "raw",
   "id": "092a3940",
   "metadata": {},
   "source": [
    "# 樣本共變異數 > 0，即大部分數值均落於第 1、3 象限，故 X, Y 數值之間具有正向線性關係。\n",
    "# 樣本共變異數 < 0，即大部分數值均落於第 2、4 象限，故 X, Y 數值之間具有負向線性關係。\n",
    "# 樣本共變異數 = 0，即大部分數值均落於第 1、2、3、4 象限，故 X, Y 數值之間沒有線性關係。"
   ]
  },
  {
   "cell_type": "markdown",
   "id": "69708495",
   "metadata": {},
   "source": [
    "---"
   ]
  },
  {
   "cell_type": "raw",
   "id": "4215c134",
   "metadata": {},
   "source": [
    "# 但樣本共變異數有一嚴重的缺點是數值跟單位有關，下一目標是除去單位"
   ]
  },
  {
   "cell_type": "raw",
   "id": "3816ed33",
   "metadata": {},
   "source": [
    "# 假設樣本數值為(X1, Y1), (X2, Y2), (X3, Y3), …, (Xn, Yn)，則樣本相關係數 (sample correlation coefficient) 為"
   ]
  },
  {
   "cell_type": "markdown",
   "id": "35393024",
   "metadata": {},
   "source": [
    "$$r_{XY} = \\frac{\\hat{\\sigma}_{XY}}{S_{X}‧S_{Y}} = \\frac{\\frac{1}{n-1}\\sum_{i=1}^{n}(X_{i}-\\overline{X})(Y_{i}-\\overline{Y})}{\\sqrt{\\frac{1}{n-1}\\sum_{i=1}^{n}(X_i - \\overline{X})^2}‧\\sqrt{\\frac{1}{n-1}\\sum_{i=1}^{n}(Y_i - \\overline{Y})^2}}=\n",
    " \\frac{\\sum_{i=1}^{n}(X_{i}-\\overline{X})(Y_{i}-\\overline{Y})}{\\sqrt{\\sum_{i=1}^{n}(X_i - \\overline{X})^2}‧\\sqrt{\\sum_{i=1}^{n}(Y_i - \\overline{Y})^2}} = \\frac{S_{XY}}{\\sqrt{S_{XX}S_{YY}}}$$"
   ]
  },
  {
   "cell_type": "raw",
   "id": "ba3e6534",
   "metadata": {},
   "source": [
    "# 假設某旅行社 A、B 兩種套裝行程，在過去半年的銷售數量如下"
   ]
  },
  {
   "cell_type": "markdown",
   "id": "cbf24cc0",
   "metadata": {},
   "source": [
    "| 月份   | 1      | 2      |3      |4      |5     |6       |平均數      |\n",
    "| :-----:| :----: | :----: |:----: |:----: |:----: |:----: |:----: |\n",
    "| A      | 5      | 6      |8      |4      |5      |7      |5.83 |\n",
    "| B      | 8      | 12     |15     |13     |11     |11      |11.67 |"
   ]
  },
  {
   "cell_type": "raw",
   "id": "60503b58",
   "metadata": {},
   "source": [
    "# 此兩種套裝行程的樣本相關係數為"
   ]
  },
  {
   "cell_type": "markdown",
   "id": "5603b01c",
   "metadata": {},
   "source": [
    "$$r_{XY} = \\frac{\\hat{\\sigma}_{XY}}{S_{X}‧S_{Y}} =\n",
    " \\frac{\\sum_{i=1}^{6}(X_{i}-\\overline{X})(Y_{i}-\\overline{Y})}{\\sqrt{\\sum_{i=1}^{6}(X_i - \\overline{X})^2}‧\\sqrt{\\sum_{i=1}^{6}(Y_i - \\overline{Y})^2}} = \\frac{7.67}{17.21} = 0.4455 $$"
   ]
  },
  {
   "cell_type": "raw",
   "id": "9fc92a3a",
   "metadata": {},
   "source": [
    "# 我們可以證明  -1 <= r_XY <= 1, 且"
   ]
  },
  {
   "cell_type": "markdown",
   "id": "af627320",
   "metadata": {},
   "source": [
    "\n",
    "$$ r_{XY} = -1 , \\ \\ 完全負相關$$\n",
    "\n",
    "\n",
    "\\begin{cases}\n",
    "-1 < r_{XY} < -0.5 ,& 強負相關\\\\\n",
    "r_{XY} = -0.5 ,& 中等負相關\\\\\n",
    "-0.5 < r_{XY} < 0 ,& 弱負相關\n",
    "\\end{cases}\n",
    "\n",
    "$$ r_{XY} = 0 , \\ \\  零相關$$\n",
    "\n",
    "\\begin{cases}\n",
    "0 < r_{XY} <  0.5 ,& 弱正相關\\\\\n",
    "r_{XY} =  0.5 ,& 中等正相關\\\\\n",
    " 0.5 < r_{XY} < 1 ,& 強正相關\n",
    "\\end{cases}\n",
    "\n",
    "$$ r_{XY} = 1 , \\ \\ 完全正相關$$"
   ]
  },
  {
   "cell_type": "code",
   "execution_count": null,
   "id": "d73dce24",
   "metadata": {},
   "outputs": [],
   "source": [
    "omh = pd.read_csv('./mod02/omh.csv')\n",
    "omh[:5]"
   ]
  },
  {
   "cell_type": "code",
   "execution_count": null,
   "id": "de22774c",
   "metadata": {},
   "outputs": [],
   "source": [
    "omh.plot(kind = 'scatter', x = 'MSFT', y = 'AAPL', zorder = 2, figsize = (10, 6))\n",
    "plt.grid(True, color = 'w')\n",
    "ax = plt.gca()\n",
    "ax.set_facecolor('#D3F6F3')\n",
    "plt.show()"
   ]
  },
  {
   "cell_type": "code",
   "execution_count": null,
   "id": "8d0bf93b",
   "metadata": {},
   "outputs": [],
   "source": [
    "# 直接排除非數值資料\n",
    "# 預設樣本變異數與樣本共變異數\n",
    "# 自己跟自己的共變異數就是變異數\n",
    "omh.cov()"
   ]
  },
  {
   "cell_type": "code",
   "execution_count": null,
   "id": "9540cc18",
   "metadata": {},
   "outputs": [],
   "source": [
    "omh.MSFT.var()"
   ]
  },
  {
   "cell_type": "code",
   "execution_count": null,
   "id": "aada9669",
   "metadata": {},
   "outputs": [],
   "source": [
    "omh.MSFT.cov(omh.AAPL)"
   ]
  },
  {
   "cell_type": "markdown",
   "id": "2bc88a5c",
   "metadata": {},
   "source": [
    "---"
   ]
  },
  {
   "cell_type": "code",
   "execution_count": null,
   "id": "f0fe27f1",
   "metadata": {},
   "outputs": [],
   "source": [
    "# 直接排除非數值資料\n",
    "# 自己跟自己的相關係數一定是 1\n",
    "omh.corr() "
   ]
  },
  {
   "cell_type": "code",
   "execution_count": null,
   "id": "35c471e9",
   "metadata": {},
   "outputs": [],
   "source": [
    "omh.MSFT.corr(omh.AAPL)"
   ]
  },
  {
   "cell_type": "code",
   "execution_count": null,
   "id": "e06f1cf6",
   "metadata": {},
   "outputs": [],
   "source": [
    "omh.corrwith(omh.MSFT) # 其值為傳入 Series 與每欄的計算結果"
   ]
  },
  {
   "cell_type": "markdown",
   "id": "ed46cada",
   "metadata": {},
   "source": [
    "## 執行資料的離散化及分位數計算"
   ]
  },
  {
   "cell_type": "code",
   "execution_count": null,
   "id": "bab7a066",
   "metadata": {},
   "outputs": [],
   "source": [
    "np.random.seed(123456)\n",
    "dist = np.random.normal(size = 10000) # 母體平均數 0 # 母體標準差 1\n",
    "dist"
   ]
  },
  {
   "cell_type": "code",
   "execution_count": null,
   "id": "64c28dba",
   "metadata": {},
   "outputs": [],
   "source": [
    "dist.mean(), dist.std()"
   ]
  },
  {
   "cell_type": "code",
   "execution_count": null,
   "id": "7229423d",
   "metadata": {},
   "outputs": [],
   "source": [
    "bins = pd.cut(dist, 5) # 建立五個大小相同 (長度相同) 的分群\n",
    "bins"
   ]
  },
  {
   "cell_type": "code",
   "execution_count": null,
   "id": "a0ac1605",
   "metadata": {},
   "outputs": [],
   "source": [
    "type(bins) # 類別資料，會有專門的一節來講解"
   ]
  },
  {
   "cell_type": "code",
   "execution_count": null,
   "id": "d9e61492",
   "metadata": {},
   "outputs": [],
   "source": [
    "bins.categories"
   ]
  },
  {
   "cell_type": "code",
   "execution_count": null,
   "id": "f9a53244",
   "metadata": {},
   "outputs": [],
   "source": [
    "bins.codes"
   ]
  },
  {
   "cell_type": "code",
   "execution_count": null,
   "id": "0f403f07",
   "metadata": {},
   "outputs": [],
   "source": [
    "bins.value_counts()"
   ]
  },
  {
   "cell_type": "code",
   "execution_count": null,
   "id": "4bbc2559",
   "metadata": {},
   "outputs": [],
   "source": [
    "bins.describe() # 類別資料的 .describe() 方法"
   ]
  },
  {
   "cell_type": "code",
   "execution_count": null,
   "id": "c695187d",
   "metadata": {},
   "outputs": [],
   "source": [
    "pd.cut(dist, 5, right = False) # 包含左端點不包含右端點"
   ]
  },
  {
   "cell_type": "markdown",
   "id": "acc919a5",
   "metadata": {},
   "source": [
    "---"
   ]
  },
  {
   "cell_type": "code",
   "execution_count": null,
   "id": "b1e6fb3f",
   "metadata": {},
   "outputs": [],
   "source": [
    "np.random.seed(12345)\n",
    "ages = np.random.randint(6, 45, 50)\n",
    "ages"
   ]
  },
  {
   "cell_type": "code",
   "execution_count": null,
   "id": "d1da4b43",
   "metadata": {},
   "outputs": [],
   "source": [
    "ranges = [6, 12, 18, 35, 50]\n",
    "agebins = pd.cut(ages, bins = ranges, right = False)\n",
    "agebins"
   ]
  },
  {
   "cell_type": "code",
   "execution_count": null,
   "id": "9553fb1f",
   "metadata": {},
   "outputs": [],
   "source": [
    "agebins.categories"
   ]
  },
  {
   "cell_type": "code",
   "execution_count": null,
   "id": "d80cae07",
   "metadata": {},
   "outputs": [],
   "source": [
    "agebins.codes"
   ]
  },
  {
   "cell_type": "code",
   "execution_count": null,
   "id": "dda60b92",
   "metadata": {},
   "outputs": [],
   "source": [
    "agebins.value_counts()"
   ]
  },
  {
   "cell_type": "code",
   "execution_count": null,
   "id": "6b213e9d",
   "metadata": {},
   "outputs": [],
   "source": [
    "agebins.describe()"
   ]
  },
  {
   "cell_type": "code",
   "execution_count": null,
   "id": "de9bfefc",
   "metadata": {},
   "outputs": [],
   "source": [
    "ranges = [6, 12, 18, 35, 50]\n",
    "labels = ['Youth', 'Young Adult', 'Adult', 'Middle Aged']\n",
    "agebins = pd.cut(ages, bins = ranges, right = False, labels = labels)\n",
    "agebins"
   ]
  },
  {
   "cell_type": "code",
   "execution_count": null,
   "id": "015ff4e7",
   "metadata": {},
   "outputs": [],
   "source": [
    "agebins.categories"
   ]
  },
  {
   "cell_type": "code",
   "execution_count": null,
   "id": "f1832b30",
   "metadata": {},
   "outputs": [],
   "source": [
    "agebins.codes"
   ]
  },
  {
   "cell_type": "code",
   "execution_count": null,
   "id": "52087267",
   "metadata": {},
   "outputs": [],
   "source": [
    "agebins.value_counts()"
   ]
  },
  {
   "cell_type": "code",
   "execution_count": null,
   "id": "d4f7e223",
   "metadata": {},
   "outputs": [],
   "source": [
    "agebins.describe()"
   ]
  },
  {
   "cell_type": "markdown",
   "id": "9efde703",
   "metadata": {},
   "source": [
    "---"
   ]
  },
  {
   "cell_type": "code",
   "execution_count": null,
   "id": "64b83ea5",
   "metadata": {},
   "outputs": [],
   "source": [
    "qbin = pd.qcut(dist, 5) # 依照分位數切割資料 # Quantile\n",
    "qbin"
   ]
  },
  {
   "cell_type": "code",
   "execution_count": null,
   "id": "4d34027c",
   "metadata": {},
   "outputs": [],
   "source": [
    "qbin.value_counts()"
   ]
  },
  {
   "cell_type": "code",
   "execution_count": null,
   "id": "2b47f768",
   "metadata": {},
   "outputs": [],
   "source": [
    "qbin.describe()"
   ]
  },
  {
   "cell_type": "markdown",
   "id": "ac695fed",
   "metadata": {},
   "source": [
    "---"
   ]
  },
  {
   "cell_type": "code",
   "execution_count": null,
   "id": "8928c11c",
   "metadata": {},
   "outputs": [],
   "source": [
    "# 稍微複雜，參考用\n",
    "# 每個點代表的是累積的分位數\n",
    "quantiles = [0,\n",
    "             0.001,\n",
    "             0.021,\n",
    "             0.5 - 0.341,\n",
    "             0.5,\n",
    "             0.5 + 0.341,\n",
    "             1.0 - 0.021,\n",
    "             1.0 - 0.001,\n",
    "             1.0]\n",
    "qbin = pd.qcut(dist, q = quantiles)\n",
    "qbin"
   ]
  },
  {
   "cell_type": "code",
   "execution_count": null,
   "id": "119a3a45",
   "metadata": {},
   "outputs": [],
   "source": [
    "qbin.value_counts()"
   ]
  },
  {
   "cell_type": "code",
   "execution_count": null,
   "id": "9aae71b0",
   "metadata": {},
   "outputs": [],
   "source": [
    "qbin.describe()"
   ]
  },
  {
   "cell_type": "markdown",
   "id": "18b794b7",
   "metadata": {},
   "source": [
    "## 資料的排序與排名"
   ]
  },
  {
   "cell_type": "code",
   "execution_count": null,
   "id": "0d960d26",
   "metadata": {},
   "outputs": [],
   "source": [
    "obj = pd.Series(range(4), index = ['d', 'a', 'b', 'c'])\n",
    "obj"
   ]
  },
  {
   "cell_type": "code",
   "execution_count": null,
   "id": "ce2caf01",
   "metadata": {},
   "outputs": [],
   "source": [
    "obj.sort_index() # 對索引標籤做排序 # not in-place"
   ]
  },
  {
   "cell_type": "markdown",
   "id": "2fa69825",
   "metadata": {},
   "source": [
    "---"
   ]
  },
  {
   "cell_type": "code",
   "execution_count": null,
   "id": "6bdbec0e",
   "metadata": {},
   "outputs": [],
   "source": [
    "frame = pd.DataFrame(np.arange(8).reshape(2, 4),\n",
    "                    index = ['three', 'one'],\n",
    "                    columns = ['d', 'a', 'b', 'c'])\n",
    "frame"
   ]
  },
  {
   "cell_type": "code",
   "execution_count": null,
   "id": "344fb655",
   "metadata": {},
   "outputs": [],
   "source": [
    "frame.sort_index()"
   ]
  },
  {
   "cell_type": "code",
   "execution_count": null,
   "id": "20c321b3",
   "metadata": {},
   "outputs": [],
   "source": [
    "frame.sort_index(axis = 1)"
   ]
  },
  {
   "cell_type": "code",
   "execution_count": null,
   "id": "9edfd391",
   "metadata": {},
   "outputs": [],
   "source": [
    "frame.sort_index(axis = 1, ascending = False)"
   ]
  },
  {
   "cell_type": "markdown",
   "id": "8f725ee3",
   "metadata": {},
   "source": [
    "---"
   ]
  },
  {
   "cell_type": "code",
   "execution_count": null,
   "id": "bceafc13",
   "metadata": {},
   "outputs": [],
   "source": [
    "obj = pd.Series([4, 7, -3, 2])\n",
    "obj"
   ]
  },
  {
   "cell_type": "code",
   "execution_count": null,
   "id": "c1b74b04",
   "metadata": {},
   "outputs": [],
   "source": [
    "obj.sort_values()"
   ]
  },
  {
   "cell_type": "code",
   "execution_count": null,
   "id": "1370a965",
   "metadata": {},
   "outputs": [],
   "source": [
    "obj = pd.Series([4, np.NaN, 7, np.NaN, -3, 2])\n",
    "obj"
   ]
  },
  {
   "cell_type": "code",
   "execution_count": null,
   "id": "fc80a52b",
   "metadata": {},
   "outputs": [],
   "source": [
    "obj.sort_values() # NaN 會排在最後"
   ]
  },
  {
   "cell_type": "code",
   "execution_count": null,
   "id": "3d241b37",
   "metadata": {},
   "outputs": [],
   "source": [
    "obj.sort_values(ascending = False) # NaN 會排在最後"
   ]
  },
  {
   "cell_type": "markdown",
   "id": "f6a9de63",
   "metadata": {},
   "source": [
    "---"
   ]
  },
  {
   "cell_type": "code",
   "execution_count": null,
   "id": "7c6c9740",
   "metadata": {},
   "outputs": [],
   "source": [
    "frame = pd.DataFrame({'b': [4, 7, -3, 2], 'a': [0, 1, 0, 1]})\n",
    "frame"
   ]
  },
  {
   "cell_type": "code",
   "execution_count": null,
   "id": "2d643beb",
   "metadata": {},
   "outputs": [],
   "source": [
    "frame.sort_values(by = 'b')"
   ]
  },
  {
   "cell_type": "code",
   "execution_count": null,
   "id": "1df6ce28",
   "metadata": {},
   "outputs": [],
   "source": [
    "frame.sort_values(by =['a', 'b'])"
   ]
  },
  {
   "cell_type": "markdown",
   "id": "4caf4cff",
   "metadata": {},
   "source": [
    "---"
   ]
  },
  {
   "cell_type": "code",
   "execution_count": null,
   "id": "89b7c0e5",
   "metadata": {},
   "outputs": [],
   "source": [
    "obj = pd.Series([10, 70, 30, 70])\n",
    "obj"
   ]
  },
  {
   "cell_type": "code",
   "execution_count": null,
   "id": "a68ee3ee",
   "metadata": {},
   "outputs": [],
   "source": [
    "# 預設 method = 'average'，也就是名次取平均\n",
    "# 預設 ascending = True\n",
    "obj.rank() "
   ]
  },
  {
   "cell_type": "code",
   "execution_count": null,
   "id": "2c31b710",
   "metadata": {},
   "outputs": [],
   "source": [
    "obj = pd.Series([10, 70, 70, 70])\n",
    "obj"
   ]
  },
  {
   "cell_type": "code",
   "execution_count": null,
   "id": "ee44d2c9",
   "metadata": {},
   "outputs": [],
   "source": [
    "obj.rank()"
   ]
  },
  {
   "cell_type": "markdown",
   "id": "0b8a275f",
   "metadata": {},
   "source": [
    "---"
   ]
  },
  {
   "cell_type": "code",
   "execution_count": null,
   "id": "d331499f",
   "metadata": {},
   "outputs": [],
   "source": [
    "obj = pd.Series([35, 10, 25, 40, 25], index = np.arange(4, -1, -1))\n",
    "obj"
   ]
  },
  {
   "cell_type": "code",
   "execution_count": null,
   "id": "aa3421f4",
   "metadata": {},
   "outputs": [],
   "source": [
    "obj.rank(method = 'first') # 看位置來決定平手時的名次"
   ]
  },
  {
   "cell_type": "code",
   "execution_count": null,
   "id": "46e4b735",
   "metadata": {},
   "outputs": [],
   "source": [
    "obj.rank(method = 'dense') "
   ]
  },
  {
   "cell_type": "code",
   "execution_count": null,
   "id": "0c6c5c8e",
   "metadata": {},
   "outputs": [],
   "source": [
    "obj.rank(ascending = False, method = 'max') # 平手中的名次選最大的印出"
   ]
  },
  {
   "cell_type": "code",
   "execution_count": null,
   "id": "cab3d947",
   "metadata": {},
   "outputs": [],
   "source": [
    "obj.rank(ascending = False, method = 'min') # 平手中的名次選最小的印出"
   ]
  },
  {
   "cell_type": "markdown",
   "id": "bbd0531a",
   "metadata": {},
   "source": [
    "---"
   ]
  },
  {
   "cell_type": "code",
   "execution_count": null,
   "id": "0937c04f",
   "metadata": {},
   "outputs": [],
   "source": [
    "frame = pd.DataFrame({'b': [4.3, 7, -3, 2],\n",
    "                      'a': [0, 1, 0, 1],\n",
    "                      'c': [-2, 5, 8, -2.5]})\n",
    "frame"
   ]
  },
  {
   "cell_type": "code",
   "execution_count": null,
   "id": "273df6c9",
   "metadata": {},
   "outputs": [],
   "source": [
    "frame.rank(method = 'dense')"
   ]
  },
  {
   "cell_type": "code",
   "execution_count": null,
   "id": "c08b1185",
   "metadata": {},
   "outputs": [],
   "source": [
    "frame.rank(axis = 1)"
   ]
  },
  {
   "cell_type": "markdown",
   "id": "83a2857e",
   "metadata": {},
   "source": [
    "## 計算序列樣本值的變動百分比"
   ]
  },
  {
   "cell_type": "raw",
   "id": "829c1020",
   "metadata": {},
   "source": [
    "# 序列樣本的變動百分比定義為"
   ]
  },
  {
   "cell_type": "markdown",
   "id": "f1228193",
   "metadata": {},
   "source": [
    "$$r_t = \\frac{p_{t} - p_{t-1}}{p_{t-1}} = \\frac{p_{t}}{p_{t-1}}-1 $$"
   ]
  },
  {
   "cell_type": "code",
   "execution_count": null,
   "id": "6ac0305e",
   "metadata": {},
   "outputs": [],
   "source": [
    "omh = pd.read_csv('./mod02/omh.csv')\n",
    "omh[:5]"
   ]
  },
  {
   "cell_type": "code",
   "execution_count": null,
   "id": "1dea2ea6",
   "metadata": {},
   "outputs": [],
   "source": [
    "omh['MSFT'].pct_change()"
   ]
  },
  {
   "cell_type": "code",
   "execution_count": null,
   "id": "3eb9c350",
   "metadata": {},
   "outputs": [],
   "source": [
    "# 簡單驗證\n",
    "(omh['MSFT'].iloc[1] - omh['MSFT'].iloc[0])/omh['MSFT'].iloc[0]"
   ]
  },
  {
   "cell_type": "markdown",
   "id": "b0a3b569",
   "metadata": {},
   "source": [
    "## 執行移動視窗運算"
   ]
  },
  {
   "cell_type": "code",
   "execution_count": null,
   "id": "23df6fdb",
   "metadata": {},
   "outputs": [],
   "source": [
    "np.random.seed(123456)\n",
    "a = pd.Series(np.random.randn(1000))\n",
    "a"
   ]
  },
  {
   "cell_type": "code",
   "execution_count": null,
   "id": "49648998",
   "metadata": {},
   "outputs": [],
   "source": [
    "b = a.cumsum() # 隨機漫步\n",
    "b[:5]"
   ]
  },
  {
   "cell_type": "code",
   "execution_count": null,
   "id": "5a3e621b",
   "metadata": {},
   "outputs": [],
   "source": [
    "# 隨機漫步視覺化\n",
    "b[:100].plot(figsize = (10, 6), style =['b-'], alpha = 0.5)\n",
    "plt.grid(True, color = 'w')\n",
    "ax = plt.gca()\n",
    "ax.set_facecolor('#D3F6F3')\n",
    "plt.show()"
   ]
  },
  {
   "cell_type": "code",
   "execution_count": null,
   "id": "8ecdb7d7",
   "metadata": {},
   "outputs": [],
   "source": [
    "r = b.rolling(window = 3) # 建立 Rolling 物件\n",
    "r"
   ]
  },
  {
   "cell_type": "code",
   "execution_count": null,
   "id": "e636fff9",
   "metadata": {},
   "outputs": [],
   "source": [
    "means = r.mean() # 有很多方法可使用\n",
    "means"
   ]
  },
  {
   "cell_type": "code",
   "execution_count": null,
   "id": "d6705784",
   "metadata": {},
   "outputs": [],
   "source": [
    "# 簡單驗證\n",
    "b[:3].mean()"
   ]
  },
  {
   "cell_type": "code",
   "execution_count": null,
   "id": "5c1e28b0",
   "metadata": {},
   "outputs": [],
   "source": [
    "# 簡單驗證\n",
    "b[1:4].mean()"
   ]
  },
  {
   "cell_type": "code",
   "execution_count": null,
   "id": "ad4c4655",
   "metadata": {},
   "outputs": [],
   "source": [
    "means[:100].plot() # 滾動平均讓走勢較緩和\n",
    "plt.show()"
   ]
  },
  {
   "cell_type": "code",
   "execution_count": null,
   "id": "e260983b",
   "metadata": {},
   "outputs": [],
   "source": [
    "# 情境模擬\n",
    "b[:100].plot(label = 'close', figsize = (10, 6))\n",
    "means[:100].plot(label = '3MA')\n",
    "plt.grid(True, color = 'w')\n",
    "ax = plt.gca()\n",
    "ax.set_facecolor('#D3F6F3')\n",
    "plt.legend()\n",
    "plt.show()"
   ]
  },
  {
   "cell_type": "markdown",
   "id": "0f619147",
   "metadata": {},
   "source": [
    "## 執行資料的隨機取樣"
   ]
  },
  {
   "cell_type": "code",
   "execution_count": null,
   "id": "72b2c678",
   "metadata": {},
   "outputs": [],
   "source": [
    "np.random.seed(123456)\n",
    "df = pd.DataFrame(np.random.randn(50, 4))\n",
    "df[:5]"
   ]
  },
  {
   "cell_type": "code",
   "execution_count": null,
   "id": "ba837a54",
   "metadata": {},
   "outputs": [],
   "source": [
    "df.sample(n = 3)  #　預設不放回"
   ]
  },
  {
   "cell_type": "code",
   "execution_count": null,
   "id": "386c1cfe",
   "metadata": {},
   "outputs": [],
   "source": [
    "df.sample(frac = 0.1) # 隨機抽出 10 %，不放回"
   ]
  },
  {
   "cell_type": "code",
   "execution_count": null,
   "id": "679abaa0",
   "metadata": {},
   "outputs": [],
   "source": [
    "df.sample(frac = 0.1, replace = True) # 隨機抽出 10 %，放回"
   ]
  },
  {
   "cell_type": "markdown",
   "id": "a1e107f6",
   "metadata": {},
   "source": [
    "## .apply() 和 .applymap() 方法的使用"
   ]
  },
  {
   "cell_type": "raw",
   "id": "dd225faf",
   "metadata": {},
   "source": [
    "# df.apply() 方法作用在序列，series.apply() 方法作用在值上\n",
    "# df.applymap() 方法作用在值上，沒有序列方法\n",
    "# series.map() 作用在值上，沒有資料框方法"
   ]
  },
  {
   "cell_type": "code",
   "execution_count": null,
   "id": "2ddd05ef",
   "metadata": {},
   "outputs": [],
   "source": [
    "frame = pd.DataFrame(np.random.randn(4, 3), \n",
    "                     columns = list('bde'),\n",
    "                     index = ['Utah', 'Ohio', 'Texas', 'Oregon'])\n",
    "frame"
   ]
  },
  {
   "cell_type": "code",
   "execution_count": null,
   "id": "b5243128",
   "metadata": {},
   "outputs": [],
   "source": [
    "f = lambda x: x.max() - x.min()\n",
    "frame.apply(f)"
   ]
  },
  {
   "cell_type": "code",
   "execution_count": null,
   "id": "c93f0bea",
   "metadata": {},
   "outputs": [],
   "source": [
    "# 簡單驗證\n",
    "frame.max() -frame.min()"
   ]
  },
  {
   "cell_type": "code",
   "execution_count": null,
   "id": "72551c1c",
   "metadata": {},
   "outputs": [],
   "source": [
    "frame.apply(f, axis = 1) "
   ]
  },
  {
   "cell_type": "markdown",
   "id": "70fa8fd1",
   "metadata": {},
   "source": [
    "---"
   ]
  },
  {
   "cell_type": "code",
   "execution_count": null,
   "id": "9d3d86f6",
   "metadata": {},
   "outputs": [],
   "source": [
    "frame"
   ]
  },
  {
   "cell_type": "code",
   "execution_count": null,
   "id": "167852e4",
   "metadata": {},
   "outputs": [],
   "source": [
    "def f(x):\n",
    "    return pd.Series([x.min(), x.max()], index = ['min', 'max'])\n",
    "\n",
    "frame.apply(f)"
   ]
  },
  {
   "cell_type": "code",
   "execution_count": null,
   "id": "c58bbed1",
   "metadata": {},
   "outputs": [],
   "source": [
    "frame.apply(f, axis = 1)"
   ]
  },
  {
   "cell_type": "markdown",
   "id": "87871855",
   "metadata": {},
   "source": [
    "---"
   ]
  },
  {
   "cell_type": "code",
   "execution_count": null,
   "id": "60b31a8a",
   "metadata": {},
   "outputs": [],
   "source": [
    "f = lambda x : '{0:.2f}'.format(x)\n",
    "\n",
    "frame.applymap(f) #  資料框的方法，作用在每個元素上"
   ]
  },
  {
   "cell_type": "code",
   "execution_count": null,
   "id": "c7f25df9",
   "metadata": {},
   "outputs": [],
   "source": [
    "frame['e'].map(f) # 序列要用 .map()方法 或 .apply()方法"
   ]
  },
  {
   "cell_type": "markdown",
   "id": "13e6c175",
   "metadata": {},
   "source": [
    "---"
   ]
  },
  {
   "cell_type": "code",
   "execution_count": null,
   "id": "982f8e01",
   "metadata": {},
   "outputs": [],
   "source": [
    "np.abs(frame) # NumPy 的全域函式對 pandas 也適用 # not in-place"
   ]
  },
  {
   "cell_type": "code",
   "execution_count": null,
   "id": "4e24531b",
   "metadata": {},
   "outputs": [],
   "source": [
    "frame"
   ]
  },
  {
   "cell_type": "code",
   "execution_count": null,
   "id": "3e42176d",
   "metadata": {},
   "outputs": [],
   "source": [
    "frame.applymap(lambda x: abs(x)) # not in-place"
   ]
  },
  {
   "cell_type": "code",
   "execution_count": null,
   "id": "59924941",
   "metadata": {},
   "outputs": [],
   "source": [
    "frame"
   ]
  }
 ],
 "metadata": {
  "kernelspec": {
   "display_name": "Python 3",
   "language": "python",
   "name": "python3"
  },
  "language_info": {
   "codemirror_mode": {
    "name": "ipython",
    "version": 3
   },
   "file_extension": ".py",
   "mimetype": "text/x-python",
   "name": "python",
   "nbconvert_exporter": "python",
   "pygments_lexer": "ipython3",
   "version": "3.8.10"
  }
 },
 "nbformat": 4,
 "nbformat_minor": 5
}
