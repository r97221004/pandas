{
 "cells": [
  {
   "cell_type": "markdown",
   "id": "d2207343",
   "metadata": {},
   "source": [
    "#  <font color=red> Module_07_結合、關聯以及重塑資料</font>"
   ]
  },
  {
   "cell_type": "markdown",
   "id": "099a17ea",
   "metadata": {},
   "source": [
    "## 串連 (concatenation) 幾個物件的資料"
   ]
  },
  {
   "cell_type": "code",
   "execution_count": null,
   "id": "c31981de",
   "metadata": {},
   "outputs": [],
   "source": [
    "import pandas as pd\n",
    "import numpy as np\n",
    "from datetime import date\n",
    "\n",
    "s1 = pd.Series(np.arange(0, 3))\n",
    "s2 = pd.Series(np.arange(5, 8))\n",
    "s1"
   ]
  },
  {
   "cell_type": "code",
   "execution_count": null,
   "id": "ac1528ad",
   "metadata": {},
   "outputs": [],
   "source": [
    "s2"
   ]
  },
  {
   "cell_type": "code",
   "execution_count": null,
   "id": "3e0244a0",
   "metadata": {},
   "outputs": [],
   "source": [
    "# 預設對索引標籤做串連，對欄位做聯集對齊\n",
    "# 此做法會導致重複的索引標籤\n",
    "pd.concat([s1, s2])"
   ]
  },
  {
   "cell_type": "code",
   "execution_count": null,
   "id": "ef673361",
   "metadata": {},
   "outputs": [],
   "source": [
    "# 對欄位做串連，對索引標籤做聯集對齊\n",
    "pd.concat([s1, s2], axis = 1)"
   ]
  },
  {
   "cell_type": "markdown",
   "id": "7c11ab67",
   "metadata": {},
   "source": [
    "---"
   ]
  },
  {
   "cell_type": "code",
   "execution_count": null,
   "id": "39084d35",
   "metadata": {},
   "outputs": [],
   "source": [
    "s1 = pd.Series([0, 1], index=['a', 'b'])\n",
    "s2 = pd.Series([2, 3, 4], index=['c', 'd', 'e'])\n",
    "s3 = pd.Series([5, 6], index=['f', 'g'])"
   ]
  },
  {
   "cell_type": "code",
   "execution_count": null,
   "id": "237c13f8",
   "metadata": {},
   "outputs": [],
   "source": [
    "s1"
   ]
  },
  {
   "cell_type": "code",
   "execution_count": null,
   "id": "bd26141d",
   "metadata": {},
   "outputs": [],
   "source": [
    "s2"
   ]
  },
  {
   "cell_type": "code",
   "execution_count": null,
   "id": "dabe3f34",
   "metadata": {},
   "outputs": [],
   "source": [
    "s3"
   ]
  },
  {
   "cell_type": "code",
   "execution_count": null,
   "id": "08e335cf",
   "metadata": {},
   "outputs": [],
   "source": [
    "pd.concat([s1, s2, s3])"
   ]
  },
  {
   "cell_type": "code",
   "execution_count": null,
   "id": "58871498",
   "metadata": {},
   "outputs": [],
   "source": [
    "pd.concat([s1, s2, s3], axis = 1)"
   ]
  },
  {
   "cell_type": "code",
   "execution_count": null,
   "id": "1ef25cfe",
   "metadata": {},
   "outputs": [],
   "source": [
    "s4 = pd.concat([s1, s3])\n",
    "s4"
   ]
  },
  {
   "cell_type": "code",
   "execution_count": null,
   "id": "6ba3d72d",
   "metadata": {},
   "outputs": [],
   "source": [
    "s1"
   ]
  },
  {
   "cell_type": "code",
   "execution_count": null,
   "id": "f0b87d60",
   "metadata": {},
   "outputs": [],
   "source": [
    "pd.concat([s1, s4], axis = 1)"
   ]
  },
  {
   "cell_type": "code",
   "execution_count": null,
   "id": "319dfa09",
   "metadata": {},
   "outputs": [],
   "source": [
    "# 預設的 join ='outer'，在這裡也就是對索引標籤串連，對欄位取【聯集】對齊\n",
    "pd.concat([s1, s4])"
   ]
  },
  {
   "cell_type": "code",
   "execution_count": null,
   "id": "e84ffa4e",
   "metadata": {},
   "outputs": [],
   "source": [
    " # 當 join = 'inner'，在這裡也就是對索引標籤串連，對欄位取【交集】對齊\n",
    "pd.concat([s1, s4], join = 'inner')"
   ]
  },
  {
   "cell_type": "code",
   "execution_count": null,
   "id": "484b2eac",
   "metadata": {},
   "outputs": [],
   "source": [
    "s1"
   ]
  },
  {
   "cell_type": "code",
   "execution_count": null,
   "id": "3b145a00",
   "metadata": {},
   "outputs": [],
   "source": [
    "s4"
   ]
  },
  {
   "cell_type": "code",
   "execution_count": null,
   "id": "5bf21679",
   "metadata": {},
   "outputs": [],
   "source": [
    "pd.concat([s1, s4], axis = 1, join = 'inner')"
   ]
  },
  {
   "cell_type": "markdown",
   "id": "ddbec356",
   "metadata": {},
   "source": [
    "---"
   ]
  },
  {
   "cell_type": "code",
   "execution_count": null,
   "id": "16462a9f",
   "metadata": {},
   "outputs": [],
   "source": [
    "s1"
   ]
  },
  {
   "cell_type": "code",
   "execution_count": null,
   "id": "aeabdae8",
   "metadata": {},
   "outputs": [],
   "source": [
    "s3"
   ]
  },
  {
   "cell_type": "code",
   "execution_count": null,
   "id": "8bf21782",
   "metadata": {},
   "outputs": [],
   "source": [
    "# 利用 keys 參數，在結果中給出每組資料來源的名字\n",
    "# keys 是給在串連的地方\n",
    "# 當然可以把相同的資料做串連\n",
    "result = pd.concat([s1, s1, s3], keys = ['one', 'two', 'three'])\n",
    "result"
   ]
  },
  {
   "cell_type": "code",
   "execution_count": null,
   "id": "9117a417",
   "metadata": {},
   "outputs": [],
   "source": [
    "pd.concat([s1, s1, s3], keys = ['one', 'two', 'three'], axis = 1)"
   ]
  },
  {
   "cell_type": "markdown",
   "id": "7706fe96",
   "metadata": {},
   "source": [
    "---"
   ]
  },
  {
   "cell_type": "code",
   "execution_count": null,
   "id": "7fba4204",
   "metadata": {},
   "outputs": [],
   "source": [
    "result"
   ]
  },
  {
   "cell_type": "code",
   "execution_count": null,
   "id": "86c7dfef",
   "metadata": {},
   "outputs": [],
   "source": [
    "# 解堆疊\n",
    "result.unstack()"
   ]
  },
  {
   "cell_type": "code",
   "execution_count": null,
   "id": "09c1d087",
   "metadata": {},
   "outputs": [],
   "source": [
    "pd.concat([s1, s2, s3], keys = ['one', 'two', 'three'], axis = 1)"
   ]
  },
  {
   "cell_type": "markdown",
   "id": "ba32dbd7",
   "metadata": {},
   "source": [
    "---"
   ]
  },
  {
   "cell_type": "code",
   "execution_count": null,
   "id": "09c1ad0e",
   "metadata": {},
   "outputs": [],
   "source": [
    "df1 = pd.DataFrame(np.arange(9).reshape(3, 3),\n",
    "                  columns = ['a', 'b', 'c'])\n",
    "df2 = pd.DataFrame(np.arange(9, 18).reshape(3, 3),\n",
    "                  columns = ['a', 'b', 'c'])\n",
    "df1"
   ]
  },
  {
   "cell_type": "code",
   "execution_count": null,
   "id": "957b1bea",
   "metadata": {},
   "outputs": [],
   "source": [
    "df2"
   ]
  },
  {
   "cell_type": "code",
   "execution_count": null,
   "id": "e13178fe",
   "metadata": {},
   "outputs": [],
   "source": [
    "pd.concat([df1, df2]) # 預設對索引標籤 (第 0 軸) 做串連，對欄位 (第 1 軸) 做聯集對齊"
   ]
  },
  {
   "cell_type": "code",
   "execution_count": null,
   "id": "cfab75d8",
   "metadata": {},
   "outputs": [],
   "source": [
    "pd.concat([df1, df2], axis = 1) # 對欄位 (第 1 軸) 做串聯，對索引標籤 (第 0 軸) 做聯集對齊"
   ]
  },
  {
   "cell_type": "markdown",
   "id": "c5953fe7",
   "metadata": {},
   "source": [
    "---"
   ]
  },
  {
   "cell_type": "code",
   "execution_count": null,
   "id": "89224cbf",
   "metadata": {},
   "outputs": [],
   "source": [
    "df1 = pd.DataFrame(np.arange(9).reshape(3, 3),\n",
    "                  columns = ['a', 'b', 'c'])\n",
    "df2 = pd.DataFrame(np.arange(9, 18).reshape(3, 3),\n",
    "                  columns = ['a', 'c', 'd'])\n",
    "df1"
   ]
  },
  {
   "cell_type": "code",
   "execution_count": null,
   "id": "e2074f97",
   "metadata": {},
   "outputs": [],
   "source": [
    "df2"
   ]
  },
  {
   "cell_type": "code",
   "execution_count": null,
   "id": "7208bfe3",
   "metadata": {},
   "outputs": [],
   "source": [
    "pd.concat([df1, df2])"
   ]
  },
  {
   "cell_type": "code",
   "execution_count": null,
   "id": "02b4b902",
   "metadata": {},
   "outputs": [],
   "source": [
    "c = pd.concat([df1, df2], keys = ['df1', 'df2'])\n",
    "c"
   ]
  },
  {
   "cell_type": "code",
   "execution_count": null,
   "id": "51de8df6",
   "metadata": {},
   "outputs": [],
   "source": [
    "c.loc['df2']"
   ]
  },
  {
   "cell_type": "code",
   "execution_count": null,
   "id": "354dfa7c",
   "metadata": {},
   "outputs": [],
   "source": [
    "pd.concat([df1, df2], axis = 1)"
   ]
  },
  {
   "cell_type": "code",
   "execution_count": null,
   "id": "0ee2fe2a",
   "metadata": {},
   "outputs": [],
   "source": [
    "df3 = pd.DataFrame(np.arange(20, 26).reshape(3, 2),\n",
    "                  columns = ['a', 'd'],\n",
    "                  index = [2, 3, 4])\n",
    "df3"
   ]
  },
  {
   "cell_type": "code",
   "execution_count": null,
   "id": "377b67bc",
   "metadata": {},
   "outputs": [],
   "source": [
    "df1"
   ]
  },
  {
   "cell_type": "code",
   "execution_count": null,
   "id": "9d963af6",
   "metadata": {},
   "outputs": [],
   "source": [
    "pd.concat([df1, df3], axis = 1)"
   ]
  },
  {
   "cell_type": "markdown",
   "id": "c21e70b1",
   "metadata": {},
   "source": [
    "---"
   ]
  },
  {
   "cell_type": "code",
   "execution_count": null,
   "id": "35b0cccf",
   "metadata": {},
   "outputs": [],
   "source": [
    "df1"
   ]
  },
  {
   "cell_type": "code",
   "execution_count": null,
   "id": "8428c032",
   "metadata": {},
   "outputs": [],
   "source": [
    "df2"
   ]
  },
  {
   "cell_type": "code",
   "execution_count": null,
   "id": "103bea56",
   "metadata": {},
   "outputs": [],
   "source": [
    "df3"
   ]
  },
  {
   "cell_type": "code",
   "execution_count": null,
   "id": "5daf80b6",
   "metadata": {},
   "outputs": [],
   "source": [
    "# 預設是 join = 'outer'，也就是聯集對齊\n",
    "# 當 join = 'inner'，在這裡就是對欄位串連，對索引標籤取交集對齊\n",
    "pd.concat([df1, df3], axis = 1, join = 'inner') "
   ]
  },
  {
   "cell_type": "code",
   "execution_count": null,
   "id": "1a1ebada",
   "metadata": {},
   "outputs": [],
   "source": [
    "df = pd.concat([df1, df2], axis = 1, keys = ['df1', 'df2'])\n",
    "df"
   ]
  },
  {
   "cell_type": "code",
   "execution_count": null,
   "id": "0de5c83a",
   "metadata": {},
   "outputs": [],
   "source": [
    "# df['df2'] 在這會得到同樣的答案\n",
    "df.loc[:, 'df2']"
   ]
  },
  {
   "cell_type": "code",
   "execution_count": null,
   "id": "d443d8f4",
   "metadata": {},
   "outputs": [],
   "source": [
    "# 忽略索引標籤，用預設\n",
    "pd.concat([df1, df2], ignore_index = True)"
   ]
  },
  {
   "cell_type": "markdown",
   "id": "ef8922a2",
   "metadata": {},
   "source": [
    "---"
   ]
  },
  {
   "cell_type": "code",
   "execution_count": null,
   "id": "275bbc45",
   "metadata": {},
   "outputs": [],
   "source": [
    "df1"
   ]
  },
  {
   "cell_type": "code",
   "execution_count": null,
   "id": "23e0b3a6",
   "metadata": {},
   "outputs": [],
   "source": [
    "df2"
   ]
  },
  {
   "cell_type": "code",
   "execution_count": null,
   "id": "82718c23",
   "metadata": {},
   "outputs": [],
   "source": [
    "# 資料框的 .append() 方法只是對索引標籤做串連，對欄位作聯集對齊\n",
    "df1.append(df2)"
   ]
  },
  {
   "cell_type": "code",
   "execution_count": null,
   "id": "b10dd540",
   "metadata": {},
   "outputs": [],
   "source": [
    "df1.append(df2, ignore_index = True)"
   ]
  },
  {
   "cell_type": "markdown",
   "id": "3533ec51",
   "metadata": {},
   "source": [
    "## 合併與連接資料"
   ]
  },
  {
   "cell_type": "code",
   "execution_count": null,
   "id": "78fd02c8",
   "metadata": {},
   "outputs": [],
   "source": [
    "customers = {'CustomerID': [10, 11],\n",
    "             'Name': ['Mike', 'Marcia'],\n",
    "             'Address': ['Address for Mike',\n",
    "                         'Address for Marcia']}\n",
    "customers = pd.DataFrame(customers)\n",
    "customers"
   ]
  },
  {
   "cell_type": "code",
   "execution_count": null,
   "id": "c7c53340",
   "metadata": {},
   "outputs": [],
   "source": [
    "# date() 是日期資料型態，datetime() 是日期時間資料型態，用法類似\n",
    "orders = {'CustomerID': [10, 11, 10],\n",
    "          'OrderDate': [date(2014, 12, 1),\n",
    "                        date(2014, 12, 1),\n",
    "                        date(2014, 12, 1)]}\n",
    "orders = pd.DataFrame(orders)\n",
    "orders"
   ]
  },
  {
   "cell_type": "code",
   "execution_count": null,
   "id": "fb34c91e",
   "metadata": {},
   "outputs": [],
   "source": [
    "# 類似關聯式資料庫的 join， on 可以自己下，預設會找共同的欄位\n",
    "# on 下的欄位會放在最前面的欄位，不會重複出現\n",
    "# 也可以用全域函式 pd.merge()\n",
    "customers.merge(orders) "
   ]
  },
  {
   "cell_type": "code",
   "execution_count": null,
   "id": "30984a93",
   "metadata": {},
   "outputs": [],
   "source": [
    "orders.merge(customers)"
   ]
  },
  {
   "cell_type": "markdown",
   "id": "6f611721",
   "metadata": {},
   "source": [
    "---"
   ]
  },
  {
   "cell_type": "code",
   "execution_count": null,
   "id": "775c4f4c",
   "metadata": {},
   "outputs": [],
   "source": [
    "left_data = {'key1': ['a', 'b', 'c'], \n",
    "            'key2': ['x', 'y', 'z'],\n",
    "            'lval1': [ 0, 1, 2]}\n",
    "right_data = {'key1': ['a', 'b', 'c'],\n",
    "              'key2': ['x', 'a', 'z'], \n",
    "              'rval1': [ 6, 7, 8 ]}\n",
    "left = pd.DataFrame(left_data, index=[0, 1, 2])\n",
    "right = pd.DataFrame(right_data, index=[1, 2, 3])\n",
    "left"
   ]
  },
  {
   "cell_type": "code",
   "execution_count": null,
   "id": "9e74e941",
   "metadata": {},
   "outputs": [],
   "source": [
    "right"
   ]
  },
  {
   "cell_type": "code",
   "execution_count": null,
   "id": "699ddd7c",
   "metadata": {},
   "outputs": [],
   "source": [
    "left.merge(right)"
   ]
  },
  {
   "cell_type": "code",
   "execution_count": null,
   "id": "be4369b6",
   "metadata": {},
   "outputs": [],
   "source": [
    "# _x 表示來自左物件 _y表示來自右物件 \n",
    "# 可用 suffixes 修改\n",
    "left.merge(right, on = 'key1') "
   ]
  },
  {
   "cell_type": "code",
   "execution_count": null,
   "id": "9ef0e468",
   "metadata": {},
   "outputs": [],
   "source": [
    "left.merge(right, on = 'key1', suffixes = ['_l', '_r'])"
   ]
  },
  {
   "cell_type": "markdown",
   "id": "f89c6d37",
   "metadata": {},
   "source": [
    "---"
   ]
  },
  {
   "cell_type": "code",
   "execution_count": null,
   "id": "eaa73928",
   "metadata": {},
   "outputs": [],
   "source": [
    "left"
   ]
  },
  {
   "cell_type": "code",
   "execution_count": null,
   "id": "8c0f8cb4",
   "metadata": {},
   "outputs": [],
   "source": [
    "right"
   ]
  },
  {
   "cell_type": "code",
   "execution_count": null,
   "id": "7c392319",
   "metadata": {},
   "outputs": [],
   "source": [
    "left.merge(right, left_on = 'key1', right_on = 'key2') # 也可以對不同行的行名來合併"
   ]
  },
  {
   "cell_type": "markdown",
   "id": "adee6c30",
   "metadata": {},
   "source": [
    "---"
   ]
  },
  {
   "cell_type": "code",
   "execution_count": null,
   "id": "2888dfc6",
   "metadata": {},
   "outputs": [],
   "source": [
    "left"
   ]
  },
  {
   "cell_type": "code",
   "execution_count": null,
   "id": "2bd85955",
   "metadata": {},
   "outputs": [],
   "source": [
    "right"
   ]
  },
  {
   "cell_type": "code",
   "execution_count": null,
   "id": "5c5f1c2f",
   "metadata": {},
   "outputs": [],
   "source": [
    "# 如果是要對索引標籤做合併的話，可以使用 left_index = True 和  right_index = True，兩個都要設定\n",
    "# 這樣就變成了對索引標籤做交集對齊，對欄位做串連了。也就是結果會跟下面一樣\n",
    "left.merge(right, left_index = True, right_index = True) "
   ]
  },
  {
   "cell_type": "code",
   "execution_count": null,
   "id": "e51d6ef7",
   "metadata": {},
   "outputs": [],
   "source": [
    "pd.concat([left, right], axis = 1, join = 'inner')"
   ]
  },
  {
   "cell_type": "markdown",
   "id": "31449c1e",
   "metadata": {},
   "source": [
    "---"
   ]
  },
  {
   "cell_type": "code",
   "execution_count": null,
   "id": "84a890b5",
   "metadata": {},
   "outputs": [],
   "source": [
    "left"
   ]
  },
  {
   "cell_type": "code",
   "execution_count": null,
   "id": "9a47a4dd",
   "metadata": {},
   "outputs": [],
   "source": [
    "right"
   ]
  },
  {
   "cell_type": "code",
   "execution_count": null,
   "id": "58fb2fbf",
   "metadata": {},
   "outputs": [],
   "source": [
    "left.merge(right, how = 'inner') # 預設 how = 'inner'，兩個 Dataframe 物件的共同欄位的值的交集"
   ]
  },
  {
   "cell_type": "code",
   "execution_count": null,
   "id": "683140b7",
   "metadata": {},
   "outputs": [],
   "source": [
    "left.merge(right, how = 'outer') # 預設 how = 'outer'，兩個 Dataframe 物件的共同欄位的值的聯集"
   ]
  },
  {
   "cell_type": "code",
   "execution_count": null,
   "id": "fc88ae62",
   "metadata": {},
   "outputs": [],
   "source": [
    "left.merge(right, how = 'left') # 只使用來自左方 Dataframe 物件"
   ]
  },
  {
   "cell_type": "code",
   "execution_count": null,
   "id": "1bdf7a6c",
   "metadata": {},
   "outputs": [],
   "source": [
    "left.merge(right, how = 'right') # 只使用來自右方 Dataframe 物件"
   ]
  },
  {
   "cell_type": "markdown",
   "id": "71358524",
   "metadata": {},
   "source": [
    "---"
   ]
  },
  {
   "cell_type": "code",
   "execution_count": null,
   "id": "dd537653",
   "metadata": {},
   "outputs": [],
   "source": [
    "left.merge(right, how = 'cross') "
   ]
  },
  {
   "cell_type": "markdown",
   "id": "cf57d673",
   "metadata": {},
   "source": [
    "---"
   ]
  },
  {
   "cell_type": "code",
   "execution_count": null,
   "id": "26122842",
   "metadata": {},
   "outputs": [],
   "source": [
    "left"
   ]
  },
  {
   "cell_type": "code",
   "execution_count": null,
   "id": "b97dbd0f",
   "metadata": {},
   "outputs": [],
   "source": [
    "right"
   ]
  },
  {
   "cell_type": "code",
   "execution_count": null,
   "id": "38042f5c",
   "metadata": {},
   "outputs": [],
   "source": [
    "left.join(right)"
   ]
  },
  {
   "cell_type": "code",
   "execution_count": null,
   "id": "d01bd463",
   "metadata": {},
   "outputs": [],
   "source": [
    "# 資料框的 .join() 方法是對兩個 Dataframe 物件的索引標籤進行連結操作，而非裡面的資料值\n",
    "# how = 'left' 是預設\n",
    "\n",
    "left.join(right, lsuffix='_left', rsuffix='_right') "
   ]
  },
  {
   "cell_type": "code",
   "execution_count": null,
   "id": "c6e8dcfe",
   "metadata": {},
   "outputs": [],
   "source": [
    "left.join(right, lsuffix='_left', rsuffix='_right', how = 'inner') "
   ]
  },
  {
   "cell_type": "code",
   "execution_count": null,
   "id": "3e0d314b",
   "metadata": {},
   "outputs": [],
   "source": [
    "left.join(right, lsuffix='_left', rsuffix='_right', how = 'outer') "
   ]
  },
  {
   "cell_type": "markdown",
   "id": "2683aeb0",
   "metadata": {},
   "source": [
    "## 合併有重複的資料"
   ]
  },
  {
   "cell_type": "code",
   "execution_count": null,
   "id": "8a1112dc",
   "metadata": {},
   "outputs": [],
   "source": [
    "a = pd.Series([np.nan, 2.5, 0, 3.5, 4.5, np.nan],\n",
    "              index = ['f', 'e', 'd', 'c', 'b', 'a'])\n",
    "b = pd.Series([0, np.nan, 2, np.nan, np.nan, 5],\n",
    "              index = ['a', 'b', 'c', 'd', 'e', 'f'])\n",
    "a"
   ]
  },
  {
   "cell_type": "code",
   "execution_count": null,
   "id": "e505d909",
   "metadata": {},
   "outputs": [],
   "source": [
    "b"
   ]
  },
  {
   "cell_type": "code",
   "execution_count": null,
   "id": "551c780d",
   "metadata": {},
   "outputs": [],
   "source": [
    "# 返回 ndarray \n",
    "# 跟索引標籤無關\n",
    "np.where(b.isnull(), a, b) "
   ]
  },
  {
   "cell_type": "code",
   "execution_count": null,
   "id": "48b570aa",
   "metadata": {},
   "outputs": [],
   "source": [
    "# Update null elements with value in the same location in 'other'\n",
    "# 以左邊的資料為主，只要兩邊有一邊是 NaN，就會用另一邊的值合併\n",
    "# 這題剛好跟 b.fillna(a) 結果一樣， 但是 .combine_first() 方法是合併有重複的資料，下題可看出不同的地方\n",
    "b.combine_first(a)"
   ]
  },
  {
   "cell_type": "markdown",
   "id": "7e4d68cc",
   "metadata": {},
   "source": [
    "---"
   ]
  },
  {
   "cell_type": "code",
   "execution_count": null,
   "id": "7ac94c83",
   "metadata": {},
   "outputs": [],
   "source": [
    "df1 = pd.DataFrame({'a': [1., np.nan, 5., np.nan],\n",
    "                    'b': [np.nan, 2., np.nan, 6.],\n",
    "                    'c': range(2, 18, 4)})\n",
    "df2 = pd.DataFrame({'a': [5., 4., np.nan, 3., 7.],\n",
    "                    'b': [np.nan, 3., 4., 6., 8.]})\n",
    "df1"
   ]
  },
  {
   "cell_type": "code",
   "execution_count": null,
   "id": "1f78a5a1",
   "metadata": {},
   "outputs": [],
   "source": [
    "df2"
   ]
  },
  {
   "cell_type": "code",
   "execution_count": null,
   "id": "d92a5f38",
   "metadata": {},
   "outputs": [],
   "source": [
    "df1.combine_first(df2) # 逐欄做一樣的動作"
   ]
  },
  {
   "cell_type": "markdown",
   "id": "fbd010a6",
   "metadata": {},
   "source": [
    "---"
   ]
  },
  {
   "cell_type": "code",
   "execution_count": null,
   "id": "99fa836e",
   "metadata": {},
   "outputs": [],
   "source": [
    "df1 = pd.DataFrame({'A': [None, 0], 'B': [4, None]})\n",
    "df1"
   ]
  },
  {
   "cell_type": "code",
   "execution_count": null,
   "id": "7858cb32",
   "metadata": {},
   "outputs": [],
   "source": [
    "df2 = pd.DataFrame({'B': [3, 3], 'C': [1, 1]}, index=[1, 2])\n",
    "df2"
   ]
  },
  {
   "cell_type": "code",
   "execution_count": null,
   "id": "85431656",
   "metadata": {},
   "outputs": [],
   "source": [
    "df1.combine_first(df2)"
   ]
  },
  {
   "cell_type": "markdown",
   "id": "62db6519",
   "metadata": {},
   "source": [
    "## 資料值與索引的樞紐操作"
   ]
  },
  {
   "cell_type": "code",
   "execution_count": null,
   "id": "44d6f7ae",
   "metadata": {},
   "outputs": [],
   "source": [
    "# 資料常存成堆疊格式，或稱為紀錄格式\n",
    "sensor_readings = pd.read_csv('./mod07/accel.csv')\n",
    "sensor_readings"
   ]
  },
  {
   "cell_type": "code",
   "execution_count": null,
   "id": "23043e9f",
   "metadata": {},
   "outputs": [],
   "source": [
    "# 如何著手找出特定軸的讀數\n",
    "sensor_readings[sensor_readings['axis'] == 'X']"
   ]
  },
  {
   "cell_type": "code",
   "execution_count": null,
   "id": "15e8a2d7",
   "metadata": {},
   "outputs": [],
   "source": [
    "# 更好的辦法是使用樞紐操作\n",
    "# 資料框的 .pivot() 方法的用法就是要決定 index、columns、values\n",
    "# 樞紐的動作，也就是將資料框從長格式 (long format) 轉成寬格式 (wide format) 的操作\n",
    "sensor_readings.pivot(index = 'interval',\n",
    "                      columns = 'axis',\n",
    "                      values = 'reading')"
   ]
  },
  {
   "cell_type": "markdown",
   "id": "85f48c75",
   "metadata": {},
   "source": [
    "---"
   ]
  },
  {
   "cell_type": "code",
   "execution_count": null,
   "id": "93ec10ac",
   "metadata": {},
   "outputs": [],
   "source": [
    "# 樞紐操作其實就是在操作堆疊跟解堆疊\n",
    "sensor_readings.set_index(['interval', 'axis'])"
   ]
  },
  {
   "cell_type": "code",
   "execution_count": null,
   "id": "69b25b6b",
   "metadata": {},
   "outputs": [],
   "source": [
    "sensor_readings.set_index(['interval', 'axis']).unstack()"
   ]
  },
  {
   "cell_type": "markdown",
   "id": "cbb8886e",
   "metadata": {},
   "source": [
    "## 堆疊與解堆疊"
   ]
  },
  {
   "cell_type": "code",
   "execution_count": null,
   "id": "3363fe4e",
   "metadata": {},
   "outputs": [],
   "source": [
    "df = pd.DataFrame({'a': [1, 2]}, index = ['one', 'two'])\n",
    "df"
   ]
  },
  {
   "cell_type": "code",
   "execution_count": null,
   "id": "39218231",
   "metadata": {},
   "outputs": [],
   "source": [
    "stacked1 = df.stack()\n",
    "stacked1"
   ]
  },
  {
   "cell_type": "code",
   "execution_count": null,
   "id": "08f3f898",
   "metadata": {},
   "outputs": [],
   "source": [
    "# 因為原本的資料框只有 level = 0 的欄位，堆疊後就退化成序列了\n",
    "type(stacked1)"
   ]
  },
  {
   "cell_type": "code",
   "execution_count": null,
   "id": "1997f853",
   "metadata": {},
   "outputs": [],
   "source": [
    "stacked1['one']['a'] # 等於 stacked1['one', 'a']"
   ]
  },
  {
   "cell_type": "code",
   "execution_count": null,
   "id": "028ecb59",
   "metadata": {},
   "outputs": [],
   "source": [
    "df.unstack()"
   ]
  },
  {
   "cell_type": "markdown",
   "id": "10a79e19",
   "metadata": {},
   "source": [
    "---"
   ]
  },
  {
   "cell_type": "code",
   "execution_count": null,
   "id": "20d77b75",
   "metadata": {},
   "outputs": [],
   "source": [
    "df = pd.DataFrame({'a': [1, 2],\n",
    "                   'b': [3, 4]},\n",
    "                   index = ['one', 'two'])\n",
    "df"
   ]
  },
  {
   "cell_type": "code",
   "execution_count": null,
   "id": "c6b659a0",
   "metadata": {},
   "outputs": [],
   "source": [
    "stacked2 = df.stack()\n",
    "stacked2"
   ]
  },
  {
   "cell_type": "code",
   "execution_count": null,
   "id": "da4745d5",
   "metadata": {},
   "outputs": [],
   "source": [
    "type(stacked2)"
   ]
  },
  {
   "cell_type": "code",
   "execution_count": null,
   "id": "485b39a2",
   "metadata": {},
   "outputs": [],
   "source": [
    "stacked2['one']['b'] # 等於 stacked2['one', 'b']"
   ]
  },
  {
   "cell_type": "code",
   "execution_count": null,
   "id": "8499020b",
   "metadata": {},
   "outputs": [],
   "source": [
    "df.unstack()"
   ]
  },
  {
   "cell_type": "markdown",
   "id": "39be27ba",
   "metadata": {},
   "source": [
    "---"
   ]
  },
  {
   "cell_type": "code",
   "execution_count": null,
   "id": "4516e082",
   "metadata": {},
   "outputs": [],
   "source": [
    "sensor_readings = pd.read_csv('./mod07/accel.csv')\n",
    "sensor_readings"
   ]
  },
  {
   "cell_type": "code",
   "execution_count": null,
   "id": "f90a640a",
   "metadata": {},
   "outputs": [],
   "source": [
    "user1 = sensor_readings.copy()\n",
    "user2 = sensor_readings.copy()\n",
    "user1['who'] = 'Mike'\n",
    "user2['who'] = 'Mikael'\n",
    "user2['reading'] *= 100\n",
    "\n",
    "user1[:5]"
   ]
  },
  {
   "cell_type": "code",
   "execution_count": null,
   "id": "8edd3cc2",
   "metadata": {},
   "outputs": [],
   "source": [
    "user2[:5]"
   ]
  },
  {
   "cell_type": "code",
   "execution_count": null,
   "id": "29a61720",
   "metadata": {},
   "outputs": [],
   "source": [
    "pd.concat([user1, user2])"
   ]
  },
  {
   "cell_type": "code",
   "execution_count": null,
   "id": "2415cc9c",
   "metadata": {},
   "outputs": [],
   "source": [
    "multi_user_sensor_data = pd.concat([user1, user2]).set_index(['who', 'interval', 'axis'])\n",
    "multi_user_sensor_data"
   ]
  },
  {
   "cell_type": "code",
   "execution_count": null,
   "id": "7fb6b372",
   "metadata": {},
   "outputs": [],
   "source": [
    "multi_user_sensor_data.loc['Mike']"
   ]
  },
  {
   "cell_type": "code",
   "execution_count": null,
   "id": "28eaffb0",
   "metadata": {},
   "outputs": [],
   "source": [
    "# 在 mod03 有遇到過，複習一下!!\n",
    "multi_user_sensor_data.xs(1, level = 'interval')"
   ]
  },
  {
   "cell_type": "code",
   "execution_count": null,
   "id": "3a886b9a",
   "metadata": {},
   "outputs": [],
   "source": [
    "multi_user_sensor_data"
   ]
  },
  {
   "cell_type": "code",
   "execution_count": null,
   "id": "d8c2d1a9",
   "metadata": {},
   "outputs": [],
   "source": [
    "# 解堆疊預設的是 level = -1，也就是最裡面的 level，在這題就是 level = 2\n",
    "# 我們可以把欄位想成是我們想要觀察的主角，這裡就是想知道 X、Y、Z 的 reading\n",
    "multi_user_sensor_data.unstack()"
   ]
  },
  {
   "cell_type": "markdown",
   "id": "7979b787",
   "metadata": {},
   "source": [
    "---"
   ]
  },
  {
   "cell_type": "code",
   "execution_count": null,
   "id": "e9f9e672",
   "metadata": {},
   "outputs": [],
   "source": [
    "multi_user_sensor_data"
   ]
  },
  {
   "cell_type": "code",
   "execution_count": null,
   "id": "611b07a4",
   "metadata": {},
   "outputs": [],
   "source": [
    "# 我們可以把欄位想成是我們想要觀察的主角，這裡就是想知道 Mikael 與 Mike 分別收集的 reading\n",
    "multi_user_sensor_data.unstack(level = 0)"
   ]
  },
  {
   "cell_type": "code",
   "execution_count": null,
   "id": "4f0f6730",
   "metadata": {},
   "outputs": [],
   "source": [
    "multi_user_sensor_data"
   ]
  },
  {
   "cell_type": "code",
   "execution_count": null,
   "id": "395cc43b",
   "metadata": {},
   "outputs": [],
   "source": [
    "unstacked = multi_user_sensor_data.unstack(['who', 'axis'])\n",
    "unstacked"
   ]
  },
  {
   "cell_type": "raw",
   "id": "7cc4d80d",
   "metadata": {},
   "source": [
    "# 不管是堆疊或解堆疊，都是某層級索引移至另一軸的最後一層索引\n",
    "# 資料的堆疊或解堆疊，都不會造成資料的流失\n",
    "# 經過資料的堆疊或解堆疊，效率會更高"
   ]
  },
  {
   "cell_type": "code",
   "execution_count": null,
   "id": "12e21adb",
   "metadata": {},
   "outputs": [],
   "source": [
    "unstacked.stack(level = 'who')"
   ]
  },
  {
   "cell_type": "markdown",
   "id": "90cf4c32",
   "metadata": {},
   "source": [
    "---"
   ]
  },
  {
   "cell_type": "code",
   "execution_count": null,
   "id": "4ca25929",
   "metadata": {},
   "outputs": [],
   "source": [
    "data = pd.DataFrame({'Name': ['Mike', 'Mikael'],\n",
    "                     'Height': [6.1, 6.0],\n",
    "                     'Weight': [220, 185]})\n",
    "data"
   ]
  },
  {
   "cell_type": "raw",
   "id": "98cca077",
   "metadata": {},
   "source": [
    "# 融解 (melting) 是種解樞紐的動作，也就是將資料框從寬格式 (wide format) 轉成長格式 (long format) 的操作\n",
    "# 下面是以 Name 行作為識別行，Height、Weight 行當作測量變數，對 DataFrame 進行融解操作\n",
    "# Name 行保持不動， Height 與 Weight 行則解樞紐至 variable 行，至於原本這兩行的數值，則被重新安排放進 value 行\n",
    "# 在此格式下，要加入新的變數及測量值比較簡單，因為只要加上新的一列，而不用為了增加新的一行，而必須改變 DataFrame 的結構"
   ]
  },
  {
   "cell_type": "code",
   "execution_count": null,
   "id": "aff70cc0",
   "metadata": {},
   "outputs": [],
   "source": [
    "pd.melt(data, \n",
    "        id_vars = 'Name',\n",
    "        value_vars = ['Height', 'Weight'])"
   ]
  },
  {
   "cell_type": "markdown",
   "id": "7b97fa74",
   "metadata": {},
   "source": [
    "---"
   ]
  },
  {
   "cell_type": "code",
   "execution_count": null,
   "id": "9064ba20",
   "metadata": {},
   "outputs": [],
   "source": [
    "sensor_readings = pd.read_csv('./mod07/accel.csv')\n",
    "sensor_readings"
   ]
  },
  {
   "cell_type": "code",
   "execution_count": null,
   "id": "ece6a207",
   "metadata": {},
   "outputs": [],
   "source": [
    "pivoted = sensor_readings.pivot(index = 'interval', columns = 'axis', values = 'reading')\n",
    "pivoted"
   ]
  },
  {
   "cell_type": "code",
   "execution_count": null,
   "id": "fc5667e6",
   "metadata": {},
   "outputs": [],
   "source": [
    "# 要融解前要把 interval 放回欄位，不然會產生例外\n",
    "pivoted = pivoted.reset_index()\n",
    "pivoted"
   ]
  },
  {
   "cell_type": "code",
   "execution_count": null,
   "id": "d2aced14",
   "metadata": {},
   "outputs": [],
   "source": [
    "pd.melt(pivoted, id_vars = 'interval', value_vars = ['X', 'Y', 'Z'] )"
   ]
  },
  {
   "cell_type": "code",
   "execution_count": null,
   "id": "754dbcbd",
   "metadata": {},
   "outputs": [],
   "source": [
    "pd.melt(pivoted, id_vars = 'interval', value_vars = ['X', 'Y', 'Z'] ).sort_values(by = 'interval')"
   ]
  },
  {
   "cell_type": "markdown",
   "id": "49cc791d",
   "metadata": {},
   "source": [
    "## 綜合應用"
   ]
  },
  {
   "cell_type": "code",
   "execution_count": null,
   "id": "e56ad326",
   "metadata": {},
   "outputs": [],
   "source": [
    "df1 = pd.DataFrame({'key': ['b', 'b', 'a', 'c', 'a', 'a', 'b'],\n",
    "                    'data1': range(7)})\n",
    "df2 = pd.DataFrame({'key': ['a', 'b', 'd'],\n",
    "                    'data2': range(3)})\n",
    "df1"
   ]
  },
  {
   "cell_type": "code",
   "execution_count": null,
   "id": "f7aadfbe",
   "metadata": {},
   "outputs": [],
   "source": [
    "df2"
   ]
  },
  {
   "cell_type": "code",
   "execution_count": null,
   "id": "c67fb53f",
   "metadata": {},
   "outputs": [],
   "source": [
    "# 當然也可以用資料框的 .merge() 方法\n",
    "pd.merge(df1, df2)"
   ]
  },
  {
   "cell_type": "code",
   "execution_count": null,
   "id": "b8c964fe",
   "metadata": {},
   "outputs": [],
   "source": [
    "pd.merge(df1, df2, on = 'key')"
   ]
  },
  {
   "cell_type": "markdown",
   "id": "9fc60485",
   "metadata": {},
   "source": [
    "---"
   ]
  },
  {
   "cell_type": "code",
   "execution_count": null,
   "id": "262a6100",
   "metadata": {},
   "outputs": [],
   "source": [
    "df3 = pd.DataFrame({'lkey': ['b', 'b', 'a', 'c', 'a', 'a', 'b'],\n",
    "                    'data1': range(7)})\n",
    "df4 = pd.DataFrame({'rkey': ['a', 'b', 'd'],\n",
    "                    'data2': range(3)})\n",
    "\n",
    "df3"
   ]
  },
  {
   "cell_type": "code",
   "execution_count": null,
   "id": "d71f6780",
   "metadata": {},
   "outputs": [],
   "source": [
    "df4"
   ]
  },
  {
   "cell_type": "code",
   "execution_count": null,
   "id": "d6ebbdda",
   "metadata": {},
   "outputs": [],
   "source": [
    "pd.merge(df3, df4, left_on = 'lkey', right_on = 'rkey')"
   ]
  },
  {
   "cell_type": "markdown",
   "id": "9720159c",
   "metadata": {},
   "source": [
    "---"
   ]
  },
  {
   "cell_type": "code",
   "execution_count": null,
   "id": "42472197",
   "metadata": {},
   "outputs": [],
   "source": [
    "df1"
   ]
  },
  {
   "cell_type": "code",
   "execution_count": null,
   "id": "dd51fc8d",
   "metadata": {},
   "outputs": [],
   "source": [
    "df2"
   ]
  },
  {
   "cell_type": "code",
   "execution_count": null,
   "id": "323bad98",
   "metadata": {},
   "outputs": [],
   "source": [
    "pd.merge(df1, df2, how = 'outer')"
   ]
  },
  {
   "cell_type": "markdown",
   "id": "90cab6dd",
   "metadata": {},
   "source": [
    "---"
   ]
  },
  {
   "cell_type": "code",
   "execution_count": null,
   "id": "778e43d9",
   "metadata": {},
   "outputs": [],
   "source": [
    "df1 = pd.DataFrame({'key': ['b', 'b', 'a', 'c', 'a', 'b'],\n",
    "                    'data1': range(6)})\n",
    "df2 = pd.DataFrame({'key': ['a', 'b', 'a', 'b', 'd'],\n",
    "                    'data2': range(5)})\n",
    "df1"
   ]
  },
  {
   "cell_type": "code",
   "execution_count": null,
   "id": "74c6b844",
   "metadata": {},
   "outputs": [],
   "source": [
    "df2"
   ]
  },
  {
   "cell_type": "code",
   "execution_count": null,
   "id": "a7aae6ed",
   "metadata": {},
   "outputs": [],
   "source": [
    "pd.merge(df1, df2, on = 'key', how = 'left')"
   ]
  },
  {
   "cell_type": "code",
   "execution_count": null,
   "id": "6406d50f",
   "metadata": {},
   "outputs": [],
   "source": [
    "pd.merge(df1, df2, on = 'key', how = 'inner')"
   ]
  },
  {
   "cell_type": "markdown",
   "id": "83d90899",
   "metadata": {},
   "source": [
    "---"
   ]
  },
  {
   "cell_type": "code",
   "execution_count": null,
   "id": "443331ad",
   "metadata": {},
   "outputs": [],
   "source": [
    "left = pd.DataFrame({'key1': ['foo', 'foo', 'bar'],\n",
    "                     'key2': ['one', 'two', 'one'],\n",
    "                     'lval': [1, 2, 3]})\n",
    "right = pd.DataFrame({'key1': ['foo', 'foo', 'bar', 'bar'],\n",
    "                      'key2': ['one', 'one', 'one', 'two'],\n",
    "                      'rval': [4, 5, 6, 7]})\n",
    "left"
   ]
  },
  {
   "cell_type": "code",
   "execution_count": null,
   "id": "933758b8",
   "metadata": {},
   "outputs": [],
   "source": [
    "right"
   ]
  },
  {
   "cell_type": "code",
   "execution_count": null,
   "id": "6b89795a",
   "metadata": {},
   "outputs": [],
   "source": [
    "pd.merge(left, right, on = ['key1', 'key2'], how = 'outer')"
   ]
  },
  {
   "cell_type": "code",
   "execution_count": null,
   "id": "e685fa58",
   "metadata": {},
   "outputs": [],
   "source": [
    "pd.merge(left, right, on = 'key1')"
   ]
  },
  {
   "cell_type": "code",
   "execution_count": null,
   "id": "1708514b",
   "metadata": {},
   "outputs": [],
   "source": [
    "pd.merge(left, right, on = 'key1', suffixes = ['_left', '_right'])"
   ]
  },
  {
   "cell_type": "markdown",
   "id": "aece1d52",
   "metadata": {},
   "source": [
    "---"
   ]
  },
  {
   "cell_type": "code",
   "execution_count": null,
   "id": "74d0191a",
   "metadata": {},
   "outputs": [],
   "source": [
    "left1 = pd.DataFrame({'key': ['a', 'b', 'a', 'a', 'b', 'c'],\n",
    "                      'value': range(6)})\n",
    "right1 = pd.DataFrame({'group_val': [3.5, 7]}, \n",
    "                       index = ['a', 'b'])\n",
    "left1"
   ]
  },
  {
   "cell_type": "code",
   "execution_count": null,
   "id": "53ce7175",
   "metadata": {},
   "outputs": [],
   "source": [
    "right1"
   ]
  },
  {
   "cell_type": "code",
   "execution_count": null,
   "id": "ef952c00",
   "metadata": {},
   "outputs": [],
   "source": [
    "# 一邊選欄位，一邊選索引標籤做合併\n",
    "pd.merge(left1, right1, left_on = 'key', right_index = True)"
   ]
  },
  {
   "cell_type": "code",
   "execution_count": null,
   "id": "c8368888",
   "metadata": {},
   "outputs": [],
   "source": [
    "pd.merge(left1, right1, left_on = 'key', right_index = True, how = 'outer')"
   ]
  },
  {
   "cell_type": "markdown",
   "id": "b1708893",
   "metadata": {},
   "source": [
    "---"
   ]
  },
  {
   "cell_type": "code",
   "execution_count": null,
   "id": "df99d675",
   "metadata": {},
   "outputs": [],
   "source": [
    "lefth = pd.DataFrame({'key1': ['Ohio', 'Ohio', 'Ohio',\n",
    "                               'Nevada', 'Nevada'],\n",
    "                      'key2': [2000, 2001, 2002, 2001, 2002],\n",
    "                      'data': np.arange(5.)})\n",
    "righth = pd.DataFrame(np.arange(12).reshape((6, 2)),\n",
    "                      index = [['Nevada', 'Nevada', 'Ohio', 'Ohio',\n",
    "                              'Ohio', 'Ohio'],\n",
    "                             [2001, 2000, 2000, 2000, 2001, 2002]],\n",
    "                      columns = ['event1', 'event2'])\n",
    "lefth"
   ]
  },
  {
   "cell_type": "code",
   "execution_count": null,
   "id": "e6c8e55a",
   "metadata": {},
   "outputs": [],
   "source": [
    "righth"
   ]
  },
  {
   "cell_type": "code",
   "execution_count": null,
   "id": "5678b9a6",
   "metadata": {},
   "outputs": [],
   "source": [
    "pd.merge(lefth, righth, left_on = ['key1', 'key2'], right_index = True)"
   ]
  },
  {
   "cell_type": "code",
   "execution_count": null,
   "id": "dbe9cda4",
   "metadata": {},
   "outputs": [],
   "source": [
    "pd.merge(lefth, righth, left_on = ['key1', 'key2'], right_index = True, how = 'outer')"
   ]
  },
  {
   "cell_type": "markdown",
   "id": "e3b5fa3d",
   "metadata": {},
   "source": [
    "---"
   ]
  },
  {
   "cell_type": "code",
   "execution_count": null,
   "id": "418285e5",
   "metadata": {},
   "outputs": [],
   "source": [
    "left2 = pd.DataFrame([[1., 2.], [3., 4.], [5., 6.]],\n",
    "                     index=['a', 'c', 'e'],\n",
    "                     columns=['Ohio', 'Nevada'])\n",
    "right2 = pd.DataFrame([[7., 8.], [9., 10.], [11., 12.], [13, 14]],\n",
    "                      index=['b', 'c', 'd', 'e'],\n",
    "                      columns=['Missouri', 'Alabama'])\n",
    "left2"
   ]
  },
  {
   "cell_type": "code",
   "execution_count": null,
   "id": "f713deee",
   "metadata": {},
   "outputs": [],
   "source": [
    "right2"
   ]
  },
  {
   "cell_type": "code",
   "execution_count": null,
   "id": "ee3ed6e2",
   "metadata": {},
   "outputs": [],
   "source": [
    "pd.merge(left2, right2, left_index = True, right_index = True, how = 'outer')"
   ]
  },
  {
   "cell_type": "markdown",
   "id": "27078f4d",
   "metadata": {},
   "source": [
    "---"
   ]
  },
  {
   "cell_type": "code",
   "execution_count": null,
   "id": "c3519b08",
   "metadata": {},
   "outputs": [],
   "source": [
    "# 資料框的 .join() 方法是對兩個 Dataframe 物件的索引標籤進行連結操作，而非裡面的資料值\n",
    "# how = 'left' 是預設\n",
    "# 答案跟上面一樣\n",
    "# .join 方法是 .merge() 方法的弱化\n",
    "left2.join(right2, how = 'outer')"
   ]
  },
  {
   "cell_type": "markdown",
   "id": "551acccb",
   "metadata": {},
   "source": [
    "---"
   ]
  },
  {
   "cell_type": "code",
   "execution_count": null,
   "id": "11489d16",
   "metadata": {},
   "outputs": [],
   "source": [
    "left1"
   ]
  },
  {
   "cell_type": "code",
   "execution_count": null,
   "id": "5447d61c",
   "metadata": {},
   "outputs": [],
   "source": [
    "right1"
   ]
  },
  {
   "cell_type": "code",
   "execution_count": null,
   "id": "f9d02f1e",
   "metadata": {},
   "outputs": [],
   "source": [
    "# 資料框的 .join() 方法是對兩個 Dataframe 物件的索引標籤進行連結操作，而非裡面的資料值\n",
    "# how = 'left' 是預設\n",
    "left1.join(right1)"
   ]
  },
  {
   "cell_type": "code",
   "execution_count": null,
   "id": "1dca6944",
   "metadata": {},
   "outputs": [],
   "source": [
    "# 有 on 參數可選，on 屬性是給 left1 的\n",
    "# 所以現在 left1 看 'key'，right1 還是看索引標籤\n",
    "left1.join(right1, on = 'key')"
   ]
  },
  {
   "cell_type": "code",
   "execution_count": null,
   "id": "c4710b0e",
   "metadata": {},
   "outputs": [],
   "source": [
    "right1.join(left1, on = 'key') # right1 根本沒有 'key' 的欄位"
   ]
  },
  {
   "cell_type": "markdown",
   "id": "346fef1f",
   "metadata": {},
   "source": [
    "---"
   ]
  },
  {
   "cell_type": "code",
   "execution_count": null,
   "id": "ff60a50c",
   "metadata": {},
   "outputs": [],
   "source": [
    "left2"
   ]
  },
  {
   "cell_type": "code",
   "execution_count": null,
   "id": "1a261d74",
   "metadata": {},
   "outputs": [],
   "source": [
    "right2"
   ]
  },
  {
   "cell_type": "code",
   "execution_count": null,
   "id": "bdae6bcb",
   "metadata": {},
   "outputs": [],
   "source": [
    "another = pd.DataFrame([[7., 8.], [9., 10.], [11., 12.], [16., 17.]],\n",
    "                       index = ['a', 'c', 'e', 'f'],\n",
    "                       columns = ['New York', 'Oregon'])\n",
    "another"
   ]
  },
  {
   "cell_type": "code",
   "execution_count": null,
   "id": "265c0b1f",
   "metadata": {},
   "outputs": [],
   "source": [
    "left2.join([right2, another])"
   ]
  },
  {
   "cell_type": "code",
   "execution_count": null,
   "id": "361b5329",
   "metadata": {},
   "outputs": [],
   "source": [
    "left2.join([right2, another], how = 'outer')"
   ]
  },
  {
   "cell_type": "markdown",
   "id": "407cf865",
   "metadata": {},
   "source": [
    "---"
   ]
  },
  {
   "cell_type": "code",
   "execution_count": null,
   "id": "59641406",
   "metadata": {},
   "outputs": [],
   "source": [
    "arr = np.arange(12).reshape(3, 4)\n",
    "arr"
   ]
  },
  {
   "cell_type": "code",
   "execution_count": null,
   "id": "7851fa91",
   "metadata": {},
   "outputs": [],
   "source": [
    "# 這是 numpy 的 np.concatenate() 函式，作用在 ndarray 上\n",
    "np.concatenate([arr, arr], axis = 1)"
   ]
  },
  {
   "cell_type": "markdown",
   "id": "d6cc5ca9",
   "metadata": {},
   "source": [
    "---"
   ]
  },
  {
   "cell_type": "code",
   "execution_count": null,
   "id": "8827f42f",
   "metadata": {},
   "outputs": [],
   "source": [
    "df1 = pd.DataFrame(np.arange(6).reshape(3, 2), index = ['a', 'b', 'c'],\n",
    "                   columns = ['one', 'two'])\n",
    "df2 = pd.DataFrame(5 + np.arange(4).reshape(2, 2), index = ['a', 'c'],\n",
    "                   columns = ['three', 'four'])\n",
    "df1"
   ]
  },
  {
   "cell_type": "code",
   "execution_count": null,
   "id": "1c8b1bfd",
   "metadata": {},
   "outputs": [],
   "source": [
    "df2"
   ]
  },
  {
   "cell_type": "code",
   "execution_count": null,
   "id": "e8d52cd3",
   "metadata": {},
   "outputs": [],
   "source": [
    "pd.concat([df1, df2], axis = 1, keys = ['level1', 'level2'])"
   ]
  },
  {
   "cell_type": "code",
   "execution_count": null,
   "id": "6e9fd842",
   "metadata": {},
   "outputs": [],
   "source": [
    "# 另一種給資料來源的方式\n",
    "pd.concat({'level1': df1, 'level2': df2 }, axis = 1)"
   ]
  },
  {
   "cell_type": "code",
   "execution_count": null,
   "id": "c58cd925",
   "metadata": {},
   "outputs": [],
   "source": [
    "pd.concat([df1, df2], axis = 1, keys = ['level1', 'level2'], names = [ 'upper', 'lower'])"
   ]
  },
  {
   "cell_type": "markdown",
   "id": "13eca8d7",
   "metadata": {},
   "source": [
    "---"
   ]
  },
  {
   "cell_type": "code",
   "execution_count": null,
   "id": "8528bf60",
   "metadata": {},
   "outputs": [],
   "source": [
    "df1 = pd.DataFrame(np.random.randn(3, 4), columns = ['a', 'b', 'c', 'd'])\n",
    "df2 = pd.DataFrame(np.random.randn(2, 3), columns = ['b', 'd', 'a'])\n",
    "df1"
   ]
  },
  {
   "cell_type": "code",
   "execution_count": null,
   "id": "6764d941",
   "metadata": {},
   "outputs": [],
   "source": [
    "df2"
   ]
  },
  {
   "cell_type": "code",
   "execution_count": null,
   "id": "e496d1ef",
   "metadata": {},
   "outputs": [],
   "source": [
    "pd.concat([df1, df2], ignore_index = True)"
   ]
  },
  {
   "cell_type": "markdown",
   "id": "c46e3c14",
   "metadata": {},
   "source": [
    "---"
   ]
  },
  {
   "cell_type": "code",
   "execution_count": null,
   "id": "2febfa4d",
   "metadata": {},
   "outputs": [],
   "source": [
    "data = pd.DataFrame(np.arange(6).reshape((2, 3)),\n",
    "                    index = pd.Index(['Ohio', 'Colorado'], name = 'state'),\n",
    "                    columns = pd.Index(['one', 'two', 'three'], name = 'number'))\n",
    "data"
   ]
  },
  {
   "cell_type": "code",
   "execution_count": null,
   "id": "63fc81f9",
   "metadata": {},
   "outputs": [],
   "source": [
    "result = data.stack()\n",
    "result"
   ]
  },
  {
   "cell_type": "code",
   "execution_count": null,
   "id": "9c7b9966",
   "metadata": {},
   "outputs": [],
   "source": [
    "result.unstack()"
   ]
  },
  {
   "cell_type": "code",
   "execution_count": null,
   "id": "ad6d2f43",
   "metadata": {},
   "outputs": [],
   "source": [
    "result.unstack(0)"
   ]
  },
  {
   "cell_type": "code",
   "execution_count": null,
   "id": "a24b7653",
   "metadata": {},
   "outputs": [],
   "source": [
    "result.unstack('state')"
   ]
  },
  {
   "cell_type": "markdown",
   "id": "34a6f9d4",
   "metadata": {},
   "source": [
    "---"
   ]
  },
  {
   "cell_type": "code",
   "execution_count": null,
   "id": "dd09f744",
   "metadata": {},
   "outputs": [],
   "source": [
    "s1 = pd.Series([0, 1, 2, 3], index = ['a', 'b', 'c', 'd'])\n",
    "s2 = pd.Series([4, 5, 6], index = ['c', 'd', 'e'])\n",
    "data2 = pd.concat([s1, s2], keys = ['one', 'two'])\n",
    "data2"
   ]
  },
  {
   "cell_type": "code",
   "execution_count": null,
   "id": "c3a0ed29",
   "metadata": {},
   "outputs": [],
   "source": [
    "data2.unstack()"
   ]
  },
  {
   "cell_type": "code",
   "execution_count": null,
   "id": "2af8637d",
   "metadata": {},
   "outputs": [],
   "source": [
    "data2.unstack().stack() # .stack() 方法會自動濾掉遺失值"
   ]
  },
  {
   "cell_type": "code",
   "execution_count": null,
   "id": "a735e6e5",
   "metadata": {},
   "outputs": [],
   "source": [
    "data2.unstack().stack(dropna = False)"
   ]
  },
  {
   "cell_type": "markdown",
   "id": "9398e889",
   "metadata": {},
   "source": [
    "---"
   ]
  },
  {
   "cell_type": "code",
   "execution_count": null,
   "id": "38441c36",
   "metadata": {},
   "outputs": [],
   "source": [
    "result"
   ]
  },
  {
   "cell_type": "code",
   "execution_count": null,
   "id": "3c4acbe9",
   "metadata": {},
   "outputs": [],
   "source": [
    "# pd.Index() 函式有參數 name 可以用\n",
    "df = pd.DataFrame({'left': result, 'right': result + 5},\n",
    "                  columns = pd.Index(['left', 'right'], name = 'side'))\n",
    "df"
   ]
  },
  {
   "cell_type": "code",
   "execution_count": null,
   "id": "29927d04",
   "metadata": {},
   "outputs": [],
   "source": [
    "df.unstack('state')"
   ]
  },
  {
   "cell_type": "code",
   "execution_count": null,
   "id": "e1e0855d",
   "metadata": {},
   "outputs": [],
   "source": [
    "df.unstack('state').stack('side')"
   ]
  },
  {
   "cell_type": "markdown",
   "id": "02c98ec3",
   "metadata": {},
   "source": [
    "---"
   ]
  },
  {
   "cell_type": "code",
   "execution_count": null,
   "id": "ceaa5029",
   "metadata": {},
   "outputs": [],
   "source": [
    "data = pd.read_csv('./mod07/macrodata.csv')\n",
    "data.head()"
   ]
  },
  {
   "cell_type": "code",
   "execution_count": null,
   "id": "84183701",
   "metadata": {},
   "outputs": [],
   "source": [
    "periods = pd.PeriodIndex(year = data.year, quarter = data.quarter, name = 'date')\n",
    "columns = pd.Index(['realgdp', 'infl', 'unemp'], name = 'item')\n",
    "periods"
   ]
  },
  {
   "cell_type": "code",
   "execution_count": null,
   "id": "5a6dd205",
   "metadata": {},
   "outputs": [],
   "source": [
    "columns"
   ]
  },
  {
   "cell_type": "code",
   "execution_count": null,
   "id": "beb72ad9",
   "metadata": {},
   "outputs": [],
   "source": [
    "data = data.reindex(columns = columns)\n",
    "data"
   ]
  },
  {
   "cell_type": "code",
   "execution_count": null,
   "id": "245c633b",
   "metadata": {},
   "outputs": [],
   "source": [
    "data.index = periods.to_timestamp(freq = 'D', how = 'end')\n",
    "data"
   ]
  },
  {
   "cell_type": "markdown",
   "id": "e6ec65b1",
   "metadata": {},
   "source": [
    "---"
   ]
  },
  {
   "cell_type": "code",
   "execution_count": null,
   "id": "87d780b4",
   "metadata": {},
   "outputs": [],
   "source": [
    "data.stack()"
   ]
  },
  {
   "cell_type": "code",
   "execution_count": null,
   "id": "06cad2b2",
   "metadata": {},
   "outputs": [],
   "source": [
    "data.stack().reset_index()"
   ]
  },
  {
   "cell_type": "code",
   "execution_count": null,
   "id": "e9fc911b",
   "metadata": {},
   "outputs": [],
   "source": [
    "ldata = data.stack().reset_index().rename(columns = {0: 'value'})"
   ]
  },
  {
   "cell_type": "code",
   "execution_count": null,
   "id": "377b5c43",
   "metadata": {},
   "outputs": [],
   "source": [
    "ldata"
   ]
  },
  {
   "cell_type": "markdown",
   "id": "f101f4e5",
   "metadata": {},
   "source": [
    "---"
   ]
  },
  {
   "cell_type": "code",
   "execution_count": null,
   "id": "bf7e4bba",
   "metadata": {},
   "outputs": [],
   "source": [
    "data_cp = data.copy()\n",
    "data_cp = data_cp.reset_index()\n",
    "data_cp"
   ]
  },
  {
   "cell_type": "code",
   "execution_count": null,
   "id": "96301fcb",
   "metadata": {},
   "outputs": [],
   "source": [
    "pd.melt(data_cp, id_vars = 'date', value_vars = ['realgdp', 'infl', 'unemp'])"
   ]
  },
  {
   "cell_type": "code",
   "execution_count": null,
   "id": "e48641b2",
   "metadata": {},
   "outputs": [],
   "source": [
    "# 可以再把 index 更換一下!\n",
    "my_df = pd.melt(data_cp, id_vars = 'date', value_vars = ['realgdp', 'infl', 'unemp']).sort_values(by = 'date')\n",
    "my_df"
   ]
  },
  {
   "cell_type": "code",
   "execution_count": null,
   "id": "0d812a32",
   "metadata": {},
   "outputs": [],
   "source": [
    "my_df.reset_index(drop = True)"
   ]
  },
  {
   "cell_type": "markdown",
   "id": "117be832",
   "metadata": {},
   "source": [
    "---"
   ]
  },
  {
   "cell_type": "code",
   "execution_count": null,
   "id": "f02b8a2a",
   "metadata": {},
   "outputs": [],
   "source": [
    "ldata"
   ]
  },
  {
   "cell_type": "code",
   "execution_count": null,
   "id": "f3182dd4",
   "metadata": {},
   "outputs": [],
   "source": [
    "pivoted = ldata.pivot(index = 'date', columns = 'item', values = 'value') # 長格式旋轉成寬格式\n",
    "pivoted"
   ]
  },
  {
   "cell_type": "code",
   "execution_count": null,
   "id": "28f49048",
   "metadata": {},
   "outputs": [],
   "source": [
    "ldata['value2'] = np.random.randn(len(ldata))\n",
    "ldata[:10]"
   ]
  },
  {
   "cell_type": "code",
   "execution_count": null,
   "id": "ba46b2f0",
   "metadata": {},
   "outputs": [],
   "source": [
    "pivoted = ldata.pivot(index = 'date', columns = 'item') # 值可以不給\n",
    "pivoted[:10]"
   ]
  },
  {
   "cell_type": "code",
   "execution_count": null,
   "id": "a1f68e49",
   "metadata": {},
   "outputs": [],
   "source": [
    "pivoted['value'][:5]"
   ]
  },
  {
   "cell_type": "markdown",
   "id": "293bd464",
   "metadata": {},
   "source": [
    "---"
   ]
  },
  {
   "cell_type": "code",
   "execution_count": null,
   "id": "b54b0303",
   "metadata": {},
   "outputs": [],
   "source": [
    "ldata"
   ]
  },
  {
   "cell_type": "code",
   "execution_count": null,
   "id": "cf77ae56",
   "metadata": {},
   "outputs": [],
   "source": [
    "ldata.set_index(['date', 'item'])"
   ]
  },
  {
   "cell_type": "code",
   "execution_count": null,
   "id": "a8b5b972",
   "metadata": {},
   "outputs": [],
   "source": [
    "unstacked = ldata.set_index(['date', 'item']).unstack('item') # 跟上面的 .pivot() 方法是等效的\n",
    "unstacked"
   ]
  },
  {
   "cell_type": "markdown",
   "id": "ed1435c9",
   "metadata": {},
   "source": [
    "---"
   ]
  },
  {
   "cell_type": "code",
   "execution_count": null,
   "id": "ac4d4215",
   "metadata": {},
   "outputs": [],
   "source": [
    "df = pd.DataFrame({'key': ['foo', 'bar', 'baz'],\n",
    "                   'A': [1, 2, 3],\n",
    "                   'B': [4, 5, 6],\n",
    "                   'C': [7, 8, 9]})\n",
    "df"
   ]
  },
  {
   "cell_type": "code",
   "execution_count": null,
   "id": "0bb2efd4",
   "metadata": {},
   "outputs": [],
   "source": [
    "# 寬格式旋轉成長格式\n",
    "# value_vars 沒給會全部轉\n",
    "melted = pd.melt(df, id_vars = ['key'] ) \n",
    "melted"
   ]
  },
  {
   "cell_type": "markdown",
   "id": "60c2adf6",
   "metadata": {},
   "source": [
    "---"
   ]
  },
  {
   "cell_type": "code",
   "execution_count": null,
   "id": "75785b79",
   "metadata": {},
   "outputs": [],
   "source": [
    "reshaped = melted.pivot('key', 'variable', 'value')\n",
    "reshaped"
   ]
  },
  {
   "cell_type": "code",
   "execution_count": null,
   "id": "4b3c978c",
   "metadata": {},
   "outputs": [],
   "source": [
    "reshaped.reset_index()"
   ]
  },
  {
   "cell_type": "markdown",
   "id": "ee7abf84",
   "metadata": {},
   "source": [
    "---"
   ]
  },
  {
   "cell_type": "code",
   "execution_count": null,
   "id": "de31b6a8",
   "metadata": {},
   "outputs": [],
   "source": [
    "df"
   ]
  },
  {
   "cell_type": "code",
   "execution_count": null,
   "id": "4a4c7bdb",
   "metadata": {},
   "outputs": [],
   "source": [
    "pd.melt(df, id_vars = ['key'], value_vars = ['A', 'B'])"
   ]
  },
  {
   "cell_type": "code",
   "execution_count": null,
   "id": "861df423",
   "metadata": {},
   "outputs": [],
   "source": [
    "# 沒有給 id_vars，就沒有識別行\n",
    "pd.melt(df, value_vars = ['A', 'B', 'C'])"
   ]
  },
  {
   "cell_type": "code",
   "execution_count": null,
   "id": "ec22050b",
   "metadata": {},
   "outputs": [],
   "source": [
    "pd.melt(df, value_vars = ['key', 'A', 'B'])"
   ]
  }
 ],
 "metadata": {
  "kernelspec": {
   "display_name": "Python 3",
   "language": "python",
   "name": "python3"
  },
  "language_info": {
   "codemirror_mode": {
    "name": "ipython",
    "version": 3
   },
   "file_extension": ".py",
   "mimetype": "text/x-python",
   "name": "python",
   "nbconvert_exporter": "python",
   "pygments_lexer": "ipython3",
   "version": "3.8.10"
  }
 },
 "nbformat": 4,
 "nbformat_minor": 5
}
