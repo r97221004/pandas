{
 "cells": [
  {
   "cell_type": "markdown",
   "id": "99f0442a",
   "metadata": {},
   "source": [
    "#  <font color=red> Module_00_建立序列與序列的基本操作</font>"
   ]
  },
  {
   "cell_type": "markdown",
   "id": "8c923e22",
   "metadata": {},
   "source": [
    "## 建立序列(Series)"
   ]
  },
  {
   "cell_type": "code",
   "execution_count": null,
   "id": "5f2627e6",
   "metadata": {},
   "outputs": [],
   "source": [
    "import pandas as pd\n",
    "import numpy as np\n",
    "\n",
    "# data 代入列表\n",
    "# int64 表示元素的資料型別\n",
    "# 預設索引標籤\n",
    "a = pd.Series([10, 11, 12, 13, 14])\n",
    "a "
   ]
  },
  {
   "cell_type": "code",
   "execution_count": null,
   "id": "053cab80",
   "metadata": {},
   "outputs": [],
   "source": [
    "a[3] # 此查詢是根據索引標籤"
   ]
  },
  {
   "cell_type": "code",
   "execution_count": null,
   "id": "cb68554d",
   "metadata": {},
   "outputs": [],
   "source": [
    "b = pd.Series(['Mike', 'Marcia', 'Mikael', 'Bleu'])\n",
    "b"
   ]
  },
  {
   "cell_type": "code",
   "execution_count": null,
   "id": "7f8180fb",
   "metadata": {},
   "outputs": [],
   "source": [
    "c = pd.Series([2]*5)\n",
    "c"
   ]
  },
  {
   "cell_type": "code",
   "execution_count": null,
   "id": "e146d8e8",
   "metadata": {},
   "outputs": [],
   "source": [
    "d = pd.Series(list('abcde'))\n",
    "d"
   ]
  },
  {
   "cell_type": "markdown",
   "id": "c7fd71db",
   "metadata": {},
   "source": [
    "---"
   ]
  },
  {
   "cell_type": "code",
   "execution_count": null,
   "id": "54c84c28",
   "metadata": {},
   "outputs": [],
   "source": [
    "# data 代入字典\n",
    "# 字典的 key 會被當成索引標籤\n",
    "e = pd.Series({'Mike': 'Dad',\n",
    "               'Marcia': 'Mom',\n",
    "               'Mikael': 'Son',\n",
    "               'Bleu': 'Best doggies ever'})\n",
    "e"
   ]
  },
  {
   "cell_type": "markdown",
   "id": "1e9600d0",
   "metadata": {},
   "source": [
    "---"
   ]
  },
  {
   "cell_type": "code",
   "execution_count": null,
   "id": "35acfd07",
   "metadata": {},
   "outputs": [],
   "source": [
    "# data 代入 ndarray\n",
    "f = pd.Series(np.arange(4, 9))\n",
    "f"
   ]
  },
  {
   "cell_type": "code",
   "execution_count": null,
   "id": "5acb8876",
   "metadata": {},
   "outputs": [],
   "source": [
    "g = pd.Series(np.linspace(0, 9, 5))\n",
    "g"
   ]
  },
  {
   "cell_type": "code",
   "execution_count": null,
   "id": "78184578",
   "metadata": {},
   "outputs": [],
   "source": [
    "# np.random.normal() 是從平均值是 0 標準差是 1 的常態分佈取值(鐘形曲線)\n",
    "# 一個標準差內的機率大約: 68%\n",
    "# 兩個標準差內的機率大約: 95%\n",
    "# 三個標準差內的機率大約: 99.7%\n",
    "np.random.seed(12345)\n",
    "h = pd.Series(np.random.normal(size = 5))\n",
    "h"
   ]
  },
  {
   "cell_type": "markdown",
   "id": "794f3c97",
   "metadata": {},
   "source": [
    "---"
   ]
  },
  {
   "cell_type": "code",
   "execution_count": null,
   "id": "49450993",
   "metadata": {},
   "outputs": [],
   "source": [
    "# data 代入數值\n",
    "i = pd.Series(2)\n",
    "i"
   ]
  },
  {
   "cell_type": "markdown",
   "id": "14c27a7a",
   "metadata": {},
   "source": [
    "## 序列的屬性"
   ]
  },
  {
   "cell_type": "code",
   "execution_count": null,
   "id": "6593993a",
   "metadata": {},
   "outputs": [],
   "source": [
    "a = pd.Series([1, 2, 3])\n",
    "a"
   ]
  },
  {
   "cell_type": "code",
   "execution_count": null,
   "id": "b45ad307",
   "metadata": {},
   "outputs": [],
   "source": [
    "a.values"
   ]
  },
  {
   "cell_type": "code",
   "execution_count": null,
   "id": "d2456751",
   "metadata": {},
   "outputs": [],
   "source": [
    "type(a.values)"
   ]
  },
  {
   "cell_type": "code",
   "execution_count": null,
   "id": "eff2604e",
   "metadata": {},
   "outputs": [],
   "source": [
    "a.index"
   ]
  },
  {
   "cell_type": "code",
   "execution_count": null,
   "id": "f006601f",
   "metadata": {},
   "outputs": [],
   "source": [
    "# 也可用 len() 函式得知\n",
    "a.size"
   ]
  },
  {
   "cell_type": "code",
   "execution_count": null,
   "id": "86b9abd9",
   "metadata": {},
   "outputs": [],
   "source": [
    "len(a)"
   ]
  },
  {
   "cell_type": "code",
   "execution_count": null,
   "id": "41103c2e",
   "metadata": {},
   "outputs": [],
   "source": [
    "a.shape"
   ]
  },
  {
   "cell_type": "markdown",
   "id": "dd99d96c",
   "metadata": {},
   "source": [
    "---"
   ]
  },
  {
   "cell_type": "code",
   "execution_count": null,
   "id": "de6ae736",
   "metadata": {},
   "outputs": [],
   "source": [
    "b = pd.Series({'Mike': 'Dad',\n",
    "               'Marcia': 'Mom',\n",
    "               'Mikael': 'Son',\n",
    "               'Bleu': 'Best doggies ever'}, name = 'family')\n",
    "b"
   ]
  },
  {
   "cell_type": "code",
   "execution_count": null,
   "id": "a32019e0",
   "metadata": {},
   "outputs": [],
   "source": [
    "b.values"
   ]
  },
  {
   "cell_type": "code",
   "execution_count": null,
   "id": "18f7813d",
   "metadata": {},
   "outputs": [],
   "source": [
    "b.index"
   ]
  },
  {
   "cell_type": "code",
   "execution_count": null,
   "id": "8a88ad5f",
   "metadata": {},
   "outputs": [],
   "source": [
    "b.size"
   ]
  },
  {
   "cell_type": "code",
   "execution_count": null,
   "id": "d01c7950",
   "metadata": {},
   "outputs": [],
   "source": [
    "b.shape"
   ]
  },
  {
   "cell_type": "code",
   "execution_count": null,
   "id": "a74586d8",
   "metadata": {},
   "outputs": [],
   "source": [
    "b.name"
   ]
  },
  {
   "cell_type": "code",
   "execution_count": null,
   "id": "b3bfafe4",
   "metadata": {},
   "outputs": [],
   "source": [
    "b.index.name = 'people' # 索引標籤也可以設定 name"
   ]
  },
  {
   "cell_type": "code",
   "execution_count": null,
   "id": "f2a7a290",
   "metadata": {},
   "outputs": [],
   "source": [
    "b"
   ]
  },
  {
   "cell_type": "markdown",
   "id": "bf140831",
   "metadata": {},
   "source": [
    "## 在序列建立時指定索引"
   ]
  },
  {
   "cell_type": "code",
   "execution_count": null,
   "id": "2ad49210",
   "metadata": {},
   "outputs": [],
   "source": [
    "people = ['Mike', 'Marcia', 'Mikael', 'Bleu']\n",
    "role = ['Dad', 'Mom', 'Son', 'Dog']\n",
    "a = pd.Series(people, index = role)\n",
    "a"
   ]
  },
  {
   "cell_type": "code",
   "execution_count": null,
   "id": "34f2a733",
   "metadata": {},
   "outputs": [],
   "source": [
    "a.index"
   ]
  },
  {
   "cell_type": "code",
   "execution_count": null,
   "id": "8f0bba45",
   "metadata": {},
   "outputs": [],
   "source": [
    "a['Dad']"
   ]
  },
  {
   "cell_type": "markdown",
   "id": "708425a1",
   "metadata": {},
   "source": [
    "## 使用 pd.Series物件.head() 與 pd.Series物件.tail() 與 pd.Series物件.take() 來查詢"
   ]
  },
  {
   "cell_type": "code",
   "execution_count": null,
   "id": "9672f8e1",
   "metadata": {},
   "outputs": [],
   "source": [
    "a = pd.Series(np.arange(1, 10), index = list('abcdefghi'))\n",
    "a"
   ]
  },
  {
   "cell_type": "code",
   "execution_count": null,
   "id": "83a5ab8e",
   "metadata": {},
   "outputs": [],
   "source": [
    "a.head()"
   ]
  },
  {
   "cell_type": "code",
   "execution_count": null,
   "id": "8d006e3c",
   "metadata": {},
   "outputs": [],
   "source": [
    "a.head(3) # 也可以寫 a.head(n = 3)"
   ]
  },
  {
   "cell_type": "code",
   "execution_count": null,
   "id": "f2f18145",
   "metadata": {},
   "outputs": [],
   "source": [
    "a.tail()"
   ]
  },
  {
   "cell_type": "code",
   "execution_count": null,
   "id": "9e6d8a73",
   "metadata": {},
   "outputs": [],
   "source": [
    "a.tail(3)"
   ]
  },
  {
   "cell_type": "code",
   "execution_count": null,
   "id": "eb8dd8a2",
   "metadata": {},
   "outputs": [],
   "source": [
    "a.take([1, 5, 8]) # 注意這是利用位置 (position) 來查詢"
   ]
  },
  {
   "cell_type": "markdown",
   "id": "d34d3ae5",
   "metadata": {},
   "source": [
    "## 利用 [ ] 運算子來查詢"
   ]
  },
  {
   "cell_type": "code",
   "execution_count": null,
   "id": "3746d251",
   "metadata": {},
   "outputs": [],
   "source": [
    "a = pd.Series(np.arange(10, 15), index = list('abcde'))\n",
    "a"
   ]
  },
  {
   "cell_type": "code",
   "execution_count": null,
   "id": "b5b24758",
   "metadata": {},
   "outputs": [],
   "source": [
    "# 利用索引標籤來查詢\n",
    "# 查詢一個返回值\n",
    "a['b']"
   ]
  },
  {
   "cell_type": "code",
   "execution_count": null,
   "id": "da4d076f",
   "metadata": {},
   "outputs": [],
   "source": [
    "# 查詢多個要加 list\n",
    "# 查詢兩個以上返回序列\n",
    "a[['d', 'e']] "
   ]
  },
  {
   "cell_type": "code",
   "execution_count": null,
   "id": "ff663cc8",
   "metadata": {},
   "outputs": [],
   "source": [
    "a[0] # 利用位置來查詢 "
   ]
  },
  {
   "cell_type": "code",
   "execution_count": null,
   "id": "62f507d0",
   "metadata": {},
   "outputs": [],
   "source": [
    "a[[1, 3]] # 查詢多個要加 list"
   ]
  },
  {
   "cell_type": "markdown",
   "id": "6b9dba1e",
   "metadata": {},
   "source": [
    "---"
   ]
  },
  {
   "cell_type": "code",
   "execution_count": null,
   "id": "087dbba5",
   "metadata": {},
   "outputs": [],
   "source": [
    "b = pd.Series([10 ,20, 30, 40], index = [2, 3, 4, 5])\n",
    "b"
   ]
  },
  {
   "cell_type": "code",
   "execution_count": null,
   "id": "906e9723",
   "metadata": {},
   "outputs": [],
   "source": [
    "b[2] # 注意如果索引標籤是整數，會是以索引標籤查詢為主"
   ]
  },
  {
   "cell_type": "code",
   "execution_count": null,
   "id": "7355f0d8",
   "metadata": {},
   "outputs": [],
   "source": [
    "b[[3, 2]]"
   ]
  },
  {
   "cell_type": "markdown",
   "id": "e8cdfd76",
   "metadata": {},
   "source": [
    "## 以 .iloc[ ] 指明位置查詢"
   ]
  },
  {
   "cell_type": "code",
   "execution_count": null,
   "id": "44a388e5",
   "metadata": {},
   "outputs": [],
   "source": [
    "a = pd.Series(np.arange(10, 15), index = list('abcde'))\n",
    "a"
   ]
  },
  {
   "cell_type": "code",
   "execution_count": null,
   "id": "37a595e1",
   "metadata": {},
   "outputs": [],
   "source": [
    "a.iloc[1]"
   ]
  },
  {
   "cell_type": "code",
   "execution_count": null,
   "id": "6268aed5",
   "metadata": {},
   "outputs": [],
   "source": [
    "a.iloc[[2, 3]]"
   ]
  },
  {
   "cell_type": "code",
   "execution_count": null,
   "id": "92379a39",
   "metadata": {},
   "outputs": [],
   "source": [
    "a.iloc[[2, 8]] # 會產生例外"
   ]
  },
  {
   "cell_type": "code",
   "execution_count": null,
   "id": "1a1a77c7",
   "metadata": {},
   "outputs": [],
   "source": [
    "a.iloc['a']"
   ]
  },
  {
   "cell_type": "markdown",
   "id": "557afa53",
   "metadata": {},
   "source": [
    "## 以 .loc[ ] 指明索引標籤查詢"
   ]
  },
  {
   "cell_type": "code",
   "execution_count": null,
   "id": "7ff18c29",
   "metadata": {},
   "outputs": [],
   "source": [
    "s = pd.Series(np.arange(10, 15), index = list('abcde'))\n",
    "s"
   ]
  },
  {
   "cell_type": "code",
   "execution_count": null,
   "id": "8e876908",
   "metadata": {},
   "outputs": [],
   "source": [
    "t = pd.Series([10 ,20, 30, 40], index = [2, 3, 4, 5])\n",
    "t"
   ]
  },
  {
   "cell_type": "code",
   "execution_count": null,
   "id": "97e77300",
   "metadata": {},
   "outputs": [],
   "source": [
    "s.loc['b']"
   ]
  },
  {
   "cell_type": "code",
   "execution_count": null,
   "id": "c9a358ec",
   "metadata": {},
   "outputs": [],
   "source": [
    "s.loc[['c', 'd']]"
   ]
  },
  {
   "cell_type": "code",
   "execution_count": null,
   "id": "1f2bb7f5",
   "metadata": {},
   "outputs": [],
   "source": [
    "t.loc[[5, 2]]"
   ]
  },
  {
   "cell_type": "code",
   "execution_count": null,
   "id": "0ad5a28f",
   "metadata": {},
   "outputs": [],
   "source": [
    "s.loc[['a', 'f']]  # 會產生例外"
   ]
  },
  {
   "cell_type": "code",
   "execution_count": null,
   "id": "f6aad21e",
   "metadata": {},
   "outputs": [],
   "source": [
    "s.loc[1]"
   ]
  },
  {
   "cell_type": "markdown",
   "id": "10011599",
   "metadata": {},
   "source": [
    "## 把序列切割(slicing)成子集合"
   ]
  },
  {
   "cell_type": "code",
   "execution_count": null,
   "id": "b449480f",
   "metadata": {},
   "outputs": [],
   "source": [
    "a = pd.Series(np.arange(100, 115), index = np.arange(10, 25))\n",
    "a"
   ]
  },
  {
   "cell_type": "code",
   "execution_count": null,
   "id": "3b852e01",
   "metadata": {},
   "outputs": [],
   "source": [
    "# 在切割時是使用位置\n",
    "# print(a[10:12])\n",
    "# print(a[1:6]) \n",
    "# print(a[1:6:2])\n",
    "# print(a[:5])\n",
    "# print(a[4:])\n",
    "# print(a[:5:2])\n",
    "# print(a[4::2])\n",
    "# print(a[::-1])\n",
    "# print(a[4::-2])\n",
    "# print(a[-4:])\n",
    "# print(a[:-4])\n",
    "# print(a[-4:-1])"
   ]
  },
  {
   "cell_type": "code",
   "execution_count": null,
   "id": "3f1d9b22",
   "metadata": {},
   "outputs": [],
   "source": [
    "# print(a.iloc[1:6])\n",
    "# print(a.iloc[1:6:2])\n",
    "# print(a.iloc[:5])\n",
    "# print(a.iloc[4:])\n",
    "# print(a.iloc[:5:2])\n",
    "# print(a.iloc[4::2])\n",
    "# print(a.iloc[::-1])\n",
    "# print(a.iloc[4::-2])\n",
    "# print(a.iloc[-4:])\n",
    "# print(a.iloc[:-4])\n",
    "# print(a.iloc[-4:-1])"
   ]
  },
  {
   "cell_type": "code",
   "execution_count": null,
   "id": "56bcbd82",
   "metadata": {},
   "outputs": [],
   "source": [
    "# 索引標籤的切片會包含最後一項\n",
    "# print(a.loc[10:12]) \n",
    "# print(a.loc[10:18:2])\n",
    "print(a.loc[:19])"
   ]
  },
  {
   "cell_type": "markdown",
   "id": "d5738ac6",
   "metadata": {},
   "source": [
    "---"
   ]
  },
  {
   "cell_type": "code",
   "execution_count": null,
   "id": "7024822e",
   "metadata": {},
   "outputs": [],
   "source": [
    "a = pd.Series(np.arange(100, 110), index = np.arange(10, 20))\n",
    "a"
   ]
  },
  {
   "cell_type": "code",
   "execution_count": null,
   "id": "c603c6b4",
   "metadata": {},
   "outputs": [],
   "source": [
    "# 切片出來的是 view，修改會影響原始資料\n",
    "b = a[1:4] \n",
    "b"
   ]
  },
  {
   "cell_type": "code",
   "execution_count": null,
   "id": "2a0a61ed",
   "metadata": {},
   "outputs": [],
   "source": [
    "b[11] = 0\n",
    "b"
   ]
  },
  {
   "cell_type": "code",
   "execution_count": null,
   "id": "39062efc",
   "metadata": {},
   "outputs": [],
   "source": [
    "a "
   ]
  },
  {
   "cell_type": "markdown",
   "id": "6304e5d2",
   "metadata": {},
   "source": [
    "---"
   ]
  },
  {
   "cell_type": "code",
   "execution_count": null,
   "id": "55d2b88e",
   "metadata": {},
   "outputs": [],
   "source": [
    "a = pd.Series(np.arange(100, 110), index = np.arange(10, 20))\n",
    "a"
   ]
  },
  {
   "cell_type": "code",
   "execution_count": null,
   "id": "0c78306b",
   "metadata": {},
   "outputs": [],
   "source": [
    "b = a.iloc[1:4] # 這是切片所以也是 view\n",
    "b"
   ]
  },
  {
   "cell_type": "code",
   "execution_count": null,
   "id": "5dbcaa1e",
   "metadata": {},
   "outputs": [],
   "source": [
    "b[11] = 0\n",
    "b"
   ]
  },
  {
   "cell_type": "code",
   "execution_count": null,
   "id": "6f5a2214",
   "metadata": {},
   "outputs": [],
   "source": [
    "a"
   ]
  },
  {
   "cell_type": "markdown",
   "id": "c443cdec",
   "metadata": {},
   "source": [
    "---"
   ]
  },
  {
   "cell_type": "code",
   "execution_count": null,
   "id": "29326977",
   "metadata": {},
   "outputs": [],
   "source": [
    "a = pd.Series(np.arange(100, 110), index = np.arange(10, 20))\n",
    "a"
   ]
  },
  {
   "cell_type": "code",
   "execution_count": null,
   "id": "799acedc",
   "metadata": {},
   "outputs": [],
   "source": [
    "b = a.iloc[[1, 2, 3]] # 是 copy\n",
    "b"
   ]
  },
  {
   "cell_type": "code",
   "execution_count": null,
   "id": "e79167a7",
   "metadata": {},
   "outputs": [],
   "source": [
    "b[11] = 0\n",
    "b"
   ]
  },
  {
   "cell_type": "code",
   "execution_count": null,
   "id": "0f73922c",
   "metadata": {},
   "outputs": [],
   "source": [
    "a"
   ]
  },
  {
   "cell_type": "markdown",
   "id": "f7953131",
   "metadata": {},
   "source": [
    "---"
   ]
  },
  {
   "cell_type": "code",
   "execution_count": null,
   "id": "a492f3e0",
   "metadata": {},
   "outputs": [],
   "source": [
    "c = pd.Series(np.arange(0,5), index = ['a', 'b', 'c', 'd', 'e'])\n",
    "c"
   ]
  },
  {
   "cell_type": "code",
   "execution_count": null,
   "id": "512dc8c1",
   "metadata": {},
   "outputs": [],
   "source": [
    "c[1:3]"
   ]
  },
  {
   "cell_type": "code",
   "execution_count": null,
   "id": "e8eaedb3",
   "metadata": {},
   "outputs": [],
   "source": [
    "c['a':'c'] # 索引標籤的切割，有包含最後的值"
   ]
  },
  {
   "cell_type": "code",
   "execution_count": null,
   "id": "c53c0080",
   "metadata": {},
   "outputs": [],
   "source": [
    "c.loc['a':'c']"
   ]
  },
  {
   "cell_type": "markdown",
   "id": "b8db4de3",
   "metadata": {},
   "source": [
    "## 利用索引標籤實現對齊"
   ]
  },
  {
   "cell_type": "code",
   "execution_count": null,
   "id": "40c0dc2d",
   "metadata": {},
   "outputs": [],
   "source": [
    "a = pd.Series([1, 2], index = ['a', 'b'] )\n",
    "a"
   ]
  },
  {
   "cell_type": "code",
   "execution_count": null,
   "id": "5740a892",
   "metadata": {},
   "outputs": [],
   "source": [
    "b = pd.Series([4, 3], index = ['b', 'a'] )\n",
    "b"
   ]
  },
  {
   "cell_type": "code",
   "execution_count": null,
   "id": "2c72fa86",
   "metadata": {},
   "outputs": [],
   "source": [
    "c = a + b\n",
    "c"
   ]
  },
  {
   "cell_type": "code",
   "execution_count": null,
   "id": "6850932f",
   "metadata": {},
   "outputs": [],
   "source": [
    "# 類似 broadcasting \n",
    "# 先建立 pd.Series(2, a.index)，在乘 a\n",
    "d = a*2 \n",
    "d"
   ]
  },
  {
   "cell_type": "markdown",
   "id": "d5fee837",
   "metadata": {},
   "source": [
    "---"
   ]
  },
  {
   "cell_type": "code",
   "execution_count": null,
   "id": "d323f897",
   "metadata": {},
   "outputs": [],
   "source": [
    "e = pd.Series([5, 6], index = ['b', 'c'])\n",
    "e"
   ]
  },
  {
   "cell_type": "code",
   "execution_count": null,
   "id": "8a06f0f4",
   "metadata": {},
   "outputs": [],
   "source": [
    "a + e # 索引標籤無法對齊的會傳回 NaN"
   ]
  },
  {
   "cell_type": "markdown",
   "id": "7f978d57",
   "metadata": {},
   "source": [
    "---"
   ]
  },
  {
   "cell_type": "code",
   "execution_count": null,
   "id": "70a85d04",
   "metadata": {},
   "outputs": [],
   "source": [
    "# 索引標籤可以不唯一\n",
    "f = pd.Series([1.0, 2.0, 3.0], index = ['a', 'a', 'c'])\n",
    "f"
   ]
  },
  {
   "cell_type": "code",
   "execution_count": null,
   "id": "fa640ff8",
   "metadata": {},
   "outputs": [],
   "source": [
    "g = pd.Series([4.0, 5.0, 6.0, 7.0], index = ['a', 'a', 'c', 'a'])\n",
    "g"
   ]
  },
  {
   "cell_type": "code",
   "execution_count": null,
   "id": "25f4f269",
   "metadata": {},
   "outputs": [],
   "source": [
    "# 使用笛卡兒積 # 假設 f 有 n 個 'a' 標籤， g 有 m 個 'a' 標籤，出來會有 n*m 個 'a'\n",
    "f + g "
   ]
  },
  {
   "cell_type": "markdown",
   "id": "17633c2c",
   "metadata": {},
   "source": [
    "## 布林選擇"
   ]
  },
  {
   "cell_type": "code",
   "execution_count": null,
   "id": "29238281",
   "metadata": {},
   "outputs": [],
   "source": [
    "a = pd.Series(np.arange(0, 5), index = list('abcde'))\n",
    "a"
   ]
  },
  {
   "cell_type": "code",
   "execution_count": null,
   "id": "9fd3f5f5",
   "metadata": {},
   "outputs": [],
   "source": [
    "logical_results = a >= 3\n",
    "logical_results"
   ]
  },
  {
   "cell_type": "code",
   "execution_count": null,
   "id": "8947e304",
   "metadata": {},
   "outputs": [],
   "source": [
    "a[logical_results]"
   ]
  },
  {
   "cell_type": "code",
   "execution_count": null,
   "id": "d89e84d0",
   "metadata": {},
   "outputs": [],
   "source": [
    "a[a > 1]"
   ]
  },
  {
   "cell_type": "code",
   "execution_count": null,
   "id": "2c0c8648",
   "metadata": {},
   "outputs": [],
   "source": [
    "a[(a >= 2) and (a < 5)] # 使用 and、or 會產生例外"
   ]
  },
  {
   "cell_type": "code",
   "execution_count": null,
   "id": "e8b67bbd",
   "metadata": {},
   "outputs": [],
   "source": [
    "a[(a >= 2) & (a < 5)] # 改用 &、| "
   ]
  },
  {
   "cell_type": "code",
   "execution_count": null,
   "id": "41dae99a",
   "metadata": {},
   "outputs": [],
   "source": [
    "(a >= 0).all()"
   ]
  },
  {
   "cell_type": "code",
   "execution_count": null,
   "id": "624eb2e8",
   "metadata": {},
   "outputs": [],
   "source": [
    "(a < 2).any()"
   ]
  },
  {
   "cell_type": "code",
   "execution_count": null,
   "id": "eaf3e990",
   "metadata": {},
   "outputs": [],
   "source": [
    "(a < 2).sum()"
   ]
  },
  {
   "cell_type": "markdown",
   "id": "20cab7ed",
   "metadata": {},
   "source": [
    "## 將序列重新索引"
   ]
  },
  {
   "cell_type": "code",
   "execution_count": null,
   "id": "e2651ad8",
   "metadata": {},
   "outputs": [],
   "source": [
    "np.random.seed(123456)\n",
    "a = pd.Series(np.random.randn(5))\n",
    "a"
   ]
  },
  {
   "cell_type": "code",
   "execution_count": null,
   "id": "8194246a",
   "metadata": {},
   "outputs": [],
   "source": [
    "# in-place\n",
    "# 是直接改索引標籤，值不會跟著變動\n",
    "a.index = [4, 3, 2, 1, 0]\n",
    "a"
   ]
  },
  {
   "cell_type": "code",
   "execution_count": null,
   "id": "f6b823db",
   "metadata": {},
   "outputs": [],
   "source": [
    "a.index = ['a', 'b', 'c', 'd', 'e'] \n",
    "a"
   ]
  },
  {
   "cell_type": "markdown",
   "id": "3ec04e9b",
   "metadata": {},
   "source": [
    "---"
   ]
  },
  {
   "cell_type": "code",
   "execution_count": null,
   "id": "58db61bc",
   "metadata": {},
   "outputs": [],
   "source": [
    "# 應用\n",
    "d = pd.Series([0, 1, 2], index = [0, 1, 2])\n",
    "e = pd.Series([3, 4, 5], index = ['0', '1', '2'])\n",
    "d"
   ]
  },
  {
   "cell_type": "code",
   "execution_count": null,
   "id": "e585b2f2",
   "metadata": {},
   "outputs": [],
   "source": [
    "e"
   ]
  },
  {
   "cell_type": "code",
   "execution_count": null,
   "id": "9d591255",
   "metadata": {},
   "outputs": [],
   "source": [
    "d + e"
   ]
  },
  {
   "cell_type": "code",
   "execution_count": null,
   "id": "d3b862d8",
   "metadata": {},
   "outputs": [],
   "source": [
    "# 也可以用 e.index = e.index.astype('int')\n",
    "e.index = e.index.values.astype('int')\n",
    "d + e"
   ]
  },
  {
   "cell_type": "markdown",
   "id": "f24d8ab6",
   "metadata": {},
   "source": [
    "---"
   ]
  },
  {
   "cell_type": "code",
   "execution_count": null,
   "id": "ba853ee9",
   "metadata": {},
   "outputs": [],
   "source": [
    "b = pd.Series(np.random.randn(4), index = ['a', 'b', 'c', 'd'])\n",
    "b"
   ]
  },
  {
   "cell_type": "code",
   "execution_count": null,
   "id": "f27b2a16",
   "metadata": {},
   "outputs": [],
   "source": [
    "c = b.reindex(['a', 'c', 'g']) # reindex 方法不是 in-place\n",
    "c"
   ]
  },
  {
   "cell_type": "code",
   "execution_count": null,
   "id": "4134cc87",
   "metadata": {},
   "outputs": [],
   "source": [
    "d = pd.Series(np.random.randn(5), index = list('abced'))\n",
    "d"
   ]
  },
  {
   "cell_type": "code",
   "execution_count": null,
   "id": "80bdc98e",
   "metadata": {},
   "outputs": [],
   "source": [
    "e = d.reindex(['a', 'f'], fill_value = 0)\n",
    "e"
   ]
  },
  {
   "cell_type": "code",
   "execution_count": null,
   "id": "6c8cc301",
   "metadata": {},
   "outputs": [],
   "source": [
    "f = pd.Series(['red', 'green', 'blue'], index = [0, 3, 5])\n",
    "f"
   ]
  },
  {
   "cell_type": "code",
   "execution_count": null,
   "id": "1e7af4a8",
   "metadata": {},
   "outputs": [],
   "source": [
    "g = f.reindex(np.arange(0, 7), method = 'ffill')\n",
    "g"
   ]
  },
  {
   "cell_type": "code",
   "execution_count": null,
   "id": "e6215a9c",
   "metadata": {},
   "outputs": [],
   "source": [
    "h = f.reindex(np.arange(0, 7), method = 'bfill')\n",
    "h"
   ]
  },
  {
   "cell_type": "markdown",
   "id": "692999d1",
   "metadata": {},
   "source": [
    "## 原地修改序列"
   ]
  },
  {
   "cell_type": "code",
   "execution_count": null,
   "id": "33f4a4a1",
   "metadata": {},
   "outputs": [],
   "source": [
    "np.random.seed(123456)\n",
    "a = pd.Series(np.random.randn(3), index = ['a', 'b', 'c'])\n",
    "a"
   ]
  },
  {
   "cell_type": "code",
   "execution_count": null,
   "id": "941cdf86",
   "metadata": {},
   "outputs": [],
   "source": [
    "a['d'] = 100 # in-place\n",
    "a"
   ]
  },
  {
   "cell_type": "code",
   "execution_count": null,
   "id": "20a0187a",
   "metadata": {},
   "outputs": [],
   "source": [
    "a['d'] = -100 # in-place\n",
    "a"
   ]
  },
  {
   "cell_type": "code",
   "execution_count": null,
   "id": "76f1270e",
   "metadata": {},
   "outputs": [],
   "source": [
    "del a['a'] # in-place\n",
    "a"
   ]
  },
  {
   "cell_type": "markdown",
   "id": "48c6adbb",
   "metadata": {},
   "source": [
    "---"
   ]
  },
  {
   "cell_type": "code",
   "execution_count": null,
   "id": "47846458",
   "metadata": {},
   "outputs": [],
   "source": [
    "b = a.copy()\n",
    "b"
   ]
  },
  {
   "cell_type": "code",
   "execution_count": null,
   "id": "01231350",
   "metadata": {},
   "outputs": [],
   "source": [
    "c = b[:2] # view\n",
    "c"
   ]
  },
  {
   "cell_type": "code",
   "execution_count": null,
   "id": "0970c9c2",
   "metadata": {},
   "outputs": [],
   "source": [
    "c['b'] = 0\n",
    "c"
   ]
  },
  {
   "cell_type": "code",
   "execution_count": null,
   "id": "070c1c3f",
   "metadata": {},
   "outputs": [],
   "source": [
    "b "
   ]
  },
  {
   "cell_type": "code",
   "execution_count": null,
   "id": "44591692",
   "metadata": {},
   "outputs": [],
   "source": [
    "a"
   ]
  },
  {
   "cell_type": "markdown",
   "id": "79c62f40",
   "metadata": {},
   "source": [
    "## 綜合應用"
   ]
  },
  {
   "cell_type": "code",
   "execution_count": null,
   "id": "33229a89",
   "metadata": {},
   "outputs": [],
   "source": [
    "dates = pd.date_range('2016-04-01', '2016-04-06')\n",
    "dates"
   ]
  },
  {
   "cell_type": "code",
   "execution_count": null,
   "id": "775f96bd",
   "metadata": {},
   "outputs": [],
   "source": [
    "temps1 = pd.Series([80, 82, 85, 90, 83, 87], index = dates)\n",
    "temps1"
   ]
  },
  {
   "cell_type": "code",
   "execution_count": null,
   "id": "84912c42",
   "metadata": {},
   "outputs": [],
   "source": [
    "temps1['2016-04-04']"
   ]
  },
  {
   "cell_type": "markdown",
   "id": "d272e61b",
   "metadata": {},
   "source": [
    "---"
   ]
  },
  {
   "cell_type": "code",
   "execution_count": null,
   "id": "e3d941de",
   "metadata": {},
   "outputs": [],
   "source": [
    "temps2 = pd.Series([70, 75, 69, 83, 79, 77], index = dates)\n",
    "temps2"
   ]
  },
  {
   "cell_type": "code",
   "execution_count": null,
   "id": "909c7d39",
   "metadata": {},
   "outputs": [],
   "source": [
    "# 會進行對齊\n",
    "temp_diffs = temps1 - temps2\n",
    "temp_diffs"
   ]
  },
  {
   "cell_type": "code",
   "execution_count": null,
   "id": "67095436",
   "metadata": {},
   "outputs": [],
   "source": [
    "temp_diffs[2]"
   ]
  },
  {
   "cell_type": "code",
   "execution_count": null,
   "id": "824c778d",
   "metadata": {},
   "outputs": [],
   "source": [
    "temp_diffs.mean()"
   ]
  },
  {
   "cell_type": "markdown",
   "id": "e8c5cbf0",
   "metadata": {},
   "source": [
    "---"
   ]
  },
  {
   "cell_type": "code",
   "execution_count": null,
   "id": "654eb3f7",
   "metadata": {},
   "outputs": [],
   "source": [
    "sdata = {'Ohio': 35000, 'Texas': 71000, 'Oregon': 16000, 'Utah': 5000}\n",
    "a = pd.Series(sdata)\n",
    "a"
   ]
  },
  {
   "cell_type": "code",
   "execution_count": null,
   "id": "3ceff80f",
   "metadata": {},
   "outputs": [],
   "source": [
    "'Ohio' in a "
   ]
  },
  {
   "cell_type": "code",
   "execution_count": null,
   "id": "e1a19dd9",
   "metadata": {},
   "outputs": [],
   "source": [
    "'california' in a"
   ]
  },
  {
   "cell_type": "code",
   "execution_count": null,
   "id": "3231af9b",
   "metadata": {},
   "outputs": [],
   "source": [
    "# 會執行對齊\n",
    "states = ['california', 'Ohio', 'Oregon', 'Texas']\n",
    "b = pd.Series(a, index = states)\n",
    "b"
   ]
  },
  {
   "cell_type": "code",
   "execution_count": null,
   "id": "33482687",
   "metadata": {},
   "outputs": [],
   "source": [
    "pd.isnull(b) # 也可寫成方法 b.isnull()"
   ]
  },
  {
   "cell_type": "code",
   "execution_count": null,
   "id": "ca47d1ab",
   "metadata": {},
   "outputs": [],
   "source": [
    "pd.notnull(b)"
   ]
  },
  {
   "cell_type": "code",
   "execution_count": null,
   "id": "5e7f09e3",
   "metadata": {},
   "outputs": [],
   "source": [
    "a + b "
   ]
  },
  {
   "cell_type": "code",
   "execution_count": null,
   "id": "4545f943",
   "metadata": {},
   "outputs": [],
   "source": [
    "b.name = 'population'\n",
    "b"
   ]
  },
  {
   "cell_type": "code",
   "execution_count": null,
   "id": "7c023a72",
   "metadata": {},
   "outputs": [],
   "source": [
    "b.index.name = 'state'\n",
    "b"
   ]
  }
 ],
 "metadata": {
  "kernelspec": {
   "display_name": "Python 3",
   "language": "python",
   "name": "python3"
  },
  "language_info": {
   "codemirror_mode": {
    "name": "ipython",
    "version": 3
   },
   "file_extension": ".py",
   "mimetype": "text/x-python",
   "name": "python",
   "nbconvert_exporter": "python",
   "pygments_lexer": "ipython3",
   "version": "3.8.10"
  }
 },
 "nbformat": 4,
 "nbformat_minor": 5
}
