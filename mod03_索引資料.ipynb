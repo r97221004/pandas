{
 "cells": [
  {
   "cell_type": "markdown",
   "id": "f8ce27a2",
   "metadata": {},
   "source": [
    "#  <font color=red> Module_03_索引資料</font>"
   ]
  },
  {
   "cell_type": "markdown",
   "id": "4f4c6dae",
   "metadata": {},
   "source": [
    "## 索引的重要性"
   ]
  },
  {
   "cell_type": "code",
   "execution_count": null,
   "id": "8718407a",
   "metadata": {},
   "outputs": [],
   "source": [
    "import pandas as pd\n",
    "import numpy as np\n",
    "from datetime import datetime\n",
    "\n",
    "np.random.seed(123456)\n",
    "df = pd.DataFrame({'foo': np.random.random(10000), 'key': range(100, 10100)})\n",
    "df"
   ]
  },
  {
   "cell_type": "code",
   "execution_count": null,
   "id": "75d2e05a",
   "metadata": {},
   "outputs": [],
   "source": [
    "df[df.key == 10099] # 直線搜尋所有資料，沒有效率"
   ]
  },
  {
   "cell_type": "code",
   "execution_count": null,
   "id": "e8c7d673",
   "metadata": {},
   "outputs": [],
   "source": [
    "%timeit df[df.key == 10099]"
   ]
  },
  {
   "cell_type": "markdown",
   "id": "b04213d6",
   "metadata": {},
   "source": [
    "---"
   ]
  },
  {
   "cell_type": "code",
   "execution_count": null,
   "id": "074a2427",
   "metadata": {},
   "outputs": [],
   "source": [
    "df_with_index = df.set_index(['key'])\n",
    "df_with_index"
   ]
  },
  {
   "cell_type": "code",
   "execution_count": null,
   "id": "7c3658ed",
   "metadata": {},
   "outputs": [],
   "source": [
    "df_with_index.loc[10099] # 索引利用直接查詢而非搜尋的方式，較有效率 "
   ]
  },
  {
   "cell_type": "code",
   "execution_count": null,
   "id": "2570f7cb",
   "metadata": {},
   "outputs": [],
   "source": [
    "%timeit df_with_index.loc[10099] # 缺點是需要花時間建立索引，也會消耗更多記憶體"
   ]
  },
  {
   "cell_type": "markdown",
   "id": "fc0439b0",
   "metadata": {},
   "source": [
    "## 基本型別的索引"
   ]
  },
  {
   "cell_type": "code",
   "execution_count": null,
   "id": "87a524d9",
   "metadata": {},
   "outputs": [],
   "source": [
    "temps = pd.DataFrame({'City': ['Missoula', 'Philadelphia'],\n",
    "                      'Temperature': [70, 80] })\n",
    "temps"
   ]
  },
  {
   "cell_type": "code",
   "execution_count": null,
   "id": "14ae0fb8",
   "metadata": {},
   "outputs": [],
   "source": [
    "temps.columns # 基本型別，內含值須是要可雜湊的 (hashable)，可雜湊的可先想成不可變的資料型態"
   ]
  },
  {
   "cell_type": "markdown",
   "id": "a4653f2e",
   "metadata": {},
   "source": [
    "## 整數索引標籤- Int64Index 及 RangeIndex"
   ]
  },
  {
   "cell_type": "code",
   "execution_count": null,
   "id": "1a2763d4",
   "metadata": {},
   "outputs": [],
   "source": [
    "df_i64 = pd.DataFrame(np.arange(10, 20, 2), index = np.arange(0, 10, 2))\n",
    "df_i64"
   ]
  },
  {
   "cell_type": "code",
   "execution_count": null,
   "id": "154ff9c4",
   "metadata": {},
   "outputs": [],
   "source": [
    "df_i64.index"
   ]
  },
  {
   "cell_type": "markdown",
   "id": "8e21f986",
   "metadata": {},
   "source": [
    "---"
   ]
  },
  {
   "cell_type": "code",
   "execution_count": null,
   "id": "b2ee17f5",
   "metadata": {},
   "outputs": [],
   "source": [
    "df_range = pd.DataFrame(np.arange(10, 15))\n",
    "df_range"
   ]
  },
  {
   "cell_type": "code",
   "execution_count": null,
   "id": "e4f119e4",
   "metadata": {},
   "outputs": [],
   "source": [
    "df_range.index # 預設索引 # 只要三個值，節省記憶體，且執行時間跟 Int64Index 同一等級"
   ]
  },
  {
   "cell_type": "markdown",
   "id": "0dfec78d",
   "metadata": {},
   "source": [
    "---"
   ]
  },
  {
   "cell_type": "code",
   "execution_count": null,
   "id": "dfb31802",
   "metadata": {},
   "outputs": [],
   "source": [
    "# 每種索引標籤都可用類似這樣的建立方法來建立，試試看!\n",
    "index  = pd.RangeIndex(0, 10, 2)\n",
    "df = pd.DataFrame(np.random.randn(len(index)), index = index, columns = ['Col1'])\n",
    "df"
   ]
  },
  {
   "cell_type": "code",
   "execution_count": null,
   "id": "3af81bf0",
   "metadata": {},
   "outputs": [],
   "source": [
    "df.index"
   ]
  },
  {
   "cell_type": "markdown",
   "id": "e7103f0c",
   "metadata": {},
   "source": [
    "## 浮點索引標籤- Float64Index"
   ]
  },
  {
   "cell_type": "code",
   "execution_count": null,
   "id": "da9d7c2b",
   "metadata": {},
   "outputs": [],
   "source": [
    "df_f64 = pd.DataFrame(np.arange(0, 1000, 5),\n",
    "                     index = np.arange(0, 100, 0.5))\n",
    "df_f64"
   ]
  },
  {
   "cell_type": "code",
   "execution_count": null,
   "id": "f5616ea5",
   "metadata": {},
   "outputs": [],
   "source": [
    "df_f64[:5] # 因為不會搞混，所以這裡被當成使用索引標籤切割 # 有包含 5 "
   ]
  },
  {
   "cell_type": "code",
   "execution_count": null,
   "id": "4ffd8056",
   "metadata": {},
   "outputs": [],
   "source": [
    "df_f64.index"
   ]
  },
  {
   "cell_type": "markdown",
   "id": "233f5272",
   "metadata": {},
   "source": [
    "## 離散區間- IntervalIndex"
   ]
  },
  {
   "cell_type": "code",
   "execution_count": null,
   "id": "657ee836",
   "metadata": {},
   "outputs": [],
   "source": [
    "df_inerval = pd.DataFrame({'A': [1, 2, 3, 4]},\n",
    "                           index = pd.IntervalIndex.from_breaks([0, 0.5, 1.0, 1.5, 2.0])) \n",
    "df_inerval"
   ]
  },
  {
   "cell_type": "code",
   "execution_count": null,
   "id": "cc8ba56d",
   "metadata": {},
   "outputs": [],
   "source": [
    "df_inerval.index"
   ]
  },
  {
   "cell_type": "markdown",
   "id": "9e40aaa5",
   "metadata": {},
   "source": [
    "---"
   ]
  },
  {
   "cell_type": "code",
   "execution_count": null,
   "id": "fbf5abab",
   "metadata": {},
   "outputs": [],
   "source": [
    "index = pd.IntervalIndex.from_breaks([0, 10, 20, 30], closed = 'left') # 有 closed 參數可用\n",
    "df = pd.DataFrame(np.random.randn(len(index)), index = index)\n",
    "df"
   ]
  },
  {
   "cell_type": "code",
   "execution_count": null,
   "id": "a502e080",
   "metadata": {},
   "outputs": [],
   "source": [
    "df.index"
   ]
  },
  {
   "cell_type": "markdown",
   "id": "48877d08",
   "metadata": {},
   "source": [
    "## 以類別值作為索引-CategoricalIndex"
   ]
  },
  {
   "cell_type": "code",
   "execution_count": null,
   "id": "855c1f45",
   "metadata": {},
   "outputs": [],
   "source": [
    "import pandas as pd\n",
    "import numpy as np"
   ]
  },
  {
   "cell_type": "code",
   "execution_count": null,
   "id": "7af5b14f",
   "metadata": {},
   "outputs": [],
   "source": [
    "df_categorical = pd.DataFrame({'A': np.arange(6),\n",
    "                               'B': list('aabbca')})\n",
    "df = df_categorical.copy()\n",
    "df"
   ]
  },
  {
   "cell_type": "code",
   "execution_count": null,
   "id": "dd662542",
   "metadata": {},
   "outputs": [],
   "source": [
    "df = df.set_index('B')\n",
    "df"
   ]
  },
  {
   "cell_type": "code",
   "execution_count": null,
   "id": "9bae4750",
   "metadata": {},
   "outputs": [],
   "source": [
    "df.index # 這樣是基本索引"
   ]
  },
  {
   "cell_type": "code",
   "execution_count": null,
   "id": "f6824222",
   "metadata": {},
   "outputs": [],
   "source": [
    "df.loc['a']"
   ]
  },
  {
   "cell_type": "markdown",
   "id": "2d1aa5c8",
   "metadata": {},
   "source": [
    "---"
   ]
  },
  {
   "cell_type": "code",
   "execution_count": null,
   "id": "7ebb6074",
   "metadata": {},
   "outputs": [],
   "source": [
    "df_categorical"
   ]
  },
  {
   "cell_type": "code",
   "execution_count": null,
   "id": "c92ec99a",
   "metadata": {},
   "outputs": [],
   "source": [
    "df_categorical['B'] = df_categorical['B'].astype('category')\n",
    "df_categorical"
   ]
  },
  {
   "cell_type": "code",
   "execution_count": null,
   "id": "081fb111",
   "metadata": {},
   "outputs": [],
   "source": [
    "df_categorical = df_categorical.set_index('B')\n",
    "df_categorical"
   ]
  },
  {
   "cell_type": "code",
   "execution_count": null,
   "id": "4bb656a0",
   "metadata": {},
   "outputs": [],
   "source": [
    "df_categorical.index # 類別索引，之後會有更多討論"
   ]
  },
  {
   "cell_type": "code",
   "execution_count": null,
   "id": "7eba33eb",
   "metadata": {},
   "outputs": [],
   "source": [
    "df_categorical.loc['a']"
   ]
  },
  {
   "cell_type": "markdown",
   "id": "e6144514",
   "metadata": {},
   "source": [
    "---"
   ]
  },
  {
   "cell_type": "code",
   "execution_count": null,
   "id": "cf328c30",
   "metadata": {},
   "outputs": [],
   "source": [
    "ages = np.random.randint(0, 80, 20)\n",
    "bins = [0, 15, 45, 60, 80]\n",
    "pieces = pd.cut(ages, bins = bins, right = False)\n",
    "pieces"
   ]
  },
  {
   "cell_type": "code",
   "execution_count": null,
   "id": "96c9e957",
   "metadata": {},
   "outputs": [],
   "source": [
    "s = pieces.value_counts()\n",
    "s"
   ]
  },
  {
   "cell_type": "code",
   "execution_count": null,
   "id": "74463bee",
   "metadata": {},
   "outputs": [],
   "source": [
    "s.index"
   ]
  },
  {
   "cell_type": "markdown",
   "id": "4d78afec",
   "metadata": {},
   "source": [
    "## 以日期及時間作為索引- DatetimeIndex"
   ]
  },
  {
   "cell_type": "code",
   "execution_count": null,
   "id": "aa322a79",
   "metadata": {},
   "outputs": [],
   "source": [
    "rng = pd.date_range('5/1/2017', periods = 5, freq = 'H')\n",
    "rng"
   ]
  },
  {
   "cell_type": "code",
   "execution_count": null,
   "id": "fac45708",
   "metadata": {},
   "outputs": [],
   "source": [
    "ts = pd.Series(np.random.randn(len(rng)), index = rng)\n",
    "ts"
   ]
  },
  {
   "cell_type": "code",
   "execution_count": null,
   "id": "10e88ea7",
   "metadata": {},
   "outputs": [],
   "source": [
    "ts.index # 用日期與時間的索引標籤查詢的效率高"
   ]
  },
  {
   "cell_type": "markdown",
   "id": "32de038f",
   "metadata": {},
   "source": [
    "## 以時間期間作為索引- PeriodIndex"
   ]
  },
  {
   "cell_type": "code",
   "execution_count": null,
   "id": "94364e8b",
   "metadata": {},
   "outputs": [],
   "source": [
    "# 以月為期間\n",
    "# 之後有一節會詳細介紹\n",
    "periods = pd.PeriodIndex(['2017-1', '2017-2', '2017-3'], freq = 'M')\n",
    "periods"
   ]
  },
  {
   "cell_type": "code",
   "execution_count": null,
   "id": "2edde729",
   "metadata": {},
   "outputs": [],
   "source": [
    "period_series = pd.Series(np.random.randn(len(periods)), index = periods)\n",
    "period_series"
   ]
  },
  {
   "cell_type": "code",
   "execution_count": null,
   "id": "f04d24f9",
   "metadata": {},
   "outputs": [],
   "source": [
    "period_series.index"
   ]
  },
  {
   "cell_type": "markdown",
   "id": "13c86f43",
   "metadata": {},
   "source": [
    "## 在序列或資料框中建立與使用索引"
   ]
  },
  {
   "cell_type": "code",
   "execution_count": null,
   "id": "eb1efdc5",
   "metadata": {},
   "outputs": [],
   "source": [
    "index = pd.date_range('5/1/2017', periods = 5, freq = 'H')\n",
    "index"
   ]
  },
  {
   "cell_type": "code",
   "execution_count": null,
   "id": "8db6ccc0",
   "metadata": {},
   "outputs": [],
   "source": [
    "df_date_times = pd.DataFrame(np.arange(len(index)), index = index)\n",
    "df_date_times"
   ]
  },
  {
   "cell_type": "markdown",
   "id": "4a495d63",
   "metadata": {},
   "source": [
    "---"
   ]
  },
  {
   "cell_type": "code",
   "execution_count": null,
   "id": "cb01735a",
   "metadata": {},
   "outputs": [],
   "source": [
    "# 也可用 .index 屬性設定\n",
    "df_date_times.index = pd.date_range('2020-01-01', periods = 5, freq = 'D')\n",
    "df_date_times"
   ]
  },
  {
   "cell_type": "markdown",
   "id": "f761bf56",
   "metadata": {},
   "source": [
    "---"
   ]
  },
  {
   "cell_type": "code",
   "execution_count": null,
   "id": "7890caa1",
   "metadata": {},
   "outputs": [],
   "source": [
    "index = pd.DatetimeIndex(['2020-1-7 00:03:00', '2020-2-8', '2020-3-9'])\n",
    "index"
   ]
  },
  {
   "cell_type": "code",
   "execution_count": null,
   "id": "bae74968",
   "metadata": {},
   "outputs": [],
   "source": [
    "df  = pd.DataFrame(np.arange(len(index)), index = index)\n",
    "df"
   ]
  },
  {
   "cell_type": "code",
   "execution_count": null,
   "id": "f033864b",
   "metadata": {},
   "outputs": [],
   "source": [
    "df.index"
   ]
  },
  {
   "cell_type": "markdown",
   "id": "bbea1fc9",
   "metadata": {},
   "source": [
    "## 利用索引選取資料"
   ]
  },
  {
   "cell_type": "code",
   "execution_count": null,
   "id": "26892efa",
   "metadata": {},
   "outputs": [],
   "source": [
    "s = pd.Series(np.arange(0, 5), index = list('abcde'))\n",
    "s"
   ]
  },
  {
   "cell_type": "code",
   "execution_count": null,
   "id": "ae41debf",
   "metadata": {},
   "outputs": [],
   "source": [
    "s['b']"
   ]
  },
  {
   "cell_type": "code",
   "execution_count": null,
   "id": "920b7db1",
   "metadata": {},
   "outputs": [],
   "source": [
    "s.loc['b']"
   ]
  },
  {
   "cell_type": "code",
   "execution_count": null,
   "id": "df579669",
   "metadata": {},
   "outputs": [],
   "source": [
    "s['b':'d']   "
   ]
  },
  {
   "cell_type": "code",
   "execution_count": null,
   "id": "d87c9584",
   "metadata": {},
   "outputs": [],
   "source": [
    "s.loc[['a', 'c', 'e']]"
   ]
  },
  {
   "cell_type": "markdown",
   "id": "2b873b91",
   "metadata": {},
   "source": [
    "---"
   ]
  },
  {
   "cell_type": "code",
   "execution_count": null,
   "id": "6c18c5e7",
   "metadata": {},
   "outputs": [],
   "source": [
    "df = pd.DataFrame([np.arange(10, 12), np.arange(12, 14)], columns = list('ab'), index = list('vw') )\n",
    "df"
   ]
  },
  {
   "cell_type": "code",
   "execution_count": null,
   "id": "d9259d32",
   "metadata": {},
   "outputs": [],
   "source": [
    "df['a']"
   ]
  },
  {
   "cell_type": "code",
   "execution_count": null,
   "id": "4d6548b7",
   "metadata": {},
   "outputs": [],
   "source": [
    "df.loc['w']"
   ]
  },
  {
   "cell_type": "markdown",
   "id": "7629ed63",
   "metadata": {},
   "source": [
    "## 把資料移入及移出索引"
   ]
  },
  {
   "cell_type": "code",
   "execution_count": null,
   "id": "4b706a7b",
   "metadata": {},
   "outputs": [],
   "source": [
    "sp500 = pd.read_csv('./mod01/sp500.csv', index_col = 'Symbol', usecols = [0, 2, 3, 7])\n",
    "sp500.head()"
   ]
  },
  {
   "cell_type": "code",
   "execution_count": null,
   "id": "cf47aa9c",
   "metadata": {},
   "outputs": [],
   "source": [
    "index_moved_to_col = sp500.reset_index()\n",
    "index_moved_to_col[:5]"
   ]
  },
  {
   "cell_type": "code",
   "execution_count": null,
   "id": "a3332121",
   "metadata": {},
   "outputs": [],
   "source": [
    "index_moved_to_col.set_index('Sector')[:5]"
   ]
  },
  {
   "cell_type": "markdown",
   "id": "87897c0f",
   "metadata": {},
   "source": [
    "---"
   ]
  },
  {
   "cell_type": "code",
   "execution_count": null,
   "id": "25ad9c93",
   "metadata": {},
   "outputs": [],
   "source": [
    "frame = pd.DataFrame({'a': range(7),\n",
    "                      'b': range(7, 0, -1),\n",
    "                      'c': ['one','one','one','two','two','two','two'],\n",
    "                      'd': [0, 1, 2, 0, 1, 2, 3]})\n",
    "frame"
   ]
  },
  {
   "cell_type": "code",
   "execution_count": null,
   "id": "4afca262",
   "metadata": {},
   "outputs": [],
   "source": [
    "frame2 = frame.set_index(['c', 'd'])\n",
    "frame2"
   ]
  },
  {
   "cell_type": "code",
   "execution_count": null,
   "id": "fcb710e8",
   "metadata": {},
   "outputs": [],
   "source": [
    "frame.set_index(['c', 'd'], drop = False) # 選擇留下欄位"
   ]
  },
  {
   "cell_type": "code",
   "execution_count": null,
   "id": "d2cc12eb",
   "metadata": {},
   "outputs": [],
   "source": [
    "frame2"
   ]
  },
  {
   "cell_type": "code",
   "execution_count": null,
   "id": "9f9a0ae0",
   "metadata": {},
   "outputs": [],
   "source": [
    "frame2.reset_index()"
   ]
  },
  {
   "cell_type": "markdown",
   "id": "b1f04628",
   "metadata": {},
   "source": [
    "---"
   ]
  },
  {
   "cell_type": "code",
   "execution_count": null,
   "id": "8290d4f6",
   "metadata": {},
   "outputs": [],
   "source": [
    "df1 = pd.DataFrame(np.random.randn(4, 2))\n",
    "df1"
   ]
  },
  {
   "cell_type": "code",
   "execution_count": null,
   "id": "4879b21f",
   "metadata": {},
   "outputs": [],
   "source": [
    "df2 = pd.DataFrame(np.random.randn(3, 2))\n",
    "df2"
   ]
  },
  {
   "cell_type": "code",
   "execution_count": null,
   "id": "54766c94",
   "metadata": {},
   "outputs": [],
   "source": [
    "df3 = pd.concat([df1, df2])\n",
    "df3"
   ]
  },
  {
   "cell_type": "code",
   "execution_count": null,
   "id": "f11dbd34",
   "metadata": {},
   "outputs": [],
   "source": [
    "df3.reset_index()"
   ]
  },
  {
   "cell_type": "code",
   "execution_count": null,
   "id": "8db70d0c",
   "metadata": {},
   "outputs": [],
   "source": [
    "# 把原來的索引標籤直接丟棄 # 就地就改\n",
    "df3.reset_index(drop = True, inplace = True)\n",
    "df3"
   ]
  },
  {
   "cell_type": "markdown",
   "id": "5cd1e2ad",
   "metadata": {},
   "source": [
    "## 重新索引 pandas 物件"
   ]
  },
  {
   "cell_type": "code",
   "execution_count": null,
   "id": "98c9b045",
   "metadata": {},
   "outputs": [],
   "source": [
    "sp500 = pd.read_csv('./mod01/sp500.csv', index_col = 'Symbol', usecols = [0, 2, 3, 7])\n",
    "sp500.head()"
   ]
  },
  {
   "cell_type": "code",
   "execution_count": null,
   "id": "f68b8ad1",
   "metadata": {},
   "outputs": [],
   "source": [
    "reindexed = sp500.reindex( index = ['MMM', 'ABBV', 'FOO'])\n",
    "reindexed"
   ]
  },
  {
   "cell_type": "code",
   "execution_count": null,
   "id": "7f589420",
   "metadata": {},
   "outputs": [],
   "source": [
    "sp500.reindex(columns = ['Price', 'Book Value', 'NewCol'])[:5]"
   ]
  },
  {
   "cell_type": "markdown",
   "id": "6a667995",
   "metadata": {},
   "source": [
    "## 階層式索引"
   ]
  },
  {
   "cell_type": "code",
   "execution_count": null,
   "id": "4857ae2e",
   "metadata": {},
   "outputs": [],
   "source": [
    "# 從外面開始是 leve1 = 0, level = 1,...\n",
    "# 列表的第 0 個元素放在 level = 0，列表的第 1 個元素放在 level = 1\n",
    "data = pd.Series(np.random.randn(9), \n",
    "                 index = [['a', 'a', 'a', 'b', 'b', 'c', 'c', 'd', 'd'],\n",
    "                          [1, 2, 3, 1, 3, 1, 2, 2, 3]])\n",
    "data"
   ]
  },
  {
   "cell_type": "code",
   "execution_count": null,
   "id": "cf4808a5",
   "metadata": {},
   "outputs": [],
   "source": [
    "data.index"
   ]
  },
  {
   "cell_type": "code",
   "execution_count": null,
   "id": "b3691d5d",
   "metadata": {},
   "outputs": [],
   "source": [
    "# 不是階層索引了\n",
    "data['b']"
   ]
  },
  {
   "cell_type": "code",
   "execution_count": null,
   "id": "b7565494",
   "metadata": {},
   "outputs": [],
   "source": [
    "# 還是階層索引\n",
    "data['b':'c']"
   ]
  },
  {
   "cell_type": "code",
   "execution_count": null,
   "id": "9eb5b276",
   "metadata": {},
   "outputs": [],
   "source": [
    "# 還是階層索引\n",
    "data[['b', 'd']]"
   ]
  },
  {
   "cell_type": "code",
   "execution_count": null,
   "id": "a8a71c71",
   "metadata": {},
   "outputs": [],
   "source": [
    "# 不是階層索引了\n",
    "data[:, 2]"
   ]
  },
  {
   "cell_type": "markdown",
   "id": "b2935fcc",
   "metadata": {},
   "source": [
    "---"
   ]
  },
  {
   "cell_type": "code",
   "execution_count": null,
   "id": "613001de",
   "metadata": {},
   "outputs": [],
   "source": [
    "data"
   ]
  },
  {
   "cell_type": "code",
   "execution_count": null,
   "id": "33c88d15",
   "metadata": {},
   "outputs": [],
   "source": [
    "# 後面章節會講解\n",
    "# 不管是堆疊或解堆疊，都是某層級索引移至另一軸的最後一層索引\n",
    "# not in-place\n",
    "data.unstack(level = 1) "
   ]
  },
  {
   "cell_type": "code",
   "execution_count": null,
   "id": "c89f132d",
   "metadata": {},
   "outputs": [],
   "source": [
    "data"
   ]
  },
  {
   "cell_type": "code",
   "execution_count": null,
   "id": "88f07ee0",
   "metadata": {},
   "outputs": [],
   "source": [
    "data.unstack(level = 0)"
   ]
  },
  {
   "cell_type": "code",
   "execution_count": null,
   "id": "e0876ddb",
   "metadata": {},
   "outputs": [],
   "source": [
    "# 預設 level = -1， 最裡面的 level\n",
    "data.unstack()"
   ]
  },
  {
   "cell_type": "code",
   "execution_count": null,
   "id": "65d3ce0a",
   "metadata": {},
   "outputs": [],
   "source": [
    "data.unstack().stack()"
   ]
  },
  {
   "cell_type": "code",
   "execution_count": null,
   "id": "493ca5b8",
   "metadata": {},
   "outputs": [],
   "source": [
    "data.unstack().unstack()"
   ]
  },
  {
   "cell_type": "markdown",
   "id": "bc548905",
   "metadata": {},
   "source": [
    "---"
   ]
  },
  {
   "cell_type": "code",
   "execution_count": null,
   "id": "cb212e4d",
   "metadata": {},
   "outputs": [],
   "source": [
    "# 欄位的階層索引標籤類似 ，列表的第 0 個元素 放在最外面的 level = 0，列表的第 1 個元素  level = 1,...\n",
    "frame = pd.DataFrame(np.arange(12).reshape(4, 3),\n",
    "                     index = [['a', 'a', 'b', 'b'], [1, 2, 1, 2]],\n",
    "                     columns = [['Ohio', 'Ohio', 'Colorado'], ['Green', 'Red', 'Green']])\n",
    "frame"
   ]
  },
  {
   "cell_type": "code",
   "execution_count": null,
   "id": "7e855c76",
   "metadata": {},
   "outputs": [],
   "source": [
    "frame.index.names = ['key1', 'key2']"
   ]
  },
  {
   "cell_type": "code",
   "execution_count": null,
   "id": "882e428b",
   "metadata": {},
   "outputs": [],
   "source": [
    "frame.columns.names = ['state', 'color']"
   ]
  },
  {
   "cell_type": "code",
   "execution_count": null,
   "id": "d98aeabf",
   "metadata": {},
   "outputs": [],
   "source": [
    "frame"
   ]
  },
  {
   "cell_type": "code",
   "execution_count": null,
   "id": "3f806324",
   "metadata": {},
   "outputs": [],
   "source": [
    "# 欄位的階層索引不見\n",
    "frame['Ohio']"
   ]
  },
  {
   "cell_type": "code",
   "execution_count": null,
   "id": "b48eca85",
   "metadata": {},
   "outputs": [],
   "source": [
    "# 也可以用 level 的方式來表示，例如 frame.swaplevel(0, 1)\n",
    "# 預設 axis = 0\n",
    "# not in-place \n",
    "frame.swaplevel('key1', 'key2') "
   ]
  },
  {
   "cell_type": "code",
   "execution_count": null,
   "id": "e10dc772",
   "metadata": {},
   "outputs": [],
   "source": [
    "frame.swaplevel('state', 'color', axis = 1) # not in-place"
   ]
  },
  {
   "cell_type": "markdown",
   "id": "dafb1ba1",
   "metadata": {},
   "source": [
    "---"
   ]
  },
  {
   "cell_type": "code",
   "execution_count": null,
   "id": "c350f060",
   "metadata": {},
   "outputs": [],
   "source": [
    "frame"
   ]
  },
  {
   "cell_type": "code",
   "execution_count": null,
   "id": "0406d40a",
   "metadata": {},
   "outputs": [],
   "source": [
    "frame.sort_index(level = 1) # 預設 axis = 0 # not in-place"
   ]
  },
  {
   "cell_type": "code",
   "execution_count": null,
   "id": "1404aa5e",
   "metadata": {},
   "outputs": [],
   "source": [
    "frame"
   ]
  },
  {
   "cell_type": "code",
   "execution_count": null,
   "id": "0f8fbf72",
   "metadata": {},
   "outputs": [],
   "source": [
    "frame.swaplevel(0, 1).sort_index(level = 0)"
   ]
  },
  {
   "cell_type": "markdown",
   "id": "2019aff5",
   "metadata": {},
   "source": [
    "---"
   ]
  },
  {
   "cell_type": "code",
   "execution_count": null,
   "id": "4d631c1b",
   "metadata": {},
   "outputs": [],
   "source": [
    "frame"
   ]
  },
  {
   "cell_type": "code",
   "execution_count": null,
   "id": "cb24cd90",
   "metadata": {},
   "outputs": [],
   "source": [
    "# 跟 MySQL 的 groupby 類似\n",
    "# 預設 axis = 0\n",
    "# 之後會有一談到\n",
    "frame.groupby(level = 'key2').sum() "
   ]
  },
  {
   "cell_type": "code",
   "execution_count": null,
   "id": "9cd7cb2e",
   "metadata": {},
   "outputs": [],
   "source": [
    "frame.groupby(level = 'color', axis = 1).sum() "
   ]
  },
  {
   "cell_type": "markdown",
   "id": "1e7e9562",
   "metadata": {},
   "source": [
    "---"
   ]
  },
  {
   "cell_type": "code",
   "execution_count": null,
   "id": "44101bc9",
   "metadata": {},
   "outputs": [],
   "source": [
    "sp500 = pd.read_csv('./mod01/sp500.csv', index_col = 'Symbol', usecols = [0, 2, 3, 7])\n",
    "sp500.head()"
   ]
  },
  {
   "cell_type": "code",
   "execution_count": null,
   "id": "386e8aef",
   "metadata": {},
   "outputs": [],
   "source": [
    "reindexed = sp500.reset_index()\n",
    "reindexed[:5]"
   ]
  },
  {
   "cell_type": "code",
   "execution_count": null,
   "id": "62401738",
   "metadata": {},
   "outputs": [],
   "source": [
    "multi_fi = reindexed.set_index(['Sector', 'Symbol'])\n",
    "multi_fi[:5]"
   ]
  },
  {
   "cell_type": "code",
   "execution_count": null,
   "id": "2a433d7e",
   "metadata": {},
   "outputs": [],
   "source": [
    "type(multi_fi.index)"
   ]
  },
  {
   "cell_type": "code",
   "execution_count": null,
   "id": "6c165d73",
   "metadata": {},
   "outputs": [],
   "source": [
    "multi_fi.index"
   ]
  },
  {
   "cell_type": "code",
   "execution_count": null,
   "id": "e930159a",
   "metadata": {},
   "outputs": [],
   "source": [
    "multi_fi.index.levels"
   ]
  },
  {
   "cell_type": "code",
   "execution_count": null,
   "id": "e1197639",
   "metadata": {},
   "outputs": [],
   "source": [
    "len(multi_fi.index.levels) # 看索引有幾個層級"
   ]
  },
  {
   "cell_type": "code",
   "execution_count": null,
   "id": "6b2ffd8c",
   "metadata": {},
   "outputs": [],
   "source": [
    "multi_fi.index.levels[0] # 每個層級都是不同的 Index 物件"
   ]
  },
  {
   "cell_type": "code",
   "execution_count": null,
   "id": "9a5105e4",
   "metadata": {},
   "outputs": [],
   "source": [
    "multi_fi.index.levels[1] "
   ]
  },
  {
   "cell_type": "code",
   "execution_count": null,
   "id": "702b2b31",
   "metadata": {},
   "outputs": [],
   "source": [
    " multi_fi.index.get_level_values(level = 0) # 取得特定層級的索引值本身"
   ]
  },
  {
   "cell_type": "markdown",
   "id": "434737fa",
   "metadata": {},
   "source": [
    "---"
   ]
  },
  {
   "cell_type": "code",
   "execution_count": null,
   "id": "06dd1d1e",
   "metadata": {},
   "outputs": [],
   "source": [
    "multi_fi"
   ]
  },
  {
   "cell_type": "code",
   "execution_count": null,
   "id": "56e2ac51",
   "metadata": {},
   "outputs": [],
   "source": [
    "# .xs() 方法用在階層式索引的好處是可以選 level\n",
    "#  預設 axis = 0，level = 0\n",
    "multi_fi.xs('Industrials')"
   ]
  },
  {
   "cell_type": "code",
   "execution_count": null,
   "id": "181755d0",
   "metadata": {},
   "outputs": [],
   "source": [
    "# 預設 level = 0 與 axis = 0，所以跟上面一樣結果\n",
    "multi_fi.xs('Industrials', level = 0)"
   ]
  },
  {
   "cell_type": "code",
   "execution_count": null,
   "id": "14460576",
   "metadata": {},
   "outputs": [],
   "source": [
    "multi_fi.loc['Industrials']"
   ]
  },
  {
   "cell_type": "markdown",
   "id": "e8c11024",
   "metadata": {},
   "source": [
    "---"
   ]
  },
  {
   "cell_type": "code",
   "execution_count": null,
   "id": "293c7d4d",
   "metadata": {},
   "outputs": [],
   "source": [
    "multi_fi.xs('ABT', level = 1)"
   ]
  },
  {
   "cell_type": "code",
   "execution_count": null,
   "id": "72df73cd",
   "metadata": {},
   "outputs": [],
   "source": [
    "# 預設是 drop_level = True，只要大家的索引都一樣，那一個 level 就會被 drop 掉 \n",
    "multi_fi.xs('Industrials', drop_level= False) "
   ]
  },
  {
   "cell_type": "code",
   "execution_count": null,
   "id": "9685bf68",
   "metadata": {},
   "outputs": [],
   "source": [
    "multi_fi.xs('Industrials').xs('AVY')"
   ]
  },
  {
   "cell_type": "code",
   "execution_count": null,
   "id": "5fceaea3",
   "metadata": {},
   "outputs": [],
   "source": [
    "# 或者是傳 tuple\n",
    "# .xs() 只能讀取，不能像 loc 和 iloc 那樣改變值\n",
    "multi_fi.xs(('Industrials', 'AVY'))  "
   ]
  },
  {
   "cell_type": "code",
   "execution_count": null,
   "id": "4c4e20a8",
   "metadata": {},
   "outputs": [],
   "source": [
    "multi_fi.xs('Price', axis = 1)"
   ]
  }
 ],
 "metadata": {
  "kernelspec": {
   "display_name": "Python 3",
   "language": "python",
   "name": "python3"
  },
  "language_info": {
   "codemirror_mode": {
    "name": "ipython",
    "version": 3
   },
   "file_extension": ".py",
   "mimetype": "text/x-python",
   "name": "python",
   "nbconvert_exporter": "python",
   "pygments_lexer": "ipython3",
   "version": "3.8.10"
  }
 },
 "nbformat": 4,
 "nbformat_minor": 5
}
