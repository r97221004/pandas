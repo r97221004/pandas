{
 "cells": [
  {
   "cell_type": "markdown",
   "id": "19ca035b",
   "metadata": {},
   "source": [
    "#  <font color=red> Module_08_資料聚合</font>"
   ]
  },
  {
   "cell_type": "markdown",
   "id": "9131783a",
   "metadata": {},
   "source": [
    "## 拆開資料"
   ]
  },
  {
   "cell_type": "code",
   "execution_count": null,
   "id": "e24b3ca6",
   "metadata": {},
   "outputs": [],
   "source": [
    "import pandas as pd\n",
    "import numpy as np\n",
    "\n",
    "df = pd.DataFrame({'key1' : ['a', 'a', 'b', 'b', 'a'],\n",
    "                   'key2' : ['one', 'two', 'one', 'two', 'one'],\n",
    "                   'data1' : np.random.randn(5),\n",
    "                   'data2' : np.random.randn(5)})\n",
    "df"
   ]
  },
  {
   "cell_type": "code",
   "execution_count": null,
   "id": "6989b795",
   "metadata": {},
   "outputs": [],
   "source": [
    "# 分組的 key 可以是序列\n",
    "# 對應關係要注意\n",
    "# 返回的是一個 GroupBy 的物件\n",
    "grouped = df['data1'].groupby(df['key1'])  \n",
    "grouped "
   ]
  },
  {
   "cell_type": "code",
   "execution_count": null,
   "id": "87b482f7",
   "metadata": {},
   "outputs": [],
   "source": [
    "# 一個序列\n",
    "# 分組的 key 會當索引標籤\n",
    "grouped.mean() "
   ]
  },
  {
   "cell_type": "markdown",
   "id": "051d6ddc",
   "metadata": {},
   "source": [
    "---"
   ]
  },
  {
   "cell_type": "code",
   "execution_count": null,
   "id": "48945f42",
   "metadata": {},
   "outputs": [],
   "source": [
    "means = df['data1'].groupby([df['key1'], df['key2']]).mean()\n",
    "means"
   ]
  },
  {
   "cell_type": "code",
   "execution_count": null,
   "id": "acaacb24",
   "metadata": {},
   "outputs": [],
   "source": [
    "means.unstack()"
   ]
  },
  {
   "cell_type": "markdown",
   "id": "54e6d60d",
   "metadata": {},
   "source": [
    "---"
   ]
  },
  {
   "cell_type": "code",
   "execution_count": null,
   "id": "ad358400",
   "metadata": {},
   "outputs": [],
   "source": [
    "df"
   ]
  },
  {
   "cell_type": "code",
   "execution_count": null,
   "id": "92441776",
   "metadata": {},
   "outputs": [],
   "source": [
    "# 分組的 key 也可以是長度相符的陣列\n",
    "# 分組的 key 會當索引標籤\n",
    "states = np.array(['Ohio', 'California', 'California', 'Ohio', 'Ohio'])\n",
    "years = np.array([2005, 2005, 2006, 2005, 2006])\n",
    "df['data1'].groupby([states, years]).mean()"
   ]
  },
  {
   "cell_type": "markdown",
   "id": "83b6bc89",
   "metadata": {},
   "source": [
    "---"
   ]
  },
  {
   "cell_type": "code",
   "execution_count": null,
   "id": "4835da72",
   "metadata": {},
   "outputs": [],
   "source": [
    "df"
   ]
  },
  {
   "cell_type": "code",
   "execution_count": null,
   "id": "5cf6caee",
   "metadata": {},
   "outputs": [],
   "source": [
    "# 直接使用資料框\n",
    "# 分組的 key 也可以是欄位名稱，此時前面的資料框就要跟欄位有關\n",
    "# key2 的欄位因為不是數值型態，所以不會被包含在輸出結果中，但儘量不要這樣寫\n",
    "df.groupby('key1').mean() "
   ]
  },
  {
   "cell_type": "code",
   "execution_count": null,
   "id": "9f64f136",
   "metadata": {},
   "outputs": [],
   "source": [
    "# 這樣會是比較好的寫法\n",
    "# 先 df.groupby('key1') 得到 GroupBy 的物件\n",
    "# 再用 index 的方式表達要顯示那些欄位 df.groupby('key1')[['data1', 'data2']]\n",
    "# 最後套用聚合方法\n",
    "df.groupby('key1')[['data1', 'data2']].mean() "
   ]
  },
  {
   "cell_type": "markdown",
   "id": "80889795",
   "metadata": {},
   "source": [
    "---"
   ]
  },
  {
   "cell_type": "code",
   "execution_count": null,
   "id": "2fa2169b",
   "metadata": {},
   "outputs": [],
   "source": [
    "df"
   ]
  },
  {
   "cell_type": "code",
   "execution_count": null,
   "id": "a76a77ed",
   "metadata": {},
   "outputs": [],
   "source": [
    "df.groupby(['key1', 'key2']).mean()"
   ]
  },
  {
   "cell_type": "code",
   "execution_count": null,
   "id": "1bcd2ada",
   "metadata": {},
   "outputs": [],
   "source": [
    "# 返回序列\n",
    "# 資料列的個數，是不是遺失值都要算\n",
    "df.groupby(['key1', 'key2']).size() "
   ]
  },
  {
   "cell_type": "markdown",
   "id": "9c3e402d",
   "metadata": {},
   "source": [
    "---"
   ]
  },
  {
   "cell_type": "code",
   "execution_count": null,
   "id": "cbdc747a",
   "metadata": {},
   "outputs": [],
   "source": [
    "df"
   ]
  },
  {
   "cell_type": "code",
   "execution_count": null,
   "id": "44dca471",
   "metadata": {},
   "outputs": [],
   "source": [
    "df.groupby('key1') # GroupBy 物件"
   ]
  },
  {
   "cell_type": "code",
   "execution_count": null,
   "id": "7ab06170",
   "metadata": {},
   "outputs": [],
   "source": [
    "# name 就是分到的每個組\n",
    "# group 就是滿足這個組的所有資料 \n",
    "for name, group in df.groupby('key1'): # GroupBy 物件支援疊代，會產生 2-tuple 的序列 \n",
    "    print(name)\n",
    "    print(group)"
   ]
  },
  {
   "cell_type": "code",
   "execution_count": null,
   "id": "21c194e0",
   "metadata": {},
   "outputs": [],
   "source": [
    "df"
   ]
  },
  {
   "cell_type": "code",
   "execution_count": null,
   "id": "3d0aa545",
   "metadata": {
    "scrolled": true
   },
   "outputs": [],
   "source": [
    "for name, group in df.groupby(['key1', 'key2']):\n",
    "    print(name)\n",
    "    print(group)"
   ]
  },
  {
   "cell_type": "markdown",
   "id": "9a1296a0",
   "metadata": {},
   "source": [
    "---"
   ]
  },
  {
   "cell_type": "code",
   "execution_count": null,
   "id": "9a3f35ce",
   "metadata": {},
   "outputs": [],
   "source": [
    "# 放進函式 list() 看會變成如何\n",
    "# 裝成 (key, value) 的 tuple\n",
    "list(df.groupby('key1'))"
   ]
  },
  {
   "cell_type": "code",
   "execution_count": null,
   "id": "ed0dae56",
   "metadata": {},
   "outputs": [],
   "source": [
    "pieces = dict(list(df.groupby('key1')))\n",
    "pieces"
   ]
  },
  {
   "cell_type": "code",
   "execution_count": null,
   "id": "78483e59",
   "metadata": {},
   "outputs": [],
   "source": [
    "# 可以用 key 找 value\n",
    "pieces['b']"
   ]
  },
  {
   "cell_type": "markdown",
   "id": "2677613b",
   "metadata": {},
   "source": [
    "---"
   ]
  },
  {
   "cell_type": "code",
   "execution_count": null,
   "id": "eb48236d",
   "metadata": {},
   "outputs": [],
   "source": [
    "df"
   ]
  },
  {
   "cell_type": "code",
   "execution_count": null,
   "id": "752cb2ca",
   "metadata": {},
   "outputs": [],
   "source": [
    "df.dtypes"
   ]
  },
  {
   "cell_type": "code",
   "execution_count": null,
   "id": "c31534d2",
   "metadata": {},
   "outputs": [],
   "source": [
    "# 預設 axis = 0 對列操作，axis = 1 對行做操作\n",
    "grouped = df.groupby(df.dtypes, axis = 1)"
   ]
  },
  {
   "cell_type": "code",
   "execution_count": null,
   "id": "faa304a0",
   "metadata": {},
   "outputs": [],
   "source": [
    "for name, group in grouped:\n",
    "    print(name)\n",
    "    print(group)"
   ]
  },
  {
   "cell_type": "markdown",
   "id": "ff23524d",
   "metadata": {},
   "source": [
    "---"
   ]
  },
  {
   "cell_type": "code",
   "execution_count": null,
   "id": "585c3e89",
   "metadata": {},
   "outputs": [],
   "source": [
    "df"
   ]
  },
  {
   "cell_type": "code",
   "execution_count": null,
   "id": "49aa8dd3",
   "metadata": {},
   "outputs": [],
   "source": [
    "df.groupby('key1')['data1'].mean()"
   ]
  },
  {
   "cell_type": "code",
   "execution_count": null,
   "id": "b7d12d54",
   "metadata": {},
   "outputs": [],
   "source": [
    "# 注意上面那個跟這裡的寫法，兩個出來同一個效果\n",
    "df['data1'].groupby(df['key1']).mean()"
   ]
  },
  {
   "cell_type": "code",
   "execution_count": null,
   "id": "f8a6c40d",
   "metadata": {},
   "outputs": [],
   "source": [
    "# 兩個框框就變資料框了\n",
    "df.groupby('key1')[['data1']].mean()"
   ]
  },
  {
   "cell_type": "code",
   "execution_count": null,
   "id": "67b8ffea",
   "metadata": {},
   "outputs": [],
   "source": [
    "df[['data1']].groupby(df['key1']).mean()"
   ]
  },
  {
   "cell_type": "markdown",
   "id": "96875480",
   "metadata": {},
   "source": [
    "---"
   ]
  },
  {
   "cell_type": "code",
   "execution_count": null,
   "id": "fa7751b5",
   "metadata": {},
   "outputs": [],
   "source": [
    "df"
   ]
  },
  {
   "cell_type": "code",
   "execution_count": null,
   "id": "505cbbd3",
   "metadata": {},
   "outputs": [],
   "source": [
    "df.groupby(['key1', 'key2'])['data2'].mean() # 返回序列"
   ]
  },
  {
   "cell_type": "code",
   "execution_count": null,
   "id": "c427783e",
   "metadata": {},
   "outputs": [],
   "source": [
    "df.groupby(['key1', 'key2'])[['data2']].mean() # 返回資料框"
   ]
  },
  {
   "cell_type": "markdown",
   "id": "4e04c7a3",
   "metadata": {},
   "source": [
    "---"
   ]
  },
  {
   "cell_type": "code",
   "execution_count": null,
   "id": "ec83d92d",
   "metadata": {},
   "outputs": [],
   "source": [
    "# 分組的 key 也可以是字典或序列 \n",
    "# 對應關係要注意\n",
    "people = pd.DataFrame(np.random.randn(5, 5),\n",
    "                      columns = ['a', 'b', 'c', 'd', 'e'],\n",
    "                      index = ['Joe', 'Steve', 'Wes', 'Jim', 'Travis'])\n",
    "people"
   ]
  },
  {
   "cell_type": "code",
   "execution_count": null,
   "id": "8ba3b4e6",
   "metadata": {},
   "outputs": [],
   "source": [
    "people.iloc[2:3, [1, 2]] = np.nan\n",
    "people"
   ]
  },
  {
   "cell_type": "code",
   "execution_count": null,
   "id": "9164eb78",
   "metadata": {},
   "outputs": [],
   "source": [
    "mapping = {'a': 'red', 'b': 'red', 'c': 'blue', 'd': 'blue', 'e': 'red', 'f' : 'orange'}"
   ]
  },
  {
   "cell_type": "code",
   "execution_count": null,
   "id": "81481e33",
   "metadata": {},
   "outputs": [],
   "source": [
    "# 一個不會用到分組的 key 'f'，是不會有問題的\n",
    "# 但如果你是寫成列表，長度不對就會產生例外\n",
    "# 在操作時大部分的聚合方法都會忽略遺失值\n",
    "by_column = people.groupby(mapping, axis = 1) \n",
    "by_column.mean()"
   ]
  },
  {
   "cell_type": "markdown",
   "id": "ff94432c",
   "metadata": {},
   "source": [
    "---"
   ]
  },
  {
   "cell_type": "code",
   "execution_count": null,
   "id": "fdb7797e",
   "metadata": {},
   "outputs": [],
   "source": [
    "people"
   ]
  },
  {
   "cell_type": "code",
   "execution_count": null,
   "id": "cedb72f6",
   "metadata": {},
   "outputs": [],
   "source": [
    "map_Series = pd.Series(mapping)\n",
    "map_Series"
   ]
  },
  {
   "cell_type": "code",
   "execution_count": null,
   "id": "04c12bee",
   "metadata": {},
   "outputs": [],
   "source": [
    "people.groupby(map_Series, axis = 1).count() # 這裡的聚合方法 .count() 遺失值不會算入"
   ]
  },
  {
   "cell_type": "markdown",
   "id": "eae56a1d",
   "metadata": {},
   "source": [
    "---"
   ]
  },
  {
   "cell_type": "code",
   "execution_count": null,
   "id": "e24ce86b",
   "metadata": {},
   "outputs": [],
   "source": [
    "people"
   ]
  },
  {
   "cell_type": "code",
   "execution_count": null,
   "id": "3ab130af",
   "metadata": {},
   "outputs": [],
   "source": [
    "people.groupby(len)"
   ]
  },
  {
   "cell_type": "code",
   "execution_count": null,
   "id": "97443bbf",
   "metadata": {},
   "outputs": [],
   "source": [
    "# 分組的 key 也可以是函式\n",
    "# 會作用在每個索引標籤上\n",
    "# 若加入參數 axis = 1 ，就會作用在欄位上\n",
    "people.groupby(len).sum()"
   ]
  },
  {
   "cell_type": "code",
   "execution_count": null,
   "id": "bad61987",
   "metadata": {},
   "outputs": [],
   "source": [
    "people.groupby(len, axis = 1).sum()"
   ]
  },
  {
   "cell_type": "code",
   "execution_count": null,
   "id": "96d9e51e",
   "metadata": {},
   "outputs": [],
   "source": [
    "key_list = ['one', 'one', 'one', 'two', 'two']\n",
    "people.groupby([len, key_list]).min()"
   ]
  },
  {
   "cell_type": "markdown",
   "id": "71bf30cb",
   "metadata": {},
   "source": [
    "---"
   ]
  },
  {
   "cell_type": "code",
   "execution_count": null,
   "id": "1698f379",
   "metadata": {},
   "outputs": [],
   "source": [
    "# 也可以對索引標籤做分組\n",
    "columns = pd.MultiIndex.from_arrays([['US', 'US', 'US', 'JP', 'JP'],\n",
    "                                    [1, 3, 5, 1, 3]],\n",
    "                                    names = ['cty', 'tenor'])\n",
    "hier_df = pd.DataFrame(np.random.randn(4, 5), columns = columns)\n",
    "hier_df"
   ]
  },
  {
   "cell_type": "code",
   "execution_count": null,
   "id": "ea20e016",
   "metadata": {},
   "outputs": [],
   "source": [
    "hier_df.groupby(level = 'cty', axis = 1).count()"
   ]
  },
  {
   "cell_type": "code",
   "execution_count": null,
   "id": "f0352a6f",
   "metadata": {},
   "outputs": [],
   "source": [
    "hier_df.groupby(level = 0).count()"
   ]
  },
  {
   "cell_type": "markdown",
   "id": "f2bb7b17",
   "metadata": {},
   "source": [
    "---"
   ]
  },
  {
   "cell_type": "code",
   "execution_count": null,
   "id": "8762b9cb",
   "metadata": {},
   "outputs": [],
   "source": [
    "sensor_data = pd.read_csv('./mod08/sensors.csv')\n",
    "sensor_data"
   ]
  },
  {
   "cell_type": "code",
   "execution_count": null,
   "id": "47ec50a0",
   "metadata": {},
   "outputs": [],
   "source": [
    "group_by_sensor = sensor_data.groupby('sensor')\n",
    "group_by_sensor # 返回一個 GroupBy 物件"
   ]
  },
  {
   "cell_type": "code",
   "execution_count": null,
   "id": "25e4bcaa",
   "metadata": {},
   "outputs": [],
   "source": [
    "# 如果想看分組數目可用 ngroups 屬性\n",
    "group_by_sensor.ngroups"
   ]
  },
  {
   "cell_type": "code",
   "execution_count": null,
   "id": "caa2d5a1",
   "metadata": {},
   "outputs": [],
   "source": [
    "group_by_sensor.groups"
   ]
  },
  {
   "cell_type": "markdown",
   "id": "ef6e35ed",
   "metadata": {},
   "source": [
    "---"
   ]
  },
  {
   "cell_type": "code",
   "execution_count": null,
   "id": "7ea01219",
   "metadata": {},
   "outputs": [],
   "source": [
    "for name, group in group_by_sensor:\n",
    "    print(name)\n",
    "    print(group)"
   ]
  },
  {
   "cell_type": "code",
   "execution_count": null,
   "id": "903207a7",
   "metadata": {},
   "outputs": [],
   "source": [
    "# 可以定義成函式，這樣程式碼可以重複使用，注意裡面的參數是要帶入 GroupBy 物件\n",
    "def print_groups(group_object):\n",
    "    for name, group in group_object:\n",
    "        print(name)\n",
    "        print(group[:5])"
   ]
  },
  {
   "cell_type": "markdown",
   "id": "6d0f2a85",
   "metadata": {},
   "source": [
    "---"
   ]
  },
  {
   "cell_type": "code",
   "execution_count": null,
   "id": "ba40b678",
   "metadata": {},
   "outputs": [],
   "source": [
    "print_groups(group_by_sensor)"
   ]
  },
  {
   "cell_type": "code",
   "execution_count": null,
   "id": "dc6729d2",
   "metadata": {},
   "outputs": [],
   "source": [
    "# 返回序列\n",
    "# 資料列的個數，是不是遺失值都要算\n",
    "group_by_sensor.size()"
   ]
  },
  {
   "cell_type": "code",
   "execution_count": null,
   "id": "1e84657d",
   "metadata": {},
   "outputs": [],
   "source": [
    "group_by_sensor.count() # 對列作操作數個數，排除遺失值"
   ]
  },
  {
   "cell_type": "code",
   "execution_count": null,
   "id": "00e68349",
   "metadata": {},
   "outputs": [],
   "source": [
    "group_by_sensor.get_group('accel') # 可以用 GroupBy 的 .get_group() 方法提取特定分組"
   ]
  },
  {
   "cell_type": "code",
   "execution_count": null,
   "id": "8d1aa5e3",
   "metadata": {},
   "outputs": [],
   "source": [
    "group_by_sensor.head(3) # GroupBy 物件的方法，顯示每個分組的前三筆資料"
   ]
  },
  {
   "cell_type": "code",
   "execution_count": null,
   "id": "50b35381",
   "metadata": {},
   "outputs": [],
   "source": [
    "group_by_sensor.tail(3) # GroupBy 物件的方法，顯示每個分組的後三筆資料"
   ]
  },
  {
   "cell_type": "code",
   "execution_count": null,
   "id": "4175c776",
   "metadata": {},
   "outputs": [],
   "source": [
    "group_by_sensor.nth(1) # GroupBy 物件的方法，傳回第二項"
   ]
  },
  {
   "cell_type": "code",
   "execution_count": null,
   "id": "dcb22740",
   "metadata": {},
   "outputs": [],
   "source": [
    "# GroupBy 物件的方法，對每一組做敘述性統計量\n",
    "# axis 不是數值資料，所以沒有被顯示\n",
    "group_by_sensor.describe() "
   ]
  },
  {
   "cell_type": "markdown",
   "id": "0a85a868",
   "metadata": {},
   "source": [
    "---"
   ]
  },
  {
   "cell_type": "code",
   "execution_count": null,
   "id": "8c90783c",
   "metadata": {},
   "outputs": [],
   "source": [
    "sensor_data"
   ]
  },
  {
   "cell_type": "code",
   "execution_count": null,
   "id": "041a2830",
   "metadata": {},
   "outputs": [],
   "source": [
    "mcg = sensor_data.groupby(['sensor', 'axis']) # 因為指定了好幾行，所以名字變成了 tuple\n",
    "print_groups(mcg)"
   ]
  },
  {
   "cell_type": "markdown",
   "id": "f71e8c82",
   "metadata": {},
   "source": [
    "---"
   ]
  },
  {
   "cell_type": "code",
   "execution_count": null,
   "id": "0369d34c",
   "metadata": {},
   "outputs": [],
   "source": [
    "mi = sensor_data.copy()\n",
    "mi = mi.set_index(['sensor', 'axis'])\n",
    "mi"
   ]
  },
  {
   "cell_type": "code",
   "execution_count": null,
   "id": "f7a90dac",
   "metadata": {},
   "outputs": [],
   "source": [
    "print_groups(mi.groupby(level = 0)) # 對索引標籤進行分組"
   ]
  },
  {
   "cell_type": "code",
   "execution_count": null,
   "id": "51f43501",
   "metadata": {},
   "outputs": [],
   "source": [
    "print_groups(mi.groupby(level = ['sensor', 'axis']))"
   ]
  },
  {
   "cell_type": "markdown",
   "id": "cc877200",
   "metadata": {},
   "source": [
    "## 套用聚合函數"
   ]
  },
  {
   "cell_type": "code",
   "execution_count": null,
   "id": "4e464183",
   "metadata": {},
   "outputs": [],
   "source": [
    "s = pd.Series([1, 2, 3, 4, 5, 6, 7, 8, 9])\n",
    "s"
   ]
  },
  {
   "cell_type": "code",
   "execution_count": null,
   "id": "98def9b8",
   "metadata": {},
   "outputs": [],
   "source": [
    "# Return value at the given quantile.\n",
    "# 找出分位數\n",
    "s.quantile(0.5)"
   ]
  },
  {
   "cell_type": "code",
   "execution_count": null,
   "id": "5f6ebdc4",
   "metadata": {},
   "outputs": [],
   "source": [
    "s.quantile([0.25, 0.5, 0.75])"
   ]
  },
  {
   "cell_type": "markdown",
   "id": "17673b65",
   "metadata": {},
   "source": [
    "---"
   ]
  },
  {
   "cell_type": "code",
   "execution_count": null,
   "id": "72a70694",
   "metadata": {},
   "outputs": [],
   "source": [
    "s = pd.Series([1, 2, 3, 4])\n",
    "s"
   ]
  },
  {
   "cell_type": "code",
   "execution_count": null,
   "id": "f5488549",
   "metadata": {},
   "outputs": [],
   "source": [
    "s.quantile(0.5)"
   ]
  },
  {
   "cell_type": "code",
   "execution_count": null,
   "id": "60c15706",
   "metadata": {},
   "outputs": [],
   "source": [
    "# 第一步看位置，四個數共三格\n",
    "# 在 1 + 0.25*3 = 1.75 的位置 \n",
    "# 第 1 的數是 1 ，第 2 的數是 2，回推第 1.75位置的數是多少\n",
    "s.quantile([0.25, 0.5, 0.75, 0.9])"
   ]
  },
  {
   "cell_type": "markdown",
   "id": "54634ea5",
   "metadata": {},
   "source": [
    "---"
   ]
  },
  {
   "cell_type": "code",
   "execution_count": null,
   "id": "890123f2",
   "metadata": {},
   "outputs": [],
   "source": [
    "df = pd.DataFrame({'key1' : ['a', 'a', 'b', 'b', 'a'],\n",
    "                   'key2' : ['one', 'two', 'one', 'two', 'one'],\n",
    "                   'data1' : np.random.randn(5),\n",
    "                   'data2' : np.random.randn(5)})\n",
    "df"
   ]
  },
  {
   "cell_type": "code",
   "execution_count": null,
   "id": "d2c0d2f3",
   "metadata": {},
   "outputs": [],
   "source": [
    "# 如果沒寫 [['data1', 'data2']]，會出現警告，因為非數值的 key2 沒辦法算分位數\n",
    "grouped = df.groupby('key1')[['data1', 'data2']]\n",
    "grouped.quantile(0.5)"
   ]
  },
  {
   "cell_type": "code",
   "execution_count": null,
   "id": "135a4e7e",
   "metadata": {},
   "outputs": [],
   "source": [
    "grouped.mean()"
   ]
  },
  {
   "cell_type": "code",
   "execution_count": null,
   "id": "9e7eefe5",
   "metadata": {},
   "outputs": [],
   "source": [
    "# 另一種寫法\n",
    "# 用 .agg() 方法，傳入聚合的函數\n",
    "grouped.agg(np.mean)"
   ]
  },
  {
   "cell_type": "code",
   "execution_count": null,
   "id": "890487a5",
   "metadata": {},
   "outputs": [],
   "source": [
    "# 也可以傳入字串，但有些沒辦法被辨識出\n",
    "grouped.agg('mean')"
   ]
  },
  {
   "cell_type": "markdown",
   "id": "9ea5c426",
   "metadata": {},
   "source": [
    "---"
   ]
  },
  {
   "cell_type": "code",
   "execution_count": null,
   "id": "31e5dfcf",
   "metadata": {},
   "outputs": [],
   "source": [
    "print_groups(grouped)"
   ]
  },
  {
   "cell_type": "code",
   "execution_count": null,
   "id": "8af2d28e",
   "metadata": {},
   "outputs": [],
   "source": [
    "# 注意 arr 傳入的會是序列\n",
    "def peak_to_peak(arr):\n",
    "    return arr.max() - arr.min()"
   ]
  },
  {
   "cell_type": "code",
   "execution_count": null,
   "id": "4de24b18",
   "metadata": {},
   "outputs": [],
   "source": [
    "# 傳入自定義的函數\n",
    "grouped.agg(peak_to_peak)"
   ]
  },
  {
   "cell_type": "code",
   "execution_count": null,
   "id": "968a1b76",
   "metadata": {},
   "outputs": [],
   "source": [
    "def max_Series(arr):\n",
    "    return max(arr.map(abs))"
   ]
  },
  {
   "cell_type": "code",
   "execution_count": null,
   "id": "8c77ed73",
   "metadata": {},
   "outputs": [],
   "source": [
    "# 傳入自定義的函數\n",
    "grouped.agg(max_Series)"
   ]
  },
  {
   "cell_type": "markdown",
   "id": "de2e3c25",
   "metadata": {},
   "source": [
    "---"
   ]
  },
  {
   "cell_type": "code",
   "execution_count": null,
   "id": "303209b5",
   "metadata": {},
   "outputs": [],
   "source": [
    "grouped.describe()"
   ]
  },
  {
   "cell_type": "markdown",
   "id": "cf08936d",
   "metadata": {},
   "source": [
    "---"
   ]
  },
  {
   "cell_type": "code",
   "execution_count": null,
   "id": "6af84879",
   "metadata": {},
   "outputs": [],
   "source": [
    "tips = pd.read_csv('./mod08/tips.csv')\n",
    "tips"
   ]
  },
  {
   "cell_type": "code",
   "execution_count": null,
   "id": "d4a02fe7",
   "metadata": {},
   "outputs": [],
   "source": [
    "# 加入小費佔總結帳金額的比例\n",
    "tips['tip_pct'] = tips['tip'] / tips['total_bill']\n",
    "tips[:6]"
   ]
  },
  {
   "cell_type": "code",
   "execution_count": null,
   "id": "e097601a",
   "metadata": {},
   "outputs": [],
   "source": [
    "grouped = tips.groupby(['day', 'smoker'])\n",
    "print_groups(grouped)"
   ]
  },
  {
   "cell_type": "code",
   "execution_count": null,
   "id": "b540a5ad",
   "metadata": {},
   "outputs": [],
   "source": [
    "# 關注欄位 tip_pct\n",
    "grouped_pct = grouped['tip_pct']\n",
    "print_groups(grouped_pct)"
   ]
  },
  {
   "cell_type": "code",
   "execution_count": null,
   "id": "2a0d8410",
   "metadata": {},
   "outputs": [],
   "source": [
    "grouped_pct.agg('mean')"
   ]
  },
  {
   "cell_type": "code",
   "execution_count": null,
   "id": "f0611fab",
   "metadata": {},
   "outputs": [],
   "source": [
    "grouped_pct.agg(['mean', 'std', peak_to_peak])"
   ]
  },
  {
   "cell_type": "code",
   "execution_count": null,
   "id": "619ef35c",
   "metadata": {},
   "outputs": [],
   "source": [
    "grouped_pct.agg([('foo', 'mean'), ('bar', np.std)]) # 傳入 (name, function) 的 tuple"
   ]
  },
  {
   "cell_type": "markdown",
   "id": "c6914106",
   "metadata": {},
   "source": [
    "---"
   ]
  },
  {
   "cell_type": "code",
   "execution_count": null,
   "id": "49d9630a",
   "metadata": {},
   "outputs": [],
   "source": [
    "print_groups(grouped)"
   ]
  },
  {
   "cell_type": "code",
   "execution_count": null,
   "id": "4e445f18",
   "metadata": {},
   "outputs": [],
   "source": [
    "result = grouped[['tip_pct', 'total_bill']].agg(['count', 'mean', 'max'])\n",
    "result"
   ]
  },
  {
   "cell_type": "code",
   "execution_count": null,
   "id": "acc7c3e9",
   "metadata": {},
   "outputs": [],
   "source": [
    "result['tip_pct']"
   ]
  },
  {
   "cell_type": "code",
   "execution_count": null,
   "id": "580d8916",
   "metadata": {},
   "outputs": [],
   "source": [
    "# Durchschnitt 是德語的平均，Abweichung 是德語的變異數\n",
    "grouped[['tip_pct', 'total_bill']].agg([('Durchschnitt', 'mean'), ('Abweichung', np.var)])"
   ]
  },
  {
   "cell_type": "markdown",
   "id": "a2727eb6",
   "metadata": {},
   "source": [
    "---"
   ]
  },
  {
   "cell_type": "code",
   "execution_count": null,
   "id": "44a187ad",
   "metadata": {},
   "outputs": [],
   "source": [
    "print_groups(grouped)"
   ]
  },
  {
   "cell_type": "code",
   "execution_count": null,
   "id": "419119cc",
   "metadata": {},
   "outputs": [],
   "source": [
    "grouped.agg({'tip': np.max, 'size': 'sum'})  # 針對不同行套用不同的函式"
   ]
  },
  {
   "cell_type": "code",
   "execution_count": null,
   "id": "600d7b24",
   "metadata": {},
   "outputs": [],
   "source": [
    "grouped.agg({'tip_pct' : ['min', 'max', 'mean', 'std'],\n",
    "             'size' : 'sum'})"
   ]
  },
  {
   "cell_type": "markdown",
   "id": "82c7c3c8",
   "metadata": {},
   "source": [
    "---"
   ]
  },
  {
   "cell_type": "code",
   "execution_count": null,
   "id": "628bb256",
   "metadata": {},
   "outputs": [],
   "source": [
    "tips"
   ]
  },
  {
   "cell_type": "code",
   "execution_count": null,
   "id": "d6331275",
   "metadata": {},
   "outputs": [],
   "source": [
    "# 如果加入參數 as_index = False，day 與 smoker 就不會變成索引標籤\n",
    "tips.groupby(['day', 'smoker'], as_index = False).mean()"
   ]
  },
  {
   "cell_type": "markdown",
   "id": "cac0b6ac",
   "metadata": {},
   "source": [
    "---"
   ]
  },
  {
   "cell_type": "code",
   "execution_count": null,
   "id": "94817148",
   "metadata": {},
   "outputs": [],
   "source": [
    "sensor_data = pd.read_csv('./mod08/sensors.csv')\n",
    "sensor_data[:5]"
   ]
  },
  {
   "cell_type": "code",
   "execution_count": null,
   "id": "e4c1b9dc",
   "metadata": {},
   "outputs": [],
   "source": [
    "mi = sensor_data.copy()\n",
    "mi = mi.set_index(['sensor', 'axis'])\n",
    "mi[:5]"
   ]
  },
  {
   "cell_type": "code",
   "execution_count": null,
   "id": "0a461fac",
   "metadata": {},
   "outputs": [],
   "source": [
    "sensor_axis_grouping = mi.groupby(level = ['sensor', 'axis'])\n",
    "print_groups(sensor_axis_grouping)"
   ]
  },
  {
   "cell_type": "code",
   "execution_count": null,
   "id": "036dcb3e",
   "metadata": {},
   "outputs": [],
   "source": [
    "sensor_axis_grouping.agg(np.mean)"
   ]
  },
  {
   "cell_type": "markdown",
   "id": "bd79e3c5",
   "metadata": {},
   "source": [
    "---"
   ]
  },
  {
   "cell_type": "code",
   "execution_count": null,
   "id": "eb7a26d5",
   "metadata": {},
   "outputs": [],
   "source": [
    "sensor_data"
   ]
  },
  {
   "cell_type": "code",
   "execution_count": null,
   "id": "22499687",
   "metadata": {},
   "outputs": [],
   "source": [
    "sensor_data.groupby(['sensor', 'axis']).agg(np.mean) # 預設 as_index = True"
   ]
  },
  {
   "cell_type": "code",
   "execution_count": null,
   "id": "be7c1566",
   "metadata": {},
   "outputs": [],
   "source": [
    "sensor_data.groupby(['sensor', 'axis'], as_index = False).agg(np.mean) "
   ]
  },
  {
   "cell_type": "markdown",
   "id": "4e5a3c90",
   "metadata": {},
   "source": [
    "---"
   ]
  },
  {
   "cell_type": "code",
   "execution_count": null,
   "id": "2bb914d9",
   "metadata": {},
   "outputs": [],
   "source": [
    "print_groups(sensor_axis_grouping)"
   ]
  },
  {
   "cell_type": "code",
   "execution_count": null,
   "id": "9f436c73",
   "metadata": {},
   "outputs": [],
   "source": [
    "sensor_axis_grouping.mean()"
   ]
  },
  {
   "cell_type": "code",
   "execution_count": null,
   "id": "c29cc898",
   "metadata": {},
   "outputs": [],
   "source": [
    "sensor_axis_grouping.agg(np.mean)"
   ]
  },
  {
   "cell_type": "code",
   "execution_count": null,
   "id": "38cbaf50",
   "metadata": {},
   "outputs": [],
   "source": [
    "sensor_axis_grouping.agg([np.sum, np.std])"
   ]
  },
  {
   "cell_type": "code",
   "execution_count": null,
   "id": "98a1c874",
   "metadata": {},
   "outputs": [],
   "source": [
    "# 針對不同行套用不同的函式\n",
    "# len 在算序列的長度\n",
    "sensor_axis_grouping.agg({'interval': len, 'reading': np.mean}) "
   ]
  },
  {
   "cell_type": "code",
   "execution_count": null,
   "id": "65deb1e8",
   "metadata": {},
   "outputs": [],
   "source": [
    "sensor_axis_grouping['reading'].mean() # 返回序列"
   ]
  },
  {
   "cell_type": "code",
   "execution_count": null,
   "id": "74ecbf0a",
   "metadata": {},
   "outputs": [],
   "source": [
    "sensor_axis_grouping[['reading']].mean() # 返回資料框"
   ]
  },
  {
   "cell_type": "markdown",
   "id": "3fc092e0",
   "metadata": {},
   "source": [
    "## 轉換分組資料"
   ]
  },
  {
   "cell_type": "code",
   "execution_count": null,
   "id": "e20ee15a",
   "metadata": {},
   "outputs": [],
   "source": [
    "df = pd.DataFrame({'A': 'a b a'.split(),\n",
    "                   'B': [1, 2, 3],\n",
    "                   'C': [4, 6, 5]})\n",
    "df"
   ]
  },
  {
   "cell_type": "code",
   "execution_count": null,
   "id": "c1654947",
   "metadata": {},
   "outputs": [],
   "source": [
    "g = df.groupby('A')"
   ]
  },
  {
   "cell_type": "code",
   "execution_count": null,
   "id": "9ac0443d",
   "metadata": {},
   "outputs": [],
   "source": [
    "print_groups(g)"
   ]
  },
  {
   "cell_type": "markdown",
   "id": "db50f88c",
   "metadata": {},
   "source": [
    "---"
   ]
  },
  {
   "cell_type": "code",
   "execution_count": null,
   "id": "8f93148f",
   "metadata": {},
   "outputs": [],
   "source": [
    "g[['B', 'C']].mean()"
   ]
  },
  {
   "cell_type": "raw",
   "id": "ae21086b",
   "metadata": {},
   "source": [
    "# 序列的 .apply() 方法作用在值上，資料框的 .apply() 方法作用在序列上， GroupBy 物件作用在分組後的每個資料框或序列上\n",
    "# GroupBy 物件作用 .apply() 方法後只要回來的還是跟原資料框同大小與順序，沒有聚合的效果，會把算出來的答案還原到原始的資料框"
   ]
  },
  {
   "cell_type": "code",
   "execution_count": null,
   "id": "35bce803",
   "metadata": {},
   "outputs": [],
   "source": [
    "g[['B', 'C']].apply(lambda x: x + 2) "
   ]
  },
  {
   "cell_type": "code",
   "execution_count": null,
   "id": "20e174cf",
   "metadata": {},
   "outputs": [],
   "source": [
    "g[['B', 'C']].apply(lambda x: x / x.sum())"
   ]
  },
  {
   "cell_type": "raw",
   "id": "9e477323",
   "metadata": {},
   "source": [
    "#  GroupBy 物件作用 .apply() 方法後有聚合的效果，會把每組算出來的答案像 pd.concat() 的方式把每組的結果串聯起來\n",
    "# 且把分組的名字納入索引標籤"
   ]
  },
  {
   "cell_type": "code",
   "execution_count": null,
   "id": "11defce7",
   "metadata": {},
   "outputs": [],
   "source": [
    "print_groups(g)"
   ]
  },
  {
   "cell_type": "code",
   "execution_count": null,
   "id": "85e73718",
   "metadata": {},
   "outputs": [],
   "source": [
    "g[['B', 'C']].apply(lambda x: x.max() - x.min())"
   ]
  },
  {
   "cell_type": "code",
   "execution_count": null,
   "id": "7f5330e1",
   "metadata": {},
   "outputs": [],
   "source": [
    "g.apply(lambda x: x.C.max())"
   ]
  },
  {
   "cell_type": "markdown",
   "id": "158982f0",
   "metadata": {},
   "source": [
    "---"
   ]
  },
  {
   "cell_type": "code",
   "execution_count": null,
   "id": "f9a78e39",
   "metadata": {},
   "outputs": [],
   "source": [
    "tips = pd.read_csv('./mod08/tips.csv')\n",
    "tips['tip_pct'] = tips['tip'] / tips['total_bill']\n",
    "tips[:6]"
   ]
  },
  {
   "cell_type": "code",
   "execution_count": null,
   "id": "4f9135b3",
   "metadata": {},
   "outputs": [],
   "source": [
    "def top(df, n = 5, column = 'tip_pct'):\n",
    "    return df.sort_values(by = column)[-n:]\n",
    "\n",
    "top(tips, n = 6)"
   ]
  },
  {
   "cell_type": "markdown",
   "id": "18be31f1",
   "metadata": {},
   "source": [
    "---"
   ]
  },
  {
   "cell_type": "code",
   "execution_count": null,
   "id": "16685de3",
   "metadata": {},
   "outputs": [],
   "source": [
    "print_groups(tips.groupby('smoker'))"
   ]
  },
  {
   "cell_type": "code",
   "execution_count": null,
   "id": "7b7e1e07",
   "metadata": {},
   "outputs": [],
   "source": [
    "# 這裡有聚合的效果，每看到一個群組就會呼叫 top 函式\n",
    "# 最後每個結果會用類似 pd.concat() 的方式串連起來，用分組名稱標示每塊資料，所以最後出來的結果帶有階層式索引\n",
    "tips.groupby('smoker').apply(top)"
   ]
  },
  {
   "cell_type": "markdown",
   "id": "31c5b14d",
   "metadata": {},
   "source": [
    "---"
   ]
  },
  {
   "cell_type": "code",
   "execution_count": null,
   "id": "85bb6d7c",
   "metadata": {},
   "outputs": [],
   "source": [
    "print_groups(tips.groupby(['smoker', 'day']))"
   ]
  },
  {
   "cell_type": "code",
   "execution_count": null,
   "id": "6e5c7f3a",
   "metadata": {},
   "outputs": [],
   "source": [
    "# 有其他參數或關鍵字要傳的話，將他們寫在函式名稱後面即可\n",
    "tips.groupby(['smoker', 'day']).apply(top, n = 1, column = 'total_bill')"
   ]
  },
  {
   "cell_type": "markdown",
   "id": "42228a0b",
   "metadata": {},
   "source": [
    "---"
   ]
  },
  {
   "cell_type": "code",
   "execution_count": null,
   "id": "715741bb",
   "metadata": {},
   "outputs": [],
   "source": [
    "print_groups(tips.groupby('smoker'))"
   ]
  },
  {
   "cell_type": "code",
   "execution_count": null,
   "id": "0f81ac43",
   "metadata": {},
   "outputs": [],
   "source": [
    "result = tips.groupby('smoker')['tip_pct'].describe()\n",
    "result"
   ]
  },
  {
   "cell_type": "code",
   "execution_count": null,
   "id": "72523ec9",
   "metadata": {},
   "outputs": [],
   "source": [
    "result.stack()"
   ]
  },
  {
   "cell_type": "markdown",
   "id": "a1cc3803",
   "metadata": {},
   "source": [
    "---"
   ]
  },
  {
   "cell_type": "code",
   "execution_count": null,
   "id": "a8e00592",
   "metadata": {},
   "outputs": [],
   "source": [
    "tips"
   ]
  },
  {
   "cell_type": "code",
   "execution_count": null,
   "id": "148569b9",
   "metadata": {},
   "outputs": [],
   "source": [
    "print_groups(tips.groupby('smoker')['tip_pct'])"
   ]
  },
  {
   "cell_type": "code",
   "execution_count": null,
   "id": "d5bad94f",
   "metadata": {},
   "outputs": [],
   "source": [
    "tips.groupby('smoker')['tip_pct'].apply(lambda x: x.describe())"
   ]
  },
  {
   "cell_type": "markdown",
   "id": "3255acf0",
   "metadata": {},
   "source": [
    "---"
   ]
  },
  {
   "cell_type": "code",
   "execution_count": null,
   "id": "5399df31",
   "metadata": {},
   "outputs": [],
   "source": [
    "print_groups(tips.groupby('smoker'))"
   ]
  },
  {
   "cell_type": "code",
   "execution_count": null,
   "id": "9393133c",
   "metadata": {},
   "outputs": [],
   "source": [
    "tips.groupby('smoker').apply(top)"
   ]
  },
  {
   "cell_type": "code",
   "execution_count": null,
   "id": "709a3260",
   "metadata": {},
   "outputs": [],
   "source": [
    "# 可以比較一下 as_index = False 與 group_keys = False 的差別\n",
    "tips.groupby('smoker', group_keys = False).apply(top) # 關閉分組索引製作功能"
   ]
  },
  {
   "cell_type": "markdown",
   "id": "c1f4cb4a",
   "metadata": {},
   "source": [
    "---"
   ]
  },
  {
   "cell_type": "code",
   "execution_count": null,
   "id": "b8b0933f",
   "metadata": {},
   "outputs": [],
   "source": [
    "# 分位數與購物籃分析\n",
    "frame = pd.DataFrame({'data1': np.random.randn(1000),\n",
    "                      'data2': np.random.randn(1000)})\n",
    "frame"
   ]
  },
  {
   "cell_type": "code",
   "execution_count": null,
   "id": "0c37fa6a",
   "metadata": {},
   "outputs": [],
   "source": [
    "quartiles = pd.cut(frame.data1, 4)\n",
    "quartiles[:10]"
   ]
  },
  {
   "cell_type": "code",
   "execution_count": null,
   "id": "249ec441",
   "metadata": {},
   "outputs": [],
   "source": [
    "grouped = frame.data2.groupby(quartiles)\n",
    "print_groups(grouped)"
   ]
  },
  {
   "cell_type": "code",
   "execution_count": null,
   "id": "aca661cd",
   "metadata": {},
   "outputs": [],
   "source": [
    "grouped.max()"
   ]
  },
  {
   "cell_type": "code",
   "execution_count": null,
   "id": "da77cc85",
   "metadata": {},
   "outputs": [],
   "source": [
    "def get_stats(group):\n",
    "    return  pd.Series({'min': group.min(), \n",
    "                       'max': group.max(),\n",
    "                       'count': group.count(),\n",
    "                       'mean': group.mean()})\n",
    "\n",
    "grouped.apply(get_stats)"
   ]
  },
  {
   "cell_type": "code",
   "execution_count": null,
   "id": "b0dc2e06",
   "metadata": {},
   "outputs": [],
   "source": [
    "# 寫成字典會得到跟剛剛一樣的效果，出來的字典型態會被轉換成序列在串連起來\n",
    "def get_stats(group):\n",
    "    return  {'min': group.min(), \n",
    "            'max': group.max(),\n",
    "            'count': group.count(),\n",
    "            'mean': group.mean()}\n",
    "\n",
    "grouped.apply(get_stats)"
   ]
  },
  {
   "cell_type": "code",
   "execution_count": null,
   "id": "b3162859",
   "metadata": {},
   "outputs": [],
   "source": [
    "grouped.apply(get_stats).unstack()"
   ]
  },
  {
   "cell_type": "markdown",
   "id": "60c33d5e",
   "metadata": {},
   "source": [
    "---"
   ]
  },
  {
   "cell_type": "code",
   "execution_count": null,
   "id": "3480124f",
   "metadata": {},
   "outputs": [],
   "source": [
    "frame"
   ]
  },
  {
   "cell_type": "code",
   "execution_count": null,
   "id": "1f6ee51f",
   "metadata": {},
   "outputs": [],
   "source": [
    " pd.qcut(frame.data1, 10)"
   ]
  },
  {
   "cell_type": "code",
   "execution_count": null,
   "id": "4e92e617",
   "metadata": {},
   "outputs": [],
   "source": [
    "# 如果加入參數 labels = False，會把桶子名改成數值，從 0 開始算起。\n",
    "grouping = pd.qcut(frame.data1, 10, labels = False)\n",
    "grouping"
   ]
  },
  {
   "cell_type": "code",
   "execution_count": null,
   "id": "bdaf6ec6",
   "metadata": {},
   "outputs": [],
   "source": [
    "grouped = frame.data2.groupby(grouping)\n",
    "print_groups(grouped)"
   ]
  },
  {
   "cell_type": "code",
   "execution_count": null,
   "id": "a3e8c4d1",
   "metadata": {},
   "outputs": [],
   "source": [
    "grouped.apply(get_stats)"
   ]
  },
  {
   "cell_type": "code",
   "execution_count": null,
   "id": "e16cc714",
   "metadata": {},
   "outputs": [],
   "source": [
    "grouped.apply(get_stats).unstack()"
   ]
  },
  {
   "cell_type": "markdown",
   "id": "f7d077e4",
   "metadata": {},
   "source": [
    "---"
   ]
  },
  {
   "cell_type": "code",
   "execution_count": null,
   "id": "9ba209f5",
   "metadata": {},
   "outputs": [],
   "source": [
    "df = pd.DataFrame({'key': ['a', 'b', 'c']*4,\n",
    "                   'value': np.arange(12.)})\n",
    "df"
   ]
  },
  {
   "cell_type": "code",
   "execution_count": null,
   "id": "1fcf53fa",
   "metadata": {},
   "outputs": [],
   "source": [
    "g = df.groupby('key')['value']"
   ]
  },
  {
   "cell_type": "code",
   "execution_count": null,
   "id": "bede8e30",
   "metadata": {},
   "outputs": [],
   "source": [
    "print_groups(g)"
   ]
  },
  {
   "cell_type": "code",
   "execution_count": null,
   "id": "fcf66d68",
   "metadata": {},
   "outputs": [],
   "source": [
    "g.mean()"
   ]
  },
  {
   "cell_type": "code",
   "execution_count": null,
   "id": "40fe227d",
   "metadata": {},
   "outputs": [],
   "source": [
    "g.apply(lambda x: x.mean())"
   ]
  },
  {
   "cell_type": "code",
   "execution_count": null,
   "id": "09ae2d4f",
   "metadata": {},
   "outputs": [],
   "source": [
    "g.apply(lambda x: np.mean(x))"
   ]
  },
  {
   "cell_type": "markdown",
   "id": "79c3baf8",
   "metadata": {},
   "source": [
    "---"
   ]
  },
  {
   "cell_type": "code",
   "execution_count": null,
   "id": "b17e1e21",
   "metadata": {},
   "outputs": [],
   "source": [
    "df"
   ]
  },
  {
   "cell_type": "code",
   "execution_count": null,
   "id": "9dd08bbf",
   "metadata": {},
   "outputs": [],
   "source": [
    "g = df.groupby('key')['value']\n",
    "print_groups(g)"
   ]
  },
  {
   "cell_type": "code",
   "execution_count": null,
   "id": "c7a88591",
   "metadata": {},
   "outputs": [],
   "source": [
    "# 注意 GroupBy 物件的 .transform() 方法的效果，與 .apply() 的差別\n",
    "# 可以產生一個常數，用於廣播到所有分組，把值帶回原始的資料框\n",
    "# 可以產生跟輸入分組一樣大小的一個資料，再把值帶回原始的資料框\n",
    "# 它的輸入不能是 mutate 類型\n",
    "g.transform(lambda x: x.mean())"
   ]
  },
  {
   "cell_type": "code",
   "execution_count": null,
   "id": "f892b656",
   "metadata": {},
   "outputs": [],
   "source": [
    "g.transform('mean')"
   ]
  },
  {
   "cell_type": "markdown",
   "id": "ae6c0008",
   "metadata": {},
   "source": [
    "---"
   ]
  },
  {
   "cell_type": "code",
   "execution_count": null,
   "id": "4bc99f9e",
   "metadata": {},
   "outputs": [],
   "source": [
    "df"
   ]
  },
  {
   "cell_type": "code",
   "execution_count": null,
   "id": "1dd63e26",
   "metadata": {},
   "outputs": [],
   "source": [
    "g = df.groupby('key')['value']\n",
    "print_groups(g)"
   ]
  },
  {
   "cell_type": "code",
   "execution_count": null,
   "id": "179409e3",
   "metadata": {},
   "outputs": [],
   "source": [
    "# 這時跟用 .apply() 方法同效果\n",
    "g.transform(lambda x: x*2)"
   ]
  },
  {
   "cell_type": "code",
   "execution_count": null,
   "id": "246c24c0",
   "metadata": {},
   "outputs": [],
   "source": [
    "g.apply(lambda x: x*2)"
   ]
  },
  {
   "cell_type": "code",
   "execution_count": null,
   "id": "9f429baf",
   "metadata": {},
   "outputs": [],
   "source": [
    "g.transform(lambda x: x.rank(ascending = False))"
   ]
  },
  {
   "cell_type": "markdown",
   "id": "217170ac",
   "metadata": {},
   "source": [
    "---"
   ]
  },
  {
   "cell_type": "code",
   "execution_count": null,
   "id": "a8605305",
   "metadata": {},
   "outputs": [],
   "source": [
    "df"
   ]
  },
  {
   "cell_type": "code",
   "execution_count": null,
   "id": "c4676589",
   "metadata": {},
   "outputs": [],
   "source": [
    "g = df.groupby('key')['value']\n",
    "print_groups(g)"
   ]
  },
  {
   "cell_type": "raw",
   "id": "69588142",
   "metadata": {},
   "source": [
    "# 目標對每一組做標準化，也就是減去平均值再除以標準差\n",
    "# 這樣每一組的平均值都是 0 ，標準差都是 1。好判斷也利於分析"
   ]
  },
  {
   "cell_type": "code",
   "execution_count": null,
   "id": "8e76a3a9",
   "metadata": {},
   "outputs": [],
   "source": [
    "def normailze(x):\n",
    "    return (x - x.mean())/x.std()"
   ]
  },
  {
   "cell_type": "code",
   "execution_count": null,
   "id": "1f4768ea",
   "metadata": {},
   "outputs": [],
   "source": [
    "# 沒有聚合效果，所以跟 .apply() 產生同一的結果\n",
    "g.transform(normailze)"
   ]
  },
  {
   "cell_type": "code",
   "execution_count": null,
   "id": "bf3401e4",
   "metadata": {},
   "outputs": [],
   "source": [
    "g.apply(normailze)"
   ]
  },
  {
   "cell_type": "markdown",
   "id": "fead6d06",
   "metadata": {},
   "source": [
    "---"
   ]
  },
  {
   "cell_type": "raw",
   "id": "b16154fe",
   "metadata": {},
   "source": [
    "# 剛剛結果的另一種寫法"
   ]
  },
  {
   "cell_type": "code",
   "execution_count": null,
   "id": "a449a83b",
   "metadata": {},
   "outputs": [],
   "source": [
    "df"
   ]
  },
  {
   "cell_type": "code",
   "execution_count": null,
   "id": "ce3f82c1",
   "metadata": {},
   "outputs": [],
   "source": [
    "g = df.groupby('key')['value']\n",
    "print_groups(g)"
   ]
  },
  {
   "cell_type": "code",
   "execution_count": null,
   "id": "f38cbae0",
   "metadata": {},
   "outputs": [],
   "source": [
    "g.transform('mean')"
   ]
  },
  {
   "cell_type": "code",
   "execution_count": null,
   "id": "e35e69d4",
   "metadata": {},
   "outputs": [],
   "source": [
    "g.transform('std')"
   ]
  },
  {
   "cell_type": "code",
   "execution_count": null,
   "id": "d9191f00",
   "metadata": {},
   "outputs": [],
   "source": [
    "#　這種方法叫做未包裝分組 (unwrapped)\n",
    "(df['value'] - g.transform('mean'))/g.transform('std')"
   ]
  },
  {
   "cell_type": "markdown",
   "id": "9115a302",
   "metadata": {},
   "source": [
    "---"
   ]
  },
  {
   "cell_type": "code",
   "execution_count": null,
   "id": "d04b86f1",
   "metadata": {},
   "outputs": [],
   "source": [
    "transform_data = pd.DataFrame({ 'Label': ['A', 'C', 'B', 'A', 'C'],\n",
    "                                'Values': [0, 1, 2, 3, 4],\n",
    "                                'Values2': [5, 6, 7, 8, 9],\n",
    "                                'Other': ['foo', 'bar', 'baz', 'fiz', 'buz']}, index = list('VWXYZ'))\n",
    "transform_data"
   ]
  },
  {
   "cell_type": "code",
   "execution_count": null,
   "id": "30daf2b7",
   "metadata": {},
   "outputs": [],
   "source": [
    "grouped_by_label = transform_data.groupby('Label')\n",
    "print_groups(grouped_by_label)"
   ]
  },
  {
   "cell_type": "code",
   "execution_count": null,
   "id": "a8856f89",
   "metadata": {},
   "outputs": [],
   "source": [
    "grouped_by_label[['Values', 'Values2']].transform(lambda x: x + 10)"
   ]
  },
  {
   "cell_type": "markdown",
   "id": "894b8ae2",
   "metadata": {},
   "source": [
    "---"
   ]
  },
  {
   "cell_type": "code",
   "execution_count": null,
   "id": "61ddef7b",
   "metadata": {},
   "outputs": [],
   "source": [
    "df = pd.DataFrame({ 'Label': list(\"ABABAB\"),\n",
    "                    'Values': [10, 20, 11, np.nan, 12, 22]})\n",
    "df"
   ]
  },
  {
   "cell_type": "code",
   "execution_count": null,
   "id": "072bf2da",
   "metadata": {},
   "outputs": [],
   "source": [
    "grouped = df.groupby('Label')\n",
    "print_groups(grouped)"
   ]
  },
  {
   "cell_type": "code",
   "execution_count": null,
   "id": "af39aac2",
   "metadata": {},
   "outputs": [],
   "source": [
    "grouped.mean()"
   ]
  },
  {
   "cell_type": "code",
   "execution_count": null,
   "id": "87d31158",
   "metadata": {},
   "outputs": [],
   "source": [
    "# 遺失值按照分組的平均值來填\n",
    "filled_NaNs = grouped.transform(lambda x: x.fillna(x.mean()))\n",
    "filled_NaNs"
   ]
  },
  {
   "cell_type": "markdown",
   "id": "4c7e522d",
   "metadata": {},
   "source": [
    "---"
   ]
  },
  {
   "cell_type": "code",
   "execution_count": null,
   "id": "91349803",
   "metadata": {},
   "outputs": [],
   "source": [
    "# 從平均值 0.5，標準差 2 的常態分佈選出 365*3 個數\n",
    "np.random.seed(123456)\n",
    "data = pd.Series(np.random.normal(0.5, 2, 365*3), \n",
    "                 index = pd.date_range('2013-01-01', periods = 365*3))\n",
    "data"
   ]
  },
  {
   "cell_type": "code",
   "execution_count": null,
   "id": "1ba09ba4",
   "metadata": {},
   "outputs": [],
   "source": [
    "# window: 窗要多大\n",
    "# min_periods: 窗裡面最少有幾個值就算出結果\n",
    "periods = 100\n",
    "data.rolling(window = periods, min_periods = periods).mean()"
   ]
  },
  {
   "cell_type": "code",
   "execution_count": null,
   "id": "14d30e18",
   "metadata": {},
   "outputs": [],
   "source": [
    "periods = 100\n",
    "rolling = data.rolling(window = periods, min_periods = periods).mean().dropna()\n",
    "rolling"
   ]
  },
  {
   "cell_type": "code",
   "execution_count": null,
   "id": "57bd0690",
   "metadata": {},
   "outputs": [],
   "source": [
    "rolling.plot(); # 之後會有專門的章節介紹"
   ]
  },
  {
   "cell_type": "markdown",
   "id": "a9f3c162",
   "metadata": {},
   "source": [
    "---"
   ]
  },
  {
   "cell_type": "raw",
   "id": "87da936b",
   "metadata": {},
   "source": [
    "# 目標想對 rolling 這個序列依照年份算出他們的平均值與標準差"
   ]
  },
  {
   "cell_type": "code",
   "execution_count": null,
   "id": "b942f1a1",
   "metadata": {},
   "outputs": [],
   "source": [
    "rolling"
   ]
  },
  {
   "cell_type": "code",
   "execution_count": null,
   "id": "6de5b19d",
   "metadata": {},
   "outputs": [],
   "source": [
    "# 注意現在的索引標籤是 datetime 資料型態\n",
    "group_key = lambda x: x.year\n",
    "groups = rolling.groupby(group_key) # 別忘了 .groupby() 方法也可帶入函式，會作用在每個索引標籤上\n",
    "print_groups(groups)"
   ]
  },
  {
   "cell_type": "code",
   "execution_count": null,
   "id": "d0c21d93",
   "metadata": {},
   "outputs": [],
   "source": [
    "groups.agg([np.mean, np.std])"
   ]
  },
  {
   "cell_type": "markdown",
   "id": "536b132a",
   "metadata": {},
   "source": [
    "---"
   ]
  },
  {
   "cell_type": "raw",
   "id": "0ed3f9db",
   "metadata": {},
   "source": [
    "# 目標對每一組做標準化，也就是減去平均值再除以標準差\n",
    "# 這樣每一組的平均值都是 0 ，標準差都是 1。好判斷也利於分析"
   ]
  },
  {
   "cell_type": "code",
   "execution_count": null,
   "id": "d395ea1b",
   "metadata": {},
   "outputs": [],
   "source": [
    "print_groups(rolling.groupby(group_key))"
   ]
  },
  {
   "cell_type": "code",
   "execution_count": null,
   "id": "45539a4c",
   "metadata": {},
   "outputs": [],
   "source": [
    "zscore = lambda x: (x - x.mean())/x.std()\n",
    "normed = rolling.groupby(group_key).transform(zscore)\n",
    "normed"
   ]
  },
  {
   "cell_type": "code",
   "execution_count": null,
   "id": "60d30928",
   "metadata": {},
   "outputs": [],
   "source": [
    "normed.groupby(group_key).agg([np.mean, np.std])"
   ]
  },
  {
   "cell_type": "markdown",
   "id": "1791b91e",
   "metadata": {},
   "source": [
    "---"
   ]
  },
  {
   "cell_type": "code",
   "execution_count": null,
   "id": "1da2a915",
   "metadata": {},
   "outputs": [],
   "source": [
    "compared = pd.DataFrame({'Original': rolling,\n",
    "                         'Normed': normed})\n",
    "compared"
   ]
  },
  {
   "cell_type": "code",
   "execution_count": null,
   "id": "7b95618d",
   "metadata": {},
   "outputs": [],
   "source": [
    "# 標準化完的資料再視覺化，更容易理解也更有利於分析\n",
    "compared.plot();"
   ]
  },
  {
   "cell_type": "markdown",
   "id": "664df1d0",
   "metadata": {},
   "source": [
    "## 過濾分組資料"
   ]
  },
  {
   "cell_type": "code",
   "execution_count": null,
   "id": "ffcaf761",
   "metadata": {},
   "outputs": [],
   "source": [
    "df = pd.DataFrame({'Label': list('AABCCC'),\n",
    "                   'Values': [1, 2, 3, 4, np.nan, 8]})\n",
    "df"
   ]
  },
  {
   "cell_type": "code",
   "execution_count": null,
   "id": "8a3be270",
   "metadata": {},
   "outputs": [],
   "source": [
    "print_groups(df.groupby('Label'))"
   ]
  },
  {
   "cell_type": "code",
   "execution_count": null,
   "id": "3c57eaf0",
   "metadata": {},
   "outputs": [],
   "source": [
    "# GroupBy 物件的 .filter() 方法裡面放函式，函式返回的是布林值\n",
    "# 把分完組的資料框或序列，一個一個帶入函式，True 的留下來，False 的會被過濾掉，再返回原始資料\n",
    "f = lambda x: x.Values.count() > 1 # 序列的 .count() 方法沒算遺失值\n",
    "df.groupby('Label').filter(f)"
   ]
  },
  {
   "cell_type": "code",
   "execution_count": null,
   "id": "5dc4c08c",
   "metadata": {},
   "outputs": [],
   "source": [
    "# 只要組裡有遺失值，整組就被刪了!\n",
    "f = lambda x: x.Values.isnull().sum() == 0\n",
    "df.groupby('Label').filter(f)"
   ]
  },
  {
   "cell_type": "markdown",
   "id": "9aa37745",
   "metadata": {},
   "source": [
    "---"
   ]
  },
  {
   "cell_type": "code",
   "execution_count": null,
   "id": "fd3d8402",
   "metadata": {},
   "outputs": [],
   "source": [
    "df"
   ]
  },
  {
   "cell_type": "code",
   "execution_count": null,
   "id": "562e89b8",
   "metadata": {},
   "outputs": [],
   "source": [
    "grouped = df.groupby('Label')\n",
    "print_groups(grouped)"
   ]
  },
  {
   "cell_type": "code",
   "execution_count": null,
   "id": "6383ee84",
   "metadata": {},
   "outputs": [],
   "source": [
    "grouped.mean()"
   ]
  },
  {
   "cell_type": "code",
   "execution_count": null,
   "id": "493ed1bf",
   "metadata": {},
   "outputs": [],
   "source": [
    "# 先算出每組的平均，再取平均\n",
    "group_mean = grouped.mean().mean()\n",
    "group_mean"
   ]
  },
  {
   "cell_type": "code",
   "execution_count": null,
   "id": "87011787",
   "metadata": {},
   "outputs": [],
   "source": [
    "# 比組的平均差距高過 2 留下，其他全組過濾掉!\n",
    "f = lambda x: abs(x.Values.mean() - group_mean) > 2.0\n",
    "df.groupby('Label').filter(f)"
   ]
  },
  {
   "cell_type": "markdown",
   "id": "06ca7b55",
   "metadata": {},
   "source": [
    "## 綜合應用"
   ]
  },
  {
   "cell_type": "markdown",
   "id": "8370f8b1",
   "metadata": {},
   "source": [
    "### 依分組指定填充遺失值"
   ]
  },
  {
   "cell_type": "code",
   "execution_count": null,
   "id": "bad1f7bd",
   "metadata": {},
   "outputs": [],
   "source": [
    "s = pd.Series(np.random.randn(6))\n",
    "s[::2] = np.nan\n",
    "s"
   ]
  },
  {
   "cell_type": "code",
   "execution_count": null,
   "id": "2f8c7cfb",
   "metadata": {},
   "outputs": [],
   "source": [
    "# 就序列而言，把遺失值填入平均值還蠻常見\n",
    "s.fillna(s.mean())"
   ]
  },
  {
   "cell_type": "markdown",
   "id": "256484c9",
   "metadata": {},
   "source": [
    "---"
   ]
  },
  {
   "cell_type": "raw",
   "id": "5d624c6c",
   "metadata": {},
   "source": [
    "# 如果有更多資訊，可以考慮分完組後再把遺失值填入平均"
   ]
  },
  {
   "cell_type": "code",
   "execution_count": null,
   "id": "c562e184",
   "metadata": {},
   "outputs": [],
   "source": [
    "states = ['Ohio', 'New York', 'Vermont', 'Florida',\n",
    "          'Oregon', 'Nevada', 'California', 'Idaho']\n",
    "group_key = ['East'] * 4 + ['West'] * 4\n",
    "data = pd.Series(np.random.randn(8), index = states)\n",
    "data"
   ]
  },
  {
   "cell_type": "code",
   "execution_count": null,
   "id": "a9d7566a",
   "metadata": {},
   "outputs": [],
   "source": [
    "group_key"
   ]
  },
  {
   "cell_type": "code",
   "execution_count": null,
   "id": "0c7867b3",
   "metadata": {},
   "outputs": [],
   "source": [
    "data[['Vermont', 'Nevada', 'Idaho']] = np.nan\n",
    "data"
   ]
  },
  {
   "cell_type": "code",
   "execution_count": null,
   "id": "37ace57a",
   "metadata": {},
   "outputs": [],
   "source": [
    "print_groups(data.groupby(group_key))"
   ]
  },
  {
   "cell_type": "code",
   "execution_count": null,
   "id": "c5f4d645",
   "metadata": {},
   "outputs": [],
   "source": [
    "data.groupby(group_key).mean()"
   ]
  },
  {
   "cell_type": "code",
   "execution_count": null,
   "id": "799fe38f",
   "metadata": {},
   "outputs": [],
   "source": [
    "# 這題用 .transform() 方法會得到一樣的結果\n",
    "fill_mean = lambda g: g.fillna(g.mean())\n",
    "data.groupby(group_key).apply(fill_mean)"
   ]
  },
  {
   "cell_type": "markdown",
   "id": "c8b21b7a",
   "metadata": {},
   "source": [
    "---"
   ]
  },
  {
   "cell_type": "raw",
   "id": "3f248f52",
   "metadata": {},
   "source": [
    "# 我執意要把東岸的遺失值填入 0.5，西岸的填入 -1 ，應該如何操作"
   ]
  },
  {
   "cell_type": "code",
   "execution_count": null,
   "id": "9f0ec79c",
   "metadata": {},
   "outputs": [],
   "source": [
    "print_groups(data.groupby(group_key))"
   ]
  },
  {
   "cell_type": "code",
   "execution_count": null,
   "id": "d87c6121",
   "metadata": {},
   "outputs": [],
   "source": [
    "# 這題用 .transform() 方法會得到一樣的結果\n",
    "fill_values = {'East': 0.5, 'West': -1}\n",
    "fill_func = lambda g: g.fillna(fill_values[g.name])\n",
    "data.groupby(group_key).apply(fill_func)"
   ]
  },
  {
   "cell_type": "markdown",
   "id": "9fcf18c4",
   "metadata": {},
   "source": [
    "### 隨機取樣和排列"
   ]
  },
  {
   "cell_type": "code",
   "execution_count": null,
   "id": "0886dc8a",
   "metadata": {},
   "outputs": [],
   "source": [
    "# 紅心 (Heart)、黑桃 (Spade)、梅花 (club)、方塊 (Diamond)\n",
    "suits = ['H', 'S', 'C', 'D']\n",
    "card_val = (list(range(1, 11)) + [10]*3)*4\n",
    "base_names = ['A'] + list(range(2, 11)) + ['J', 'Q', 'K']\n",
    "suits"
   ]
  },
  {
   "cell_type": "code",
   "execution_count": null,
   "id": "02a79605",
   "metadata": {},
   "outputs": [],
   "source": [
    "card_val"
   ]
  },
  {
   "cell_type": "code",
   "execution_count": null,
   "id": "9dbf6767",
   "metadata": {},
   "outputs": [],
   "source": [
    "base_names"
   ]
  },
  {
   "cell_type": "code",
   "execution_count": null,
   "id": "700e98e6",
   "metadata": {},
   "outputs": [],
   "source": [
    "# 用 list comprehensive 來顯示紅心的牌\n",
    "[str(num) + 'H' for num in base_names]"
   ]
  },
  {
   "cell_type": "code",
   "execution_count": null,
   "id": "b98cd3bd",
   "metadata": {},
   "outputs": [],
   "source": [
    "# 真正來製作一副撲克牌\n",
    "cards = []\n",
    "for suit in ['H', 'S', 'C', 'D']:\n",
    "    cards.extend([str(num) + suit for num in base_names])\n",
    "    \n",
    "deck = pd.Series(card_val, index = cards)\n",
    "deck"
   ]
  },
  {
   "cell_type": "code",
   "execution_count": null,
   "id": "e6ae703e",
   "metadata": {},
   "outputs": [],
   "source": [
    "# 自定義函數來看看要取出幾張牌\n",
    "def draw(deck, n = 5):\n",
    "    return deck.sample(n)\n",
    "\n",
    "draw(deck)"
   ]
  },
  {
   "cell_type": "code",
   "execution_count": null,
   "id": "45ac1f99",
   "metadata": {},
   "outputs": [],
   "source": [
    "# 從每種花色隨機抽兩張牌\n",
    "get_suit = lambda card: card[-1]\n",
    "deck.groupby(get_suit).apply(draw, n = 2)"
   ]
  },
  {
   "cell_type": "code",
   "execution_count": null,
   "id": "bc39f6cf",
   "metadata": {},
   "outputs": [],
   "source": [
    "# 當然也可以把匿名函數寫在裡面\n",
    "deck.groupby(get_suit).apply(lambda x: x.sample(2))"
   ]
  },
  {
   "cell_type": "code",
   "execution_count": null,
   "id": "bfe72270",
   "metadata": {},
   "outputs": [],
   "source": [
    "deck.groupby(get_suit, group_keys = False).apply(draw, n = 2)"
   ]
  },
  {
   "cell_type": "markdown",
   "id": "abd3e97e",
   "metadata": {},
   "source": [
    "### 加權平均和關聯性"
   ]
  },
  {
   "cell_type": "code",
   "execution_count": null,
   "id": "9f1f4efe",
   "metadata": {},
   "outputs": [],
   "source": [
    "df = pd.DataFrame(np.array([[1, 2], [3, 4], [5, 4]]),\n",
    "                  columns = ['data', 'weights'])\n",
    "df"
   ]
  },
  {
   "cell_type": "markdown",
   "id": "032e05f5",
   "metadata": {},
   "source": [
    "注意加權平均是要自己乘上【權重/權重相加】<br/>\n",
    "這題會是 $$1\\times\\frac{2}{10}+3\\times\\frac{4}{10}+5\\times\\frac{4}{10} = 3.4$$"
   ]
  },
  {
   "cell_type": "code",
   "execution_count": null,
   "id": "0dadff1f",
   "metadata": {},
   "outputs": [],
   "source": [
    "# 可調用 np.average() 函式幫我們處理\n",
    "np.average(df.data, weights = df.weights)"
   ]
  },
  {
   "cell_type": "markdown",
   "id": "7be4a144",
   "metadata": {},
   "source": [
    "---"
   ]
  },
  {
   "cell_type": "raw",
   "id": "f9f4f69e",
   "metadata": {},
   "source": [
    "# 目標算出每組的加權平均"
   ]
  },
  {
   "cell_type": "code",
   "execution_count": null,
   "id": "76a01865",
   "metadata": {},
   "outputs": [],
   "source": [
    "df = pd.DataFrame({'category': ['a', 'a', 'a', 'a',\n",
    "                                'b', 'b', 'b', 'b'],\n",
    "                   'data': np.random.randn(8),\n",
    "                   'weights': np.random.rand(8)})\n",
    "df"
   ]
  },
  {
   "cell_type": "code",
   "execution_count": null,
   "id": "9b9f4fba",
   "metadata": {},
   "outputs": [],
   "source": [
    "grouped = df.groupby('category')\n",
    "get_wavg = lambda g: np.average(g['data'], weights = g['weights'])\n",
    "grouped.apply(get_wavg)"
   ]
  },
  {
   "cell_type": "markdown",
   "id": "092ba6ec",
   "metadata": {},
   "source": [
    "---"
   ]
  },
  {
   "cell_type": "raw",
   "id": "5b699179",
   "metadata": {},
   "source": [
    "# 目標計算個股每日收益 (從百分比變化計算得來) 和 標準普爾 500 指數 SPX 每年的相關性"
   ]
  },
  {
   "cell_type": "code",
   "execution_count": null,
   "id": "28aef23d",
   "metadata": {},
   "outputs": [],
   "source": [
    "close_px = pd.read_csv('./mod08/stock_px_2.csv', \n",
    "                       parse_dates = True,\n",
    "                       index_col = 0)\n",
    "close_px"
   ]
  },
  {
   "cell_type": "code",
   "execution_count": null,
   "id": "21a91b0f",
   "metadata": {},
   "outputs": [],
   "source": [
    "# 資料框的 .info() 方法可以簡略看出資料框的資訊\n",
    "close_px.info()"
   ]
  },
  {
   "cell_type": "code",
   "execution_count": null,
   "id": "339ff2ae",
   "metadata": {},
   "outputs": [],
   "source": [
    "close_px[:5]"
   ]
  },
  {
   "cell_type": "code",
   "execution_count": null,
   "id": "52dcb553",
   "metadata": {},
   "outputs": [],
   "source": [
    "# 計算每個欄位的變化百分比\n",
    "rets = close_px.pct_change()\n",
    "rets"
   ]
  },
  {
   "cell_type": "code",
   "execution_count": null,
   "id": "345851d9",
   "metadata": {},
   "outputs": [],
   "source": [
    "# 去除遺失值\n",
    "rets = rets.dropna()\n",
    "rets"
   ]
  },
  {
   "cell_type": "code",
   "execution_count": null,
   "id": "28fd73bb",
   "metadata": {},
   "outputs": [],
   "source": [
    "get_year = lambda x: x.year\n",
    "by_year  = rets.groupby(get_year)\n",
    "print_groups(by_year)"
   ]
  },
  {
   "cell_type": "code",
   "execution_count": null,
   "id": "a78a1397",
   "metadata": {},
   "outputs": [],
   "source": [
    "# 分完組後，去看每個股票跟 SPX 的相關係數\n",
    "spx_corr = lambda x: x.corrwith(x['SPX'])\n",
    "by_year.apply(spx_corr)"
   ]
  },
  {
   "cell_type": "code",
   "execution_count": null,
   "id": "4bc03438",
   "metadata": {},
   "outputs": [],
   "source": [
    "# 分完組後，去看 APPLE 股價跟 MSFT 股價的相關係數\n",
    "by_year.apply(lambda g: g['AAPL'].corr(g['MSFT']))"
   ]
  },
  {
   "cell_type": "markdown",
   "id": "252b4818",
   "metadata": {},
   "source": [
    "---"
   ]
  },
  {
   "cell_type": "raw",
   "id": "f459b019",
   "metadata": {},
   "source": [
    "# 如果相關性夠高，我們會想把那條迴歸線解出來，這已經偏離課程，暫不討論"
   ]
  },
  {
   "cell_type": "code",
   "execution_count": null,
   "id": "d33e68d8",
   "metadata": {},
   "outputs": [],
   "source": [
    "import statsmodels.api as sm\n",
    "\n",
    "def regress(data, yvar, xvars):\n",
    "    Y = data[yvar]\n",
    "    X = data[xvars]\n",
    "    X['intercept'] = 1.\n",
    "    result = sm.OLS(Y, X).fit()\n",
    "    return result.params"
   ]
  },
  {
   "cell_type": "code",
   "execution_count": null,
   "id": "d7358604",
   "metadata": {},
   "outputs": [],
   "source": [
    "by_year.apply(regress, 'AAPL', ['SPX'])"
   ]
  },
  {
   "cell_type": "markdown",
   "id": "d8fe3b32",
   "metadata": {},
   "source": [
    "### 樞紐關係表和交叉表"
   ]
  },
  {
   "cell_type": "code",
   "execution_count": null,
   "id": "7a3b14b1",
   "metadata": {},
   "outputs": [],
   "source": [
    "tips = pd.read_csv('./mod08/tips.csv')\n",
    "tips['tip_pct'] = tips['tip'] / tips['total_bill']\n",
    "tips[:6]"
   ]
  },
  {
   "cell_type": "code",
   "execution_count": null,
   "id": "9a22e939",
   "metadata": {},
   "outputs": [],
   "source": [
    "# 跟 .pivot() 方法類似，要給出 values、index、columns\n",
    "# pivot_table 預設的聚合型態是計算分組的平均值\n",
    "tips.pivot_table(index = ['day', 'smoker'])"
   ]
  },
  {
   "cell_type": "code",
   "execution_count": null,
   "id": "f70a1726",
   "metadata": {},
   "outputs": [],
   "source": [
    "tips.pivot_table(values = ['tip_pct', 'size'], index = ['time', 'day'], columns = 'smoker')"
   ]
  },
  {
   "cell_type": "code",
   "execution_count": null,
   "id": "4eb2e1c9",
   "metadata": {},
   "outputs": [],
   "source": [
    "# 注意 margins 參數的效果\n",
    "tips.pivot_table(values = ['tip_pct', 'size'], index = ['time', 'day'], columns = 'smoker', margins = True)"
   ]
  },
  {
   "cell_type": "code",
   "execution_count": null,
   "id": "355b67e0",
   "metadata": {},
   "outputs": [],
   "source": [
    "# 跟上面比對一下\n",
    "tips['size'].mean()"
   ]
  },
  {
   "cell_type": "code",
   "execution_count": null,
   "id": "a7e409cb",
   "metadata": {},
   "outputs": [],
   "source": [
    "# 跟上上面比對一下\n",
    "tips.groupby('smoker')[['size', 'tip_pct']].mean()"
   ]
  },
  {
   "cell_type": "markdown",
   "id": "efab20b0",
   "metadata": {},
   "source": [
    "---"
   ]
  },
  {
   "cell_type": "code",
   "execution_count": null,
   "id": "1a99a49e",
   "metadata": {},
   "outputs": [],
   "source": [
    "# 第一個位置參數就是 values\n",
    "tips.pivot_table('tip_pct', index = ['time', 'smoker'], \n",
    "                  columns = 'day',\n",
    "                  aggfunc= len,\n",
    "                  margins = True)"
   ]
  },
  {
   "cell_type": "code",
   "execution_count": null,
   "id": "ff8472bb",
   "metadata": {},
   "outputs": [],
   "source": [
    "# 跟上上面比對一下\n",
    "grp = tips.groupby(['time', 'smoker', 'day'])['tip_pct']\n",
    "print_groups(grp)"
   ]
  },
  {
   "cell_type": "markdown",
   "id": "7f5424f0",
   "metadata": {},
   "source": [
    "---"
   ]
  },
  {
   "cell_type": "code",
   "execution_count": null,
   "id": "efe6eb33",
   "metadata": {},
   "outputs": [],
   "source": [
    "tips.pivot_table('tip_pct', index = ['time', 'size', 'smoker'],\n",
    "                 columns = 'day', aggfunc = 'mean')"
   ]
  },
  {
   "cell_type": "code",
   "execution_count": null,
   "id": "2e7c5f41",
   "metadata": {},
   "outputs": [],
   "source": [
    "tips.pivot_table('tip_pct', index = ['time', 'size', 'smoker'],\n",
    "                 columns = 'day', aggfunc = 'mean', fill_value = 0)"
   ]
  },
  {
   "cell_type": "markdown",
   "id": "1d130a86",
   "metadata": {},
   "source": [
    "---"
   ]
  },
  {
   "cell_type": "code",
   "execution_count": null,
   "id": "d44f6cfe",
   "metadata": {},
   "outputs": [],
   "source": [
    "from io import StringIO\n",
    "\n",
    "data = \"\"\"\\\n",
    "Sample  Nationality  Handedness\n",
    "1   USA  Right-handed\n",
    "2   Japan    Left-handed\n",
    "3   USA  Right-handed\n",
    "4   Japan    Right-handed\n",
    "5   Japan    Left-handed\n",
    "6   Japan    Right-handed\n",
    "7   USA  Right-handed\n",
    "8   USA  Left-handed\n",
    "9   Japan    Right-handed\n",
    "10  USA  Right-handed\"\"\"\n",
    "data = pd.read_table(StringIO(data), sep = '\\s+')"
   ]
  },
  {
   "cell_type": "code",
   "execution_count": null,
   "id": "268e6c51",
   "metadata": {},
   "outputs": [],
   "source": [
    "data"
   ]
  },
  {
   "cell_type": "code",
   "execution_count": null,
   "id": "0db95034",
   "metadata": {},
   "outputs": [],
   "source": [
    "# 交叉表是一種樞紐分析表的特殊例子，專用來計算分組的頻率\n",
    "# pd.crosstab 是全域函式，所以參數沒辦法帶入像 'Nationality' 之類的字串\n",
    "# 只帶入 index 與 columns 參數，會幫你算每組的個數\n",
    "pd.crosstab(index = data.Nationality, columns = data.Handedness, margins = True)"
   ]
  },
  {
   "cell_type": "code",
   "execution_count": null,
   "id": "e67199e8",
   "metadata": {},
   "outputs": [],
   "source": [
    "data.pivot_table('Sample', index = 'Nationality', columns = 'Handedness', margins= True, aggfunc = 'count')"
   ]
  },
  {
   "cell_type": "code",
   "execution_count": null,
   "id": "945c38d1",
   "metadata": {},
   "outputs": [],
   "source": [
    "grp = data.groupby(['Nationality', 'Handedness'])\n",
    "print_groups(grp)"
   ]
  },
  {
   "cell_type": "code",
   "execution_count": null,
   "id": "8838aade",
   "metadata": {},
   "outputs": [],
   "source": [
    "grp.count()"
   ]
  },
  {
   "cell_type": "markdown",
   "id": "1f0b0f28",
   "metadata": {},
   "source": [
    "---"
   ]
  },
  {
   "cell_type": "code",
   "execution_count": null,
   "id": "d6456197",
   "metadata": {},
   "outputs": [],
   "source": [
    "pd.crosstab(index = [tips.time, tips.day], columns = tips.smoker, margins = True)"
   ]
  },
  {
   "cell_type": "markdown",
   "id": "90a30821",
   "metadata": {},
   "source": [
    "---"
   ]
  },
  {
   "cell_type": "raw",
   "id": "4bd28bea",
   "metadata": {},
   "source": [
    "# 可以用之前學過的方法把 data 放進資料框嗎 ?"
   ]
  },
  {
   "cell_type": "code",
   "execution_count": null,
   "id": "de245dee",
   "metadata": {},
   "outputs": [],
   "source": [
    "data = \"\"\"\\\n",
    "Sample  Nationality  Handedness\n",
    "1   USA  Right-handed\n",
    "2   Japan    Left-handed\n",
    "3   USA  Right-handed\n",
    "4   Japan    Right-handed\n",
    "5   Japan    Left-handed\n",
    "6   Japan    Right-handed\n",
    "7   USA  Right-handed\n",
    "8   USA  Left-handed\n",
    "9   Japan    Right-handed\n",
    "10  USA  Right-handed\"\"\""
   ]
  },
  {
   "cell_type": "code",
   "execution_count": null,
   "id": "64c5e815",
   "metadata": {},
   "outputs": [],
   "source": [
    "lst = data.split('\\n')"
   ]
  },
  {
   "cell_type": "code",
   "execution_count": null,
   "id": "f00007cd",
   "metadata": {},
   "outputs": [],
   "source": [
    "lst"
   ]
  },
  {
   "cell_type": "code",
   "execution_count": null,
   "id": "9cd54405",
   "metadata": {},
   "outputs": [],
   "source": [
    "pd.Series(lst)"
   ]
  },
  {
   "cell_type": "code",
   "execution_count": null,
   "id": "5cfeecb7",
   "metadata": {},
   "outputs": [],
   "source": [
    "# 因為裡面有很多空白，所以要用 '\\s+'\n",
    "s = pd.Series(lst).str.split('\\s+')\n",
    "s"
   ]
  },
  {
   "cell_type": "code",
   "execution_count": null,
   "id": "1afe7a1d",
   "metadata": {},
   "outputs": [],
   "source": [
    "# 要先把資料框的框架建出來\n",
    "my_df = pd.DataFrame(np.zeros((len(s) - 1, 3)), columns = s[0])\n",
    "my_df"
   ]
  },
  {
   "cell_type": "code",
   "execution_count": null,
   "id": "24efabf4",
   "metadata": {},
   "outputs": [],
   "source": [
    "for i, val in enumerate(s[1:]):\n",
    "    my_df.iloc[i] = val"
   ]
  },
  {
   "cell_type": "code",
   "execution_count": null,
   "id": "35dc2212",
   "metadata": {},
   "outputs": [],
   "source": [
    "my_df"
   ]
  }
 ],
 "metadata": {
  "kernelspec": {
   "display_name": "Python 3",
   "language": "python",
   "name": "python3"
  },
  "language_info": {
   "codemirror_mode": {
    "name": "ipython",
    "version": 3
   },
   "file_extension": ".py",
   "mimetype": "text/x-python",
   "name": "python",
   "nbconvert_exporter": "python",
   "pygments_lexer": "ipython3",
   "version": "3.8.10"
  }
 },
 "nbformat": 4,
 "nbformat_minor": 5
}
