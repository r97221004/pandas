{
 "cells": [
  {
   "cell_type": "markdown",
   "id": "1ec572cf",
   "metadata": {},
   "source": [
    "#  <font color=red> Module_09_時間序列建模</font>"
   ]
  },
  {
   "cell_type": "markdown",
   "id": "3d465f89",
   "metadata": {},
   "source": [
    "## 日期、時間、區間的表示方法以及工具"
   ]
  },
  {
   "cell_type": "markdown",
   "id": "1dd16a5b",
   "metadata": {},
   "source": [
    "### datetime、day、time 物件"
   ]
  },
  {
   "cell_type": "code",
   "execution_count": null,
   "id": "0d36e2be",
   "metadata": {},
   "outputs": [],
   "source": [
    "import pandas as pd\n",
    "import numpy as np\n",
    "from datetime import datetime\n",
    "\n",
    "# import datetime 要使用 datetime 類別，要寫 datetime.datetime()\n",
    "# 但是因為這個類別太常用，所以我們使用 from datetime import datetime 比較簡潔方便\n",
    "# 這樣就可以直接調用 datetime() 類別與建立實體物件\n",
    "# datetime 物件包括年、月、日、時、分...\n",
    "# 來 new 一個 datetime 實體物件\n",
    "datetime(2014, 12, 15)"
   ]
  },
  {
   "cell_type": "code",
   "execution_count": null,
   "id": "4a40dca5",
   "metadata": {},
   "outputs": [],
   "source": [
    "datetime(2014, 12, 15, 17, 30, 5) # 年、月、日、時、分、秒"
   ]
  },
  {
   "cell_type": "code",
   "execution_count": null,
   "id": "e5d7ed52",
   "metadata": {},
   "outputs": [],
   "source": [
    "# 調用類方法，直接生成現在的時間，返回現在時間的實體物件\n",
    "now = datetime.now()\n",
    "now"
   ]
  },
  {
   "cell_type": "code",
   "execution_count": null,
   "id": "58f7bf49",
   "metadata": {},
   "outputs": [],
   "source": [
    "# 可以用它的屬性直接獲得年、月、日、時、分、秒\n",
    "# 別忘了這是 tuple 的寫法\n",
    "now.year, now.month, now.day, now.hour, now.minute, now.second"
   ]
  },
  {
   "cell_type": "markdown",
   "id": "11ed5a63",
   "metadata": {},
   "source": [
    "---"
   ]
  },
  {
   "cell_type": "raw",
   "id": "40d07955",
   "metadata": {},
   "source": [
    "# 我們想要建立只有日期沒有時間的實體物件該怎麼辦 ? 跟上面的操作相似"
   ]
  },
  {
   "cell_type": "code",
   "execution_count": null,
   "id": "a6479bf5",
   "metadata": {},
   "outputs": [],
   "source": [
    "from datetime import date\n",
    "d = date(2020, 3, 10) # datetime.date 物件代表特定的一天 (沒有時間成分)\n",
    "d"
   ]
  },
  {
   "cell_type": "code",
   "execution_count": null,
   "id": "fa09c757",
   "metadata": {},
   "outputs": [],
   "source": [
    "d.year, d.month, d.day"
   ]
  },
  {
   "cell_type": "markdown",
   "id": "98ce8163",
   "metadata": {},
   "source": [
    "---"
   ]
  },
  {
   "cell_type": "code",
   "execution_count": null,
   "id": "7a601fef",
   "metadata": {},
   "outputs": [],
   "source": [
    "# 如果是日期時間物件怎麼把時間去除 ?\n",
    "day = datetime(2021, 2, 23, 8, 10)\n",
    "day"
   ]
  },
  {
   "cell_type": "code",
   "execution_count": null,
   "id": "9c781f2e",
   "metadata": {},
   "outputs": [],
   "source": [
    "# 調用 .date() 方法就可以把時間給刪掉，返回日期實體物件\n",
    "day.date()"
   ]
  },
  {
   "cell_type": "code",
   "execution_count": null,
   "id": "282ead8a",
   "metadata": {},
   "outputs": [],
   "source": [
    "datetime.now().date()"
   ]
  },
  {
   "cell_type": "markdown",
   "id": "3d0bc177",
   "metadata": {},
   "source": [
    "---"
   ]
  },
  {
   "cell_type": "markdown",
   "id": "4d7fcd0c",
   "metadata": {},
   "source": [
    "---"
   ]
  },
  {
   "cell_type": "code",
   "execution_count": null,
   "id": "7ae9a502",
   "metadata": {},
   "outputs": [],
   "source": [
    "# 使用剛剛的邏輯，這是沒有日期成分的時間\n",
    "from datetime import time\n",
    "time(4, 50, 40) # 時、分、秒"
   ]
  },
  {
   "cell_type": "code",
   "execution_count": null,
   "id": "d35b2d00",
   "metadata": {},
   "outputs": [],
   "source": [
    "day = datetime(2014, 12, 15, 17, 30)\n",
    "day"
   ]
  },
  {
   "cell_type": "code",
   "execution_count": null,
   "id": "310ffa53",
   "metadata": {},
   "outputs": [],
   "source": [
    "day.time()"
   ]
  },
  {
   "cell_type": "code",
   "execution_count": null,
   "id": "6b62168d",
   "metadata": {},
   "outputs": [],
   "source": [
    "datetime.now().time()"
   ]
  },
  {
   "cell_type": "markdown",
   "id": "38cc9bd7",
   "metadata": {},
   "source": [
    "### 以 Timestamp 表示一個時間點"
   ]
  },
  {
   "cell_type": "code",
   "execution_count": null,
   "id": "6db71ae1",
   "metadata": {},
   "outputs": [],
   "source": [
    "# Pandas 裡日期與時間的表示，是利用 pandas.tslib.Timestamp 類別執行\n",
    "# 其精準度比 python 的 datetime 物件來得高\n",
    "# 且 pd.Timestamp() 類別看得懂字串\n",
    "# 來 new 一個 Timestamp 實體物件\n",
    "pd.Timestamp('2014-12-15')"
   ]
  },
  {
   "cell_type": "code",
   "execution_count": null,
   "id": "bca47ddb",
   "metadata": {},
   "outputs": [],
   "source": [
    "pd.Timestamp('2014-12-15 17:30')"
   ]
  },
  {
   "cell_type": "code",
   "execution_count": null,
   "id": "8e7d896a",
   "metadata": {},
   "outputs": [],
   "source": [
    "pd.Timestamp(2014, 12, 15, 17, 30) # 當然也可以按照之前那種習慣的寫法!"
   ]
  },
  {
   "cell_type": "code",
   "execution_count": null,
   "id": "148e63e5",
   "metadata": {},
   "outputs": [],
   "source": [
    "# Timestamp 也可以只以時間建立\n",
    "# 此時日期會預設為本地日期\n",
    "pd.Timestamp('17:30')"
   ]
  },
  {
   "cell_type": "code",
   "execution_count": null,
   "id": "bd8f52bf",
   "metadata": {},
   "outputs": [],
   "source": [
    "pd.Timestamp('now')"
   ]
  },
  {
   "cell_type": "markdown",
   "id": "5d1059ec",
   "metadata": {},
   "source": [
    "### 以 Timedelta 表示時間區間"
   ]
  },
  {
   "cell_type": "code",
   "execution_count": null,
   "id": "cbdaf56b",
   "metadata": {},
   "outputs": [],
   "source": [
    "# datetime 儲存了日期、時間，精確度可以到微秒。 timedelta 物件用來表示兩個 datetime 物件之間的時間差\n",
    "delta = datetime(2011, 1, 7) - datetime(2008, 6, 24, 8, 15)\n",
    "delta"
   ]
  },
  {
   "cell_type": "code",
   "execution_count": null,
   "id": "8a58b243",
   "metadata": {},
   "outputs": [],
   "source": [
    "# timedelta 物件的 days 屬性\n",
    "delta.days"
   ]
  },
  {
   "cell_type": "code",
   "execution_count": null,
   "id": "2abed19e",
   "metadata": {},
   "outputs": [],
   "source": [
    "# timedelta 物件的 seconds 屬性\n",
    "delta.seconds"
   ]
  },
  {
   "cell_type": "markdown",
   "id": "84fd40da",
   "metadata": {},
   "source": [
    "---"
   ]
  },
  {
   "cell_type": "code",
   "execution_count": null,
   "id": "625dbf6b",
   "metadata": {},
   "outputs": [],
   "source": [
    "from datetime import timedelta\n",
    "\n",
    "start = datetime(2011, 1, 7) # 沒有設定時間，預設就是都是 0\n",
    "start"
   ]
  },
  {
   "cell_type": "code",
   "execution_count": null,
   "id": "8c2e8540",
   "metadata": {},
   "outputs": [],
   "source": [
    "start + timedelta(12, 45, 50) # timedelta(日, 秒, 微秒)"
   ]
  },
  {
   "cell_type": "code",
   "execution_count": null,
   "id": "77b3b4a9",
   "metadata": {},
   "outputs": [],
   "source": [
    "start - 2*timedelta(12) # 減去 24 天"
   ]
  },
  {
   "cell_type": "code",
   "execution_count": null,
   "id": "25e66d9f",
   "metadata": {},
   "outputs": [],
   "source": [
    "date1 = datetime(2014, 12, 2)\n",
    "date2 = datetime(2014, 11, 28)\n",
    "date1 - date2"
   ]
  },
  {
   "cell_type": "markdown",
   "id": "037a194e",
   "metadata": {},
   "source": [
    "---"
   ]
  },
  {
   "cell_type": "code",
   "execution_count": null,
   "id": "e465e2cc",
   "metadata": {},
   "outputs": [],
   "source": [
    "# 也可使用 pandas 的全域函式 pd.Timedelat()\n",
    "today = datetime(2014, 11, 30)\n",
    "today"
   ]
  },
  {
   "cell_type": "code",
   "execution_count": null,
   "id": "acd56d63",
   "metadata": {},
   "outputs": [],
   "source": [
    "tomorrow = today + pd.Timedelta(days = 1) # 參數有很多可選，需要時再上網查\n",
    "tomorrow"
   ]
  },
  {
   "cell_type": "markdown",
   "id": "a36cddf4",
   "metadata": {},
   "source": [
    "---"
   ]
  },
  {
   "cell_type": "code",
   "execution_count": null,
   "id": "9082d35a",
   "metadata": {},
   "outputs": [],
   "source": [
    "today = pd.Timestamp('2014-11-30')\n",
    "today"
   ]
  },
  {
   "cell_type": "code",
   "execution_count": null,
   "id": "cf522273",
   "metadata": {},
   "outputs": [],
   "source": [
    "tomorrow = today + pd.Timedelta(days = 1)\n",
    "tomorrow"
   ]
  },
  {
   "cell_type": "markdown",
   "id": "ab329570",
   "metadata": {},
   "source": [
    "### 字串和時間日期轉換"
   ]
  },
  {
   "cell_type": "raw",
   "id": "6d7cfc8e",
   "metadata": {},
   "source": [
    "# 日期時間資料轉字串的方法比較好記!"
   ]
  },
  {
   "cell_type": "code",
   "execution_count": null,
   "id": "6a013867",
   "metadata": {},
   "outputs": [],
   "source": [
    "stamp = datetime(2011, 1, 3)\n",
    "stamp"
   ]
  },
  {
   "cell_type": "code",
   "execution_count": null,
   "id": "08361d2e",
   "metadata": {},
   "outputs": [],
   "source": [
    "# 使用 str() 函式轉換成字串\n",
    "str(stamp)"
   ]
  },
  {
   "cell_type": "code",
   "execution_count": null,
   "id": "cf1aba4c",
   "metadata": {},
   "outputs": [],
   "source": [
    "# 使用 datetime 物件的 .strftime() 方法轉換成字串，可自選格式\n",
    "stamp.strftime('%Y-%m-%d')"
   ]
  },
  {
   "cell_type": "markdown",
   "id": "df633bef",
   "metadata": {},
   "source": [
    "---"
   ]
  },
  {
   "cell_type": "code",
   "execution_count": null,
   "id": "eb20a041",
   "metadata": {},
   "outputs": [],
   "source": [
    "stamp = pd.Timestamp(2011, 1, 3)\n",
    "stamp"
   ]
  },
  {
   "cell_type": "code",
   "execution_count": null,
   "id": "eb46e14c",
   "metadata": {},
   "outputs": [],
   "source": [
    "str(stamp)"
   ]
  },
  {
   "cell_type": "code",
   "execution_count": null,
   "id": "2386fd86",
   "metadata": {},
   "outputs": [],
   "source": [
    "# Timestamp 物件一樣有 .strftime() 方法可以用\n",
    "stamp.strftime('%Y-%m-%d')"
   ]
  },
  {
   "cell_type": "markdown",
   "id": "ea8752c0",
   "metadata": {},
   "source": [
    "---"
   ]
  },
  {
   "cell_type": "raw",
   "id": "bb920b11",
   "metadata": {},
   "source": [
    "# 字串轉日期時間資料的方法就需要思考一下了!"
   ]
  },
  {
   "cell_type": "code",
   "execution_count": null,
   "id": "01bdeb78",
   "metadata": {},
   "outputs": [],
   "source": [
    "# 使用類方法 datetime.strptime() 把字串轉日期\n",
    "# 要給出正確的時間日期形式才能解析成功\n",
    "value = '2011-01-03'\n",
    "datetime.strptime(value, '%Y-%m-%d')"
   ]
  },
  {
   "cell_type": "code",
   "execution_count": null,
   "id": "169fa789",
   "metadata": {},
   "outputs": [],
   "source": [
    "value = '2011-01-03 00:00:00'\n",
    "datetime.strptime(value, '%Y-%m-%d') # 形式沒給對!"
   ]
  },
  {
   "cell_type": "code",
   "execution_count": null,
   "id": "bc828af8",
   "metadata": {},
   "outputs": [],
   "source": [
    "value = '2011-01-03 00:00:00'\n",
    "datetime.strptime(value, '%Y-%m-%d %H:%M:%S')"
   ]
  },
  {
   "cell_type": "code",
   "execution_count": null,
   "id": "a8186562",
   "metadata": {},
   "outputs": [],
   "source": [
    "datestrs = ['7/6/2011', '8/6/2011']\n",
    "[datetime.strptime(i, '%m/%d/%Y') for i in datestrs]"
   ]
  },
  {
   "cell_type": "markdown",
   "id": "d0903127",
   "metadata": {},
   "source": [
    "---"
   ]
  },
  {
   "cell_type": "code",
   "execution_count": null,
   "id": "4ebb2685",
   "metadata": {},
   "outputs": [],
   "source": [
    "value"
   ]
  },
  {
   "cell_type": "code",
   "execution_count": null,
   "id": "0436e413",
   "metadata": {},
   "outputs": [],
   "source": [
    "# 也可以用 pandas 的全域函式 pd.to_datetime() 來解析字串\n",
    "# 會返回 Timestamp 物件\n",
    "pd.to_datetime(value)"
   ]
  },
  {
   "cell_type": "code",
   "execution_count": null,
   "id": "afa28fff",
   "metadata": {},
   "outputs": [],
   "source": [
    "datestrs"
   ]
  },
  {
   "cell_type": "code",
   "execution_count": null,
   "id": "5e1dc9cd",
   "metadata": {},
   "outputs": [],
   "source": [
    "# 會返回 DatetimeIndex 物件\n",
    "pd.to_datetime(datestrs)"
   ]
  },
  {
   "cell_type": "markdown",
   "id": "579faf21",
   "metadata": {},
   "source": [
    "---"
   ]
  },
  {
   "cell_type": "code",
   "execution_count": null,
   "id": "b453534a",
   "metadata": {},
   "outputs": [],
   "source": [
    "value"
   ]
  },
  {
   "cell_type": "code",
   "execution_count": null,
   "id": "784294d1",
   "metadata": {},
   "outputs": [],
   "source": [
    "pd.Timestamp(value) # 直接把 value 帶入，new 一個實體物件也是可以"
   ]
  },
  {
   "cell_type": "code",
   "execution_count": null,
   "id": "6cfdebeb",
   "metadata": {},
   "outputs": [],
   "source": [
    "datestrs"
   ]
  },
  {
   "cell_type": "code",
   "execution_count": null,
   "id": "65d0beac",
   "metadata": {},
   "outputs": [],
   "source": [
    "pd.Timestamp(datestrs) # 這樣當然會失敗!"
   ]
  },
  {
   "cell_type": "markdown",
   "id": "bdd083a1",
   "metadata": {},
   "source": [
    "---"
   ]
  },
  {
   "cell_type": "code",
   "execution_count": null,
   "id": "f27ec4aa",
   "metadata": {},
   "outputs": [],
   "source": [
    "# 還可以使用第三方套件 dateutil 中的 parser.parse 模組來解析\n",
    "# 可以不用寫格式規格，相當方便，但不是什麼形式都可以解析成功喔!\n",
    "# 會返回 datetime 物件\n",
    "from dateutil.parser import parse\n",
    "\n",
    "parse('2011-01-03')"
   ]
  },
  {
   "cell_type": "code",
   "execution_count": null,
   "id": "f6c539be",
   "metadata": {},
   "outputs": [],
   "source": [
    "parse('Jan 31, 1997 10:45 PM')"
   ]
  },
  {
   "cell_type": "code",
   "execution_count": null,
   "id": "bad1c3ee",
   "metadata": {},
   "outputs": [],
   "source": [
    "parse('6/12/2011')"
   ]
  },
  {
   "cell_type": "code",
   "execution_count": null,
   "id": "a6d61470",
   "metadata": {},
   "outputs": [],
   "source": [
    "parse('6/12/2011', dayfirst = True) # 參數 dayfirst 會使第一位當成日，跟上面比較看看!"
   ]
  },
  {
   "cell_type": "code",
   "execution_count": null,
   "id": "357f281e",
   "metadata": {},
   "outputs": [],
   "source": [
    "parse(datestrs) # 也沒辦法帶入列表"
   ]
  },
  {
   "cell_type": "markdown",
   "id": "f8faddb6",
   "metadata": {},
   "source": [
    "## 時間序列資料簡介"
   ]
  },
  {
   "cell_type": "markdown",
   "id": "46889fa0",
   "metadata": {},
   "source": [
    "### 使用 DatetimeIndex 作為索引"
   ]
  },
  {
   "cell_type": "code",
   "execution_count": null,
   "id": "a5269b34",
   "metadata": {},
   "outputs": [],
   "source": [
    "# 用 datetime 物件來建立\n",
    "dates = [datetime(2014, 8, 1), datetime(2014, 8, 2)]\n",
    "ts = pd.Series(np.random.randn(2), index = dates)\n",
    "ts"
   ]
  },
  {
   "cell_type": "code",
   "execution_count": null,
   "id": "d6c97a15",
   "metadata": {},
   "outputs": [],
   "source": [
    "ts.index"
   ]
  },
  {
   "cell_type": "code",
   "execution_count": null,
   "id": "69d18b21",
   "metadata": {},
   "outputs": [],
   "source": [
    "type(ts.index) # 序列接收 datetime 物件後，從日期值建構 DatetimeIndex"
   ]
  },
  {
   "cell_type": "code",
   "execution_count": null,
   "id": "bf02d1ab",
   "metadata": {},
   "outputs": [],
   "source": [
    "ts.index[0] # 雖然是用 datetime 物件建構，但放進序列後會統一都換成 Timestamp 物件"
   ]
  },
  {
   "cell_type": "code",
   "execution_count": null,
   "id": "4360dc38",
   "metadata": {},
   "outputs": [],
   "source": [
    "type(ts.index[0]) # 每個索引值都是一個 Timestamp 物件"
   ]
  },
  {
   "cell_type": "markdown",
   "id": "9123d224",
   "metadata": {},
   "source": [
    "---"
   ]
  },
  {
   "cell_type": "code",
   "execution_count": null,
   "id": "a613cbc0",
   "metadata": {},
   "outputs": [],
   "source": [
    "# 用 Timestamp 物件來建立，好處之一是可以直接使用字串\n",
    "dates = [pd.Timestamp('2014-08-01'), pd.Timestamp('2014-08-02')]\n",
    "ts = pd.Series(np.random.randn(2), index = dates)\n",
    "ts"
   ]
  },
  {
   "cell_type": "code",
   "execution_count": null,
   "id": "57171522",
   "metadata": {},
   "outputs": [],
   "source": [
    "ts.index"
   ]
  },
  {
   "cell_type": "code",
   "execution_count": null,
   "id": "893a6e6d",
   "metadata": {},
   "outputs": [],
   "source": [
    "ts.index[0]"
   ]
  },
  {
   "cell_type": "markdown",
   "id": "c271f3ee",
   "metadata": {},
   "source": [
    "---"
   ]
  },
  {
   "cell_type": "code",
   "execution_count": null,
   "id": "2fef67ef",
   "metadata": {},
   "outputs": [],
   "source": [
    "# 也可以先用字串組成一個列表再傳入 pd.DatetimeIndex 類別，建立一個實體物件\n",
    "# 也就是直接 new 一個 DatetimeIndex 物件\n",
    "dates = ['2014-08-01', '2014-08-02']\n",
    "dates = pd.DatetimeIndex(dates)\n",
    "dates"
   ]
  },
  {
   "cell_type": "code",
   "execution_count": null,
   "id": "38596430",
   "metadata": {},
   "outputs": [],
   "source": [
    "ts = pd.Series(np.random.randn(2), index = dates)\n",
    "ts"
   ]
  },
  {
   "cell_type": "code",
   "execution_count": null,
   "id": "de6a3bf8",
   "metadata": {},
   "outputs": [],
   "source": [
    "ts.index"
   ]
  },
  {
   "cell_type": "code",
   "execution_count": null,
   "id": "11ac916a",
   "metadata": {},
   "outputs": [],
   "source": [
    "ts.index[0]"
   ]
  },
  {
   "cell_type": "markdown",
   "id": "c11ce717",
   "metadata": {},
   "source": [
    "---"
   ]
  },
  {
   "cell_type": "code",
   "execution_count": null,
   "id": "e0416037",
   "metadata": {},
   "outputs": [],
   "source": [
    "# 函式 pd.to_datetime() 接收一系列相似或混合型別物件，嘗試將這些物件轉換成 Timestamp 物件以及產生 DatetimeIndex 物件\n",
    "# 無法轉換會填入 NaT\n",
    "dti = pd.to_datetime(['Aug 1, 2014', '2014-08-02', '2014.8.3', None])\n",
    "dti"
   ]
  },
  {
   "cell_type": "code",
   "execution_count": null,
   "id": "163e8588",
   "metadata": {},
   "outputs": [],
   "source": [
    "for i in dti: print(i) "
   ]
  },
  {
   "cell_type": "code",
   "execution_count": null,
   "id": "c5f8ef6a",
   "metadata": {},
   "outputs": [],
   "source": [
    "pd.to_datetime(['Aug 1, 2014', 'foo']) # 無法解析是什麼的會產生例外"
   ]
  },
  {
   "cell_type": "code",
   "execution_count": null,
   "id": "923cf714",
   "metadata": {},
   "outputs": [],
   "source": [
    "pd.to_datetime(['Aug 1, 2014', 'foo'], errors = \"coerce\") # 設定參數 errors = \"coerce\" 會把無法解析是什麼的也產生 NaT"
   ]
  },
  {
   "cell_type": "markdown",
   "id": "82bf75fb",
   "metadata": {},
   "source": [
    "---"
   ]
  },
  {
   "cell_type": "code",
   "execution_count": null,
   "id": "c8ec70d3",
   "metadata": {},
   "outputs": [],
   "source": [
    "# 之前很常遇到的用 pd.date_range() 函式建立 DatetimeIndex\n",
    "# pd.date_range() 可以給開頭時間，再設定參數 periods 和 freq\n",
    "np.random.seed(123456)\n",
    "periods = pd.date_range('8/1/2014', periods = 10) # 預設 freq = 'D'\n",
    "date_series = pd.Series(np.random.randn(10), index = periods)\n",
    "date_series"
   ]
  },
  {
   "cell_type": "code",
   "execution_count": null,
   "id": "edd46d6a",
   "metadata": {},
   "outputs": [],
   "source": [
    "date_series.index"
   ]
  },
  {
   "cell_type": "code",
   "execution_count": null,
   "id": "708286ba",
   "metadata": {},
   "outputs": [],
   "source": [
    "type(date_series.index[0])"
   ]
  },
  {
   "cell_type": "code",
   "execution_count": null,
   "id": "9e580894",
   "metadata": {},
   "outputs": [],
   "source": [
    "subset = date_series[3:7]\n",
    "subset"
   ]
  },
  {
   "cell_type": "code",
   "execution_count": null,
   "id": "86610805",
   "metadata": {},
   "outputs": [],
   "source": [
    "s2  = pd.Series([10, 100, 1000, 10000], index = subset.index)\n",
    "s2"
   ]
  },
  {
   "cell_type": "markdown",
   "id": "fe1aab80",
   "metadata": {},
   "source": [
    "---"
   ]
  },
  {
   "cell_type": "code",
   "execution_count": null,
   "id": "b85e3997",
   "metadata": {},
   "outputs": [],
   "source": [
    "date_series"
   ]
  },
  {
   "cell_type": "code",
   "execution_count": null,
   "id": "28daafae",
   "metadata": {},
   "outputs": [],
   "source": [
    "s2"
   ]
  },
  {
   "cell_type": "code",
   "execution_count": null,
   "id": "30972b4d",
   "metadata": {},
   "outputs": [],
   "source": [
    "# 會執行對齊\n",
    "date_series + s2"
   ]
  },
  {
   "cell_type": "markdown",
   "id": "b84b4549",
   "metadata": {},
   "source": [
    "---"
   ]
  },
  {
   "cell_type": "code",
   "execution_count": null,
   "id": "9ae12e76",
   "metadata": {},
   "outputs": [],
   "source": [
    "date_series"
   ]
  },
  {
   "cell_type": "code",
   "execution_count": null,
   "id": "e21180ff",
   "metadata": {},
   "outputs": [],
   "source": [
    "# 可用 datetime 物件來提取\n",
    "date_series[datetime(2014, 8, 5)]"
   ]
  },
  {
   "cell_type": "code",
   "execution_count": null,
   "id": "f681510a",
   "metadata": {},
   "outputs": [],
   "source": [
    "# 可用 Timestamp 物件來提取\n",
    "date_series[pd.Timestamp('2014-8-5')]"
   ]
  },
  {
   "cell_type": "code",
   "execution_count": null,
   "id": "d0ae3fb1",
   "metadata": {},
   "outputs": [],
   "source": [
    "# 也可直接透過字串來提取\n",
    "# 當然也可以用 .loc[] 運算子\n",
    "date_series['2014-08-05']"
   ]
  },
  {
   "cell_type": "markdown",
   "id": "e5aaaec2",
   "metadata": {},
   "source": [
    "---"
   ]
  },
  {
   "cell_type": "code",
   "execution_count": null,
   "id": "5f4af788",
   "metadata": {},
   "outputs": [],
   "source": [
    "date_series"
   ]
  },
  {
   "cell_type": "code",
   "execution_count": null,
   "id": "0d23db5f",
   "metadata": {},
   "outputs": [],
   "source": [
    "# 索引標籤的切片是會包含最後一項的喔!\n",
    "# 記得此處的切片跟之前對 NumPy 陣列做切片時一樣，是會在原始資料上產生一個 view，在 view 上做的修改會同步到原始資料上\n",
    "date_series['2014-08-05':'2014-08-07']"
   ]
  },
  {
   "cell_type": "code",
   "execution_count": null,
   "id": "e9b6d666",
   "metadata": {},
   "outputs": [],
   "source": [
    "date_series[datetime(2014, 8, 5):]"
   ]
  },
  {
   "cell_type": "code",
   "execution_count": null,
   "id": "4020b58f",
   "metadata": {},
   "outputs": [],
   "source": [
    "date_series.truncate(after = '8/9/2014') # 序列的方法， 參數 after 之後的都不要 # 也有參數 before 可用"
   ]
  },
  {
   "cell_type": "markdown",
   "id": "8de46b94",
   "metadata": {},
   "source": [
    "---"
   ]
  },
  {
   "cell_type": "code",
   "execution_count": null,
   "id": "9a43d021",
   "metadata": {},
   "outputs": [],
   "source": [
    "# pd.date_range() 也可以給開頭時間跟結束時間，再設定參數 freq\n",
    "dates  = pd.date_range('2013-01-01', '2014-12-31', freq = 'M') # freq = 'M'，是月底 # freq = 'MS' 是月初\n",
    "s3 = pd.Series(np.random.randint(0, 10, len(dates)), index = dates)\n",
    "s3"
   ]
  },
  {
   "cell_type": "code",
   "execution_count": null,
   "id": "900659cb",
   "metadata": {},
   "outputs": [],
   "source": [
    "s3.index"
   ]
  },
  {
   "cell_type": "code",
   "execution_count": null,
   "id": "7abae8c7",
   "metadata": {},
   "outputs": [],
   "source": [
    "# 可利用日期規格的一部分來切割 DatetimeIndex\n",
    "# 跟 s3[s3.index.year == 2013] 布林選擇同效果\n",
    "s3['2013']"
   ]
  },
  {
   "cell_type": "code",
   "execution_count": null,
   "id": "c0613dab",
   "metadata": {},
   "outputs": [],
   "source": [
    "s3['2014-05']"
   ]
  },
  {
   "cell_type": "code",
   "execution_count": null,
   "id": "081e3b19",
   "metadata": {},
   "outputs": [],
   "source": [
    "s3['2014-08':'2014-09']"
   ]
  },
  {
   "cell_type": "markdown",
   "id": "a5e9c637",
   "metadata": {},
   "source": [
    "---"
   ]
  },
  {
   "cell_type": "code",
   "execution_count": null,
   "id": "b11bdecc",
   "metadata": {},
   "outputs": [],
   "source": [
    "# 若目標改為 Dataframe，當然也可以用一樣的邏輯使用 pd.data_range() 函式\n",
    "dates = pd.date_range('1/1/2000', periods = 100, freq = 'W-WED') # freq = 'W-WED' 代表每周的禮拜三\n",
    "long_df = pd.DataFrame(np.random.randn(100, 4),\n",
    "                       index = dates,\n",
    "                       columns = ['Colorado', 'Texas', 'New York', 'Ohio'])\n",
    "long_df"
   ]
  },
  {
   "cell_type": "code",
   "execution_count": null,
   "id": "fb323e7e",
   "metadata": {},
   "outputs": [],
   "source": [
    "long_df.loc['5-2001']"
   ]
  },
  {
   "cell_type": "markdown",
   "id": "ed104b55",
   "metadata": {},
   "source": [
    "### 有重複索引的時間序列"
   ]
  },
  {
   "cell_type": "code",
   "execution_count": null,
   "id": "de73fc7c",
   "metadata": {},
   "outputs": [],
   "source": [
    "# 在某些應用中，同一個時間戳記有可能有多個觀察值\n",
    "dates = pd.DatetimeIndex(['1/1/2000', '1/2/2000', '1/2/2000', '1/2/2000', '1/3/2000'])\n",
    "dup_ts = pd.Series(np.arange(5), index = dates)\n",
    "dup_ts"
   ]
  },
  {
   "cell_type": "code",
   "execution_count": null,
   "id": "dfcede5d",
   "metadata": {},
   "outputs": [],
   "source": [
    "dup_ts.index.is_unique"
   ]
  },
  {
   "cell_type": "code",
   "execution_count": null,
   "id": "818de959",
   "metadata": {},
   "outputs": [],
   "source": [
    "# 沒有重複，產生常數值\n",
    "dup_ts['1/3/2000']"
   ]
  },
  {
   "cell_type": "code",
   "execution_count": null,
   "id": "8d2a017f",
   "metadata": {},
   "outputs": [],
   "source": [
    "# 重複，會產生切片，也就是一個序列\n",
    "dup_ts['1/2/2000']"
   ]
  },
  {
   "cell_type": "code",
   "execution_count": null,
   "id": "06aa1491",
   "metadata": {},
   "outputs": [],
   "source": [
    "grouped = dup_ts.groupby(level = 0)"
   ]
  },
  {
   "cell_type": "code",
   "execution_count": null,
   "id": "2798f90d",
   "metadata": {},
   "outputs": [],
   "source": [
    "grouped.mean()"
   ]
  },
  {
   "cell_type": "code",
   "execution_count": null,
   "id": "7471701c",
   "metadata": {},
   "outputs": [],
   "source": [
    "grouped.count()"
   ]
  },
  {
   "cell_type": "markdown",
   "id": "74a269e6",
   "metadata": {},
   "source": [
    "### 建立特定頻率的時間序列"
   ]
  },
  {
   "cell_type": "code",
   "execution_count": null,
   "id": "79e271c6",
   "metadata": {},
   "outputs": [],
   "source": [
    "# 預設為 freq = 'D'，是以每日的區間為頻率來建立\n",
    "dates = pd.date_range('2014-08-01', '2014-10-29')\n",
    "bymin = pd.Series(np.random.randn(len(dates)),\n",
    "                  index = dates)\n",
    "bymin"
   ]
  },
  {
   "cell_type": "code",
   "execution_count": null,
   "id": "dbe31346",
   "metadata": {},
   "outputs": [],
   "source": [
    "# freq = 'T'， 是以每分鐘的區間為頻率來建立\n",
    "dates = pd.date_range('2014-08-01', '2014-10-29 23:59', freq = 'T')\n",
    "bymin = pd.Series(np.random.randn(len(dates)),\n",
    "                  index = dates)\n",
    "bymin"
   ]
  },
  {
   "cell_type": "code",
   "execution_count": null,
   "id": "de898f43",
   "metadata": {},
   "outputs": [],
   "source": [
    "bymin['2014-08-01 00:02':'2014-08-01 00:07']"
   ]
  },
  {
   "cell_type": "code",
   "execution_count": null,
   "id": "9289eda3",
   "metadata": {},
   "outputs": [],
   "source": [
    "# freq = 'B' 建立只有營業日的時間序列\n",
    "# 周末的兩天被忽略了\n",
    "days = pd.date_range('2014-08-29', '2014-09-05', freq = 'B')\n",
    "days"
   ]
  },
  {
   "cell_type": "code",
   "execution_count": null,
   "id": "95069dea",
   "metadata": {},
   "outputs": [],
   "source": [
    "# BM (business end of month): 每個月的最後一個上班日\n",
    "pd.date_range('2000-01-01', '2000-12-01', freq = 'BM')"
   ]
  },
  {
   "cell_type": "code",
   "execution_count": null,
   "id": "0f740b77",
   "metadata": {},
   "outputs": [],
   "source": [
    "pd.date_range('2000-01-01', '2000-01-02', freq = '4h')"
   ]
  },
  {
   "cell_type": "code",
   "execution_count": null,
   "id": "5f4503a4",
   "metadata": {},
   "outputs": [],
   "source": [
    "pd.date_range('2000-01-01', '2000-01-02', freq = '4h30min')"
   ]
  },
  {
   "cell_type": "markdown",
   "id": "76b8fd8e",
   "metadata": {},
   "source": [
    "---"
   ]
  },
  {
   "cell_type": "code",
   "execution_count": null,
   "id": "c0014336",
   "metadata": {},
   "outputs": [],
   "source": [
    "# 如果只有傳入開始或結束時間的話，必須在另外傳入要產生多少周期的數量\n",
    "pd.date_range(start = '2014-08-01 12:10:01', freq = 'S', periods = 5) # 頻率為秒"
   ]
  },
  {
   "cell_type": "code",
   "execution_count": null,
   "id": "cc632e80",
   "metadata": {},
   "outputs": [],
   "source": [
    "pd.date_range(end = '2014-08-01 12:10:01', periods = 10)"
   ]
  },
  {
   "cell_type": "code",
   "execution_count": null,
   "id": "fb7ef056",
   "metadata": {},
   "outputs": [],
   "source": [
    "# normalize = True 會把時間統一設為午夜\n",
    "pd.date_range('2012-05-02 12:56:31', periods = 5, normalize = True)"
   ]
  },
  {
   "cell_type": "markdown",
   "id": "d5d2dbfd",
   "metadata": {},
   "source": [
    "## 使用偏移值計算新日期"
   ]
  },
  {
   "cell_type": "markdown",
   "id": "2012d730",
   "metadata": {},
   "source": [
    "### 以日期偏移值表示資料區間"
   ]
  },
  {
   "cell_type": "code",
   "execution_count": null,
   "id": "3f154d3b",
   "metadata": {},
   "outputs": [],
   "source": [
    "# pandas 利用 Dateoffset 物件的觀念，延伸了 Timedelta 物件的概念\n",
    "# Dateoffset 物件的功能更強大\n",
    "dti = pd.date_range('2014-08-29', '2014-09-05', freq = 'B')\n",
    "dti"
   ]
  },
  {
   "cell_type": "code",
   "execution_count": null,
   "id": "2588a9fe",
   "metadata": {},
   "outputs": [],
   "source": [
    "dti.values"
   ]
  },
  {
   "cell_type": "code",
   "execution_count": null,
   "id": "caadcf20",
   "metadata": {},
   "outputs": [],
   "source": [
    "dti.freq"
   ]
  },
  {
   "cell_type": "markdown",
   "id": "5f3e157d",
   "metadata": {},
   "source": [
    "---"
   ]
  },
  {
   "cell_type": "code",
   "execution_count": null,
   "id": "b50b6220",
   "metadata": {},
   "outputs": [],
   "source": [
    "d = datetime(2014, 8, 29)\n",
    "do = pd.DateOffset(days = 1)\n",
    "d + do"
   ]
  },
  {
   "cell_type": "code",
   "execution_count": null,
   "id": "0c7394fb",
   "metadata": {},
   "outputs": [],
   "source": [
    "# 跟上面同樣效果，但是返回不同的物件\n",
    "do = pd.Timedelta(days = 1)\n",
    "d + do"
   ]
  },
  {
   "cell_type": "markdown",
   "id": "17249350",
   "metadata": {},
   "source": [
    "---"
   ]
  },
  {
   "cell_type": "code",
   "execution_count": null,
   "id": "3dbb70d0",
   "metadata": {},
   "outputs": [],
   "source": [
    "d"
   ]
  },
  {
   "cell_type": "code",
   "execution_count": null,
   "id": "f655104c",
   "metadata": {},
   "outputs": [],
   "source": [
    "from pandas.tseries.offsets import BusinessDay\n",
    "\n",
    "d + BusinessDay() # 加一天營業日"
   ]
  },
  {
   "cell_type": "code",
   "execution_count": null,
   "id": "7e2f6c3b",
   "metadata": {},
   "outputs": [],
   "source": [
    "d + 2*BusinessDay()"
   ]
  },
  {
   "cell_type": "markdown",
   "id": "07f88386",
   "metadata": {},
   "source": [
    "---"
   ]
  },
  {
   "cell_type": "code",
   "execution_count": null,
   "id": "5e3d833a",
   "metadata": {},
   "outputs": [],
   "source": [
    "d"
   ]
  },
  {
   "cell_type": "code",
   "execution_count": null,
   "id": "ebd6a4b9",
   "metadata": {},
   "outputs": [],
   "source": [
    "from pandas.tseries.offsets import Hour, Minute, Day\n",
    "d + Hour() # 更多的偏移量可以使用 # 裡面不給值預設 1 小時"
   ]
  },
  {
   "cell_type": "code",
   "execution_count": null,
   "id": "829156df",
   "metadata": {},
   "outputs": [],
   "source": [
    "d + 3*Day()"
   ]
  },
  {
   "cell_type": "code",
   "execution_count": null,
   "id": "8bb143d2",
   "metadata": {},
   "outputs": [],
   "source": [
    "d + Hour(4) + Minute(30)"
   ]
  },
  {
   "cell_type": "markdown",
   "id": "233f1acc",
   "metadata": {},
   "source": [
    "---"
   ]
  },
  {
   "cell_type": "code",
   "execution_count": null,
   "id": "fcbc4972",
   "metadata": {},
   "outputs": [],
   "source": [
    "d"
   ]
  },
  {
   "cell_type": "code",
   "execution_count": null,
   "id": "10e3f3f8",
   "metadata": {},
   "outputs": [],
   "source": [
    "from pandas.tseries.offsets import BMonthEnd, MonthEnd\n",
    "d + BMonthEnd() # 月的最後一個營業日，也就是月的最後一個上班日"
   ]
  },
  {
   "cell_type": "code",
   "execution_count": null,
   "id": "8eae697d",
   "metadata": {},
   "outputs": [],
   "source": [
    "d2 = datetime(2014, 8, 10)\n",
    "d2"
   ]
  },
  {
   "cell_type": "code",
   "execution_count": null,
   "id": "c074771c",
   "metadata": {},
   "outputs": [],
   "source": [
    "d2 + BMonthEnd()"
   ]
  },
  {
   "cell_type": "code",
   "execution_count": null,
   "id": "54abaecb",
   "metadata": {},
   "outputs": [],
   "source": [
    "d2 + MonthEnd() # 這是月的最後一天喔!"
   ]
  },
  {
   "cell_type": "markdown",
   "id": "401396e1",
   "metadata": {},
   "source": [
    "---"
   ]
  },
  {
   "cell_type": "code",
   "execution_count": null,
   "id": "8f210323",
   "metadata": {},
   "outputs": [],
   "source": [
    "d3 = pd.Timestamp('2014-08-10')\n",
    "d3 + BMonthEnd()"
   ]
  },
  {
   "cell_type": "code",
   "execution_count": null,
   "id": "c6ee07ab",
   "metadata": {},
   "outputs": [],
   "source": [
    "type(BMonthEnd()) # 物件"
   ]
  },
  {
   "cell_type": "code",
   "execution_count": null,
   "id": "79539b31",
   "metadata": {},
   "outputs": [],
   "source": [
    "BMonthEnd().rollforward(datetime(2014, 9, 15)) # 使用物件的 .rollforward() 方法 # 往前偏移 # 也可帶字串"
   ]
  },
  {
   "cell_type": "code",
   "execution_count": null,
   "id": "9d751841",
   "metadata": {},
   "outputs": [],
   "source": [
    "BMonthEnd().rollback(datetime(2014, 9 ,15)) # 使用物件的 .rollback() 方法 # 往後偏移"
   ]
  },
  {
   "cell_type": "markdown",
   "id": "91e6d00d",
   "metadata": {},
   "source": [
    "---"
   ]
  },
  {
   "cell_type": "code",
   "execution_count": null,
   "id": "29d84a3d",
   "metadata": {},
   "outputs": [],
   "source": [
    "ts = pd.Series(np.random.randn(20), \n",
    "               index = pd.date_range('1/15/2000', periods = 20, freq= '4d'))\n",
    "ts"
   ]
  },
  {
   "cell_type": "code",
   "execution_count": null,
   "id": "d678c019",
   "metadata": {},
   "outputs": [],
   "source": [
    "# 一個有創意的用法\n",
    "# 可以想成是要在每個月底算每個月值的平均\n",
    "ts.groupby(MonthEnd().rollforward).mean() # 傳入的是一個函式，所以會對索引標籤操作"
   ]
  },
  {
   "cell_type": "code",
   "execution_count": null,
   "id": "f1236f33",
   "metadata": {},
   "outputs": [],
   "source": [
    "# 得到同樣的結果，後面會詳細介紹此方法\n",
    "ts.resample('M').mean()"
   ]
  },
  {
   "cell_type": "code",
   "execution_count": null,
   "id": "4b366821",
   "metadata": {},
   "outputs": [],
   "source": [
    "# 'MS': 每個月的第一個月曆日，也就是月初\n",
    "ts.resample('MS').mean()"
   ]
  },
  {
   "cell_type": "markdown",
   "id": "857b39b8",
   "metadata": {},
   "source": [
    "---"
   ]
  },
  {
   "cell_type": "code",
   "execution_count": null,
   "id": "9716645d",
   "metadata": {},
   "outputs": [],
   "source": [
    "d"
   ]
  },
  {
   "cell_type": "code",
   "execution_count": null,
   "id": "c7f23026",
   "metadata": {},
   "outputs": [],
   "source": [
    "# weekday = 0 是星期一，weekday = 6 是星期日\n",
    "from pandas.tseries.offsets import Week\n",
    "\n",
    "d - Week(weekday = 1) # 計算 2014-08-29 前一個星期二"
   ]
  },
  {
   "cell_type": "code",
   "execution_count": null,
   "id": "3ad96e17",
   "metadata": {},
   "outputs": [],
   "source": [
    "d = datetime(2014, 8, 27)\n",
    "d - Week(weekday = 1)"
   ]
  },
  {
   "cell_type": "code",
   "execution_count": null,
   "id": "b998ce19",
   "metadata": {},
   "outputs": [],
   "source": [
    "d = datetime(2021, 9, 15)\n",
    "d - Week(weekday = 4)"
   ]
  },
  {
   "cell_type": "markdown",
   "id": "adf0f65c",
   "metadata": {},
   "source": [
    "### 錨點偏移"
   ]
  },
  {
   "cell_type": "raw",
   "id": "9002ef8d",
   "metadata": {},
   "source": [
    "# 有些頻率的時間點不是完全均等的，比如說 \"M\" (每個月的最後一個日曆日) 和 \"BM\" (每個月的最後一個上班日)，就取決\n",
    "# 於一個月有幾天，或者一個月結束時是否為上班日\n",
    "# 我們稱這種位移為錨點位移 (anchored offset)"
   ]
  },
  {
   "cell_type": "code",
   "execution_count": null,
   "id": "75f20958",
   "metadata": {},
   "outputs": [],
   "source": [
    "# W-SUN : 每週的星期天\n",
    "# W-MON : 每週的星期一，依此類推\n",
    "wednesdays = pd.date_range('2014-06-01', '2014-07-31', freq = 'W-WED')\n",
    "wednesdays"
   ]
  },
  {
   "cell_type": "code",
   "execution_count": null,
   "id": "5eb75006",
   "metadata": {},
   "outputs": [],
   "source": [
    "# 每月的第幾周的星期幾\n",
    "# 例如每月第三周的星期五\n",
    "rng = pd.date_range('2021-01-01', '2021-10-01', freq = 'WOM-3FRI')\n",
    "rng"
   ]
  },
  {
   "cell_type": "code",
   "execution_count": null,
   "id": "90ff0942",
   "metadata": {},
   "outputs": [],
   "source": [
    "# B : 營業日\n",
    "# S : 週期開始而非結束\n",
    "# A : 表示年度\n",
    "# Q : 表示季度\n",
    "qends = pd.date_range('2014-01-01', '2014-12-31', freq = 'BQS-JAN') # 定錨在一月，2014 每季季末的月初營業日\n",
    "qends"
   ]
  },
  {
   "cell_type": "code",
   "execution_count": null,
   "id": "c2474be5",
   "metadata": {},
   "outputs": [],
   "source": [
    "qends = pd.date_range('2014-01-01', '2014-12-31', freq = 'BQS-FEB') # 定錨在二月，2014 每季季末的月初營業日\n",
    "qends"
   ]
  },
  {
   "cell_type": "code",
   "execution_count": null,
   "id": "cd6fa5a9",
   "metadata": {},
   "outputs": [],
   "source": [
    "qends = pd.date_range('2014-01-01', '2014-12-31', freq = 'BQS-MAR')\n",
    "qends"
   ]
  },
  {
   "cell_type": "code",
   "execution_count": null,
   "id": "9e4a17d9",
   "metadata": {},
   "outputs": [],
   "source": [
    "qends = pd.date_range('2014-01-01', '2014-12-31', freq = 'BQS-APR') # 注意一下順序\n",
    "qends"
   ]
  },
  {
   "cell_type": "code",
   "execution_count": null,
   "id": "7786475e",
   "metadata": {},
   "outputs": [],
   "source": [
    "qends = pd.date_range('2014-01-01', '2014-12-31', freq = 'BQS-JUN') \n",
    "qends"
   ]
  },
  {
   "cell_type": "markdown",
   "id": "4749e21b",
   "metadata": {},
   "source": [
    "## 利用 Period 表示持續時間"
   ]
  },
  {
   "cell_type": "markdown",
   "id": "bb6aba2b",
   "metadata": {},
   "source": [
    "### 利用 Period 對時間區間 (期間) 建模"
   ]
  },
  {
   "cell_type": "code",
   "execution_count": null,
   "id": "23b31799",
   "metadata": {},
   "outputs": [],
   "source": [
    "aug2014 = pd.Period('2014-08', freq = 'M') # 這是在建立區間物件，所以這裡的 freq = 'M' 表示 月\n",
    "aug2014 # 返回 Period 物件"
   ]
  },
  {
   "cell_type": "code",
   "execution_count": null,
   "id": "b05aac4d",
   "metadata": {},
   "outputs": [],
   "source": [
    "aug2014.start_time"
   ]
  },
  {
   "cell_type": "code",
   "execution_count": null,
   "id": "6fa436fd",
   "metadata": {},
   "outputs": [],
   "source": [
    "aug2014.end_time"
   ]
  },
  {
   "cell_type": "code",
   "execution_count": null,
   "id": "feb63d53",
   "metadata": {},
   "outputs": [],
   "source": [
    "# 位移一單位的【代表頻率】\n",
    "sep2014 = aug2014 + 1\n",
    "sep2014"
   ]
  },
  {
   "cell_type": "code",
   "execution_count": null,
   "id": "d533374d",
   "metadata": {},
   "outputs": [],
   "source": [
    "# Period 聰明到知道 9 月只有 30 天\n",
    "sep2014.start_time, sep2014.end_time"
   ]
  },
  {
   "cell_type": "markdown",
   "id": "bb658d6a",
   "metadata": {},
   "source": [
    "---"
   ]
  },
  {
   "cell_type": "code",
   "execution_count": null,
   "id": "e0da1d13",
   "metadata": {},
   "outputs": [],
   "source": [
    "p = pd.Period(2007, freq = 'A-DEC') # 代表一整年的區間，年底在 2007 年 12 月底\n",
    "p"
   ]
  },
  {
   "cell_type": "code",
   "execution_count": null,
   "id": "a6e80e7e",
   "metadata": {},
   "outputs": [],
   "source": [
    "p.start_time, p.end_time"
   ]
  },
  {
   "cell_type": "code",
   "execution_count": null,
   "id": "45029023",
   "metadata": {},
   "outputs": [],
   "source": [
    "p1 = pd.Period(2007, freq = 'A-JUN') # 代表一整年的區間，年底在 2007 年 6 月底"
   ]
  },
  {
   "cell_type": "code",
   "execution_count": null,
   "id": "9a84309d",
   "metadata": {},
   "outputs": [],
   "source": [
    "p1.start_time, p1.end_time"
   ]
  },
  {
   "cell_type": "markdown",
   "id": "f15e9fd9",
   "metadata": {},
   "source": [
    "---"
   ]
  },
  {
   "cell_type": "code",
   "execution_count": null,
   "id": "de59dfa2",
   "metadata": {},
   "outputs": [],
   "source": [
    "p"
   ]
  },
  {
   "cell_type": "code",
   "execution_count": null,
   "id": "f8fe6e4e",
   "metadata": {},
   "outputs": [],
   "source": [
    "p + 5"
   ]
  },
  {
   "cell_type": "code",
   "execution_count": null,
   "id": "ec8eb85b",
   "metadata": {},
   "outputs": [],
   "source": [
    "p - 2"
   ]
  },
  {
   "cell_type": "code",
   "execution_count": null,
   "id": "4f1cb82a",
   "metadata": {},
   "outputs": [],
   "source": [
    "# 頻率一樣可以看差幾個單位\n",
    "pd.Period('2014', freq = 'A-DEC') - p"
   ]
  },
  {
   "cell_type": "markdown",
   "id": "42bf235f",
   "metadata": {},
   "source": [
    "### 使用 PeriodIndex 作為索引"
   ]
  },
  {
   "cell_type": "code",
   "execution_count": null,
   "id": "ec156753",
   "metadata": {},
   "outputs": [],
   "source": [
    "# 使用 period_range 函式可以產生有規律的時間區間\n",
    "# 這時候的 freq = \"M\" 是月，要知道跟 pd.date_range() 的差別\n",
    "mp2013 = pd.period_range('1/1/2013', '12/31/2013', freq = 'M')\n",
    "mp2013"
   ]
  },
  {
   "cell_type": "code",
   "execution_count": null,
   "id": "9ea21b1a",
   "metadata": {},
   "outputs": [],
   "source": [
    "# PeriodIndex 與 DatetimeIndex 的差異點在於索引標籤是 Period 物件\n",
    "# 不同物件有不同的屬性跟方法\n",
    "for p in mp2013:\n",
    "    print('{} -> {}'.format(p.start_time, p.end_time))"
   ]
  },
  {
   "cell_type": "code",
   "execution_count": null,
   "id": "b70557dc",
   "metadata": {},
   "outputs": [],
   "source": [
    "# 可以想成某支股票在某月份的平均股價，並非在於特定的時間點\n",
    "# 這項特點在重新取樣時間序列成另一個頻率時非常有用，等等就會遇到\n",
    "np.random.seed(12345)\n",
    "ps = pd.Series(np.random.randn(12), mp2013)\n",
    "ps"
   ]
  },
  {
   "cell_type": "code",
   "execution_count": null,
   "id": "269b8095",
   "metadata": {},
   "outputs": [],
   "source": [
    "dates = [datetime(2013, 1, 1), datetime(2013, 2, 1)] # 跟上面的比較一下 ，這裡的索引標籤是 Timestamp 物件喔!\n",
    "pd.Series(np.random.randn(2), index = dates)"
   ]
  },
  {
   "cell_type": "markdown",
   "id": "4c0bd491",
   "metadata": {},
   "source": [
    "---"
   ]
  },
  {
   "cell_type": "code",
   "execution_count": null,
   "id": "9422e981",
   "metadata": {},
   "outputs": [],
   "source": [
    "np.random.seed(123456)\n",
    "idx = pd.period_range('1/1/2013', '12/31/2014', freq = 'M')\n",
    "ps = pd.Series(np.random.randn(len(idx)), index = idx)\n",
    "ps"
   ]
  },
  {
   "cell_type": "code",
   "execution_count": null,
   "id": "6ffe3cbb",
   "metadata": {},
   "outputs": [],
   "source": [
    "ps['2014-06'] # 雖然是區間物件但一樣用字串就能選取"
   ]
  },
  {
   "cell_type": "code",
   "execution_count": null,
   "id": "04abf72f",
   "metadata": {},
   "outputs": [],
   "source": [
    "ps['2014']"
   ]
  },
  {
   "cell_type": "code",
   "execution_count": null,
   "id": "cf7f9df2",
   "metadata": {},
   "outputs": [],
   "source": [
    "ps['2014-03':'2014-06']"
   ]
  },
  {
   "cell_type": "markdown",
   "id": "5554d5f2",
   "metadata": {},
   "source": [
    "---"
   ]
  },
  {
   "cell_type": "raw",
   "id": "c7142047",
   "metadata": {},
   "source": [
    "# 如果有字串陣列，也可以用來建立 PeriodIndex 物件\n",
    "# 每季的最後日曆日，是季末那個月的最後日曆日\n",
    "# 以指定的月份視為年度結束基準，這樣可以推算出季度"
   ]
  },
  {
   "cell_type": "code",
   "execution_count": null,
   "id": "8e4c42e1",
   "metadata": {},
   "outputs": [],
   "source": [
    "values = ['2001Q3', '2002Q2', '2003Q1']\n",
    "index = pd.PeriodIndex(values, freq = 'Q-DEC') # 一月一日開始是 Q1\n",
    "index"
   ]
  },
  {
   "cell_type": "code",
   "execution_count": null,
   "id": "03e349d3",
   "metadata": {},
   "outputs": [],
   "source": [
    "index.start_time # PeriodIndex 物件也有 .start_time 屬性"
   ]
  },
  {
   "cell_type": "code",
   "execution_count": null,
   "id": "b1fb8e9b",
   "metadata": {},
   "outputs": [],
   "source": [
    "index.end_time # PeriodIndex 物件也有 .end_time 屬性"
   ]
  },
  {
   "cell_type": "code",
   "execution_count": null,
   "id": "feecdb64",
   "metadata": {},
   "outputs": [],
   "source": [
    "values = ['2001Q3', '2002Q2', '2003Q1']\n",
    "index = pd.PeriodIndex(values, freq = 'Q-MAR') # 四月一日開始是 Q1\n",
    "index"
   ]
  },
  {
   "cell_type": "code",
   "execution_count": null,
   "id": "33595188",
   "metadata": {},
   "outputs": [],
   "source": [
    "index.start_time"
   ]
  },
  {
   "cell_type": "code",
   "execution_count": null,
   "id": "ddfc7a69",
   "metadata": {},
   "outputs": [],
   "source": [
    "index.end_time"
   ]
  },
  {
   "cell_type": "markdown",
   "id": "5ccdc91e",
   "metadata": {},
   "source": [
    "### 時間區間頻率轉換"
   ]
  },
  {
   "cell_type": "code",
   "execution_count": null,
   "id": "8fa22d95",
   "metadata": {},
   "outputs": [],
   "source": [
    "p = pd.Period('2007', freq = 'A-DEC')\n",
    "p"
   ]
  },
  {
   "cell_type": "code",
   "execution_count": null,
   "id": "fff04f2a",
   "metadata": {},
   "outputs": [],
   "source": [
    "p.start_time, p.end_time"
   ]
  },
  {
   "cell_type": "code",
   "execution_count": null,
   "id": "88a7d649",
   "metadata": {},
   "outputs": [],
   "source": [
    "# 從低頻率轉成高頻率\n",
    "# 用 Period 物件的 .asfreq() 方法換頻率\n",
    "p1 = p.asfreq('M', how = 'start') # 換成月。如何換，從開始換\n",
    "p1"
   ]
  },
  {
   "cell_type": "code",
   "execution_count": null,
   "id": "2069f3b7",
   "metadata": {},
   "outputs": [],
   "source": [
    "p1.start_time, p1.end_time"
   ]
  },
  {
   "cell_type": "markdown",
   "id": "64759533",
   "metadata": {},
   "source": [
    "---"
   ]
  },
  {
   "cell_type": "code",
   "execution_count": null,
   "id": "6b550c10",
   "metadata": {},
   "outputs": [],
   "source": [
    "p"
   ]
  },
  {
   "cell_type": "code",
   "execution_count": null,
   "id": "1cb43568",
   "metadata": {},
   "outputs": [],
   "source": [
    "p2 = p.asfreq('M', how = 'end')\n",
    "p2"
   ]
  },
  {
   "cell_type": "code",
   "execution_count": null,
   "id": "ce385ec4",
   "metadata": {},
   "outputs": [],
   "source": [
    "p2.start_time, p2.end_time"
   ]
  },
  {
   "cell_type": "markdown",
   "id": "89afcffb",
   "metadata": {},
   "source": [
    "---"
   ]
  },
  {
   "cell_type": "code",
   "execution_count": null,
   "id": "90d297e1",
   "metadata": {},
   "outputs": [],
   "source": [
    "p = pd.Period('2007', freq = 'A-JUN')\n",
    "p"
   ]
  },
  {
   "cell_type": "code",
   "execution_count": null,
   "id": "5c22eb2b",
   "metadata": {},
   "outputs": [],
   "source": [
    "p.asfreq('M', 'start')"
   ]
  },
  {
   "cell_type": "code",
   "execution_count": null,
   "id": "f7279299",
   "metadata": {},
   "outputs": [],
   "source": [
    "p.asfreq('M', 'end')"
   ]
  },
  {
   "cell_type": "markdown",
   "id": "64563fe1",
   "metadata": {},
   "source": [
    "---"
   ]
  },
  {
   "cell_type": "code",
   "execution_count": null,
   "id": "c8e0b241",
   "metadata": {},
   "outputs": [],
   "source": [
    "# 當你從高頻率轉成低頻率時，pandas 會以子時間屬於誰來決定上層時間區間\n",
    "p = pd.Period('Aug-2007', freq = \"M\")\n",
    "p"
   ]
  },
  {
   "cell_type": "code",
   "execution_count": null,
   "id": "431233b1",
   "metadata": {},
   "outputs": [],
   "source": [
    "p.asfreq('A-JUN')"
   ]
  },
  {
   "cell_type": "markdown",
   "id": "32b2ac9b",
   "metadata": {},
   "source": [
    "---"
   ]
  },
  {
   "cell_type": "code",
   "execution_count": null,
   "id": "a06a7920",
   "metadata": {},
   "outputs": [],
   "source": [
    "# 整個 PeriodIndex 或時間序列也可以用同樣的邏輯來做轉換\n",
    "# 時間序列的頻率轉換後面會有例子\n",
    "# 時間序列就是索引標籤是 Timestamp 物件\n",
    "rng = pd.period_range('2006', '2009', freq = 'A-DEC')\n",
    "ts =  pd.Series(np.random.randn(len(rng)), index = rng)\n",
    "ts"
   ]
  },
  {
   "cell_type": "code",
   "execution_count": null,
   "id": "8fb3b50b",
   "metadata": {},
   "outputs": [],
   "source": [
    "ts1 = ts.asfreq('M', how = 'start') # 從低頻轉高頻 # 值不會改變\n",
    "ts1"
   ]
  },
  {
   "cell_type": "code",
   "execution_count": null,
   "id": "6d0bd735",
   "metadata": {},
   "outputs": [],
   "source": [
    "ts1.index.start_time, ts1.index.end_time"
   ]
  },
  {
   "cell_type": "code",
   "execution_count": null,
   "id": "ef29712b",
   "metadata": {},
   "outputs": [],
   "source": [
    "ts2 = ts.asfreq('B', how = 'end') # 從低頻轉高頻 # 在這裡的 'B' 是最後一天營業日 <- 這是區間喔!\n",
    "ts2"
   ]
  },
  {
   "cell_type": "code",
   "execution_count": null,
   "id": "71035add",
   "metadata": {},
   "outputs": [],
   "source": [
    "ts2.index.start_time, ts2.index.end_time"
   ]
  },
  {
   "cell_type": "markdown",
   "id": "38d6e91d",
   "metadata": {},
   "source": [
    "### 季度期間頻率"
   ]
  },
  {
   "cell_type": "code",
   "execution_count": null,
   "id": "26385fed",
   "metadata": {},
   "outputs": [],
   "source": [
    "p = pd.Period('2012Q4', freq = 'Q-JAN') # 從二月一日開始是 Q1\n",
    "p"
   ]
  },
  {
   "cell_type": "code",
   "execution_count": null,
   "id": "b90d5c78",
   "metadata": {},
   "outputs": [],
   "source": [
    "p.start_time, p.end_time"
   ]
  },
  {
   "cell_type": "code",
   "execution_count": null,
   "id": "d95cdd6c",
   "metadata": {},
   "outputs": [],
   "source": [
    "p.asfreq('D', 'start') # 從低頻轉高頻 # 在這裡的 'D' 是一整天"
   ]
  },
  {
   "cell_type": "code",
   "execution_count": null,
   "id": "38f41fc3",
   "metadata": {},
   "outputs": [],
   "source": [
    "p.asfreq('D', 'end')"
   ]
  },
  {
   "cell_type": "markdown",
   "id": "3f9cd38f",
   "metadata": {},
   "source": [
    "---"
   ]
  },
  {
   "cell_type": "code",
   "execution_count": null,
   "id": "e46bff78",
   "metadata": {},
   "outputs": [],
   "source": [
    "p"
   ]
  },
  {
   "cell_type": "raw",
   "id": "2e3f80f8",
   "metadata": {},
   "source": [
    "# 做簡單的區間運算是沒問題的\n",
    "# 例如我們想得到季末倒數第二個營業日下午 4 點的時間戳記\n",
    "# 'end' 可以簡寫成 'e' \n",
    "# 'start' 可以簡寫成 's'"
   ]
  },
  {
   "cell_type": "code",
   "execution_count": null,
   "id": "9fd6d882",
   "metadata": {},
   "outputs": [],
   "source": [
    "p.asfreq('B', 'e') # 季末最後一個營業日"
   ]
  },
  {
   "cell_type": "code",
   "execution_count": null,
   "id": "22366641",
   "metadata": {},
   "outputs": [],
   "source": [
    "p.asfreq('B', 'e') - 1 # 季末倒數第二個營業日  "
   ]
  },
  {
   "cell_type": "code",
   "execution_count": null,
   "id": "44b4ea83",
   "metadata": {},
   "outputs": [],
   "source": [
    "(p.asfreq('B', 'e') - 1).asfreq('T', 's') # 這裡的 'T' 是表示分鐘區間"
   ]
  },
  {
   "cell_type": "code",
   "execution_count": null,
   "id": "07136dc4",
   "metadata": {},
   "outputs": [],
   "source": [
    "p4pm = (p.asfreq('B', 'e') - 1).asfreq('T', 's') + 16*60 # 一小時 60 分鐘，加 16*60 單位就到下午四點那個分鐘\n",
    "p4pm"
   ]
  },
  {
   "cell_type": "code",
   "execution_count": null,
   "id": "1410891f",
   "metadata": {},
   "outputs": [],
   "source": [
    "p4pm.to_timestamp() # 轉成時間戳記"
   ]
  },
  {
   "cell_type": "markdown",
   "id": "4d857d84",
   "metadata": {},
   "source": [
    "---"
   ]
  },
  {
   "cell_type": "code",
   "execution_count": null,
   "id": "fa2c23c6",
   "metadata": {},
   "outputs": [],
   "source": [
    "# 可以用 period_range() 函式產生多個季度期間，也可以做一樣的算術運算\n",
    "rng = pd.period_range('2011Q3', '2012Q4', freq = 'Q-JAN')\n",
    "ts = pd.Series(np.arange(len(rng)), index = rng)\n",
    "ts"
   ]
  },
  {
   "cell_type": "code",
   "execution_count": null,
   "id": "66317e6c",
   "metadata": {},
   "outputs": [],
   "source": [
    "new_rng = (rng.asfreq('B', 'e') - 1).asfreq('T', 's') + 16*60\n",
    "new_rng"
   ]
  },
  {
   "cell_type": "code",
   "execution_count": null,
   "id": "a0d59729",
   "metadata": {},
   "outputs": [],
   "source": [
    "ts.index = new_rng.to_timestamp()\n",
    "ts"
   ]
  },
  {
   "cell_type": "markdown",
   "id": "edccde75",
   "metadata": {},
   "source": [
    "### 時間戳記和期間轉換"
   ]
  },
  {
   "cell_type": "code",
   "execution_count": null,
   "id": "77d79ec8",
   "metadata": {},
   "outputs": [],
   "source": [
    "rng = pd.date_range('2000-01-01', periods = 3, freq = 'M')\n",
    "ts = pd.Series(np.random.randn(3), index = rng)\n",
    "ts"
   ]
  },
  {
   "cell_type": "code",
   "execution_count": null,
   "id": "8daaab3f",
   "metadata": {},
   "outputs": [],
   "source": [
    "ts.index"
   ]
  },
  {
   "cell_type": "code",
   "execution_count": null,
   "id": "ca192183",
   "metadata": {},
   "outputs": [],
   "source": [
    "pts = ts.to_period()\n",
    "pts"
   ]
  },
  {
   "cell_type": "code",
   "execution_count": null,
   "id": "a049f80f",
   "metadata": {},
   "outputs": [],
   "source": [
    "pts.index"
   ]
  },
  {
   "cell_type": "markdown",
   "id": "f7efaec6",
   "metadata": {},
   "source": [
    "---"
   ]
  },
  {
   "cell_type": "code",
   "execution_count": null,
   "id": "690e447c",
   "metadata": {},
   "outputs": [],
   "source": [
    "rng = pd.date_range('1/29/2000', periods = 6, freq = 'D')\n",
    "ts2 = pd.Series(np.random.randn(6), index = rng)\n",
    "ts2"
   ]
  },
  {
   "cell_type": "code",
   "execution_count": null,
   "id": "12c1f3c0",
   "metadata": {},
   "outputs": [],
   "source": [
    "ts2.to_period('M')"
   ]
  },
  {
   "cell_type": "markdown",
   "id": "ed8dda4a",
   "metadata": {},
   "source": [
    "---"
   ]
  },
  {
   "cell_type": "code",
   "execution_count": null,
   "id": "c1ca1bf5",
   "metadata": {},
   "outputs": [],
   "source": [
    "pts = ts2.to_period()\n",
    "pts.index[0]"
   ]
  },
  {
   "cell_type": "code",
   "execution_count": null,
   "id": "c5d6cfb5",
   "metadata": {},
   "outputs": [],
   "source": [
    "pts.to_timestamp(how = 'end')"
   ]
  },
  {
   "cell_type": "markdown",
   "id": "8a87aea5",
   "metadata": {},
   "source": [
    "### 從陣列建立 PeriodIndex"
   ]
  },
  {
   "cell_type": "code",
   "execution_count": null,
   "id": "9812086f",
   "metadata": {},
   "outputs": [],
   "source": [
    "# 有著固定頻率的資料集，時間間隔資訊有時候會分別存在好幾個欄位，例如 macroeconomic 資料集\n",
    "data = pd.read_csv('./mod09/macrodata.csv')\n",
    "data"
   ]
  },
  {
   "cell_type": "code",
   "execution_count": null,
   "id": "87ccf7fc",
   "metadata": {},
   "outputs": [],
   "source": [
    "data.year"
   ]
  },
  {
   "cell_type": "code",
   "execution_count": null,
   "id": "1a675734",
   "metadata": {},
   "outputs": [],
   "source": [
    "data.quarter"
   ]
  },
  {
   "cell_type": "code",
   "execution_count": null,
   "id": "0299d3ee",
   "metadata": {},
   "outputs": [],
   "source": [
    "index = pd.PeriodIndex(year = data.year, quarter = data.quarter, freq = 'Q-DEC')\n",
    "index"
   ]
  },
  {
   "cell_type": "code",
   "execution_count": null,
   "id": "a11b53d8",
   "metadata": {},
   "outputs": [],
   "source": [
    "data.index = index\n",
    "data"
   ]
  },
  {
   "cell_type": "markdown",
   "id": "08c8cba5",
   "metadata": {},
   "source": [
    "## 處理日曆中的假日"
   ]
  },
  {
   "cell_type": "code",
   "execution_count": null,
   "id": "fe658ed0",
   "metadata": {},
   "outputs": [],
   "source": [
    "import pandas as pd\n",
    "from datetime import datetime\n",
    "from pandas.tseries.holiday import *\n",
    "from pandas.tseries.offsets import *\n",
    "\n",
    "cal = USFederalHolidayCalendar()\n",
    "for d in cal.holidays(start = '2014-01-01', end = '2014-12-31'):\n",
    "    print(d)"
   ]
  },
  {
   "cell_type": "code",
   "execution_count": null,
   "id": "39291a2b",
   "metadata": {},
   "outputs": [],
   "source": [
    "cbd = CustomBusinessDay(holidays = cal.holidays())\n",
    "datetime(2014, 8, 29) + cbd"
   ]
  },
  {
   "cell_type": "markdown",
   "id": "7bbd2266",
   "metadata": {},
   "source": [
    "## 時區"
   ]
  },
  {
   "cell_type": "code",
   "execution_count": null,
   "id": "15fceae4",
   "metadata": {},
   "outputs": [],
   "source": [
    "import pytz\n",
    "\n",
    "# 在操作時間序列資料時，若碰到時區問題，一般都會令人覺得不開心\n",
    "# 所以很多時間序列的使用者都選擇使用世界協調時間(coordinated universal time, UTC)\n",
    "# 現今的國際標準，時區則用 UTC 的偏移量表示\n",
    "# 例如紐約在實行日光節約時間 (DST) 時，比 UTC 晚 4 小時，非日光節約時間時，則比 UTC 晚 5 個小時\n",
    "\n",
    "pytz.common_timezones[-5:]"
   ]
  },
  {
   "cell_type": "code",
   "execution_count": null,
   "id": "f052362d",
   "metadata": {},
   "outputs": [],
   "source": [
    "# 使用 pytz.timezone 可以取得 pytz 中的時區物件\n",
    "# pandas 中的方法，可以通吃時區名稱或是時區物件\n",
    "# 亞洲台北: Asia/Taipei \n",
    "\n",
    "tz = pytz.timezone('America/New_York')\n",
    "tz"
   ]
  },
  {
   "cell_type": "markdown",
   "id": "6e77556a",
   "metadata": {},
   "source": [
    "### 時區本地化及轉換"
   ]
  },
  {
   "cell_type": "code",
   "execution_count": null,
   "id": "412dbb79",
   "metadata": {},
   "outputs": [],
   "source": [
    "# 預設上來說，pandas中的時間序列是不含時區資訊的\n",
    "\n",
    "rng = pd.date_range('3/9/2012 9:30', periods = 6, freq = 'D')\n",
    "ts = pd.Series(np.random.randn(len(rng)), index = rng)\n",
    "ts"
   ]
  },
  {
   "cell_type": "code",
   "execution_count": null,
   "id": "3e6521e3",
   "metadata": {},
   "outputs": [],
   "source": [
    "# DatatimeIndex 與其 Timestamp 物件預設也都沒有時區資料\n",
    "print(ts.index)\n",
    "print(ts.index[0])"
   ]
  },
  {
   "cell_type": "code",
   "execution_count": null,
   "id": "2d3e1c65",
   "metadata": {},
   "outputs": [],
   "source": [
    "print(ts.index.tz)\n",
    "print(ts.index[0].tz)"
   ]
  },
  {
   "cell_type": "markdown",
   "id": "2e4aae74",
   "metadata": {},
   "source": [
    "---"
   ]
  },
  {
   "cell_type": "code",
   "execution_count": null,
   "id": "a6d7ea3b",
   "metadata": {},
   "outputs": [],
   "source": [
    "#　Timestamp 物件預設也沒有時區資料\n",
    "\n",
    "now = pd.Timestamp('now')\n",
    "now"
   ]
  },
  {
   "cell_type": "code",
   "execution_count": null,
   "id": "62d36754",
   "metadata": {},
   "outputs": [],
   "source": [
    "print(now.tz)"
   ]
  },
  {
   "cell_type": "markdown",
   "id": "d15a2eed",
   "metadata": {},
   "source": [
    "---"
   ]
  },
  {
   "cell_type": "code",
   "execution_count": null,
   "id": "66869933",
   "metadata": {},
   "outputs": [],
   "source": [
    "# 指定時區\n",
    "\n",
    "pd.date_range('3/9/2012 9:30', periods = 10, freq = 'D', tz = 'UTC')"
   ]
  },
  {
   "cell_type": "code",
   "execution_count": null,
   "id": "d4c59c9f",
   "metadata": {},
   "outputs": [],
   "source": [
    "# 也可以用 tz_localize() 方法，將不含時區資訊的資料轉換為含本地時區資訊的資料:\n",
    "\n",
    "ts"
   ]
  },
  {
   "cell_type": "code",
   "execution_count": null,
   "id": "863386e6",
   "metadata": {},
   "outputs": [],
   "source": [
    "ts_utc = ts.tz_localize('UTC')\n",
    "ts_utc"
   ]
  },
  {
   "cell_type": "code",
   "execution_count": null,
   "id": "a73e9283",
   "metadata": {},
   "outputs": [],
   "source": [
    "ts_utc.index"
   ]
  },
  {
   "cell_type": "markdown",
   "id": "024d5aee",
   "metadata": {},
   "source": [
    "---"
   ]
  },
  {
   "cell_type": "code",
   "execution_count": null,
   "id": "85fecb3d",
   "metadata": {},
   "outputs": [],
   "source": [
    "# 一旦時間序列被本地化為某個特定時區後，就可以用 tz_convert 將它轉換成另外一個時區\n",
    "# 剛好跨過日光節約時間\n",
    "\n",
    "ts_utc.tz_convert('America/New_York')"
   ]
  },
  {
   "cell_type": "code",
   "execution_count": null,
   "id": "b8c1921a",
   "metadata": {},
   "outputs": [],
   "source": [
    "ts_eastern = ts.tz_localize('America/New_York')\n",
    "ts_eastern"
   ]
  },
  {
   "cell_type": "code",
   "execution_count": null,
   "id": "c8298f17",
   "metadata": {},
   "outputs": [],
   "source": [
    "ts_eastern.tz_convert('UTC')"
   ]
  },
  {
   "cell_type": "code",
   "execution_count": null,
   "id": "9558f42e",
   "metadata": {},
   "outputs": [],
   "source": [
    "ts_eastern.tz_convert('Europe/Berlin')"
   ]
  },
  {
   "cell_type": "markdown",
   "id": "fa7e7250",
   "metadata": {},
   "source": [
    "---"
   ]
  },
  {
   "cell_type": "code",
   "execution_count": null,
   "id": "e5c2e778",
   "metadata": {},
   "outputs": [],
   "source": [
    "# tz_localize() 和 tz_convert() 同時也是 DatetimeIndex 的實例方法\n",
    "\n",
    "ts.index"
   ]
  },
  {
   "cell_type": "code",
   "execution_count": null,
   "id": "90d62b96",
   "metadata": {},
   "outputs": [],
   "source": [
    "ts.index.tz_localize('Asia/Shanghai')"
   ]
  },
  {
   "cell_type": "markdown",
   "id": "2acfb73d",
   "metadata": {},
   "source": [
    "### 含時區的 Timestamp 物件"
   ]
  },
  {
   "cell_type": "code",
   "execution_count": null,
   "id": "a07585c9",
   "metadata": {},
   "outputs": [],
   "source": [
    "stamp = pd.Timestamp('2011-03-12 04:00')\n",
    "stamp"
   ]
  },
  {
   "cell_type": "code",
   "execution_count": null,
   "id": "995b2d74",
   "metadata": {},
   "outputs": [],
   "source": [
    "stamp_utc = stamp.tz_localize('UTC')\n",
    "stamp_utc"
   ]
  },
  {
   "cell_type": "code",
   "execution_count": null,
   "id": "b18a35a3",
   "metadata": {},
   "outputs": [],
   "source": [
    "stamp_utc.tz_convert('America/New_York')"
   ]
  },
  {
   "cell_type": "code",
   "execution_count": null,
   "id": "84d2d2dc",
   "metadata": {},
   "outputs": [],
   "source": [
    "# 也可以在建立 Timestamp 時同步指定時區\n",
    "\n",
    "stamp_moscow = pd.Timestamp('2011-03-12 04:00', tz = 'Europe/Moscow')\n",
    "stamp_moscow"
   ]
  },
  {
   "cell_type": "markdown",
   "id": "1d5ceba5",
   "metadata": {},
   "source": [
    "---"
   ]
  },
  {
   "cell_type": "code",
   "execution_count": null,
   "id": "c5be2c2c",
   "metadata": {},
   "outputs": [],
   "source": [
    "now = pd.Timestamp('now')\n",
    "now"
   ]
  },
  {
   "cell_type": "code",
   "execution_count": null,
   "id": "0d309be3",
   "metadata": {},
   "outputs": [],
   "source": [
    "mountain_tz  = pytz.timezone('US/Mountain')\n",
    "eastern_tz = pytz.timezone('US/Eastern')\n",
    "\n",
    "mountain_tz.localize(now)"
   ]
  },
  {
   "cell_type": "code",
   "execution_count": null,
   "id": "4a7e32e8",
   "metadata": {},
   "outputs": [],
   "source": [
    "eastern_tz.localize(now)"
   ]
  },
  {
   "cell_type": "markdown",
   "id": "5986d7d4",
   "metadata": {},
   "source": [
    "---"
   ]
  },
  {
   "cell_type": "code",
   "execution_count": null,
   "id": "a4427564",
   "metadata": {},
   "outputs": [],
   "source": [
    "# 含時區資訊的 Timestamp 物件內部儲存一個 UTC 的時間戳記，從 Unix紀元 (1970 年 1 月 1 日)起算，單位是奈秒\n",
    "# 這個 UTC 值不管時區怎麼轉換都是不變的\n",
    "\n",
    "stamp_utc.value"
   ]
  },
  {
   "cell_type": "code",
   "execution_count": null,
   "id": "f1655bff",
   "metadata": {},
   "outputs": [],
   "source": [
    "stamp_utc.tz_convert('America/New_York').value"
   ]
  },
  {
   "cell_type": "markdown",
   "id": "db492a04",
   "metadata": {},
   "source": [
    "---"
   ]
  },
  {
   "cell_type": "code",
   "execution_count": null,
   "id": "d922eace",
   "metadata": {},
   "outputs": [],
   "source": [
    "from pandas.tseries.offsets import Hour\n",
    "\n",
    "stamp = pd.Timestamp('2012-03-11 01:30', tz = 'US/Eastern')\n",
    "stamp"
   ]
  },
  {
   "cell_type": "code",
   "execution_count": null,
   "id": "edac3765",
   "metadata": {},
   "outputs": [],
   "source": [
    "# 利用 pandas 的 DateOffset 物件執行時間的算術運算時，pandas 會盡量配合日光節約轉換\n",
    "# 日光節約時間前 30 分鐘\n",
    "stamp + Hour()"
   ]
  },
  {
   "cell_type": "code",
   "execution_count": null,
   "id": "26f00324",
   "metadata": {},
   "outputs": [],
   "source": [
    "# 離開日光節約時間前 90 分鐘\n",
    "stamp = pd.Timestamp('2012-11-04 00:30', tz = 'US/Eastern')\n",
    "stamp"
   ]
  },
  {
   "cell_type": "code",
   "execution_count": null,
   "id": "34ec7159",
   "metadata": {},
   "outputs": [],
   "source": [
    "stamp + 2*Hour()"
   ]
  },
  {
   "cell_type": "markdown",
   "id": "0ce5158b",
   "metadata": {},
   "source": [
    "### 不同時區的操作"
   ]
  },
  {
   "cell_type": "code",
   "execution_count": null,
   "id": "7b976ab9",
   "metadata": {},
   "outputs": [],
   "source": [
    "# 如果不同區的兩個時間序列要合併的話，出來的時區將會是 UTC\n",
    "\n",
    "rng = pd.date_range('3/7/2012 9:30', periods = 10, freq = 'B')\n",
    "ts = pd.Series(np.random.randn(len(rng)), index = rng)\n",
    "ts"
   ]
  },
  {
   "cell_type": "code",
   "execution_count": null,
   "id": "e0d7d9b5",
   "metadata": {},
   "outputs": [],
   "source": [
    "ts1 = ts[:7].tz_localize('Europe/London')\n",
    "ts1"
   ]
  },
  {
   "cell_type": "code",
   "execution_count": null,
   "id": "4f0cb6fa",
   "metadata": {},
   "outputs": [],
   "source": [
    "ts2 = ts1[2:].tz_convert('Europe/Moscow')\n",
    "ts2"
   ]
  },
  {
   "cell_type": "code",
   "execution_count": null,
   "id": "33dd685f",
   "metadata": {},
   "outputs": [],
   "source": [
    "# 值會對齊\n",
    "# 出來的時區將會是 UTC\n",
    "\n",
    "result = ts1 + ts2\n",
    "result"
   ]
  },
  {
   "cell_type": "code",
   "execution_count": null,
   "id": "a980e1e4",
   "metadata": {},
   "outputs": [],
   "source": [
    "result.index"
   ]
  },
  {
   "cell_type": "markdown",
   "id": "1cf36721",
   "metadata": {},
   "source": [
    "---"
   ]
  },
  {
   "cell_type": "code",
   "execution_count": null,
   "id": "ad91a6c4",
   "metadata": {},
   "outputs": [],
   "source": [
    "s_mountain = pd.Series(np.arange(0, 5),\n",
    "                    index = pd.date_range('2014-08-01', \n",
    "                                        periods = 5, freq = \"H\", \n",
    "                                        tz = 'US/Mountain'))\n",
    "s_eastern = pd.Series(np.arange(0, 5), \n",
    "                   index = pd.date_range('2014-08-01', \n",
    "                                       periods = 5, freq = \"H\", \n",
    "                                       tz = 'US/Eastern'))\n",
    "s_mountain"
   ]
  },
  {
   "cell_type": "code",
   "execution_count": null,
   "id": "c9de0307",
   "metadata": {},
   "outputs": [],
   "source": [
    "s_eastern"
   ]
  },
  {
   "cell_type": "code",
   "execution_count": null,
   "id": "6bb5b786",
   "metadata": {},
   "outputs": [],
   "source": [
    "s_eastern + s_mountain"
   ]
  },
  {
   "cell_type": "code",
   "execution_count": null,
   "id": "0c389e16",
   "metadata": {},
   "outputs": [],
   "source": [
    "s_pacific = s_eastern.tz_convert(\"US/Pacific\")\n",
    "s_pacific"
   ]
  },
  {
   "cell_type": "code",
   "execution_count": null,
   "id": "bccd3683",
   "metadata": {},
   "outputs": [],
   "source": [
    "s_mountain + s_pacific"
   ]
  },
  {
   "cell_type": "markdown",
   "id": "1c643526",
   "metadata": {},
   "source": [
    "## 操控時間序列資料"
   ]
  },
  {
   "cell_type": "markdown",
   "id": "25688f29",
   "metadata": {},
   "source": [
    "### 移動與滯後"
   ]
  },
  {
   "cell_type": "code",
   "execution_count": null,
   "id": "2e8ee345",
   "metadata": {},
   "outputs": [],
   "source": [
    "ts = pd.Series([1, 2, 2.5, 1.5, 0.5],\n",
    "               index = pd.date_range('2014-08-01', periods = 5))\n",
    "ts"
   ]
  },
  {
   "cell_type": "code",
   "execution_count": null,
   "id": "2d483fa0",
   "metadata": {},
   "outputs": [],
   "source": [
    "# 資料往前一單位，索引標籤保持不變\n",
    "# 會出現遺失值\n",
    "ts.shift(1)"
   ]
  },
  {
   "cell_type": "code",
   "execution_count": null,
   "id": "96d22ff9",
   "metadata": {},
   "outputs": [],
   "source": [
    "ts.shift(-2)"
   ]
  },
  {
   "cell_type": "code",
   "execution_count": null,
   "id": "e92953fc",
   "metadata": {},
   "outputs": [],
   "source": [
    "# 移動常用來計算每天百分比的改變\n",
    "ts/ts.shift(1) - 1"
   ]
  },
  {
   "cell_type": "markdown",
   "id": "06a9a831",
   "metadata": {},
   "source": [
    "---"
   ]
  },
  {
   "cell_type": "code",
   "execution_count": null,
   "id": "f14b4919",
   "metadata": {},
   "outputs": [],
   "source": [
    "# 移動一個營業日\n",
    "# 索引標籤改變，資料不變，不會有遺失值\n",
    "ts.shift(1, freq = 'B')"
   ]
  },
  {
   "cell_type": "code",
   "execution_count": null,
   "id": "55b91c08",
   "metadata": {},
   "outputs": [],
   "source": [
    "ts.shift(1, freq = 'H')"
   ]
  },
  {
   "cell_type": "code",
   "execution_count": null,
   "id": "2ed85a1e",
   "metadata": {},
   "outputs": [],
   "source": [
    "ts.shift(1, freq = pd.DateOffset(minutes = 0.5))"
   ]
  },
  {
   "cell_type": "code",
   "execution_count": null,
   "id": "1e8252c0",
   "metadata": {},
   "outputs": [],
   "source": [
    "ts.shift(1, freq = '90T')"
   ]
  },
  {
   "cell_type": "code",
   "execution_count": null,
   "id": "c7dc2b2f",
   "metadata": {},
   "outputs": [],
   "source": [
    "ts.shift(-1, freq = 'H')"
   ]
  },
  {
   "cell_type": "code",
   "execution_count": null,
   "id": "a568b2d6",
   "metadata": {},
   "outputs": [],
   "source": [
    "ts.shift(3, freq = 'D')"
   ]
  },
  {
   "cell_type": "markdown",
   "id": "81b6e42e",
   "metadata": {},
   "source": [
    "### 時間序列的頻率轉換"
   ]
  },
  {
   "cell_type": "code",
   "execution_count": null,
   "id": "f2105652",
   "metadata": {},
   "outputs": [],
   "source": [
    "dates = pd.date_range('08-01-2014', freq = '2H', periods = 31*24)\n",
    "hourly = pd.Series(np.arange(0, len(dates)), \n",
    "                  index = dates)\n",
    "hourly[:5]"
   ]
  },
  {
   "cell_type": "code",
   "execution_count": null,
   "id": "7a30beda",
   "metadata": {},
   "outputs": [],
   "source": [
    "hourly.index"
   ]
  },
  {
   "cell_type": "code",
   "execution_count": null,
   "id": "77479a51",
   "metadata": {},
   "outputs": [],
   "source": [
    "hourly.index[0]"
   ]
  },
  {
   "cell_type": "markdown",
   "id": "e80d6d5f",
   "metadata": {},
   "source": [
    "---"
   ]
  },
  {
   "cell_type": "code",
   "execution_count": null,
   "id": "aec81963",
   "metadata": {},
   "outputs": [],
   "source": [
    "# 資料會對齊\n",
    "# 有很多列的資料被丟棄了\n",
    "daily = hourly.asfreq('D')\n",
    "daily"
   ]
  },
  {
   "cell_type": "code",
   "execution_count": null,
   "id": "6be35609",
   "metadata": {},
   "outputs": [],
   "source": [
    "# 再轉回每小時的頻率，會看到很多值變成 NaN\n",
    "daily.asfreq('H')"
   ]
  },
  {
   "cell_type": "code",
   "execution_count": null,
   "id": "c8622f41",
   "metadata": {},
   "outputs": [],
   "source": [
    "# 利用 method 參數來填塞 NaN\n",
    "daily.asfreq('H', method = 'ffill')"
   ]
  },
  {
   "cell_type": "code",
   "execution_count": null,
   "id": "b46ad447",
   "metadata": {},
   "outputs": [],
   "source": [
    "daily.asfreq('H', method = 'bfill')"
   ]
  },
  {
   "cell_type": "markdown",
   "id": "417ff1bd",
   "metadata": {},
   "source": [
    "### 時間序列重新取樣"
   ]
  },
  {
   "cell_type": "code",
   "execution_count": null,
   "id": "9e57010a",
   "metadata": {},
   "outputs": [],
   "source": [
    "# 重新取樣是個動作程序，意思是將時間序列從一種頻率轉換為另一種頻率\n",
    "# 如果將較高頻率轉換成較低頻率，稱為降低取樣頻率 (downsampling)\n",
    "# 如果將較低頻率轉換成較高頻率，稱為提高取樣頻率 (upsampling)\n",
    "# 但重新取樣也有不屬於這兩種情況的，例如將 W-WED 轉換成 W-FRI\n",
    "# resample 方法跟 groupby 方法有類似的 API"
   ]
  },
  {
   "cell_type": "code",
   "execution_count": null,
   "id": "6fe4ae68",
   "metadata": {},
   "outputs": [],
   "source": [
    "rng = pd.date_range('2000-01-01', periods = 100, freq = 'D')\n",
    "ts = pd.Series(np.random.randn(len(rng)), index = rng)\n",
    "ts"
   ]
  },
  {
   "cell_type": "code",
   "execution_count": null,
   "id": "3b3d9614",
   "metadata": {},
   "outputs": [],
   "source": [
    "ts.resample('M').mean()"
   ]
  },
  {
   "cell_type": "code",
   "execution_count": null,
   "id": "722483ea",
   "metadata": {},
   "outputs": [],
   "source": [
    "# kind 可以選擇聚合到期間 (period) 或是戳記(timestamp)，預設使用該時間序列的 index 本來的種類\n",
    "ts.resample('M', kind = 'period').mean()"
   ]
  },
  {
   "cell_type": "markdown",
   "id": "c0db1f78",
   "metadata": {},
   "source": [
    "---"
   ]
  },
  {
   "cell_type": "code",
   "execution_count": null,
   "id": "17232d82",
   "metadata": {},
   "outputs": [],
   "source": [
    "# 降低取樣頻率\n",
    "rng = pd.date_range('2000-01-01', periods = 12, freq = 'T')\n",
    "ts = pd.Series(np.arange(12), index = rng)\n",
    "ts"
   ]
  },
  {
   "cell_type": "code",
   "execution_count": null,
   "id": "ce1e657f",
   "metadata": {},
   "outputs": [],
   "source": [
    "# 預設上左端會被包含 (closed)\n",
    "# 預設會以每組的左端點為時間戳記的標籤\n",
    "ts.resample('5min').sum()"
   ]
  },
  {
   "cell_type": "code",
   "execution_count": null,
   "id": "8f482441",
   "metadata": {},
   "outputs": [],
   "source": [
    "ts.resample('5min', closed = 'right').sum()"
   ]
  },
  {
   "cell_type": "code",
   "execution_count": null,
   "id": "ca0ba94c",
   "metadata": {},
   "outputs": [],
   "source": [
    "# 若傳入 label = 'right'，會把標籤改為右端點\n",
    "ts.resample('5min', closed = 'right', label = 'right').sum()"
   ]
  },
  {
   "cell_type": "code",
   "execution_count": null,
   "id": "d6021b83",
   "metadata": {},
   "outputs": [],
   "source": [
    "ts.resample('5min', closed = 'right', label = 'right').sum()"
   ]
  },
  {
   "cell_type": "code",
   "execution_count": null,
   "id": "3fe27daa",
   "metadata": {},
   "outputs": [],
   "source": [
    "# 你可能想要把產出的 index 做位移若干單位，例如將右端減去一分鐘，讓它更貼近時間戳記參照的時間分段\n",
    "ts.resample('5min', closed = 'right', label = 'right').sum().shift(-1, freq = 's')"
   ]
  },
  {
   "cell_type": "markdown",
   "id": "58c3fe61",
   "metadata": {},
   "source": [
    "---"
   ]
  },
  {
   "cell_type": "code",
   "execution_count": null,
   "id": "448995f9",
   "metadata": {},
   "outputs": [],
   "source": [
    "# 開始-最大-最小-結束(OHLC) 重新取樣\n",
    "# 在財務的應用上，常會把時間序列聚合，然後計算每組的四個值:開始(open)、結束(close)、最大(high)、最小(low)。\n",
    "# 藉由使用 .ohlc() 方法，就可以得到含有這四個聚合值的 Dataframe\n",
    "ts.resample('5min').ohlc()"
   ]
  },
  {
   "cell_type": "markdown",
   "id": "8073cc8a",
   "metadata": {},
   "source": [
    "---"
   ]
  },
  {
   "cell_type": "code",
   "execution_count": null,
   "id": "dfdd50c0",
   "metadata": {},
   "outputs": [],
   "source": [
    "# 提高取樣和內插值\n",
    "# 當從低頻率轉為高頻率時，沒有聚合的動作\n",
    "\n",
    "frame = pd.DataFrame(np.random.randn(2, 4),\n",
    "                    index = pd.date_range('1/1/2000', periods = 2, freq = 'W-WED'),\n",
    "                    columns = ['Colorado', 'Texas', 'New York', 'Ohio'])\n",
    "frame"
   ]
  },
  {
   "cell_type": "code",
   "execution_count": null,
   "id": "a2596df1",
   "metadata": {},
   "outputs": [],
   "source": [
    "df_daily = frame.resample('D').asfreq()  # 等同於 frame.asfreq('D')\n",
    "df_daily"
   ]
  },
  {
   "cell_type": "code",
   "execution_count": null,
   "id": "538581ec",
   "metadata": {},
   "outputs": [],
   "source": [
    "# 和使用 fillna() 與 reindex() 方法類似去做填充與插值\n",
    "frame.resample('D').ffill()"
   ]
  },
  {
   "cell_type": "code",
   "execution_count": null,
   "id": "a515ac9b",
   "metadata": {},
   "outputs": [],
   "source": [
    "frame.resample('D').ffill(limit = 2)"
   ]
  },
  {
   "cell_type": "code",
   "execution_count": null,
   "id": "51630c04",
   "metadata": {},
   "outputs": [],
   "source": [
    "# 新資料的 index 完全不需要和舊資料 index 重疊\n",
    "frame.resample('W-THU').ffill()"
   ]
  },
  {
   "cell_type": "markdown",
   "id": "91ced95a",
   "metadata": {},
   "source": [
    "---"
   ]
  },
  {
   "cell_type": "code",
   "execution_count": null,
   "id": "12ea12ff",
   "metadata": {},
   "outputs": [],
   "source": [
    "# 指定期間重新取樣\n",
    "# 以期間為 index 的資料，重新取樣的方法跟以時間戳記為 index 的資料類似\n",
    "frame = pd.DataFrame(np.random.randn(24, 4),\n",
    "                    index = pd.period_range('1-2000', '12-2001', freq = 'M'),\n",
    "                    columns = ['Colorado', 'Texas', 'New York', 'Ohio'])\n",
    "frame"
   ]
  },
  {
   "cell_type": "code",
   "execution_count": null,
   "id": "84aa9ee5",
   "metadata": {},
   "outputs": [],
   "source": [
    "annual_frame  = frame.resample('A-DEC').mean()\n",
    "annual_frame"
   ]
  },
  {
   "cell_type": "code",
   "execution_count": null,
   "id": "0f8b76db",
   "metadata": {},
   "outputs": [],
   "source": [
    "annual_frame.index"
   ]
  },
  {
   "cell_type": "code",
   "execution_count": null,
   "id": "f0ba5ab5",
   "metadata": {},
   "outputs": [],
   "source": [
    "annual_frame.resample('Q-DEC').asfreq()"
   ]
  },
  {
   "cell_type": "code",
   "execution_count": null,
   "id": "488eb29f",
   "metadata": {},
   "outputs": [],
   "source": [
    "annual_frame.resample('Q-DEC').ffill()"
   ]
  },
  {
   "cell_type": "code",
   "execution_count": null,
   "id": "9a4442d4",
   "metadata": {},
   "outputs": [],
   "source": [
    "annual_frame.resample('Q-DEC', convention = 'end').ffill()"
   ]
  },
  {
   "cell_type": "code",
   "execution_count": null,
   "id": "37a42b8c",
   "metadata": {},
   "outputs": [],
   "source": [
    "# 由於期間是一種時間間隔，所以用來提高或降低取樣的規定就更嚴格\n",
    "# 在做降低取樣時，目標頻率一定要是原始頻率的子期間 (subperiod)\n",
    "# 在做提高取樣時，目標頻率一定要是原始頻率的超期間 (superperiod)\n",
    "# 無法滿足會得到一個例外\n",
    "# 例如由 Q-MAR 定義出來的時間間隔僅能支持 A-MAR、A-JUN、A-SUP、A-DEC\n",
    "\n",
    "annual_frame.resample('Q-MAR').ffill()"
   ]
  },
  {
   "cell_type": "markdown",
   "id": "be87b02b",
   "metadata": {},
   "source": [
    "## 時間序列的移動視窗運算"
   ]
  },
  {
   "cell_type": "code",
   "execution_count": null,
   "id": "d0d01918",
   "metadata": {},
   "outputs": [],
   "source": [
    "# pandas 在序列與資料框物件上面提供 .rolling() 方法，直接支援滾動視窗\n",
    "# 我們還能從 .rolling() 的結果呼叫許多不同的方法，對視窗進行運算\n",
    "# 例如滾動平均用來消除短期波動，並強調長期趨勢，常用在金融時間序列的分析"
   ]
  },
  {
   "cell_type": "code",
   "execution_count": null,
   "id": "73520b94",
   "metadata": {},
   "outputs": [],
   "source": [
    "# 準備建立代表五天的隨機漫步值的時間序列\n",
    "np.random.seed(123456)\n",
    "count = 24 * 60 * 60 * 5\n",
    "values = np.random.randn(count)\n",
    "ws = pd.Series(values)\n",
    "ws"
   ]
  },
  {
   "cell_type": "code",
   "execution_count": null,
   "id": "37a5c236",
   "metadata": {},
   "outputs": [],
   "source": [
    "walk = ws.cumsum()\n",
    "walk"
   ]
  },
  {
   "cell_type": "code",
   "execution_count": null,
   "id": "a83f5d60",
   "metadata": {},
   "outputs": [],
   "source": [
    "walk.index = pd.date_range('2014-08-01', periods = len(walk), freq = \"S\")\n",
    "walk[:100]"
   ]
  },
  {
   "cell_type": "code",
   "execution_count": null,
   "id": "d1e395ef",
   "metadata": {},
   "outputs": [],
   "source": [
    "first_minute = walk['2014-08-01 00:00']\n",
    "first_minute"
   ]
  },
  {
   "cell_type": "code",
   "execution_count": null,
   "id": "161bd26b",
   "metadata": {},
   "outputs": [],
   "source": [
    "means = first_minute.rolling(window = 5, center = False).mean()\n",
    "means[:10]"
   ]
  },
  {
   "cell_type": "code",
   "execution_count": null,
   "id": "67f5354f",
   "metadata": {},
   "outputs": [],
   "source": [
    "first_minute[:5].sum()/5"
   ]
  },
  {
   "cell_type": "code",
   "execution_count": null,
   "id": "b55dca2a",
   "metadata": {},
   "outputs": [],
   "source": [
    "# .rolling().mean() 提供了比較平滑的資料表示方式\n",
    "# 視窗愈大，產生的變異愈小，視窗愈小，產生的變異愈大\n",
    "means.plot()\n",
    "first_minute.plot();"
   ]
  },
  {
   "cell_type": "markdown",
   "id": "941ea7d8",
   "metadata": {},
   "source": [
    "---"
   ]
  },
  {
   "cell_type": "code",
   "execution_count": null,
   "id": "0ae45972",
   "metadata": {},
   "outputs": [],
   "source": [
    "# 注意，視窗愈大，曲線一開始缺少的資料越多\n",
    "# 一個大小為 n 的視窗要等到有 n 個資料點才能進行計算\n",
    "hlw = walk['2014-08-01 00:00']\n",
    "means2 = hlw.rolling(window = 2, center = False).mean()\n",
    "means5 = hlw.rolling(window = 5, center = False).mean()\n",
    "means10 = hlw.rolling(window = 10, center = False).mean()\n",
    "hlw.plot()\n",
    "means2.plot()\n",
    "means5.plot()\n",
    "means10.plot();"
   ]
  },
  {
   "cell_type": "markdown",
   "id": "9ff4bf52",
   "metadata": {},
   "source": [
    "---"
   ]
  },
  {
   "cell_type": "code",
   "execution_count": null,
   "id": "5bcc31b0",
   "metadata": {},
   "outputs": [],
   "source": [
    "# 利用 .rolling().apply() 方法，也可以把任何使用者自定義的函數套用在滾動視窗\n",
    "# 底下示範計算滾動視窗內的資料值與視窗平均值的差異的平均值\n",
    "mean_abs_dev = lambda x: np.fabs(x - x.mean()).mean()\n",
    "means = hlw.rolling(window = 5, center = False).apply(mean_abs_dev)\n",
    "means"
   ]
  },
  {
   "cell_type": "code",
   "execution_count": null,
   "id": "6cf70413",
   "metadata": {},
   "outputs": [],
   "source": [
    "np.fabs(hlw[:5] - hlw[:5].mean()).mean()"
   ]
  },
  {
   "cell_type": "code",
   "execution_count": null,
   "id": "69c737e2",
   "metadata": {},
   "outputs": [],
   "source": [
    "means.plot()"
   ]
  },
  {
   "cell_type": "markdown",
   "id": "9bb11464",
   "metadata": {},
   "source": [
    "---"
   ]
  },
  {
   "cell_type": "code",
   "execution_count": null,
   "id": "4230cf55",
   "metadata": {},
   "outputs": [],
   "source": [
    "# 還有一個擴張視窗平均的計算方法，它總是從時間序列的第一個值開始，不斷的重複計算視窗資料的平均值\n",
    "# 只不過每次迭代時，都讓視窗大小增加一\n",
    "# 擴張視窗平均比滾動視窗來得穩定，因為隨著視窗變大，下一個值的影響就會越小\n",
    "expanding = hlw.expanding(min_periods = 1).mean()\n",
    "expanding[:10]"
   ]
  },
  {
   "cell_type": "code",
   "execution_count": null,
   "id": "a4aed9ed",
   "metadata": {},
   "outputs": [],
   "source": [
    "hlw[0]"
   ]
  },
  {
   "cell_type": "code",
   "execution_count": null,
   "id": "1c6d8ba6",
   "metadata": {},
   "outputs": [],
   "source": [
    "hlw[:2].mean()"
   ]
  },
  {
   "cell_type": "code",
   "execution_count": null,
   "id": "2fd1e9e4",
   "metadata": {},
   "outputs": [],
   "source": [
    "hlw.plot()\n",
    "expanding.plot();"
   ]
  },
  {
   "cell_type": "markdown",
   "id": "0d62a440",
   "metadata": {},
   "source": [
    "## 綜合應用"
   ]
  },
  {
   "cell_type": "code",
   "execution_count": null,
   "id": "ffb1b6bf",
   "metadata": {},
   "outputs": [],
   "source": [
    "close_px_all = pd.read_csv('./mod09/stock_px_2.csv', parse_dates = True, index_col = 0)\n",
    "close_px_all"
   ]
  },
  {
   "cell_type": "code",
   "execution_count": null,
   "id": "04fdf6f3",
   "metadata": {},
   "outputs": [],
   "source": [
    "close_px = close_px_all[['AAPL', 'MSFT', 'XOM']]\n",
    "close_px"
   ]
  },
  {
   "cell_type": "code",
   "execution_count": null,
   "id": "ed753f83",
   "metadata": {},
   "outputs": [],
   "source": [
    "close_px = close_px.resample('B').ffill()\n",
    "close_px"
   ]
  },
  {
   "cell_type": "code",
   "execution_count": null,
   "id": "82b154af",
   "metadata": {},
   "outputs": [],
   "source": [
    "close_px.AAPL.plot()\n",
    "close_px.AAPL.rolling(window = 250).mean().plot()"
   ]
  },
  {
   "cell_type": "code",
   "execution_count": null,
   "id": "a6d7fc4f",
   "metadata": {},
   "outputs": [],
   "source": [
    "# 預設上 rolling 函式的視窗中的值，都必須是 non-NA\n",
    "# 這行為可使用參數 min_periods 來調整\n",
    "appl_std250 = close_px.AAPL.rolling(250, min_periods = 10).std()\n",
    "appl_std250[:20]"
   ]
  },
  {
   "cell_type": "code",
   "execution_count": null,
   "id": "60e98939",
   "metadata": {},
   "outputs": [],
   "source": [
    "close_px.AAPL[:10].std()"
   ]
  },
  {
   "cell_type": "code",
   "execution_count": null,
   "id": "2533e0f4",
   "metadata": {},
   "outputs": [],
   "source": [
    "appl_std250.plot()"
   ]
  },
  {
   "cell_type": "markdown",
   "id": "a55993c2",
   "metadata": {},
   "source": [
    "---"
   ]
  },
  {
   "cell_type": "code",
   "execution_count": null,
   "id": "0197ee0d",
   "metadata": {},
   "outputs": [],
   "source": [
    "# 如果 Dataframe 呼叫移動視窗的話，就會對每個欄位都套用運算\n",
    "close_px.rolling(window = 60).mean().plot(logy = True)"
   ]
  },
  {
   "cell_type": "code",
   "execution_count": null,
   "id": "a7b5bea2",
   "metadata": {},
   "outputs": [],
   "source": [
    "# rolling() 函式也接受指定固定時間位移量的字串\n",
    "close_px.rolling(window = '3D').mean()"
   ]
  },
  {
   "cell_type": "markdown",
   "id": "28c42122",
   "metadata": {},
   "source": [
    "---"
   ]
  },
  {
   "cell_type": "code",
   "execution_count": null,
   "id": "4f4fda6d",
   "metadata": {},
   "outputs": [],
   "source": [
    "appl_px = close_px.AAPL['2006':'2007']\n",
    "appl_px"
   ]
  },
  {
   "cell_type": "code",
   "execution_count": null,
   "id": "e6f50c2c",
   "metadata": {},
   "outputs": [],
   "source": [
    "ma30 = appl_px.rolling(window = 30, min_periods = 20).mean()\n",
    "ma30[:25]"
   ]
  },
  {
   "cell_type": "code",
   "execution_count": null,
   "id": "dd79c0fa",
   "metadata": {},
   "outputs": [],
   "source": [
    "appl_px[:10]"
   ]
  },
  {
   "cell_type": "code",
   "execution_count": null,
   "id": "d43216f5",
   "metadata": {},
   "outputs": [],
   "source": [
    "# 指數加權函式\n",
    "\n",
    "ewma30 = appl_px.ewm(span = 30).mean()\n",
    "ewma30"
   ]
  },
  {
   "cell_type": "code",
   "execution_count": null,
   "id": "53dbb837",
   "metadata": {},
   "outputs": [],
   "source": [
    "import matplotlib.pyplot as plt\n",
    "ma30.plot(style = 'k--', label = 'Simple MA')\n",
    "ewma30.plot(style = 'k-', label = 'EW MA')\n",
    "plt.legend();"
   ]
  },
  {
   "cell_type": "markdown",
   "id": "54ea4a67",
   "metadata": {},
   "source": [
    "---"
   ]
  },
  {
   "cell_type": "code",
   "execution_count": null,
   "id": "8a6c6e03",
   "metadata": {},
   "outputs": [],
   "source": [
    "# 二元移動視窗函式\n",
    "spx_px = close_px_all['SPX']\n",
    "spx_px"
   ]
  },
  {
   "cell_type": "code",
   "execution_count": null,
   "id": "c7be8695",
   "metadata": {},
   "outputs": [],
   "source": [
    "spx_rets = spx_px.pct_change()\n",
    "spx_rets"
   ]
  },
  {
   "cell_type": "code",
   "execution_count": null,
   "id": "c3c48444",
   "metadata": {},
   "outputs": [],
   "source": [
    "returns = close_px.pct_change()\n",
    "returns"
   ]
  },
  {
   "cell_type": "code",
   "execution_count": null,
   "id": "4d0cfbe2",
   "metadata": {},
   "outputs": [],
   "source": [
    "corr = returns.AAPL.rolling(125, min_periods = 100).corr(spx_rets)\n",
    "corr"
   ]
  },
  {
   "cell_type": "code",
   "execution_count": null,
   "id": "0c455bad",
   "metadata": {},
   "outputs": [],
   "source": [
    "corr.plot();"
   ]
  },
  {
   "cell_type": "code",
   "execution_count": null,
   "id": "ef592d08",
   "metadata": {},
   "outputs": [],
   "source": [
    "corr = returns.rolling(125, min_periods = 100).corr(spx_rets)\n",
    "corr.plot();"
   ]
  },
  {
   "cell_type": "markdown",
   "id": "3179eb10",
   "metadata": {},
   "source": [
    "---"
   ]
  },
  {
   "cell_type": "code",
   "execution_count": null,
   "id": "d40a5261",
   "metadata": {},
   "outputs": [],
   "source": [
    "# 準備建立代表五天的隨機漫步值的時間序列\n",
    "np.random.seed(123456)\n",
    "count = 24 * 60 * 60 * 5\n",
    "values = np.random.randn(count)\n",
    "ws = pd.Series(values)\n",
    "ws"
   ]
  },
  {
   "cell_type": "code",
   "execution_count": null,
   "id": "63bf529a",
   "metadata": {},
   "outputs": [],
   "source": [
    "walk = ws.cumsum()\n",
    "walk"
   ]
  },
  {
   "cell_type": "code",
   "execution_count": null,
   "id": "e6e0709d",
   "metadata": {},
   "outputs": [],
   "source": [
    "walk.index = pd.date_range('2014-08-01', periods = len(walk), freq = \"S\")\n",
    "walk[:100]"
   ]
  },
  {
   "cell_type": "code",
   "execution_count": null,
   "id": "873881e1",
   "metadata": {},
   "outputs": [],
   "source": [
    "# pandas 的重新取樣是利用 .resample() 方法並傳給一個新頻率來完成\n",
    "# 此方法在填值的時候比 .asfreq() 方法在填值時更有彈性\n",
    "# 此例是向下取樣\n",
    "walk.resample('1min').mean()"
   ]
  },
  {
   "cell_type": "code",
   "execution_count": null,
   "id": "a5142eb1",
   "metadata": {},
   "outputs": [],
   "source": [
    "walk['2014-08-01 00:00'].mean()"
   ]
  },
  {
   "cell_type": "code",
   "execution_count": null,
   "id": "cbddd82b",
   "metadata": {},
   "outputs": [],
   "source": [
    "walk.resample('1min', closed = 'right').mean()"
   ]
  },
  {
   "cell_type": "code",
   "execution_count": null,
   "id": "e2ab3c57",
   "metadata": {},
   "outputs": [],
   "source": [
    "walk.resample('1min').first()"
   ]
  },
  {
   "cell_type": "markdown",
   "id": "196de228",
   "metadata": {},
   "source": [
    "---"
   ]
  },
  {
   "cell_type": "code",
   "execution_count": null,
   "id": "5d45bfa4",
   "metadata": {},
   "outputs": [],
   "source": [
    "bymin = walk.resample('1min').mean()\n",
    "bymin"
   ]
  },
  {
   "cell_type": "code",
   "execution_count": null,
   "id": "bb635ab9",
   "metadata": {},
   "outputs": [],
   "source": [
    "bymin.resample('S').mean()"
   ]
  },
  {
   "cell_type": "code",
   "execution_count": null,
   "id": "3337e4ca",
   "metadata": {},
   "outputs": [],
   "source": [
    "bymin.resample('S').bfill()"
   ]
  },
  {
   "cell_type": "code",
   "execution_count": null,
   "id": "0780bc3e",
   "metadata": {},
   "outputs": [],
   "source": [
    "interpolated  = bymin.resample('S').interpolate()\n",
    "interpolated"
   ]
  },
  {
   "cell_type": "code",
   "execution_count": null,
   "id": "6f68da4f",
   "metadata": {},
   "outputs": [],
   "source": [
    "bymin['2014-08-01 00:00:00'] + (bymin['2014-08-01 00:01:00'] - bymin['2014-08-01 00:00:00'])*(1/60)"
   ]
  },
  {
   "cell_type": "markdown",
   "id": "53de7969",
   "metadata": {},
   "source": [
    "---"
   ]
  },
  {
   "cell_type": "code",
   "execution_count": null,
   "id": "294f34b3",
   "metadata": {},
   "outputs": [],
   "source": [
    "walk"
   ]
  },
  {
   "cell_type": "code",
   "execution_count": null,
   "id": "74a46d2b",
   "metadata": {},
   "outputs": [],
   "source": [
    "ohlc = walk.resample('H').ohlc()\n",
    "ohlc"
   ]
  },
  {
   "cell_type": "code",
   "execution_count": null,
   "id": "8ebad2bf",
   "metadata": {},
   "outputs": [],
   "source": [
    "walk['2014-08-01 00'][0]"
   ]
  },
  {
   "cell_type": "code",
   "execution_count": null,
   "id": "5cf0d922",
   "metadata": {},
   "outputs": [],
   "source": [
    "walk['2014-08-01 00'].max()"
   ]
  },
  {
   "cell_type": "code",
   "execution_count": null,
   "id": "9aa4cabd",
   "metadata": {},
   "outputs": [],
   "source": [
    "walk['2014-08-01 00'].min()"
   ]
  },
  {
   "cell_type": "code",
   "execution_count": null,
   "id": "b03ea1f6",
   "metadata": {},
   "outputs": [],
   "source": [
    "walk['2014-08-01 00'][-1]"
   ]
  }
 ],
 "metadata": {
  "kernelspec": {
   "display_name": "Python 3",
   "language": "python",
   "name": "python3"
  },
  "language_info": {
   "codemirror_mode": {
    "name": "ipython",
    "version": 3
   },
   "file_extension": ".py",
   "mimetype": "text/x-python",
   "name": "python",
   "nbconvert_exporter": "python",
   "pygments_lexer": "ipython3",
   "version": "3.8.10"
  }
 },
 "nbformat": 4,
 "nbformat_minor": 5
}
