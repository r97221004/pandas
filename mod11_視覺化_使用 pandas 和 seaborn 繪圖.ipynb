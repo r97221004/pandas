{
 "cells": [
  {
   "cell_type": "markdown",
   "id": "592e3f36",
   "metadata": {},
   "source": [
    "#  <font color=red> Module_11_視覺化_使用 pandas 和 seaborn 繪圖</font>"
   ]
  },
  {
   "cell_type": "markdown",
   "id": "4c6c305e",
   "metadata": {},
   "source": [
    "## 折線圖"
   ]
  },
  {
   "cell_type": "code",
   "execution_count": null,
   "id": "61693d98",
   "metadata": {},
   "outputs": [],
   "source": [
    "import numpy as np\n",
    "import pandas as pd\n",
    "import matplotlib.pyplot as plt\n",
    "import seaborn as sns\n",
    "import pandas_datareader as pdr\n",
    "from datetime import datetime\n",
    "\n",
    "# index 被當作 x 軸的刻度\n",
    "s = pd.Series(np.random.randn(10).cumsum(), index = np.arange(0, 100, 10))\n",
    "s"
   ]
  },
  {
   "cell_type": "code",
   "execution_count": null,
   "id": "ad343af4",
   "metadata": {},
   "outputs": [],
   "source": [
    "s.plot()\n",
    "plt.show()"
   ]
  },
  {
   "cell_type": "markdown",
   "id": "2f883ca9",
   "metadata": {},
   "source": [
    "---"
   ]
  },
  {
   "cell_type": "code",
   "execution_count": null,
   "id": "e7ea35a9",
   "metadata": {},
   "outputs": [],
   "source": [
    "np.random.randn(10, 4)"
   ]
  },
  {
   "cell_type": "code",
   "execution_count": null,
   "id": "0da43d3f",
   "metadata": {},
   "outputs": [],
   "source": [
    "# ndarray 的 cumsum 與 dataframe 的 cumsum 的預設在 axis 上有不同\n",
    "df = pd.DataFrame(np.random.randn(10, 4).cumsum(axis = 0),\n",
    "                columns = ['A', 'B', 'C', 'D'],\n",
    "                index = np.arange(0, 100, 10))\n",
    "df"
   ]
  },
  {
   "cell_type": "code",
   "execution_count": null,
   "id": "46b24f84",
   "metadata": {},
   "outputs": [],
   "source": [
    "df.plot()\n",
    "plt.show()"
   ]
  },
  {
   "cell_type": "markdown",
   "id": "c3b2ca93",
   "metadata": {},
   "source": [
    "---"
   ]
  },
  {
   "cell_type": "code",
   "execution_count": null,
   "id": "f2bfcb63",
   "metadata": {},
   "outputs": [],
   "source": [
    "# 建立時間序列圖表\n",
    "np.random.seed(111111)\n",
    "index = pd.date_range('2012-01-01', '2014-12-31')\n",
    "s = pd.Series(np.random.randn(len(index)), index = index )\n",
    "s"
   ]
  },
  {
   "cell_type": "code",
   "execution_count": null,
   "id": "cbefb987",
   "metadata": {},
   "outputs": [],
   "source": [
    "walk_ts = s.cumsum()\n",
    "walk_ts"
   ]
  },
  {
   "cell_type": "code",
   "execution_count": null,
   "id": "89843510",
   "metadata": {},
   "outputs": [],
   "source": [
    "walk_ts.plot()\n",
    "plt.show()"
   ]
  },
  {
   "cell_type": "code",
   "execution_count": null,
   "id": "474eaca4",
   "metadata": {},
   "outputs": [],
   "source": [
    "# 沒給行名，所以是預設值\n",
    "walk_df = pd.DataFrame(walk_ts)\n",
    "walk_df"
   ]
  },
  {
   "cell_type": "code",
   "execution_count": null,
   "id": "19012115",
   "metadata": {},
   "outputs": [],
   "source": [
    "# 資料序列的繪圖與只有一行的資料框繪圖，兩者的結果類似\n",
    "# 但如果是從資料框產生圖形，預設會有圖例\n",
    "walk_df.plot();"
   ]
  },
  {
   "cell_type": "markdown",
   "id": "8883ecc7",
   "metadata": {},
   "source": [
    "---"
   ]
  },
  {
   "cell_type": "code",
   "execution_count": null,
   "id": "76dce610",
   "metadata": {},
   "outputs": [],
   "source": [
    "np.random.seed(111111)\n",
    "df = pd.DataFrame(np.random.randn(1096, 2),\n",
    "                 index = walk_ts.index,\n",
    "                 columns = list('AB'))\n",
    "walk_df = df.cumsum()\n",
    "walk_df.head()"
   ]
  },
  {
   "cell_type": "code",
   "execution_count": null,
   "id": "9ee69dc3",
   "metadata": {},
   "outputs": [],
   "source": [
    "# 如果 Dataframe 的行數不只一行，.plot()的圖例會增加好幾項，且每條線的顏色都不一樣\n",
    "walk_df.plot()\n",
    "plt.show()"
   ]
  },
  {
   "cell_type": "markdown",
   "id": "0e3879e9",
   "metadata": {},
   "source": [
    "---"
   ]
  },
  {
   "cell_type": "code",
   "execution_count": null,
   "id": "f442c7ca",
   "metadata": {},
   "outputs": [],
   "source": [
    "df2 = walk_df.copy()\n",
    "df2['C'] = pd.Series(np.arange(0, len(df2)), index = df2.index)\n",
    "df2"
   ]
  },
  {
   "cell_type": "code",
   "execution_count": null,
   "id": "6c4128db",
   "metadata": {},
   "outputs": [],
   "source": [
    "# 如果想把 Dataframe 的其中一行資料當作 x 軸的標籤，可使用 x 參數指定作為標籤的行名，用 y 軸參數指定要繪製那些行的資料點\n",
    "df2.plot(x = 'C', y = ['A', 'B'])\n",
    "plt.show()"
   ]
  },
  {
   "cell_type": "markdown",
   "id": "e23c3c66",
   "metadata": {},
   "source": [
    "### 加上標題及改變繪圖軸標籤"
   ]
  },
  {
   "cell_type": "code",
   "execution_count": null,
   "id": "d7a84853",
   "metadata": {},
   "outputs": [],
   "source": [
    "# 繪圖軸的設定是在呼叫 .plot() 方法後，直接利用 plt.xlable() 及 plt.ylable() 函式\n",
    "# 當然也可以使用 plt.title('Title of the Chart')\n",
    "walk_df.plot(title = 'Title of the Chart')\n",
    "plt.xlabel('Time')\n",
    "plt.ylabel('Money')\n",
    "plt.show()"
   ]
  },
  {
   "cell_type": "markdown",
   "id": "a07fc65f",
   "metadata": {},
   "source": [
    "### 指定圖例的內容及位置"
   ]
  },
  {
   "cell_type": "code",
   "execution_count": null,
   "id": "01af8471",
   "metadata": {},
   "outputs": [],
   "source": [
    "# 要改圖例中的每一個資料序列的文字，可以利用 .plot() 傳回的 ax 物件的 .legend() 方法。\n",
    "# 該物件是個 AxesSubplot 物件，可以在圖形產生前改變圖形的許多特性\n",
    "\n",
    "ax = walk_df.plot(title = 'Title of the Chart')\n",
    "ax.legend(['1','2'])\n",
    "plt.show()"
   ]
  },
  {
   "cell_type": "code",
   "execution_count": null,
   "id": "19d59b61",
   "metadata": {},
   "outputs": [],
   "source": [
    "# 也可以使用 ax = plt.gca()\n",
    "# loc 參數的預設是 'best'\n",
    "walk_df.plot(title = 'Title of the Chart')\n",
    "ax = plt.gca()\n",
    "ax.legend(['1','2'], loc = 'upper center')\n",
    "plt.show()"
   ]
  },
  {
   "cell_type": "code",
   "execution_count": null,
   "id": "2a5f4ddb",
   "metadata": {},
   "outputs": [],
   "source": [
    "# 可以透過 legend = False 關掉圖例\n",
    "walk_df.plot(title='Title of the Chart', legend = False)\n",
    "plt.show()"
   ]
  },
  {
   "cell_type": "markdown",
   "id": "b98b9db9",
   "metadata": {},
   "source": [
    "### 指定線條顏色、樣式、寬度與標記"
   ]
  },
  {
   "cell_type": "code",
   "execution_count": null,
   "id": "9f0be82b",
   "metadata": {},
   "outputs": [],
   "source": [
    "# 顏色可以使用內建的單一字元編碼，或是十六進位的 RGB 編碼指定顏色，格式是 #RRGGBB\n",
    "walk_df.plot(style = ['g', '#ff0000'])\n",
    "plt.show()"
   ]
  },
  {
   "cell_type": "code",
   "execution_count": null,
   "id": "fde7f043",
   "metadata": {},
   "outputs": [],
   "source": [
    "# 線條樣式碼指定，可以直接接在顏色碼後面\n",
    "x = np.arange(0, 5., 0.2)\n",
    "y1 = x\n",
    "y2 = x**1.5\n",
    "y3 = x**2.0\n",
    "y4 = x**2.5\n",
    "y5 = x**3.0\n",
    "\n",
    "line_style = pd.DataFrame({0: y1,\n",
    "                           1: y2,\n",
    "                           2: y3,\n",
    "                           3: y4,\n",
    "                           4: y5}, index = x)\n",
    "line_style.head()"
   ]
  },
  {
   "cell_type": "code",
   "execution_count": null,
   "id": "f88bc4cb",
   "metadata": {},
   "outputs": [],
   "source": [
    "lagend_lables = ['Solid', 'Dashed', 'Dotted', 'Dot-dashed', 'Points']\n",
    "ax = line_style.plot(style = ['r-', 'g--', 'b:', 'm-.', 'k.'])\n",
    "ax.legend(lagend_lables, loc = 'upper left')\n",
    "plt.show()"
   ]
  },
  {
   "cell_type": "code",
   "execution_count": null,
   "id": "9b7c13ba",
   "metadata": {},
   "outputs": [],
   "source": [
    "# 可透過傳入寬度串列指定多條線的寬度，或是只用單一寬度套用到所有線\n",
    "# linewidth = lw\n",
    "ax = line_style.plot(style = ['r-', 'g--', 'b:', 'm-.', 'k.'], lw= 3)\n",
    "ax.legend(lagend_lables, loc = 'upper left')\n",
    "plt.show()"
   ]
  },
  {
   "cell_type": "code",
   "execution_count": null,
   "id": "9e0ce5c3",
   "metadata": {},
   "outputs": [],
   "source": [
    "# 線條上的標記也能用樣式碼來指定\n",
    "# 依序是圓形、三角形向上、星形、鑽石、方形\n",
    "# https://matplotlib.org/stable/api/markers_api.html\n",
    "ax = line_style.plot(style = ['r-o', 'g--^', 'b:*', 'm-.D', 'k:s'], lw = 2)\n",
    "ax.legend(lagend_lables, loc = 'upper left')\n",
    "plt.show()"
   ]
  },
  {
   "cell_type": "markdown",
   "id": "7733f6c6",
   "metadata": {},
   "source": [
    "### 指定刻度位置及標籤"
   ]
  },
  {
   "cell_type": "code",
   "execution_count": null,
   "id": "964983bd",
   "metadata": {},
   "outputs": [],
   "source": [
    "# 第一個參數 傳入 ticks\n",
    "# 每個刻度位置的標籤還能作為第二個參數傳入函數，以進行指定\n",
    "ticks_data = pd.DataFrame(np.arange(0, 5))\n",
    "ticks_data.plot()\n",
    "plt.xticks(ticks = np.arange(-1, 6))\n",
    "plt.yticks(ticks = np.arange(0, 5), labels = list('ABCDE'))\n",
    "plt.show()"
   ]
  },
  {
   "cell_type": "code",
   "execution_count": null,
   "id": "ec4843b6",
   "metadata": {},
   "outputs": [],
   "source": [
    "ticks_data = pd.DataFrame(np.arange(0, 5))\n",
    "ticks_data.plot()\n",
    "a, b = plt.xticks(ticks = np.arange(-1, 6))\n",
    "plt.show()"
   ]
  },
  {
   "cell_type": "code",
   "execution_count": null,
   "id": "2a0a51ab",
   "metadata": {},
   "outputs": [],
   "source": [
    "a"
   ]
  },
  {
   "cell_type": "code",
   "execution_count": null,
   "id": "4a95e746",
   "metadata": {},
   "outputs": [],
   "source": [
    "b"
   ]
  },
  {
   "cell_type": "markdown",
   "id": "6926f052",
   "metadata": {},
   "source": [
    "### 使用格式器格式化軸上的刻度日期標籤"
   ]
  },
  {
   "cell_type": "code",
   "execution_count": null,
   "id": "cab48ec4",
   "metadata": {},
   "outputs": [],
   "source": [
    "np.random.seed(111111)\n",
    "index = pd.date_range('2012-01-01', '2014-12-31')\n",
    "df = pd.DataFrame(np.random.randn(len(index),2 ),\n",
    "                 index = index,\n",
    "                 columns = list('AB'))\n",
    "walk_df = df.cumsum()\n",
    "walk_df"
   ]
  },
  {
   "cell_type": "code",
   "execution_count": null,
   "id": "dee19666",
   "metadata": {},
   "outputs": [],
   "source": [
    "# 此時 x 軸上有兩個序列，一個次要(minor)及一個主要(major)\n",
    "# 次要標籤標是一個月的某一天\n",
    "# 主要標籤則包括年及月，但只有第一個月才有年標籤\n",
    "# 每個主要及次要標籤都能透過設定定位器跟格式器來改變其值\n",
    "walk_df.loc['2014-01':'2014-02'].plot()\n",
    "plt.show()"
   ]
  },
  {
   "cell_type": "code",
   "execution_count": null,
   "id": "1c83d98e",
   "metadata": {},
   "outputs": [],
   "source": [
    "# https://docs.python.org/3/library/datetime.html#datetime.tzinfo\n",
    "# MinuteLocator、 HourLocator、DayLocator、WeekdayLocator、MonthLocator、YearLocator: 這些特殊定位器是用來決定各種日期欄位的刻度在軸上的位置#\n",
    "# DateFormatter: 這是用來格式化日期物件，使其成為軸上標籤的類別\n",
    "\n",
    "from matplotlib.dates import WeekdayLocator, DateFormatter, MonthLocator\n",
    "\n",
    "ax = walk_df.loc['2014-01':'2014-02'].plot()\n",
    "\n",
    "# 修改次要標籤\n",
    "weekday_locator = WeekdayLocator(byweekday = 0, interval = 1)\n",
    "ax.xaxis.set_minor_locator(weekday_locator)\n",
    "ax.xaxis.set_minor_formatter(DateFormatter(\"%d\\n%a\"))\n",
    "\n",
    "# 修改主要標籤\n",
    "ax.xaxis.set_major_locator(MonthLocator())\n",
    "ax.xaxis.set_major_formatter(DateFormatter('\\n\\n\\n%b\\n%Y'))\n",
    "\n",
    "# 是否繪出格線\n",
    "ax.xaxis.grid(True, 'minor')\n",
    "ax.xaxis.grid(False, 'major')\n",
    "plt.show()"
   ]
  },
  {
   "cell_type": "markdown",
   "id": "d16138e5",
   "metadata": {},
   "source": [
    "---"
   ]
  },
  {
   "cell_type": "code",
   "execution_count": null,
   "id": "e4c670c1",
   "metadata": {},
   "outputs": [],
   "source": [
    "ax = walk_df.loc['2014-01':'2014-02'].plot()\n",
    "\n",
    "# 修改主要標籤\n",
    "ax.xaxis.set_major_locator(weekday_locator)\n",
    "ax.xaxis.set_major_formatter(DateFormatter('%Y-%m-%d'))\n",
    "\n",
    "# 旋轉 x軸的日期標籤\n",
    "fig = plt.gcf()\n",
    "fig.autofmt_xdate(rotation = 45)\n",
    "\n",
    "# 是否繪出格線\n",
    "ax.xaxis.grid(True, \"major\") \n",
    "plt.show()"
   ]
  },
  {
   "cell_type": "markdown",
   "id": "b14a8e9a",
   "metadata": {},
   "source": [
    "## 以柱狀圖顯示相對差異"
   ]
  },
  {
   "cell_type": "code",
   "execution_count": null,
   "id": "e35aadf3",
   "metadata": {},
   "outputs": [],
   "source": [
    "# make a bar plot\n",
    "np.random.seed(111111)\n",
    "s = pd.Series(np.random.rand(10) - 0.5)\n",
    "s"
   ]
  },
  {
   "cell_type": "code",
   "execution_count": null,
   "id": "46fc44f5",
   "metadata": {},
   "outputs": [],
   "source": [
    "s.plot(kind = 'bar')\n",
    "plt.show()"
   ]
  },
  {
   "cell_type": "markdown",
   "id": "a44d5386",
   "metadata": {},
   "source": [
    "---"
   ]
  },
  {
   "cell_type": "code",
   "execution_count": null,
   "id": "c04aa473",
   "metadata": {},
   "outputs": [],
   "source": [
    "# 多重序列的柱狀圖也用來比較每個 x 軸標籤上的多個值\n",
    "np.random.seed(111111)\n",
    "df2 = pd.DataFrame(np.random.rand(10, 4),\n",
    "                  columns = ['a', 'b', 'c', 'd'])\n",
    "df2"
   ]
  },
  {
   "cell_type": "code",
   "execution_count": null,
   "id": "2866ef38",
   "metadata": {},
   "outputs": [],
   "source": [
    "df2.plot(kind = 'bar')\n",
    "plt.show()"
   ]
  },
  {
   "cell_type": "code",
   "execution_count": null,
   "id": "92be5c20",
   "metadata": {},
   "outputs": [],
   "source": [
    "# 能夠透過 stacked = True 參數把柱子往上堆疊，而不是畫成並排\n",
    "df2.plot(kind = 'bar', stacked = True)\n",
    "plt.show()"
   ]
  },
  {
   "cell_type": "code",
   "execution_count": null,
   "id": "c48bb877",
   "metadata": {},
   "outputs": [],
   "source": [
    "# 水平柱狀圖\n",
    "df2.plot(kind = 'barh')\n",
    "plt.show()"
   ]
  },
  {
   "cell_type": "code",
   "execution_count": null,
   "id": "ecc49390",
   "metadata": {},
   "outputs": [],
   "source": [
    "df2.plot(kind = 'barh', stacked = True)\n",
    "plt.show()"
   ]
  },
  {
   "cell_type": "markdown",
   "id": "e7e4fc75",
   "metadata": {},
   "source": [
    "---"
   ]
  },
  {
   "cell_type": "code",
   "execution_count": null,
   "id": "a6f38610",
   "metadata": {},
   "outputs": [],
   "source": [
    "data = pd.Series(np.random.rand(16), index=list('abcdefghijklmnop'))\n",
    "data"
   ]
  },
  {
   "cell_type": "code",
   "execution_count": null,
   "id": "c9ab9e2c",
   "metadata": {},
   "outputs": [],
   "source": [
    "fig, axes = plt.subplots(2, 1)\n",
    "data.plot.bar(ax = axes[0], color = 'k', alpha=0.7)\n",
    "data.plot.barh(ax = axes[1], color = 'k', alpha=0.7)\n",
    "plt.show()"
   ]
  },
  {
   "cell_type": "markdown",
   "id": "1cbeb7f3",
   "metadata": {},
   "source": [
    "---"
   ]
  },
  {
   "cell_type": "code",
   "execution_count": null,
   "id": "b6805816",
   "metadata": {},
   "outputs": [],
   "source": [
    "np.random.seed(12348)\n",
    "df = pd.DataFrame(np.random.rand(6, 4),\n",
    "                  index=['one', 'two', 'three', 'four', 'five', 'six'],\n",
    "                  columns = pd.Index(['A', 'B', 'C', 'D'], name = 'Genus'))\n",
    "df"
   ]
  },
  {
   "cell_type": "code",
   "execution_count": null,
   "id": "b66f1d8e",
   "metadata": {},
   "outputs": [],
   "source": [
    "# 在 Datafrome 欄位中的名稱 \"Genus\" 是用來當作圖例的標題使用\n",
    "df.plot.bar()\n",
    "plt.show()"
   ]
  },
  {
   "cell_type": "code",
   "execution_count": null,
   "id": "ac5d2ab9",
   "metadata": {},
   "outputs": [],
   "source": [
    "df.plot.barh(stacked = True, alpha = 0.5)\n",
    "plt.show()"
   ]
  },
  {
   "cell_type": "code",
   "execution_count": null,
   "id": "4cb5afd3",
   "metadata": {},
   "outputs": [],
   "source": [
    "# 想用長條圖視覺化表達 Series 中值出現的頻率時，請用 value_counts\n",
    "s = pd.Series(np.random.randint(0, 9, 1000))\n",
    "s.value_counts().plot.bar(alpha = 0.5)\n",
    "plt.show()"
   ]
  },
  {
   "cell_type": "markdown",
   "id": "4dc953db",
   "metadata": {},
   "source": [
    "---"
   ]
  },
  {
   "cell_type": "code",
   "execution_count": null,
   "id": "5f8d95de",
   "metadata": {},
   "outputs": [],
   "source": [
    "tips = pd.read_csv('./mod11/tips.csv')\n",
    "tips"
   ]
  },
  {
   "cell_type": "code",
   "execution_count": null,
   "id": "f11dce84",
   "metadata": {},
   "outputs": [],
   "source": [
    "tips['tips_pct'] = tips['tip']/(tips['total_bill'] - tips['tip'])\n",
    "tips[:5]"
   ]
  },
  {
   "cell_type": "code",
   "execution_count": null,
   "id": "1dceb93e",
   "metadata": {},
   "outputs": [],
   "source": [
    "# 不同天小費的百分比例 (帶有誤差顯示)\n",
    "# 圖中長條是 tip_pct 的平均值\n",
    "# 畫在長條上的黑色線條，代表 %95 的信心程度\n",
    "sns.barplot(x = 'tips_pct', y = 'day', data = tips, orient = 'h')\n",
    "plt.show()"
   ]
  },
  {
   "cell_type": "code",
   "execution_count": null,
   "id": "23a7e120",
   "metadata": {},
   "outputs": [],
   "source": [
    "# sns.barplot 有一個 hue選項，用來幫我們區分其他類的值\n",
    "# 可用 sns.set(style = 'whitegrid') 來改變繪圖的外觀\n",
    "sns.barplot(x = 'tips_pct', y = 'day', hue = 'time', data = tips, orient = 'h')\n",
    "plt.show()"
   ]
  },
  {
   "cell_type": "markdown",
   "id": "48cd971a",
   "metadata": {},
   "source": [
    "## 以直方圖畫出資料分布"
   ]
  },
  {
   "cell_type": "code",
   "execution_count": null,
   "id": "cbe212ac",
   "metadata": {},
   "outputs": [],
   "source": [
    "np.random.seed(111111)\n",
    "df = pd.DataFrame(np.random.randn(1000))\n",
    "df[:5]"
   ]
  },
  {
   "cell_type": "code",
   "execution_count": null,
   "id": "4ec7d562",
   "metadata": {},
   "outputs": [],
   "source": [
    "# create a histogram\n",
    "df.hist()\n",
    "plt.show()"
   ]
  },
  {
   "cell_type": "code",
   "execution_count": null,
   "id": "1bad21b1",
   "metadata": {},
   "outputs": [],
   "source": [
    "# 指定圖形的分組數目，便能控制直方圖的解析度\n",
    "# bins 的預設值是 10\n",
    "df.hist(bins = 100, alpha = 0.5)\n",
    "plt.show()"
   ]
  },
  {
   "cell_type": "markdown",
   "id": "b718cb47",
   "metadata": {},
   "source": [
    "---"
   ]
  },
  {
   "cell_type": "code",
   "execution_count": null,
   "id": "7c06f91f",
   "metadata": {},
   "outputs": [],
   "source": [
    "np.random.seed(111111)\n",
    "df = pd.DataFrame(np.random.randn(1000, 4),\n",
    "                   columns = ['a', 'b', 'c', 'd'])\n",
    "df"
   ]
  },
  {
   "cell_type": "code",
   "execution_count": null,
   "id": "3ff0be35",
   "metadata": {},
   "outputs": [],
   "source": [
    "# 如果資料有好幾個序列，直方圖函數會自動產生多個直方圖\n",
    "# 也可以用 plt.tight_layout() 自動幫調子圖\n",
    "df.hist(bins = 100, alpha = 0.5)\n",
    "plt.subplots_adjust(wspace = 0.3, hspace = 0.5) \n",
    "plt.tight_layout\n",
    "plt.show()"
   ]
  },
  {
   "cell_type": "markdown",
   "id": "16788bc8",
   "metadata": {},
   "source": [
    "---"
   ]
  },
  {
   "cell_type": "code",
   "execution_count": null,
   "id": "d96bdbb0",
   "metadata": {},
   "outputs": [],
   "source": [
    "# 如果要將多個直方圖重疊在同一個圖表，可以在執行 .show() 函式前，呼叫 plt.hist() 函式很多次\n",
    "np.random.seed(111111)\n",
    "x = [np.random.normal(3, 1) for _ in range(400)]\n",
    "y = [np.random.normal(4, 2) for _ in range(400)]\n",
    "bins  = np.linspace(-10, 10, 100)\n",
    "plt.hist(x, bins, alpha = 0.5, label = 'x') # alpha = 0.5 是透明度 50%\n",
    "plt.hist(y, bins, alpha = 0.5, label = 'y')\n",
    "plt.legend(loc = 'upper right')\n",
    "plt.show()"
   ]
  },
  {
   "cell_type": "markdown",
   "id": "102a683a",
   "metadata": {},
   "source": [
    "---"
   ]
  },
  {
   "cell_type": "code",
   "execution_count": null,
   "id": "de3ae886",
   "metadata": {},
   "outputs": [],
   "source": [
    "tips = pd.read_csv('./mod11/tips.csv')\n",
    "tips['tips_pct'] = tips['tip']/(tips['total_bill'] - tips['tip'])\n",
    "tips[:5]"
   ]
  },
  {
   "cell_type": "code",
   "execution_count": null,
   "id": "d4ab8609",
   "metadata": {},
   "outputs": [],
   "source": [
    "# 將小費佔每張帳單的百分比用直方圖顯示出來\n",
    "tips['tips_pct'].plot.hist(bins = 50)\n",
    "plt.show()"
   ]
  },
  {
   "cell_type": "markdown",
   "id": "b8734b48",
   "metadata": {},
   "source": [
    "## 已核密度圖做分布估計"
   ]
  },
  {
   "cell_type": "code",
   "execution_count": null,
   "id": "d1463288",
   "metadata": {},
   "outputs": [],
   "source": [
    "# 核密度圖並不純粹以經驗來表示資料，而是估算資料的真實分布，並且將資料平滑成連續的曲線\n",
    "# create a kde density plot\n",
    "np.random.seed(111111)\n",
    "s = pd.Series(np.random.randn(1000))\n",
    "s"
   ]
  },
  {
   "cell_type": "code",
   "execution_count": null,
   "id": "53289049",
   "metadata": {},
   "outputs": [],
   "source": [
    "s.hist(density = True)\n",
    "s.plot(kind = 'kde', figsize = (10, 8))\n",
    "plt.show()"
   ]
  },
  {
   "cell_type": "markdown",
   "id": "c8988d1a",
   "metadata": {},
   "source": [
    "---"
   ]
  },
  {
   "cell_type": "code",
   "execution_count": null,
   "id": "8e70ca42",
   "metadata": {},
   "outputs": [],
   "source": [
    "tips = pd.read_csv('./mod11/tips.csv')\n",
    "tips['tips_pct'] = tips['tip']/(tips['total_bill'] - tips['tip'])\n",
    "tips[:5]"
   ]
  },
  {
   "cell_type": "code",
   "execution_count": null,
   "id": "f61864d4",
   "metadata": {},
   "outputs": [],
   "source": [
    "tips['tips_pct'].plot.hist(bins = 50, density = True)\n",
    "tips['tips_pct'].plot.density()"
   ]
  },
  {
   "cell_type": "markdown",
   "id": "bdc4e15e",
   "metadata": {},
   "source": [
    "---"
   ]
  },
  {
   "cell_type": "code",
   "execution_count": null,
   "id": "15d9282d",
   "metadata": {},
   "outputs": [],
   "source": [
    "# seaborn 有個 displot 方法，能使畫直方圖和密度圖更加容易\n",
    "# 這個方法可以同時畫出直方圖和連續密度估計\n",
    "\n",
    "comp1 = np.random.normal(0, 1, size = 200)\n",
    "comp2 = np.random.normal(10, 2, size = 200)\n",
    "values = pd.Series(np.concatenate([comp1, comp2]))\n",
    "values"
   ]
  },
  {
   "cell_type": "code",
   "execution_count": null,
   "id": "456fb6b6",
   "metadata": {},
   "outputs": [],
   "source": [
    "sns.displot(values, bins = 100, color = 'k', kde = True)\n",
    "plt.xlim([-8, 20])\n",
    "plt.show()"
   ]
  },
  {
   "cell_type": "markdown",
   "id": "0215bcd7",
   "metadata": {},
   "source": [
    "## 以散布圖顯示兩變數之間的關係"
   ]
  },
  {
   "cell_type": "code",
   "execution_count": null,
   "id": "0d5ffed1",
   "metadata": {},
   "outputs": [],
   "source": [
    "# 散布圖又稱點圖，在觀察二維序列資料的相互關係時很好用\n",
    "np.random.seed(111111)\n",
    "df = pd.DataFrame(np.random.randn(10000, 2),\n",
    "                  columns = ['a', 'b'])\n",
    "df"
   ]
  },
  {
   "cell_type": "code",
   "execution_count": null,
   "id": "eb3e0c97",
   "metadata": {},
   "outputs": [],
   "source": [
    "# 散布圖顯示一對變數的相關性\n",
    "df.plot(kind = 'scatter', x = 'a', y = 'b')\n",
    "plt.show()"
   ]
  },
  {
   "cell_type": "markdown",
   "id": "250aae7d",
   "metadata": {},
   "source": [
    "---"
   ]
  },
  {
   "cell_type": "code",
   "execution_count": null,
   "id": "c0e5f4cf",
   "metadata": {},
   "outputs": [],
   "source": [
    "import pandas_datareader as pdr\n",
    "from datetime import datetime\n",
    "# 從 yahoo 讀取微軟的股價資料\n",
    "start = datetime(2016, 1, 1)\n",
    "end = datetime(2016, 12, 31)\n",
    "stock_data = pdr.data.DataReader(\"MSFT\", 'yahoo', start, end)\n",
    "stock_data"
   ]
  },
  {
   "cell_type": "code",
   "execution_count": null,
   "id": "5b5dbc87",
   "metadata": {},
   "outputs": [],
   "source": [
    "stock_data['Close']"
   ]
  },
  {
   "cell_type": "code",
   "execution_count": null,
   "id": "47626ed3",
   "metadata": {},
   "outputs": [],
   "source": [
    "# % change per day\n",
    "delta = stock_data['Close'].pct_change()\n",
    "delta = delta[1:]\n",
    "delta"
   ]
  },
  {
   "cell_type": "code",
   "execution_count": null,
   "id": "37db32c9",
   "metadata": {},
   "outputs": [],
   "source": [
    "fig, ax = plt.subplots()\n",
    "volume = (10*stock_data.loc[delta[:-1].index].Volume/stock_data.Volume[0])**2\n",
    "close = stock_data.loc[delta[:-1].index].Close\n",
    "ax.scatter(delta[:-1], delta[1:], c = close, s = volume, alpha = 0.5)\n",
    "\n",
    "ax.set_xlabel(r'$\\Delta_i$', fontsize = 20)\n",
    "ax.set_ylabel(r'$\\Delta_{i+1}$', fontsize = 20)\n",
    "ax.set_title('Volume and percent change')\n",
    "ax.grid(True, 'major')\n",
    "plt.show()"
   ]
  },
  {
   "cell_type": "markdown",
   "id": "d72a7432",
   "metadata": {},
   "source": [
    "---"
   ]
  },
  {
   "cell_type": "code",
   "execution_count": null,
   "id": "ab4da86f",
   "metadata": {},
   "outputs": [],
   "source": [
    "macro = pd.read_csv('./mod11/macrodata.csv')\n",
    "macro"
   ]
  },
  {
   "cell_type": "code",
   "execution_count": null,
   "id": "3b5c9bc7",
   "metadata": {},
   "outputs": [],
   "source": [
    "data = macro[['cpi', 'm1', 'tbilrate', 'unemp']]\n",
    "data"
   ]
  },
  {
   "cell_type": "code",
   "execution_count": null,
   "id": "ae1fbef6",
   "metadata": {},
   "outputs": [],
   "source": [
    "# 計算 log \n",
    "np.log(data)"
   ]
  },
  {
   "cell_type": "code",
   "execution_count": null,
   "id": "cf23c132",
   "metadata": {},
   "outputs": [],
   "source": [
    "# 計算差值\n",
    "np.log(data).diff()"
   ]
  },
  {
   "cell_type": "code",
   "execution_count": null,
   "id": "cf5c8998",
   "metadata": {},
   "outputs": [],
   "source": [
    "trans_data = np.log(data).diff().dropna()\n",
    "trans_data.reset_index(inplace=True, drop = True)\n",
    "trans_data"
   ]
  },
  {
   "cell_type": "code",
   "execution_count": null,
   "id": "29f0d7b1",
   "metadata": {},
   "outputs": [],
   "source": [
    "# 使用 seaborn 的 replot 方法，這個方法在畫散布圖的同時，會算出線性迴歸線\n",
    "sns.regplot(x = 'm1', y = 'unemp', data = trans_data)\n",
    "plt.title('Changes in log %s versus log %s' % ('m1', 'unemp'))\n",
    "plt.show()"
   ]
  },
  {
   "cell_type": "markdown",
   "id": "cd91a97b",
   "metadata": {},
   "source": [
    "## 以散布圖矩陣表示多重變數的相關性"
   ]
  },
  {
   "cell_type": "code",
   "execution_count": null,
   "id": "d1ea4137",
   "metadata": {},
   "outputs": [],
   "source": [
    "# 對於探索性資料分析來說，如果能看到一堆變數的散布圖是很有幫助的\n",
    "# 這一堆圖被稱為散布圖矩陣"
   ]
  },
  {
   "cell_type": "code",
   "execution_count": null,
   "id": "49e32cdb",
   "metadata": {},
   "outputs": [],
   "source": [
    "# create a scatter plot matrix\n",
    "from pandas.plotting import scatter_matrix\n",
    "\n",
    "np.random.seed(111111)\n",
    "df = pd.DataFrame(np.random.randn(1000, 4),\n",
    "                 columns = ['a', 'b', 'c', 'd'])\n",
    "df"
   ]
  },
  {
   "cell_type": "code",
   "execution_count": null,
   "id": "530c472f",
   "metadata": {},
   "outputs": [],
   "source": [
    "scatter_matrix(df, alpha = 0.2, figsize = (6, 6), diagonal = 'kde')\n",
    "plt.show()"
   ]
  },
  {
   "cell_type": "markdown",
   "id": "b8658b88",
   "metadata": {},
   "source": [
    "---"
   ]
  },
  {
   "cell_type": "code",
   "execution_count": null,
   "id": "2130d1e2",
   "metadata": {},
   "outputs": [],
   "source": [
    "trans_data"
   ]
  },
  {
   "cell_type": "code",
   "execution_count": null,
   "id": "47273bf5",
   "metadata": {},
   "outputs": [],
   "source": [
    "# 在 seaborn 有一個便利的 pairplot 函式\n",
    "# plot_kws 參數，在我們畫非對角線的圖時，這個參數可以讓我們傳遞設定值\n",
    "sns.pairplot(trans_data, diag_kind = 'kde', plot_kws={'alpha': 0.5})\n",
    "plt.show()"
   ]
  },
  {
   "cell_type": "markdown",
   "id": "38369091",
   "metadata": {},
   "source": [
    "## 層面圖組與分組資料"
   ]
  },
  {
   "cell_type": "code",
   "execution_count": null,
   "id": "30023cd8",
   "metadata": {},
   "outputs": [],
   "source": [
    "# 如果碰到有多個分組方法的資料集合時怎麼辦？ 使用層面圖組 (facet grid) 就能指定依多個分類變數來進行視覺化\n",
    "# seaborn 有一個好用的內建函式，叫做 catplot，它可以簡易畫出許多層面圖 (facet plot)\n",
    "# 可以用更通用的 seaborn.FaceGrid 類別來建立自己的層面圖組，詳細請見 seaborn 文件 (https://seaborn.pydata.org/)"
   ]
  },
  {
   "cell_type": "code",
   "execution_count": null,
   "id": "d33f2396",
   "metadata": {},
   "outputs": [],
   "source": [
    "tips = pd.read_csv('./mod11/tips.csv')\n",
    "tips['tips_pct'] = tips['tip']/(tips['total_bill'] - tips['tip'])\n",
    "tips[:5]"
   ]
  },
  {
   "cell_type": "code",
   "execution_count": null,
   "id": "f138e8e6",
   "metadata": {},
   "outputs": [],
   "source": [
    "sns.catplot(x = 'day', y = 'tips_pct', hue = 'time', col = 'smoker', kind = 'bar', data = tips[tips.tips_pct < 1])\n",
    "plt.show()"
   ]
  },
  {
   "cell_type": "code",
   "execution_count": null,
   "id": "ebaeb9fc",
   "metadata": {},
   "outputs": [],
   "source": [
    "# 如果在層面圖中不想只用異色長條顯示 'time' 分組的話，還可以在層面圖組終將 time 分組擴增為新的一列圖\n",
    "sns.catplot(x = 'day', y = 'tips_pct', row = 'time', col = 'smoker', kind = 'bar', data = tips[tips.tips_pct < 1])\n",
    "plt.show()"
   ]
  },
  {
   "cell_type": "markdown",
   "id": "59f4b8dc",
   "metadata": {},
   "source": [
    "## 箱形圖"
   ]
  },
  {
   "cell_type": "code",
   "execution_count": null,
   "id": "a322d7a6",
   "metadata": {},
   "outputs": [],
   "source": [
    "# 視你想要顯示的東西屬性為何，catplot 也支援其他可用的繪圖類型，舉例來說，箱形圖就是一種很有效率的圖形\n",
    "sns.catplot(x = 'tips_pct', y ='day', kind ='box', data = tips[tips.tips_pct < 0.5])\n",
    "plt.grid(True)\n",
    "plt.show()"
   ]
  },
  {
   "cell_type": "markdown",
   "id": "9ac82c74",
   "metadata": {},
   "source": [
    "---"
   ]
  },
  {
   "cell_type": "code",
   "execution_count": null,
   "id": "71bd7c3c",
   "metadata": {},
   "outputs": [],
   "source": [
    "data = [1, 2, 3, 4, 5, 6, 7, 8, 20]\n",
    "df = pd.DataFrame(data, index = np.arange(len(data)))\n",
    "df"
   ]
  },
  {
   "cell_type": "code",
   "execution_count": null,
   "id": "63bb3437",
   "metadata": {},
   "outputs": [],
   "source": [
    "df.describe()"
   ]
  },
  {
   "cell_type": "code",
   "execution_count": null,
   "id": "29a22048",
   "metadata": {},
   "outputs": [],
   "source": [
    "# IQR = 4\n",
    "# create a box plot\n",
    "df.plot.box(title=\"Box Chart\")\n",
    "plt.grid(linestyle=\"--\", alpha = 0.3)\n",
    "plt.show()"
   ]
  },
  {
   "cell_type": "markdown",
   "id": "f104a5b1",
   "metadata": {},
   "source": [
    "---"
   ]
  },
  {
   "cell_type": "code",
   "execution_count": null,
   "id": "fb36761f",
   "metadata": {},
   "outputs": [],
   "source": [
    "np.random.seed(111111)\n",
    "dfb = pd.DataFrame(np.random.randn(10, 5))\n",
    "dfb[:5]"
   ]
  },
  {
   "cell_type": "code",
   "execution_count": null,
   "id": "3ef23ec4",
   "metadata": {},
   "outputs": [],
   "source": [
    "dfb.plot.box();"
   ]
  },
  {
   "cell_type": "code",
   "execution_count": null,
   "id": "71e7cb8f",
   "metadata": {},
   "outputs": [],
   "source": [
    "dfb.boxplot(return_type = 'axes');"
   ]
  },
  {
   "cell_type": "markdown",
   "id": "2fef07b6",
   "metadata": {},
   "source": [
    "## 以面積圖展示累積總數"
   ]
  },
  {
   "cell_type": "code",
   "execution_count": null,
   "id": "e384386d",
   "metadata": {},
   "outputs": [],
   "source": [
    "# 面積圖用來表示隨著時間過去所累積的總數目，以及相關屬性之趨勢隨時間的改變\n",
    "# 預設是產生堆疊式面積圖\n",
    "np.random.seed(111111)\n",
    "df = pd.DataFrame(np.random.rand(10, 4),\n",
    "                  columns = ['a', 'b', 'c', 'd'])\n",
    "df"
   ]
  },
  {
   "cell_type": "code",
   "execution_count": null,
   "id": "f44bfb24",
   "metadata": {},
   "outputs": [],
   "source": [
    "df.plot(kind = 'area')\n",
    "plt.show()"
   ]
  },
  {
   "cell_type": "code",
   "execution_count": null,
   "id": "3a732fbe",
   "metadata": {},
   "outputs": [],
   "source": [
    "# 產生非堆疊式面積圖\n",
    "# 預設的非堆疊面積圖的 alpha = 0.5\n",
    "df.plot(kind = 'area', stacked = False)\n",
    "plt.show()"
   ]
  },
  {
   "cell_type": "markdown",
   "id": "152e97c0",
   "metadata": {},
   "source": [
    "## 以圖像表達多重變數的關係強弱"
   ]
  },
  {
   "cell_type": "code",
   "execution_count": null,
   "id": "9c5f0de3",
   "metadata": {},
   "outputs": [],
   "source": [
    "# 圖像 (image) 表達也可以稱為熱圖 (heatmap)\n",
    "# 熱圖是一種資料的圖形表達法，其中矩陣值乃以顏色來表示，這是顯示兩變數測量值在交叉處之關係的一種有效的表達方式"
   ]
  },
  {
   "cell_type": "code",
   "execution_count": null,
   "id": "47301826",
   "metadata": {},
   "outputs": [],
   "source": [
    "# create a heatmap\n",
    "s = pd.Series([0.0, 0.1, 0.2, 0.3, 0.4],\n",
    "              ['V', 'W', 'X', 'Y', 'Z'])\n",
    "heatmap_data = pd.DataFrame({'A' : s + 0.0,\n",
    "                             'B' : s + 0.1,\n",
    "                             'C' : s + 0.2,\n",
    "                             'D' : s + 0.3,\n",
    "                             'E' : s + 0.4,\n",
    "                             'F' : s + 0.5,\n",
    "                             'G' : s + 0.6\n",
    "                     })\n",
    "heatmap_data"
   ]
  },
  {
   "cell_type": "code",
   "execution_count": null,
   "id": "c6807075",
   "metadata": {},
   "outputs": [],
   "source": [
    "plt.imshow(heatmap_data, cmap = 'hot', interpolation = 'none')\n",
    "plt.colorbar(shrink = 0.8)\n",
    "plt.xticks(range(len(heatmap_data.columns)), heatmap_data.columns)\n",
    "plt.yticks(range(len(heatmap_data)), heatmap_data.index);"
   ]
  },
  {
   "cell_type": "markdown",
   "id": "884b7f63",
   "metadata": {},
   "source": [
    "## 綜合應用"
   ]
  },
  {
   "cell_type": "code",
   "execution_count": null,
   "id": "d6cae1de",
   "metadata": {},
   "outputs": [],
   "source": [
    "tips = pd.read_csv('./mod11/tips.csv')\n",
    "tips"
   ]
  },
  {
   "cell_type": "code",
   "execution_count": null,
   "id": "8d7e6017",
   "metadata": {},
   "outputs": [],
   "source": [
    "party_counts = pd.crosstab(tips['day'], tips['size'])\n",
    "party_counts"
   ]
  },
  {
   "cell_type": "code",
   "execution_count": null,
   "id": "afce1956",
   "metadata": {},
   "outputs": [],
   "source": [
    "# 去除 1 和 6 人用餐的情況\n",
    "party_counts = party_counts.loc[:, 2:5]\n",
    "party_counts"
   ]
  },
  {
   "cell_type": "code",
   "execution_count": null,
   "id": "dd707cf0",
   "metadata": {},
   "outputs": [],
   "source": [
    "# 執行正規化，使得每列加總值為 1，並畫圖\n",
    "party_pcts = party_counts.div(party_counts.sum(axis = 1), axis = 0)\n",
    "party_pcts"
   ]
  },
  {
   "cell_type": "code",
   "execution_count": null,
   "id": "1005675f",
   "metadata": {},
   "outputs": [],
   "source": [
    "# 按星期幾以及每團用餐人數來劃分\n",
    "party_pcts.plot.bar()\n",
    "plt.show()"
   ]
  },
  {
   "cell_type": "markdown",
   "id": "5494bc74",
   "metadata": {},
   "source": [
    "---"
   ]
  },
  {
   "cell_type": "code",
   "execution_count": null,
   "id": "4f4688fd",
   "metadata": {},
   "outputs": [],
   "source": [
    "# 從 yahoo 讀取微軟的股價資料\n",
    "start = datetime(2016, 1, 1)\n",
    "end = datetime(2016, 12, 31)\n",
    "stock_data = pdr.data.DataReader(\"MSFT\", 'yahoo', start, end)\n",
    "stock_data"
   ]
  },
  {
   "cell_type": "code",
   "execution_count": null,
   "id": "f00fe329",
   "metadata": {},
   "outputs": [],
   "source": [
    "# 在上方畫出收盤價\n",
    "top = plt.subplot2grid((4, 4), (0, 0), rowspan = 3, colspan = 4)\n",
    "top.plot(stock_data.index, stock_data['Close'], label = 'Close', color = 'g', alpha = 0.5)\n",
    "plt.title('Google Opening Stock Price 2001')\n",
    "# 在下方畫出交易量\n",
    "bottom = plt.subplot2grid((4, 4), (3, 0), rowspan = 1, colspan = 4)\n",
    "bottom.bar(stock_data.index, stock_data['Volume'])\n",
    "plt.title('Google Trading Volume')\n",
    "# 設定畫布的尺寸\n",
    "fig = plt.gcf()\n",
    "fig.set_size_inches(10, 10)\n",
    "\n",
    "plt.tight_layout()\n",
    "plt.show()"
   ]
  },
  {
   "cell_type": "markdown",
   "id": "dcc931d8",
   "metadata": {},
   "source": [
    "---"
   ]
  },
  {
   "cell_type": "code",
   "execution_count": null,
   "id": "ac32c042",
   "metadata": {},
   "outputs": [],
   "source": [
    "np.random.seed(111111)\n",
    "df = pd.DataFrame(np.random.randn(1096,2),\n",
    "                 index = pd.date_range('2012-01-01', '2014-12-31'),\n",
    "                 columns = list('AB'))\n",
    "walk_df = df.cumsum()\n",
    "walk_df.head()"
   ]
  },
  {
   "cell_type": "code",
   "execution_count": null,
   "id": "7e2ac895",
   "metadata": {},
   "outputs": [],
   "source": [
    "# 要在特定的子圖畫圖，就利用 ax 參數把目標軸物件傳入 .plot()\n",
    "ax1 = plt.subplot2grid((2, 1), (0, 0))\n",
    "ax2 = plt.subplot2grid((2, 1), (1, 0))\n",
    "walk_df[walk_df.columns[0]].plot(ax = ax1)\n",
    "walk_df[walk_df.columns[1]].plot(ax = ax2)\n",
    "plt.show()"
   ]
  }
 ],
 "metadata": {
  "kernelspec": {
   "display_name": "Python 3",
   "language": "python",
   "name": "python3"
  },
  "language_info": {
   "codemirror_mode": {
    "name": "ipython",
    "version": 3
   },
   "file_extension": ".py",
   "mimetype": "text/x-python",
   "name": "python",
   "nbconvert_exporter": "python",
   "pygments_lexer": "ipython3",
   "version": "3.8.10"
  }
 },
 "nbformat": 4,
 "nbformat_minor": 5
}
