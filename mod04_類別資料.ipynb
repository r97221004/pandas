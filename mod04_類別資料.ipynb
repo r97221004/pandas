{
 "cells": [
  {
   "cell_type": "markdown",
   "id": "e5c904d5",
   "metadata": {},
   "source": [
    "#  <font color=red> Module_04_類別資料</font>"
   ]
  },
  {
   "cell_type": "markdown",
   "id": "af113d5b",
   "metadata": {},
   "source": [
    "## 分類的背景、動機、好處"
   ]
  },
  {
   "cell_type": "code",
   "execution_count": null,
   "id": "8a7da57f",
   "metadata": {},
   "outputs": [],
   "source": [
    "import pandas as pd\n",
    "import numpy as np\n",
    "\n",
    "values = pd.Series(['apple', 'orange', 'apple', 'apple']*2)\n",
    "values"
   ]
  },
  {
   "cell_type": "code",
   "execution_count": null,
   "id": "de5501f3",
   "metadata": {},
   "outputs": [],
   "source": [
    "values.unique() # 也可用 pd.unique() 函式"
   ]
  },
  {
   "cell_type": "code",
   "execution_count": null,
   "id": "27df3e93",
   "metadata": {},
   "outputs": [],
   "source": [
    "values.value_counts() # 也可用 pd.value_counts() 函式"
   ]
  },
  {
   "cell_type": "markdown",
   "id": "19d5e70b",
   "metadata": {},
   "source": [
    "---"
   ]
  },
  {
   "cell_type": "raw",
   "id": "0e767ae8",
   "metadata": {},
   "source": [
    "# 但常見的儲存方式是存成數值，也就是他的編碼\n",
    "# 再用維度表來還原\n",
    "# 有利於接下來的統計分析"
   ]
  },
  {
   "cell_type": "code",
   "execution_count": null,
   "id": "e1b14780",
   "metadata": {},
   "outputs": [],
   "source": [
    "values = pd.Series([0, 1, 0, 0]*2)\n",
    "values"
   ]
  },
  {
   "cell_type": "code",
   "execution_count": null,
   "id": "132a6951",
   "metadata": {},
   "outputs": [],
   "source": [
    "# 維度表 (dimension table)\n",
    "# 維度表讓我們知道 0 對應到 apple，1 對應到 orange\n",
    "dim = pd.Series(['apple', 'orange']) \n",
    "dim"
   ]
  },
  {
   "cell_type": "code",
   "execution_count": null,
   "id": "3c54a581",
   "metadata": {},
   "outputs": [],
   "source": [
    "# 用 .take() 方法還原\n",
    "dim.take(values)"
   ]
  },
  {
   "cell_type": "markdown",
   "id": "e080e9ac",
   "metadata": {},
   "source": [
    "---"
   ]
  },
  {
   "cell_type": "code",
   "execution_count": null,
   "id": "f05764ce",
   "metadata": {},
   "outputs": [],
   "source": [
    "N = 10000000"
   ]
  },
  {
   "cell_type": "code",
   "execution_count": null,
   "id": "60fe2df6",
   "metadata": {},
   "outputs": [],
   "source": [
    "labels = pd.Series(['foo', 'bar', 'baz', 'qux']*(N//4))\n",
    "labels"
   ]
  },
  {
   "cell_type": "code",
   "execution_count": null,
   "id": "0eb6ac57",
   "metadata": {},
   "outputs": [],
   "source": [
    "categories = labels.astype('category')\n",
    "categories"
   ]
  },
  {
   "cell_type": "code",
   "execution_count": null,
   "id": "6b6057db",
   "metadata": {},
   "outputs": [],
   "source": [
    "labels.memory_usage()"
   ]
  },
  {
   "cell_type": "code",
   "execution_count": null,
   "id": "9c2b1b53",
   "metadata": {},
   "outputs": [],
   "source": [
    "categories.memory_usage() # 分類過後的序列對記憶體的消耗低很多"
   ]
  },
  {
   "cell_type": "code",
   "execution_count": null,
   "id": "0ffd2e0a",
   "metadata": {},
   "outputs": [],
   "source": [
    "%timeit _ = labels.astype('category') # 但分類的成本是時間成本"
   ]
  },
  {
   "cell_type": "markdown",
   "id": "51c2d50b",
   "metadata": {},
   "source": [
    "## 建立類別物件"
   ]
  },
  {
   "cell_type": "code",
   "execution_count": null,
   "id": "11ff477f",
   "metadata": {},
   "outputs": [],
   "source": [
    "# 類別物件是用來表示類別變數\n",
    "lmh_values = ['low', 'high', 'medium', 'medium', 'high']\n",
    "lmh_cat = pd.Categorical(lmh_values)\n",
    "lmh_cat "
   ]
  },
  {
   "cell_type": "code",
   "execution_count": null,
   "id": "9a5b4d01",
   "metadata": {},
   "outputs": [],
   "source": [
    "# 類別物件\n",
    "type(lmh_cat)"
   ]
  },
  {
   "cell_type": "code",
   "execution_count": null,
   "id": "59adfd4b",
   "metadata": {},
   "outputs": [],
   "source": [
    "lmh_cat.categories # 可用屬性 .categories 來檢視有哪些類別"
   ]
  },
  {
   "cell_type": "code",
   "execution_count": null,
   "id": "c26043b2",
   "metadata": {},
   "outputs": [],
   "source": [
    "# 類別的順序可能不是妳要的\n",
    "lmh_cat.codes"
   ]
  },
  {
   "cell_type": "markdown",
   "id": "8b9e811f",
   "metadata": {},
   "source": [
    "---"
   ]
  },
  {
   "cell_type": "code",
   "execution_count": null,
   "id": "3fd60652",
   "metadata": {},
   "outputs": [],
   "source": [
    "# 用 categories 參數決定妳要的順序\n",
    "# 還可以用 ordered 參數來決定大小\n",
    "lmh_cat = pd.Categorical(lmh_values, categories = ['low', 'medium', 'high'] ) \n",
    "lmh_cat"
   ]
  },
  {
   "cell_type": "code",
   "execution_count": null,
   "id": "e2cfa7b4",
   "metadata": {},
   "outputs": [],
   "source": [
    "lmh_cat.codes"
   ]
  },
  {
   "cell_type": "markdown",
   "id": "84caca18",
   "metadata": {},
   "source": [
    "---"
   ]
  },
  {
   "cell_type": "code",
   "execution_count": null,
   "id": "6e95ceb3",
   "metadata": {},
   "outputs": [],
   "source": [
    "# 類別資料的方法，會依照編碼來排序\n",
    "# 如果是存成字串，使用 .sort_values() 方法會是用第一個字元來排序\n",
    "lmh_cat.sort_values()"
   ]
  },
  {
   "cell_type": "code",
   "execution_count": null,
   "id": "3e49ab28",
   "metadata": {},
   "outputs": [],
   "source": [
    "# 要設定 ordered 才能使用 max()、min() 等方法\n",
    "# 此時類別有順序關係\n",
    "lmh_cat = lmh_cat.as_ordered() \n",
    "lmh_cat"
   ]
  },
  {
   "cell_type": "code",
   "execution_count": null,
   "id": "58c1d4a0",
   "metadata": {},
   "outputs": [],
   "source": [
    "lmh_cat.min()"
   ]
  },
  {
   "cell_type": "code",
   "execution_count": null,
   "id": "133ce8f8",
   "metadata": {},
   "outputs": [],
   "source": [
    "lmh_cat.max()"
   ]
  },
  {
   "cell_type": "markdown",
   "id": "be582e95",
   "metadata": {},
   "source": [
    "---"
   ]
  },
  {
   "cell_type": "code",
   "execution_count": null,
   "id": "46ff008f",
   "metadata": {},
   "outputs": [],
   "source": [
    "lmh_values"
   ]
  },
  {
   "cell_type": "code",
   "execution_count": null,
   "id": "c669de06",
   "metadata": {},
   "outputs": [],
   "source": [
    "s = pd.Series(lmh_values)\n",
    "s"
   ]
  },
  {
   "cell_type": "code",
   "execution_count": null,
   "id": "62931def",
   "metadata": {},
   "outputs": [],
   "source": [
    "# 如果是存成字串，使用 .sort_values() 方法會是用第一個字元來排序\n",
    "s.sort_values()"
   ]
  },
  {
   "cell_type": "markdown",
   "id": "f0db297f",
   "metadata": {},
   "source": [
    "---"
   ]
  },
  {
   "cell_type": "code",
   "execution_count": null,
   "id": "db7a1d69",
   "metadata": {},
   "outputs": [],
   "source": [
    "# 產生元素是類別資料的序列，也就是裡面的值是我們剛剛學的類別物件\n",
    "# 不用 dtype的話，也可以 lmh_values 就直接放類別物件\n",
    "cat_series = pd.Series(lmh_values, dtype = 'category') \n",
    "cat_series"
   ]
  },
  {
   "cell_type": "code",
   "execution_count": null,
   "id": "e4dd154e",
   "metadata": {},
   "outputs": [],
   "source": [
    "cat_series.values"
   ]
  },
  {
   "cell_type": "code",
   "execution_count": null,
   "id": "410508c1",
   "metadata": {},
   "outputs": [],
   "source": [
    "# 序列的換類別順序的方法\n",
    "cut_dtype = pd.CategoricalDtype(['low', 'medium', 'high'], ordered = True)\n",
    "cat_series = cat_series.astype(cut_dtype)\n",
    "cat_series    "
   ]
  },
  {
   "cell_type": "code",
   "execution_count": null,
   "id": "5245117a",
   "metadata": {},
   "outputs": [],
   "source": [
    "# 這才是我們想要的結果\n",
    "cat_series.sort_values()"
   ]
  },
  {
   "cell_type": "markdown",
   "id": "3360daf7",
   "metadata": {},
   "source": [
    "---"
   ]
  },
  {
   "cell_type": "code",
   "execution_count": null,
   "id": "330419a4",
   "metadata": {},
   "outputs": [],
   "source": [
    "# 再回到原來\n",
    "cat_series = pd.Series(lmh_values, dtype = 'category')\n",
    "cat_series"
   ]
  },
  {
   "cell_type": "code",
   "execution_count": null,
   "id": "02de2ee5",
   "metadata": {},
   "outputs": [],
   "source": [
    "# 注意這還是序列，只是裡面的資料是類別資料\n",
    "# 所以沒辦法直接用類別物件的方法與屬性\n",
    "# 解決方法是用序列的 .cat 屬性\n",
    "cat_series"
   ]
  },
  {
   "cell_type": "code",
   "execution_count": null,
   "id": "e28f3cbd",
   "metadata": {},
   "outputs": [],
   "source": [
    "cat_series.cat # 此物件能讓我們讀取底層類別物件的各項屬性"
   ]
  },
  {
   "cell_type": "code",
   "execution_count": null,
   "id": "ab5cacad",
   "metadata": {},
   "outputs": [],
   "source": [
    "cat_series.cat.categories"
   ]
  },
  {
   "cell_type": "code",
   "execution_count": null,
   "id": "88edc0ae",
   "metadata": {},
   "outputs": [],
   "source": [
    "cat_series.cat.codes"
   ]
  },
  {
   "cell_type": "code",
   "execution_count": null,
   "id": "0fde5d1d",
   "metadata": {},
   "outputs": [],
   "source": [
    "# 序列的另一種換類別順序的方法\n",
    "# 利用類別物件的 .set_categories() 方法\n",
    "cat_series = cat_series.cat.set_categories(['low', 'medium', 'high'])\n",
    "cat_series"
   ]
  },
  {
   "cell_type": "code",
   "execution_count": null,
   "id": "22403d82",
   "metadata": {},
   "outputs": [],
   "source": [
    "cat_series.cat.codes"
   ]
  },
  {
   "cell_type": "code",
   "execution_count": null,
   "id": "4ad89978",
   "metadata": {},
   "outputs": [],
   "source": [
    "cat_series.cat.as_ordered()"
   ]
  },
  {
   "cell_type": "markdown",
   "id": "2f9cb7d5",
   "metadata": {},
   "source": [
    "---"
   ]
  },
  {
   "cell_type": "code",
   "execution_count": null,
   "id": "56fda786",
   "metadata": {},
   "outputs": [],
   "source": [
    "np.random.seed(123456)\n",
    "values = np.random.randint(0, 100, 5)\n",
    "bins = pd.DataFrame({'Value': values})\n",
    "bins"
   ]
  },
  {
   "cell_type": "code",
   "execution_count": null,
   "id": "9f2533f6",
   "metadata": {},
   "outputs": [],
   "source": [
    "bins['Group'] = pd.cut(bins['Value'].values, bins = range(0, 110, 10)) # pd.cut() 函式會回傳類別物件\n",
    "bins"
   ]
  },
  {
   "cell_type": "code",
   "execution_count": null,
   "id": "ff0475c3",
   "metadata": {},
   "outputs": [],
   "source": [
    "# 注意它分成 10 個桶子 \n",
    "bins.Group"
   ]
  },
  {
   "cell_type": "code",
   "execution_count": null,
   "id": "4752c537",
   "metadata": {},
   "outputs": [],
   "source": [
    "# 注意類別資料就算 0 次也會顯示\n",
    "bins.Group.value_counts()"
   ]
  },
  {
   "cell_type": "code",
   "execution_count": null,
   "id": "e44bc632",
   "metadata": {},
   "outputs": [],
   "source": [
    "bins.sort_values(by = 'Group', ascending = False)"
   ]
  },
  {
   "cell_type": "markdown",
   "id": "0c9c43c7",
   "metadata": {},
   "source": [
    "---"
   ]
  },
  {
   "cell_type": "code",
   "execution_count": null,
   "id": "94b00cdb",
   "metadata": {},
   "outputs": [],
   "source": [
    "# 建立有序的類別物件\n",
    "metal_values = ['bronze', 'gold', 'silver', 'bronze']\n",
    "metal_categories = ['bronze', 'silver', 'gold']\n",
    "metals = pd.Categorical(metal_values, \n",
    "                        categories = metal_categories, \n",
    "                        ordered = True) \n",
    "metals"
   ]
  },
  {
   "cell_type": "code",
   "execution_count": null,
   "id": "276e113a",
   "metadata": {},
   "outputs": [],
   "source": [
    "# 再建一個跟剛剛的類別物件裡面的值顛倒的\n",
    "metals_reversed_values = pd.Categorical(metals[::-1],\n",
    "                         categories = metal_categories,\n",
    "                         ordered = True)\n",
    "metals_reversed_values"
   ]
  },
  {
   "cell_type": "code",
   "execution_count": null,
   "id": "0d5eebbe",
   "metadata": {},
   "outputs": [],
   "source": [
    "# 有序的物件讓不同的類別物件可以比較\n",
    "# 他們是在比編碼大小\n",
    "metals < metals_reversed_values "
   ]
  },
  {
   "cell_type": "code",
   "execution_count": null,
   "id": "32b3010b",
   "metadata": {},
   "outputs": [],
   "source": [
    "metals.codes"
   ]
  },
  {
   "cell_type": "code",
   "execution_count": null,
   "id": "b0a5761d",
   "metadata": {},
   "outputs": [],
   "source": [
    "metals_reversed_values.codes"
   ]
  },
  {
   "cell_type": "markdown",
   "id": "85d418fc",
   "metadata": {},
   "source": [
    "---"
   ]
  },
  {
   "cell_type": "code",
   "execution_count": null,
   "id": "6428e2a3",
   "metadata": {},
   "outputs": [],
   "source": [
    "metal_categories"
   ]
  },
  {
   "cell_type": "code",
   "execution_count": null,
   "id": "6b84c745",
   "metadata": {},
   "outputs": [],
   "source": [
    "pd.Categorical(['bronze', 'copper'], categories = metal_categories) # 這個技巧可以在建立類別物件時，過濾掉不適當的類別值"
   ]
  },
  {
   "cell_type": "markdown",
   "id": "2f220076",
   "metadata": {},
   "source": [
    "---"
   ]
  },
  {
   "cell_type": "code",
   "execution_count": null,
   "id": "bb9f5a28",
   "metadata": {},
   "outputs": [],
   "source": [
    "categories = ['foo', 'bar', 'baz']\n",
    "codes = [0, 1, 2, 0, 0, 1]"
   ]
  },
  {
   "cell_type": "code",
   "execution_count": null,
   "id": "181a4631",
   "metadata": {},
   "outputs": [],
   "source": [
    "my_cat = pd.Categorical.from_codes(codes = codes, categories = categories)\n",
    "my_cat"
   ]
  },
  {
   "cell_type": "code",
   "execution_count": null,
   "id": "32cf6be7",
   "metadata": {},
   "outputs": [],
   "source": [
    "# 忘記上面的方法用個 List comprehension 就來輕鬆復原，再用 pd.Categorical() 函式來建立類別物件\n",
    "tmp = [categories[i] for i in codes]\n",
    "tmp"
   ]
  },
  {
   "cell_type": "code",
   "execution_count": null,
   "id": "2914cfd8",
   "metadata": {},
   "outputs": [],
   "source": [
    "pd.Categorical(tmp, categories = categories)"
   ]
  },
  {
   "cell_type": "markdown",
   "id": "0ca96b86",
   "metadata": {},
   "source": [
    "## 重新命名類別"
   ]
  },
  {
   "cell_type": "code",
   "execution_count": null,
   "id": "6f7ac8c9",
   "metadata": {},
   "outputs": [],
   "source": [
    "cat = pd.Categorical(['a', 'b', 'c', 'a'],\n",
    "                   categories = ['a', 'b', 'c'])\n",
    "cat"
   ]
  },
  {
   "cell_type": "code",
   "execution_count": null,
   "id": "89bf19fa",
   "metadata": {},
   "outputs": [],
   "source": [
    "cat.categories = ['bronze', 'silver', 'gold'] # in-place\n",
    "cat"
   ]
  },
  {
   "cell_type": "code",
   "execution_count": null,
   "id": "25f24cd3",
   "metadata": {},
   "outputs": [],
   "source": [
    "cat.rename_categories(['x', 'y', 'z']) # not in-place"
   ]
  },
  {
   "cell_type": "code",
   "execution_count": null,
   "id": "5e70e85e",
   "metadata": {},
   "outputs": [],
   "source": [
    "cat"
   ]
  },
  {
   "cell_type": "markdown",
   "id": "b42a638c",
   "metadata": {},
   "source": [
    "## 附加新類別"
   ]
  },
  {
   "cell_type": "code",
   "execution_count": null,
   "id": "6b5240aa",
   "metadata": {},
   "outputs": [],
   "source": [
    "# 建立有序的類別物件\n",
    "metal_values = ['bronze', 'gold', 'silver', 'bronze']\n",
    "metal_categories = ['bronze', 'silver', 'gold']\n",
    "metals = pd.Categorical(metal_values, \n",
    "                        categories = metal_categories, \n",
    "                        ordered = True) \n",
    "metals"
   ]
  },
  {
   "cell_type": "code",
   "execution_count": null,
   "id": "20d7a793",
   "metadata": {},
   "outputs": [],
   "source": [
    "with_platinum = metals.add_categories(['platinum'])\n",
    "with_platinum"
   ]
  },
  {
   "cell_type": "markdown",
   "id": "76bdc4bf",
   "metadata": {},
   "source": [
    "## 移除類別"
   ]
  },
  {
   "cell_type": "code",
   "execution_count": null,
   "id": "c8fba564",
   "metadata": {},
   "outputs": [],
   "source": [
    "no_bronze = metals.remove_categories(['bronze'])\n",
    "no_bronze"
   ]
  },
  {
   "cell_type": "markdown",
   "id": "9415067b",
   "metadata": {},
   "source": [
    "## 移除未使用的類別"
   ]
  },
  {
   "cell_type": "code",
   "execution_count": null,
   "id": "7cae694e",
   "metadata": {},
   "outputs": [],
   "source": [
    "with_platinum"
   ]
  },
  {
   "cell_type": "code",
   "execution_count": null,
   "id": "bcf0c5cf",
   "metadata": {},
   "outputs": [],
   "source": [
    "with_platinum.remove_unused_categories()"
   ]
  },
  {
   "cell_type": "markdown",
   "id": "a1111884",
   "metadata": {},
   "source": [
    "## 設定類別"
   ]
  },
  {
   "cell_type": "code",
   "execution_count": null,
   "id": "3eace3c0",
   "metadata": {},
   "outputs": [],
   "source": [
    "s = pd.Series(['one', 'two', 'four', 'five'], dtype = 'category')\n",
    "s"
   ]
  },
  {
   "cell_type": "code",
   "execution_count": null,
   "id": "f84d23be",
   "metadata": {},
   "outputs": [],
   "source": [
    "s = s.cat.set_categories(['one', 'four'])\n",
    "s"
   ]
  },
  {
   "cell_type": "markdown",
   "id": "34cff0f7",
   "metadata": {},
   "source": [
    "## 類別物件的敘述性資訊"
   ]
  },
  {
   "cell_type": "code",
   "execution_count": null,
   "id": "0e7db85f",
   "metadata": {},
   "outputs": [],
   "source": [
    "metals"
   ]
  },
  {
   "cell_type": "code",
   "execution_count": null,
   "id": "c2f946c1",
   "metadata": {},
   "outputs": [],
   "source": [
    "metals.describe() # 類別物件的敘述性資訊"
   ]
  },
  {
   "cell_type": "code",
   "execution_count": null,
   "id": "ba507603",
   "metadata": {},
   "outputs": [],
   "source": [
    "# 若是有 0 的桶子也會被顯示\n",
    "metals.value_counts()"
   ]
  },
  {
   "cell_type": "code",
   "execution_count": null,
   "id": "a35e6888",
   "metadata": {},
   "outputs": [],
   "source": [
    "metals.min()"
   ]
  },
  {
   "cell_type": "code",
   "execution_count": null,
   "id": "98569259",
   "metadata": {},
   "outputs": [],
   "source": [
    "metals.max()"
   ]
  },
  {
   "cell_type": "code",
   "execution_count": null,
   "id": "ac22529e",
   "metadata": {},
   "outputs": [],
   "source": [
    "metals.mode()"
   ]
  },
  {
   "cell_type": "markdown",
   "id": "bce6fbd4",
   "metadata": {},
   "source": [
    "## 學校成績轉換"
   ]
  },
  {
   "cell_type": "code",
   "execution_count": null,
   "id": "d0748330",
   "metadata": {},
   "outputs": [],
   "source": [
    "np.random.seed(123456)\n",
    "names = ['Ivana', 'Norris', 'Ruth', 'Lane', 'Skye', 'Sol', 'Dylan', 'Katina', 'Alissa', \"Marc\"]\n",
    "grades = np.random.randint(50, 101, len(names))\n",
    "scores = pd.DataFrame({'Name': names, 'Grade': grades})\n",
    "scores"
   ]
  },
  {
   "cell_type": "code",
   "execution_count": null,
   "id": "cab394fb",
   "metadata": {},
   "outputs": [],
   "source": [
    "score_bins = [ 0,  59,   62,  66,   69,   72,  76,   79,   82, 86,   89,   92,  99, 100]\n",
    "letter_grades = ['F', 'D-', 'D', 'D+', 'C-', 'C', 'C+', 'B-', 'B', 'B+', 'A-', 'A', 'A+']"
   ]
  },
  {
   "cell_type": "code",
   "execution_count": null,
   "id": "59b29d96",
   "metadata": {},
   "outputs": [],
   "source": [
    "letter_cats = pd.cut(scores.Grade, bins = score_bins, labels = letter_grades)\n",
    "scores['Letter'] = letter_cats\n",
    "scores"
   ]
  },
  {
   "cell_type": "code",
   "execution_count": null,
   "id": "6342339c",
   "metadata": {},
   "outputs": [],
   "source": [
    "scores.Letter"
   ]
  },
  {
   "cell_type": "code",
   "execution_count": null,
   "id": "19fb3b77",
   "metadata": {},
   "outputs": [],
   "source": [
    "# 這是序列的 .describe() 方法，跟類別物件的 .describe() 方法呈現的稍有不同\n",
    "scores.Letter.describe()"
   ]
  },
  {
   "cell_type": "code",
   "execution_count": null,
   "id": "07230c73",
   "metadata": {},
   "outputs": [],
   "source": [
    "# 沒出現的類別也會顯示，顯示 0\n",
    "scores.Letter.value_counts()"
   ]
  },
  {
   "cell_type": "code",
   "execution_count": null,
   "id": "66340737",
   "metadata": {},
   "outputs": [],
   "source": [
    "scores.sort_values(by = ['Letter'], ascending = False )"
   ]
  },
  {
   "cell_type": "markdown",
   "id": "4633da5b",
   "metadata": {},
   "source": [
    "## 綜合應用"
   ]
  },
  {
   "cell_type": "code",
   "execution_count": null,
   "id": "ffa2fe89",
   "metadata": {},
   "outputs": [],
   "source": [
    "fruits = ['apple', 'orange', 'apple', 'apple']*2\n",
    "N = len(fruits)\n",
    "df = pd.DataFrame({'fruit': fruits,\n",
    "                   'basket_id': np.arange(N),\n",
    "                   'count': np.random.randint(3, 15, size = N),\n",
    "                   'weight': np.random.uniform(0, 4, size = N)},\n",
    "                   columns = ['basket_id', 'fruit', 'count', 'weight']) # 這裡的 columns 決定了順序\n",
    "df"
   ]
  },
  {
   "cell_type": "code",
   "execution_count": null,
   "id": "b49a09da",
   "metadata": {},
   "outputs": [],
   "source": [
    "fruit_cat = df['fruit'].astype('category')\n",
    "fruit_cat"
   ]
  },
  {
   "cell_type": "code",
   "execution_count": null,
   "id": "9408cb5f",
   "metadata": {},
   "outputs": [],
   "source": [
    "c = fruit_cat.values # 值不是 NumPy 陣列，而是 pandas.Categorial 實例\n",
    "type(c)"
   ]
  },
  {
   "cell_type": "code",
   "execution_count": null,
   "id": "00199979",
   "metadata": {},
   "outputs": [],
   "source": [
    "c.categories"
   ]
  },
  {
   "cell_type": "code",
   "execution_count": null,
   "id": "37a5f9b5",
   "metadata": {},
   "outputs": [],
   "source": [
    "c.codes"
   ]
  },
  {
   "cell_type": "code",
   "execution_count": null,
   "id": "1a9d8550",
   "metadata": {},
   "outputs": [],
   "source": [
    "# 看是哪個資料型態的 .take() 方法，來得知返回的資料型態\n",
    "c.categories.take(c.codes)"
   ]
  },
  {
   "cell_type": "markdown",
   "id": "a3335b53",
   "metadata": {},
   "source": [
    "---"
   ]
  },
  {
   "cell_type": "code",
   "execution_count": null,
   "id": "d000bf4f",
   "metadata": {},
   "outputs": [],
   "source": [
    "np.random.seed(12345)\n",
    "draws = np.random.randn(1000)\n",
    "draws[:5]"
   ]
  },
  {
   "cell_type": "code",
   "execution_count": null,
   "id": "810a4167",
   "metadata": {},
   "outputs": [],
   "source": [
    "bins = pd.qcut(draws, q = 4)\n",
    "bins"
   ]
  },
  {
   "cell_type": "code",
   "execution_count": null,
   "id": "250b5c8a",
   "metadata": {},
   "outputs": [],
   "source": [
    "bins.describe()"
   ]
  },
  {
   "cell_type": "code",
   "execution_count": null,
   "id": "e1a0b62c",
   "metadata": {},
   "outputs": [],
   "source": [
    "bins = pd.qcut(draws, 4, labels = ['Q1', 'Q2', 'Q3', 'Q4'])\n",
    "bins"
   ]
  },
  {
   "cell_type": "code",
   "execution_count": null,
   "id": "195f552b",
   "metadata": {},
   "outputs": [],
   "source": [
    "bins.describe()"
   ]
  },
  {
   "cell_type": "code",
   "execution_count": null,
   "id": "24151419",
   "metadata": {},
   "outputs": [],
   "source": [
    "bins.codes[:10]"
   ]
  },
  {
   "cell_type": "code",
   "execution_count": null,
   "id": "62c1d3b6",
   "metadata": {},
   "outputs": [],
   "source": [
    "bins = pd.Series(bins, name = 'quantile')\n",
    "bins"
   ]
  },
  {
   "cell_type": "code",
   "execution_count": null,
   "id": "b09793fd",
   "metadata": {},
   "outputs": [],
   "source": [
    "pd.Series(draws)"
   ]
  },
  {
   "cell_type": "code",
   "execution_count": null,
   "id": "9f02451d",
   "metadata": {},
   "outputs": [],
   "source": [
    "results = pd.Series(draws).groupby(bins).agg(['count', 'min', 'max'])\n",
    "results"
   ]
  },
  {
   "cell_type": "code",
   "execution_count": null,
   "id": "475a3295",
   "metadata": {},
   "outputs": [],
   "source": [
    "results = results.reset_index()\n",
    "results"
   ]
  },
  {
   "cell_type": "code",
   "execution_count": null,
   "id": "30acd4bd",
   "metadata": {},
   "outputs": [],
   "source": [
    "results['quantile']"
   ]
  },
  {
   "cell_type": "markdown",
   "id": "3b7592ea",
   "metadata": {},
   "source": [
    "---"
   ]
  },
  {
   "cell_type": "code",
   "execution_count": null,
   "id": "8c714da1",
   "metadata": {},
   "outputs": [],
   "source": [
    "s_cat = pd.Series(['a', 'b', 'c', 'd']*2, dtype = 'category')\n",
    "s_cat"
   ]
  },
  {
   "cell_type": "code",
   "execution_count": null,
   "id": "a2c3bb01",
   "metadata": {},
   "outputs": [],
   "source": [
    "s_cat.cat.codes"
   ]
  },
  {
   "cell_type": "code",
   "execution_count": null,
   "id": "2f9dd177",
   "metadata": {},
   "outputs": [],
   "source": [
    "# 為建模而建立 dummy 變數\n",
    "# one-hot 編碼\n",
    "# 可以跟 s_cat.cat.codes 做比較\n",
    "pd.get_dummies(s_cat) "
   ]
  }
 ],
 "metadata": {
  "kernelspec": {
   "display_name": "Python 3",
   "language": "python",
   "name": "python3"
  },
  "language_info": {
   "codemirror_mode": {
    "name": "ipython",
    "version": 3
   },
   "file_extension": ".py",
   "mimetype": "text/x-python",
   "name": "python",
   "nbconvert_exporter": "python",
   "pygments_lexer": "ipython3",
   "version": "3.8.10"
  }
 },
 "nbformat": 4,
 "nbformat_minor": 5
}
