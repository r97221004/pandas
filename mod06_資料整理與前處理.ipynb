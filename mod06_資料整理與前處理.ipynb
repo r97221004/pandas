{
 "cells": [
  {
   "cell_type": "markdown",
   "id": "a54b3d62",
   "metadata": {},
   "source": [
    "#  <font color=red> Module_06_資料整理與前處理</font>"
   ]
  },
  {
   "cell_type": "markdown",
   "id": "26848082",
   "metadata": {},
   "source": [
    "## 如何處理資料遺漏"
   ]
  },
  {
   "cell_type": "markdown",
   "id": "8c161848",
   "metadata": {},
   "source": [
    "### 先建立一個有遺漏值的資料框"
   ]
  },
  {
   "cell_type": "code",
   "execution_count": null,
   "id": "8e7d389f",
   "metadata": {},
   "outputs": [],
   "source": [
    "import pandas as pd\n",
    "import numpy as np\n",
    "from datetime import datetime\n",
    "import re\n",
    "\n",
    "df = pd.DataFrame(np.arange(0, 15).reshape(5, 3),\n",
    "                 index = ['a', 'b', 'c', 'd', 'e'],\n",
    "                 columns = ['c1', 'c2', 'c3'])\n",
    "df"
   ]
  },
  {
   "cell_type": "code",
   "execution_count": null,
   "id": "4ad1b6bd",
   "metadata": {},
   "outputs": [],
   "source": [
    "# pandas 使用了浮點數值 NaN (Not a Number) 來代表遺失資料，我們稱這個易於辨識的值為標記值\n",
    "df['c4'] = np.nan"
   ]
  },
  {
   "cell_type": "code",
   "execution_count": null,
   "id": "0a9fe550",
   "metadata": {},
   "outputs": [],
   "source": [
    "df.loc['f'] = np.arange(15, 19)"
   ]
  },
  {
   "cell_type": "code",
   "execution_count": null,
   "id": "d76a4a2d",
   "metadata": {},
   "outputs": [],
   "source": [
    "df"
   ]
  },
  {
   "cell_type": "code",
   "execution_count": null,
   "id": "77484988",
   "metadata": {},
   "outputs": [],
   "source": [
    "df.loc['a']['c4']"
   ]
  },
  {
   "cell_type": "code",
   "execution_count": null,
   "id": "89ac8dab",
   "metadata": {},
   "outputs": [],
   "source": [
    "type(df.loc['a']['c4'])"
   ]
  },
  {
   "cell_type": "markdown",
   "id": "7829203b",
   "metadata": {},
   "source": [
    "---"
   ]
  },
  {
   "cell_type": "code",
   "execution_count": null,
   "id": "373edc3a",
   "metadata": {},
   "outputs": [],
   "source": [
    "df.loc['g'] = np.nan\n",
    "df['c5'] = np.nan"
   ]
  },
  {
   "cell_type": "code",
   "execution_count": null,
   "id": "386c9954",
   "metadata": {},
   "outputs": [],
   "source": [
    "df"
   ]
  },
  {
   "cell_type": "code",
   "execution_count": null,
   "id": "31052570",
   "metadata": {},
   "outputs": [],
   "source": [
    "df['c4']['a'] = 20"
   ]
  },
  {
   "cell_type": "code",
   "execution_count": null,
   "id": "e2ae504b",
   "metadata": {},
   "outputs": [],
   "source": [
    "df"
   ]
  },
  {
   "cell_type": "markdown",
   "id": "3287fbef",
   "metadata": {},
   "source": [
    "### 判定 pandas 物件裡的 NaN 值"
   ]
  },
  {
   "cell_type": "code",
   "execution_count": null,
   "id": "b667efdb",
   "metadata": {},
   "outputs": [],
   "source": [
    "df"
   ]
  },
  {
   "cell_type": "code",
   "execution_count": null,
   "id": "878d8671",
   "metadata": {},
   "outputs": [],
   "source": [
    "# 返回還是資料框\n",
    "df.isnull()"
   ]
  },
  {
   "cell_type": "code",
   "execution_count": null,
   "id": "57dcb6f4",
   "metadata": {},
   "outputs": [],
   "source": [
    "# 注意在 python 中，NaN代表遺失值，它是 float 資料型態，重點是 np.nan != np.nan\n",
    "# 但是 None = None\n",
    "# 下面的方法會得到不是我們要的結果\n",
    "df == np.nan "
   ]
  },
  {
   "cell_type": "code",
   "execution_count": null,
   "id": "b990828c",
   "metadata": {},
   "outputs": [],
   "source": [
    "# 每個欄位有幾個遺失值\n",
    "df.isnull().sum()"
   ]
  },
  {
   "cell_type": "code",
   "execution_count": null,
   "id": "cd6bc2d1",
   "metadata": {},
   "outputs": [],
   "source": [
    "df.isnull().sum(axis = 1)"
   ]
  },
  {
   "cell_type": "code",
   "execution_count": null,
   "id": "36c0f576",
   "metadata": {},
   "outputs": [],
   "source": [
    "# 資料框內總共有幾個遺失值\n",
    "df.isnull().sum().sum() "
   ]
  },
  {
   "cell_type": "markdown",
   "id": "e1a44391",
   "metadata": {},
   "source": [
    "---"
   ]
  },
  {
   "cell_type": "code",
   "execution_count": null,
   "id": "624f7279",
   "metadata": {},
   "outputs": [],
   "source": [
    "# 資料框的 .count() 方法是計算非 NaN 的個數，預設 axis = 0\n",
    "df.count() "
   ]
  },
  {
   "cell_type": "code",
   "execution_count": null,
   "id": "c5a90353",
   "metadata": {},
   "outputs": [],
   "source": [
    "# 也可以得到資料框內總共有幾個遺失值\n",
    "(len(df) - df.count()).sum() "
   ]
  },
  {
   "cell_type": "markdown",
   "id": "9b6f92b1",
   "metadata": {},
   "source": [
    "---"
   ]
  },
  {
   "cell_type": "code",
   "execution_count": null,
   "id": "1af246c3",
   "metadata": {},
   "outputs": [],
   "source": [
    "# 反過來問，還是返回資料框\n",
    "df.notnull() "
   ]
  },
  {
   "cell_type": "code",
   "execution_count": null,
   "id": "286d6ca2",
   "metadata": {},
   "outputs": [],
   "source": [
    "df.notnull().sum().sum()"
   ]
  },
  {
   "cell_type": "code",
   "execution_count": null,
   "id": "67fdda51",
   "metadata": {},
   "outputs": [],
   "source": [
    "df.size"
   ]
  },
  {
   "cell_type": "markdown",
   "id": "32e7a617",
   "metadata": {},
   "source": [
    "### 排除遺漏的資料項"
   ]
  },
  {
   "cell_type": "code",
   "execution_count": null,
   "id": "88de5cb5",
   "metadata": {},
   "outputs": [],
   "source": [
    "df"
   ]
  },
  {
   "cell_type": "code",
   "execution_count": null,
   "id": "ec8815b8",
   "metadata": {},
   "outputs": [],
   "source": [
    "# 看看 c4 行的非 NaN 的值\n",
    "# 布林選擇\n",
    "df.c4[df.c4.notnull()] "
   ]
  },
  {
   "cell_type": "code",
   "execution_count": null,
   "id": "6aa10a64",
   "metadata": {},
   "outputs": [],
   "source": [
    "# 使用序列的 .dropna() 得到同樣的效果\n",
    " # not in-place\n",
    "df.c4.dropna()"
   ]
  },
  {
   "cell_type": "code",
   "execution_count": null,
   "id": "2e06a4cf",
   "metadata": {},
   "outputs": [],
   "source": [
    "df.c4"
   ]
  },
  {
   "cell_type": "code",
   "execution_count": null,
   "id": "aaf124ac",
   "metadata": {},
   "outputs": [],
   "source": [
    "# 資料框的 .dropna() 方法\n",
    "# 預設 axis = 0 and how = 'any'，也就是只要有出 NaN 就把那一列刪了 # not in-place\n",
    "df.dropna() "
   ]
  },
  {
   "cell_type": "code",
   "execution_count": null,
   "id": "495fd210",
   "metadata": {},
   "outputs": [],
   "source": [
    "# 要整列都是 NaN 才會刪掉\n",
    "df.dropna(how = 'all')"
   ]
  },
  {
   "cell_type": "code",
   "execution_count": null,
   "id": "47c0f7a8",
   "metadata": {},
   "outputs": [],
   "source": [
    "# 先把整列都是 NaN 的列刪了，再把欄只要有  NaN 的也都刪了!\n",
    "df.dropna(how = 'all').dropna(axis = 1, how = 'any')"
   ]
  },
  {
   "cell_type": "code",
   "execution_count": null,
   "id": "dbb582a5",
   "metadata": {},
   "outputs": [],
   "source": [
    "df"
   ]
  },
  {
   "cell_type": "code",
   "execution_count": null,
   "id": "914a673f",
   "metadata": {},
   "outputs": [],
   "source": [
    "df.dropna(axis = 1, how = 'all')"
   ]
  },
  {
   "cell_type": "markdown",
   "id": "306afb5c",
   "metadata": {},
   "source": [
    "---"
   ]
  },
  {
   "cell_type": "code",
   "execution_count": null,
   "id": "132af95a",
   "metadata": {},
   "outputs": [],
   "source": [
    "df2 = df.copy()\n",
    "df2"
   ]
  },
  {
   "cell_type": "code",
   "execution_count": null,
   "id": "522d53d4",
   "metadata": {},
   "outputs": [],
   "source": [
    "df2.loc['g']['c1'] = 0\n",
    "df2.loc['g']['c3'] = 0"
   ]
  },
  {
   "cell_type": "code",
   "execution_count": null,
   "id": "2e1f9c3c",
   "metadata": {},
   "outputs": [],
   "source": [
    "df2"
   ]
  },
  {
   "cell_type": "code",
   "execution_count": null,
   "id": "4c4d14f0",
   "metadata": {},
   "outputs": [],
   "source": [
    "df2.dropna(axis = 1, how = 'any', inplace = True)"
   ]
  },
  {
   "cell_type": "code",
   "execution_count": null,
   "id": "5466f657",
   "metadata": {},
   "outputs": [],
   "source": [
    "df2"
   ]
  },
  {
   "cell_type": "markdown",
   "id": "e6c5853d",
   "metadata": {},
   "source": [
    "---"
   ]
  },
  {
   "cell_type": "code",
   "execution_count": null,
   "id": "503e8d0a",
   "metadata": {},
   "outputs": [],
   "source": [
    "df"
   ]
  },
  {
   "cell_type": "code",
   "execution_count": null,
   "id": "f83cf268",
   "metadata": {},
   "outputs": [],
   "source": [
    "# thresh 參數就是 threshold ，臨界點的意思\n",
    "# 至少三個值才不會被捨棄\n",
    "df.dropna(thresh = 3, axis = 1)"
   ]
  },
  {
   "cell_type": "markdown",
   "id": "ef655b0e",
   "metadata": {},
   "source": [
    "### 在數學運算中處理 NaN 值"
   ]
  },
  {
   "cell_type": "code",
   "execution_count": null,
   "id": "e61c747e",
   "metadata": {},
   "outputs": [],
   "source": [
    "a = np.array([1, 2, np.nan, 3])\n",
    "b = pd.Series(a)\n",
    "a"
   ]
  },
  {
   "cell_type": "code",
   "execution_count": null,
   "id": "97c8f747",
   "metadata": {},
   "outputs": [],
   "source": [
    "b"
   ]
  },
  {
   "cell_type": "code",
   "execution_count": null,
   "id": "2f7b2707",
   "metadata": {},
   "outputs": [],
   "source": [
    "a.mean() # Numpy 函式與方法遇到 NaN 通常會回傳 NaN"
   ]
  },
  {
   "cell_type": "code",
   "execution_count": null,
   "id": "2dadc6bb",
   "metadata": {},
   "outputs": [],
   "source": [
    "b.mean() # pandas 函式與方法通常會忽略 NaN # 所以答案是 (1+2+3)/3 = 2"
   ]
  },
  {
   "cell_type": "markdown",
   "id": "435c72b5",
   "metadata": {},
   "source": [
    "---"
   ]
  },
  {
   "cell_type": "code",
   "execution_count": null,
   "id": "20578306",
   "metadata": {},
   "outputs": [],
   "source": [
    "s = df.c4\n",
    "s"
   ]
  },
  {
   "cell_type": "code",
   "execution_count": null,
   "id": "416a9827",
   "metadata": {},
   "outputs": [],
   "source": [
    "s.sum()"
   ]
  },
  {
   "cell_type": "code",
   "execution_count": null,
   "id": "416eb20b",
   "metadata": {},
   "outputs": [],
   "source": [
    "s.mean()"
   ]
  },
  {
   "cell_type": "code",
   "execution_count": null,
   "id": "3f0a0b29",
   "metadata": {},
   "outputs": [],
   "source": [
    "# 就算是累積總和的方法 .cumsum() 也是會忽略遺失值\n",
    "s.cumsum()"
   ]
  },
  {
   "cell_type": "code",
   "execution_count": null,
   "id": "f9d23bce",
   "metadata": {},
   "outputs": [],
   "source": [
    "df.c4 + 1 # 但如果是傳統的數學運算子，NaN 會傳遞到最終的結果"
   ]
  },
  {
   "cell_type": "markdown",
   "id": "b93fdf68",
   "metadata": {},
   "source": [
    "### 填入遺漏的資料"
   ]
  },
  {
   "cell_type": "code",
   "execution_count": null,
   "id": "2bba1004",
   "metadata": {},
   "outputs": [],
   "source": [
    "df"
   ]
  },
  {
   "cell_type": "code",
   "execution_count": null,
   "id": "79014817",
   "metadata": {},
   "outputs": [],
   "source": [
    "# 只要是遺失值的都填入 0\n",
    "# not in-place\n",
    "filled = df.fillna(0) \n",
    "filled"
   ]
  },
  {
   "cell_type": "code",
   "execution_count": null,
   "id": "2c0d2faa",
   "metadata": {},
   "outputs": [],
   "source": [
    "df"
   ]
  },
  {
   "cell_type": "code",
   "execution_count": null,
   "id": "ce3d167a",
   "metadata": {},
   "outputs": [],
   "source": [
    "df.mean() "
   ]
  },
  {
   "cell_type": "code",
   "execution_count": null,
   "id": "f25cea78",
   "metadata": {},
   "outputs": [],
   "source": [
    "# 注意!! 填完遺失值的數學統計量跟未填入算出來會產生不同的結果\n",
    "# 遺失值如果沒有被填入，在操作 pandas 的方法時通常會被忽略\n",
    "filled.mean()"
   ]
  },
  {
   "cell_type": "markdown",
   "id": "7124a044",
   "metadata": {},
   "source": [
    "---"
   ]
  },
  {
   "cell_type": "code",
   "execution_count": null,
   "id": "5ebfad62",
   "metadata": {},
   "outputs": [],
   "source": [
    "df2 = df.copy()\n",
    "df2"
   ]
  },
  {
   "cell_type": "code",
   "execution_count": null,
   "id": "6c5c2f94",
   "metadata": {},
   "outputs": [],
   "source": [
    "# 可以給個字典，給出哪個欄位的遺失值要填入哪個值\n",
    "# not in-place\n",
    "df2.fillna({'c2': 0, 'c4': 100})"
   ]
  },
  {
   "cell_type": "code",
   "execution_count": null,
   "id": "78a69ea3",
   "metadata": {},
   "outputs": [],
   "source": [
    "df2"
   ]
  },
  {
   "cell_type": "code",
   "execution_count": null,
   "id": "dd26acb8",
   "metadata": {},
   "outputs": [],
   "source": [
    "df2.fillna({'c2': 0, 'c4': 100}, inplace = True)\n",
    "df2"
   ]
  },
  {
   "cell_type": "markdown",
   "id": "f3213344",
   "metadata": {},
   "source": [
    "### 以向前及向後方式填充遺漏值"
   ]
  },
  {
   "cell_type": "code",
   "execution_count": null,
   "id": "d563931a",
   "metadata": {},
   "outputs": [],
   "source": [
    "df.c4"
   ]
  },
  {
   "cell_type": "code",
   "execution_count": null,
   "id": "fe50e893",
   "metadata": {},
   "outputs": [],
   "source": [
    "# 在處理時間序列時常用的方法\n",
    "df.c4.fillna(method = 'ffill') "
   ]
  },
  {
   "cell_type": "code",
   "execution_count": null,
   "id": "72becd15",
   "metadata": {},
   "outputs": [],
   "source": [
    " # 也有 pd.ffill() 與 pd.bfill() 全域函式可以使用\n",
    "df.c4.fillna(method = 'bfill')"
   ]
  },
  {
   "cell_type": "markdown",
   "id": "ecbc07cd",
   "metadata": {},
   "source": [
    "---"
   ]
  },
  {
   "cell_type": "code",
   "execution_count": null,
   "id": "8500ccbf",
   "metadata": {},
   "outputs": [],
   "source": [
    "df"
   ]
  },
  {
   "cell_type": "code",
   "execution_count": null,
   "id": "9f1c849b",
   "metadata": {},
   "outputs": [],
   "source": [
    "# 在資料框上也是類似的效果\n",
    "df.fillna(method = 'ffill')"
   ]
  },
  {
   "cell_type": "code",
   "execution_count": null,
   "id": "7dd3efb4",
   "metadata": {},
   "outputs": [],
   "source": [
    "# 參數 limit 可以限制最多填入幾次遺失值\n",
    "df.fillna(method = 'ffill', axis = 1, limit = 1)"
   ]
  },
  {
   "cell_type": "markdown",
   "id": "082ac766",
   "metadata": {},
   "source": [
    "### 利用索引標籤填值"
   ]
  },
  {
   "cell_type": "code",
   "execution_count": null,
   "id": "f8f44eb0",
   "metadata": {},
   "outputs": [],
   "source": [
    "df"
   ]
  },
  {
   "cell_type": "code",
   "execution_count": null,
   "id": "52a09e3f",
   "metadata": {},
   "outputs": [],
   "source": [
    "fill_valued = pd.Series([100, 101, 102], index = ['a', 'e', 'g'])\n",
    "fill_valued"
   ]
  },
  {
   "cell_type": "code",
   "execution_count": null,
   "id": "f3c326be",
   "metadata": {},
   "outputs": [],
   "source": [
    "df.c4"
   ]
  },
  {
   "cell_type": "code",
   "execution_count": null,
   "id": "d394a909",
   "metadata": {},
   "outputs": [],
   "source": [
    "# 只有 NaN 的項目才能被擴充取代，注意標籤 a 的值沒變\n",
    "# 裡面的 fill_valued 也可以是字典\n",
    "df.c4.fillna(fill_valued) "
   ]
  },
  {
   "cell_type": "markdown",
   "id": "1f3dba89",
   "metadata": {},
   "source": [
    "---"
   ]
  },
  {
   "cell_type": "code",
   "execution_count": null,
   "id": "88004b51",
   "metadata": {},
   "outputs": [],
   "source": [
    "df"
   ]
  },
  {
   "cell_type": "code",
   "execution_count": null,
   "id": "62c79e5f",
   "metadata": {},
   "outputs": [],
   "source": [
    "# 非常常見又方便的作法，每個欄位的遺失值都用那個欄位的平均值取代\n",
    "# 如果是資料框，序列對應都是在看欄位\n",
    "df.fillna(df.mean())"
   ]
  },
  {
   "cell_type": "markdown",
   "id": "643a3cc9",
   "metadata": {},
   "source": [
    "### 內插求出遺漏值"
   ]
  },
  {
   "cell_type": "code",
   "execution_count": null,
   "id": "50580aa1",
   "metadata": {},
   "outputs": [],
   "source": [
    "s = pd.Series([1, np.nan, np.nan, np.nan, 2])\n",
    "s"
   ]
  },
  {
   "cell_type": "code",
   "execution_count": null,
   "id": "4c95e200",
   "metadata": {},
   "outputs": [],
   "source": [
    "s.interpolate"
   ]
  },
  {
   "cell_type": "code",
   "execution_count": null,
   "id": "156fcd14",
   "metadata": {},
   "outputs": [],
   "source": [
    "# 預設是以位置做內插\n",
    "# 如果你的資料代表漸增的值，例如溫度，這方法比補 0 好多了\n",
    "# 位置從 0 到 4 走了 (4 - 0) = 4 個單位\n",
    "# 值從 1 變化到 2\n",
    "# 1 單位變化了 (2-1)/(4-0) = 0.25 個值\n",
    "s.interpolate()  "
   ]
  },
  {
   "cell_type": "markdown",
   "id": "ed729951",
   "metadata": {},
   "source": [
    "---"
   ]
  },
  {
   "cell_type": "code",
   "execution_count": null,
   "id": "f14d9f1f",
   "metadata": {},
   "outputs": [],
   "source": [
    "ts = pd.Series([1, np.nan, 2],\n",
    "              index = [datetime(2014, 1, 1), datetime(2014, 2, 1), datetime(2014, 4, 1)])\n",
    "ts"
   ]
  },
  {
   "cell_type": "code",
   "execution_count": null,
   "id": "a728ed02",
   "metadata": {},
   "outputs": [],
   "source": [
    "# 一單位變化了 (2 - 1)/(2 - 0) = 0.5 個值\n",
    "# 預設是看位置\n",
    "# 但如果考慮到日期索引，有更好的方式\n",
    "ts.interpolate() "
   ]
  },
  {
   "cell_type": "code",
   "execution_count": null,
   "id": "f1d2914a",
   "metadata": {},
   "outputs": [],
   "source": [
    "# 方法改成看時間\n",
    "# 所以一天變化了 (2 - 1)/(datetime(2014, 4, 1) - datetime(2014, 1, 1)) 個值\n",
    "# 再看 1/1 到 2/1 過了幾天!\n",
    "ts.interpolate(method = 'time') "
   ]
  },
  {
   "cell_type": "markdown",
   "id": "4c59cd39",
   "metadata": {},
   "source": [
    "---"
   ]
  },
  {
   "cell_type": "code",
   "execution_count": null,
   "id": "2845398a",
   "metadata": {},
   "outputs": [],
   "source": [
    "s = pd.Series([0, np.nan, 100], index = [0, 1, 10])\n",
    "s"
   ]
  },
  {
   "cell_type": "code",
   "execution_count": null,
   "id": "cab37db0",
   "metadata": {},
   "outputs": [],
   "source": [
    "# 預設是以位置做內插\n",
    "# 一單位變化了 (100 - 0)/(2 - 0) = 50 個值\n",
    "s.interpolate() "
   ]
  },
  {
   "cell_type": "code",
   "execution_count": null,
   "id": "9609aba6",
   "metadata": {},
   "outputs": [],
   "source": [
    "# 按照索引值做內插 \n",
    "# 所以一單位變化了 (100 - 0)/(10 - 0) = 10 個值\n",
    "s.interpolate(method = 'values') "
   ]
  },
  {
   "cell_type": "markdown",
   "id": "e26a6172",
   "metadata": {},
   "source": [
    "## 處理重複資料"
   ]
  },
  {
   "cell_type": "code",
   "execution_count": null,
   "id": "c3857432",
   "metadata": {},
   "outputs": [],
   "source": [
    "data = pd.DataFrame({'a': ['x']*3 + ['y']*4,\n",
    "                     'b': [1, 1, 2, 3, 3, 4, 4]})\n",
    "data"
   ]
  },
  {
   "cell_type": "code",
   "execution_count": null,
   "id": "8249ac21",
   "metadata": {},
   "outputs": [],
   "source": [
    "data.duplicated() # 由上往下看是否有重複列"
   ]
  },
  {
   "cell_type": "code",
   "execution_count": null,
   "id": "cefd4e20",
   "metadata": {},
   "outputs": [],
   "source": [
    "# 有 in-place 參數可供使用\n",
    "# 預設 keep = 'first'\n",
    "# 也可以用 data[~data.duplicated()]\n",
    "data.drop_duplicates()  "
   ]
  },
  {
   "cell_type": "code",
   "execution_count": null,
   "id": "08fc928b",
   "metadata": {},
   "outputs": [],
   "source": [
    "data.drop_duplicates(keep = 'last')"
   ]
  },
  {
   "cell_type": "markdown",
   "id": "528c3cef",
   "metadata": {},
   "source": [
    "---"
   ]
  },
  {
   "cell_type": "code",
   "execution_count": null,
   "id": "c8dcc7ca",
   "metadata": {},
   "outputs": [],
   "source": [
    "data['c'] = range(7)\n",
    "data"
   ]
  },
  {
   "cell_type": "code",
   "execution_count": null,
   "id": "fa973d4b",
   "metadata": {},
   "outputs": [],
   "source": [
    "data.duplicated()"
   ]
  },
  {
   "cell_type": "code",
   "execution_count": null,
   "id": "02da4a21",
   "metadata": {},
   "outputs": [],
   "source": [
    "data.drop_duplicates(['a', 'b']) # 只看 a 與 b 行來決定"
   ]
  },
  {
   "cell_type": "markdown",
   "id": "6ef1aafd",
   "metadata": {},
   "source": [
    "## 資料轉換"
   ]
  },
  {
   "cell_type": "markdown",
   "id": "3d4426cb",
   "metadata": {},
   "source": [
    "### 將資料映射成不同的值"
   ]
  },
  {
   "cell_type": "code",
   "execution_count": null,
   "id": "e0e0cf81",
   "metadata": {},
   "outputs": [],
   "source": [
    "x = pd.Series({'one': 1, 'two': 2, 'three': 3})\n",
    "x"
   ]
  },
  {
   "cell_type": "code",
   "execution_count": null,
   "id": "cd9ed9f2",
   "metadata": {},
   "outputs": [],
   "source": [
    "y = pd.Series({1: 'a', 2: 'b', 3: 'c'})\n",
    "y"
   ]
  },
  {
   "cell_type": "code",
   "execution_count": null,
   "id": "75891337",
   "metadata": {},
   "outputs": [],
   "source": [
    "# 順便想想 python 是如何操作 map() 函式\n",
    "# 在 mod02 我們有討論過 # series.map() 作用在值上，沒有資料框方法\n",
    "# 裡面放函數，然後作用在每個值上 # 如果放序列也是類似的\n",
    "x.map(y)"
   ]
  },
  {
   "cell_type": "markdown",
   "id": "5b90a33f",
   "metadata": {},
   "source": [
    "---"
   ]
  },
  {
   "cell_type": "code",
   "execution_count": null,
   "id": "9697491a",
   "metadata": {},
   "outputs": [],
   "source": [
    "x = pd.Series({'one': 1, 'two': 2, 'three':3}) \n",
    "y = pd.Series({1:'a', 2:'b'})\n",
    "x"
   ]
  },
  {
   "cell_type": "code",
   "execution_count": null,
   "id": "7671cf98",
   "metadata": {},
   "outputs": [],
   "source": [
    "y"
   ]
  },
  {
   "cell_type": "code",
   "execution_count": null,
   "id": "c9a118d2",
   "metadata": {},
   "outputs": [],
   "source": [
    "x.map(y) # 沒有對應關係會出現 NaN"
   ]
  },
  {
   "cell_type": "markdown",
   "id": "b5ae0b77",
   "metadata": {},
   "source": [
    "---"
   ]
  },
  {
   "cell_type": "code",
   "execution_count": null,
   "id": "383fd99e",
   "metadata": {},
   "outputs": [],
   "source": [
    "data = pd.DataFrame({'food': ['bacon', 'pulled pork', 'bacon',\n",
    "                              'Pastrami', 'corned beef', 'Bacon',\n",
    "                              'pastrami', 'honey ham', 'nova lox'],\n",
    "                     'ounces': [4, 3, 12, 6, 7.5, 8, 3, 5, 6]})\n",
    "data"
   ]
  },
  {
   "cell_type": "code",
   "execution_count": null,
   "id": "24fa2d35",
   "metadata": {},
   "outputs": [],
   "source": [
    "meat_to_animal = {\n",
    "  'bacon': 'pig',\n",
    "  'pulled pork': 'pig',\n",
    "  'pastrami': 'cow',\n",
    "  'corned beef': 'cow',\n",
    "  'honey ham': 'pig',\n",
    "  'nova lox': 'salmon'\n",
    "}\n",
    "meat_to_animal"
   ]
  },
  {
   "cell_type": "code",
   "execution_count": null,
   "id": "2b5b44a7",
   "metadata": {},
   "outputs": [],
   "source": [
    "# 利用 .str 屬性會拿到字串物件，再利用字串的 lower() 方法\n",
    "# 會一一對每個值操作 .lower() 方法\n",
    "lowercased = data['food'].str.lower()\n",
    "lowercased"
   ]
  },
  {
   "cell_type": "code",
   "execution_count": null,
   "id": "c0cd7415",
   "metadata": {},
   "outputs": [],
   "source": [
    "data['animal'] = lowercased.map(meat_to_animal)\n",
    "data"
   ]
  },
  {
   "cell_type": "code",
   "execution_count": null,
   "id": "de2865ee",
   "metadata": {},
   "outputs": [],
   "source": [
    "# 另一種寫法得到同樣結果 \n",
    "# 也可以用 .apply() 方法\n",
    "# df.apply() 方法作用在序列，series.apply() 方法作用在值上\n",
    "data['food'].map(lambda x: meat_to_animal[x.lower()])"
   ]
  },
  {
   "cell_type": "markdown",
   "id": "f27bbfdd",
   "metadata": {},
   "source": [
    "### 值的取代"
   ]
  },
  {
   "cell_type": "code",
   "execution_count": null,
   "id": "244ecc53",
   "metadata": {},
   "outputs": [],
   "source": [
    "s = pd.Series([0, 1, 2, 3, 2, 4], index = np.arange(2, 8))\n",
    "s"
   ]
  },
  {
   "cell_type": "code",
   "execution_count": null,
   "id": "98475483",
   "metadata": {},
   "outputs": [],
   "source": [
    "s.replace(2, 5) # 值是 2 的換成 5 # not in-place"
   ]
  },
  {
   "cell_type": "code",
   "execution_count": null,
   "id": "ff199274",
   "metadata": {},
   "outputs": [],
   "source": [
    "s"
   ]
  },
  {
   "cell_type": "markdown",
   "id": "8f919325",
   "metadata": {},
   "source": [
    "---"
   ]
  },
  {
   "cell_type": "code",
   "execution_count": null,
   "id": "343fb903",
   "metadata": {},
   "outputs": [],
   "source": [
    "s.replace([2, 3], np.nan) # 值是 2 或 3 的都換成遺失值"
   ]
  },
  {
   "cell_type": "code",
   "execution_count": null,
   "id": "19d6e4e0",
   "metadata": {},
   "outputs": [],
   "source": [
    "s.replace([3, 4, 0], [7, 8, 1]) # 值是 3 的換成 7，值是 4 的換成 8，值是 0 的換成 1"
   ]
  },
  {
   "cell_type": "code",
   "execution_count": null,
   "id": "175d604d",
   "metadata": {},
   "outputs": [],
   "source": [
    "# 也可用字典表達\n",
    "# 值 0 換成 100，值 3 換成 300\n",
    "s.replace({0: 100, 3: 300}) "
   ]
  },
  {
   "cell_type": "markdown",
   "id": "9301b722",
   "metadata": {},
   "source": [
    "---"
   ]
  },
  {
   "cell_type": "code",
   "execution_count": null,
   "id": "6ce61dc7",
   "metadata": {},
   "outputs": [],
   "source": [
    "ss = s.copy()\n",
    "ss[3] = np.nan\n",
    "ss"
   ]
  },
  {
   "cell_type": "code",
   "execution_count": null,
   "id": "f4894fa7",
   "metadata": {},
   "outputs": [],
   "source": [
    "ss.replace(np.nan, 0, inplace = True)"
   ]
  },
  {
   "cell_type": "code",
   "execution_count": null,
   "id": "bd922006",
   "metadata": {},
   "outputs": [],
   "source": [
    "ss"
   ]
  },
  {
   "cell_type": "markdown",
   "id": "b6932d3e",
   "metadata": {},
   "source": [
    "---"
   ]
  },
  {
   "cell_type": "code",
   "execution_count": null,
   "id": "f1592a1f",
   "metadata": {},
   "outputs": [],
   "source": [
    "df = pd.DataFrame({'a': [0, 1, 2, 3, 4], \n",
    "                   'b': [5, 6, 7, 1, 9]})\n",
    "df"
   ]
  },
  {
   "cell_type": "code",
   "execution_count": null,
   "id": "85635ab9",
   "metadata": {},
   "outputs": [],
   "source": [
    "# 資料框的 .replace() 方法，把值 1 的都換 10\n",
    "df.replace(1, 10)"
   ]
  },
  {
   "cell_type": "code",
   "execution_count": null,
   "id": "56576f17",
   "metadata": {},
   "outputs": [],
   "source": [
    "# 資料框的 .replace() 方法，把欄位 a 值是 1 跟欄位 b 值是 9 的都換 10\n",
    "df.replace({'a': 2, 'b': 9}, 10)"
   ]
  },
  {
   "cell_type": "markdown",
   "id": "9d19a6b3",
   "metadata": {},
   "source": [
    "---"
   ]
  },
  {
   "cell_type": "code",
   "execution_count": null,
   "id": "583c5526",
   "metadata": {},
   "outputs": [],
   "source": [
    "s"
   ]
  },
  {
   "cell_type": "code",
   "execution_count": null,
   "id": "53f6f43f",
   "metadata": {},
   "outputs": [],
   "source": [
    "# 值是 0 或 4 的，用 ffill 方法填入\n",
    "s.replace([0, 4], method = 'ffill')"
   ]
  },
  {
   "cell_type": "code",
   "execution_count": null,
   "id": "8a769ee0",
   "metadata": {},
   "outputs": [],
   "source": [
    "# 值是 0 或 4 的，用 bfill 方法填入\n",
    "s.replace([0, 4], method = 'bfill')"
   ]
  },
  {
   "cell_type": "markdown",
   "id": "dfe435a5",
   "metadata": {},
   "source": [
    "### 更名軸 index"
   ]
  },
  {
   "cell_type": "code",
   "execution_count": null,
   "id": "42298b99",
   "metadata": {},
   "outputs": [],
   "source": [
    "data = pd.DataFrame(np.arange(12).reshape((3, 4)),\n",
    "                    index = ['Ohio', 'Colorado', 'New York'],\n",
    "                    columns = ['one', 'two', 'three', 'four'])\n",
    "data2 = data.copy()\n",
    "data2"
   ]
  },
  {
   "cell_type": "code",
   "execution_count": null,
   "id": "3703f7a6",
   "metadata": {},
   "outputs": [],
   "source": [
    "data2.columns = ['col1', 'col2', 'col3', 'col4']\n",
    "data2.index = ['a', 'b', 'c']\n",
    "data2"
   ]
  },
  {
   "cell_type": "markdown",
   "id": "656d6852",
   "metadata": {},
   "source": [
    "---"
   ]
  },
  {
   "cell_type": "code",
   "execution_count": null,
   "id": "f8aeb4b4",
   "metadata": {},
   "outputs": [],
   "source": [
    "data"
   ]
  },
  {
   "cell_type": "code",
   "execution_count": null,
   "id": "6f572130",
   "metadata": {},
   "outputs": [],
   "source": [
    "transform = lambda x: x[:4].upper()"
   ]
  },
  {
   "cell_type": "code",
   "execution_count": null,
   "id": "d0c2833e",
   "metadata": {},
   "outputs": [],
   "source": [
    "data.index.map(transform)"
   ]
  },
  {
   "cell_type": "code",
   "execution_count": null,
   "id": "ff5c5243",
   "metadata": {},
   "outputs": [],
   "source": [
    "data.index = data.index.map(transform)"
   ]
  },
  {
   "cell_type": "code",
   "execution_count": null,
   "id": "78cde4fd",
   "metadata": {},
   "outputs": [],
   "source": [
    "data"
   ]
  },
  {
   "cell_type": "markdown",
   "id": "dbe4fbff",
   "metadata": {},
   "source": [
    "---"
   ]
  },
  {
   "cell_type": "code",
   "execution_count": null,
   "id": "810578f1",
   "metadata": {},
   "outputs": [],
   "source": [
    "data.rename(index = str.title, columns = str.upper) # index 與 columns 參數也可以接函式或方法"
   ]
  },
  {
   "cell_type": "code",
   "execution_count": null,
   "id": "d5df7fab",
   "metadata": {},
   "outputs": [],
   "source": [
    "# 用 .rename() 方法可以只單獨改某幾個索引標籤\n",
    "data.rename(index = {'OHIO': 'INDIANA'},\n",
    "            columns = {'three': 'peekaboo'}) # 參數可以接字典"
   ]
  },
  {
   "cell_type": "code",
   "execution_count": null,
   "id": "2860e1fe",
   "metadata": {},
   "outputs": [],
   "source": [
    "data"
   ]
  },
  {
   "cell_type": "code",
   "execution_count": null,
   "id": "d4ba0f39",
   "metadata": {},
   "outputs": [],
   "source": [
    "data.rename(index = {'OHIO': 'INDIANA'},\n",
    "            columns = {'three': 'peekaboo'}, inplace = True)\n",
    "data"
   ]
  },
  {
   "cell_type": "markdown",
   "id": "7ea7b9ce",
   "metadata": {},
   "source": [
    "### 離散化和分組"
   ]
  },
  {
   "cell_type": "code",
   "execution_count": null,
   "id": "8d87231f",
   "metadata": {},
   "outputs": [],
   "source": [
    "ages = [20, 22, 25, 27, 21, 23, 37, 31, 61, 45, 41, 32]\n",
    "ages"
   ]
  },
  {
   "cell_type": "code",
   "execution_count": null,
   "id": "15d76ac1",
   "metadata": {},
   "outputs": [],
   "source": [
    "bins = [18, 25, 35, 60, 100]\n",
    "cats = pd.cut(ages, bins)\n",
    "cats"
   ]
  },
  {
   "cell_type": "code",
   "execution_count": null,
   "id": "0d387715",
   "metadata": {},
   "outputs": [],
   "source": [
    "cats.categories"
   ]
  },
  {
   "cell_type": "code",
   "execution_count": null,
   "id": "16f81c1f",
   "metadata": {},
   "outputs": [],
   "source": [
    "cats.codes"
   ]
  },
  {
   "cell_type": "code",
   "execution_count": null,
   "id": "a19b9b55",
   "metadata": {},
   "outputs": [],
   "source": [
    "cats.value_counts()"
   ]
  },
  {
   "cell_type": "code",
   "execution_count": null,
   "id": "030f5de5",
   "metadata": {},
   "outputs": [],
   "source": [
    "cats.describe() "
   ]
  },
  {
   "cell_type": "markdown",
   "id": "ed6c29cc",
   "metadata": {},
   "source": [
    "---"
   ]
  },
  {
   "cell_type": "code",
   "execution_count": null,
   "id": "c54d8477",
   "metadata": {},
   "outputs": [],
   "source": [
    "ages = [20, 22, 25, 27, 21, 23, 37, 31, 61, 45, 41, 32]\n",
    "df = pd.DataFrame(ages, columns = ['age'] )\n",
    "df"
   ]
  },
  {
   "cell_type": "code",
   "execution_count": null,
   "id": "2dcc464f",
   "metadata": {},
   "outputs": [],
   "source": [
    "bins = [18, 25, 35, 60, 100]\n",
    "labels = ['Youth', 'YoungAdult', 'MiddleAged', 'Senior']\n",
    "pd.cut(df['age'], bins = bins, labels = labels )"
   ]
  },
  {
   "cell_type": "code",
   "execution_count": null,
   "id": "00b07abd",
   "metadata": {},
   "outputs": [],
   "source": [
    "df['age_cat'] = pd.cut(df['age'], bins = bins, labels = labels )\n",
    "df"
   ]
  },
  {
   "cell_type": "code",
   "execution_count": null,
   "id": "29a8d339",
   "metadata": {},
   "outputs": [],
   "source": [
    "df['age_cat'].describe()"
   ]
  },
  {
   "cell_type": "code",
   "execution_count": null,
   "id": "3ee49ed2",
   "metadata": {},
   "outputs": [],
   "source": [
    "df['age_cat'].value_counts()  # 更多內容請參考類別資料的章節"
   ]
  },
  {
   "cell_type": "code",
   "execution_count": null,
   "id": "41de8e90",
   "metadata": {},
   "outputs": [],
   "source": [
    "df.sort_values(by = \"age_cat\")"
   ]
  },
  {
   "cell_type": "markdown",
   "id": "f1acf5e0",
   "metadata": {},
   "source": [
    "### 偵測和濾除離群值"
   ]
  },
  {
   "cell_type": "raw",
   "id": "0f41aed3",
   "metadata": {},
   "source": [
    "# 離群值 (outliers) 是一筆資料中異常過大或異常過小的數據值\n",
    "# 離群值的發生通常是因為資料輸入時發生誤植、筆誤，也有可能是某個群體內的少數特例。在這樣的情況下，離群值的存在會破壞整個樣本\n",
    "# 的一致性，就像是壞了一鍋粥的那粒老鼠屎一樣，它會影響預測的準確性，導致分析後的結果難以解釋。"
   ]
  },
  {
   "cell_type": "raw",
   "id": "c4363d3d",
   "metadata": {},
   "source": [
    "# 如何檢測離群值?"
   ]
  },
  {
   "cell_type": "raw",
   "id": "208f1a29",
   "metadata": {},
   "source": [
    "# 3 倍標準差法: 如果資料集符合常態分布，那就可以用 3 倍標準差法，因為常態分布的資料落在 3 倍標準差的機率是 99.7% 左右，如果跑到\n",
    "# 3 倍標準差外的那些資料屬於小機率事件，這種資料可以歸為離群值。當然如果資料不符合常態分布，那你也可以自行設定遠離平均值外多少倍\n",
    "# 的標準差當作你認定的離群值。"
   ]
  },
  {
   "cell_type": "raw",
   "id": "17fa80bc",
   "metadata": {},
   "source": [
    "# Boxplots 法: 四分位距 (IQR) 就是上四分位與下四分位的差值。而我們通過 IQR 的 1.5 倍為標準，規定：超過上四分位 +1.5 倍 IQR 距離，或# 者下四分位 -1.5 倍 IQR 距離的點為離群值，後面章節會講解"
   ]
  },
  {
   "cell_type": "raw",
   "id": "1f3cad90",
   "metadata": {},
   "source": [
    "面對這些離群值，我們該怎麼處理?"
   ]
  },
  {
   "cell_type": "raw",
   "id": "9766e171",
   "metadata": {},
   "source": [
    "1.直接刪除: 確認過離群值對於資料集來說並無存在特殊意義，直接將該值刪除。\n",
    "2.視為遺失值: 將異常值視為遺失值，後續利用處理缺失值的方法進行。\n",
    "3.用平均值調整: 利用前後兩個資料點的平均值修正該異常值。或是用 3 個標準差的值取代\n",
    "4.不處理: 忽視異常值，直接對資料集進行後續分析。"
   ]
  },
  {
   "cell_type": "code",
   "execution_count": null,
   "id": "92a73d80",
   "metadata": {},
   "outputs": [],
   "source": [
    "np.random.seed(123456)\n",
    "data = pd.DataFrame(np.random.randn(1000, 4)) # 母體平均值是 0，標準差是 1\n",
    "data[:10]"
   ]
  },
  {
   "cell_type": "code",
   "execution_count": null,
   "id": "9a7fd508",
   "metadata": {},
   "outputs": [],
   "source": [
    "data.describe()"
   ]
  },
  {
   "cell_type": "code",
   "execution_count": null,
   "id": "baec39c7",
   "metadata": {},
   "outputs": [],
   "source": [
    "data_cp = data.copy()\n",
    "data_cp"
   ]
  },
  {
   "cell_type": "code",
   "execution_count": null,
   "id": "90ccbe62",
   "metadata": {},
   "outputs": [],
   "source": [
    "# 找出第二欄位減去平均值的絕對值大於 3 個標準差的就是離群值\n",
    "mask = np.abs(data_cp[2] - data_cp[2].mean()) > 3*data_cp[2].std() \n",
    "data_cp[2][mask]  "
   ]
  },
  {
   "cell_type": "code",
   "execution_count": null,
   "id": "cc925c81",
   "metadata": {},
   "outputs": [],
   "source": [
    "# 一種作法去除離群值\n",
    "data_cp[~mask]"
   ]
  },
  {
   "cell_type": "markdown",
   "id": "1fd5d22d",
   "metadata": {},
   "source": [
    "---"
   ]
  },
  {
   "cell_type": "code",
   "execution_count": null,
   "id": "ed045f2f",
   "metadata": {},
   "outputs": [],
   "source": [
    "data_cp"
   ]
  },
  {
   "cell_type": "code",
   "execution_count": null,
   "id": "d922b6a1",
   "metadata": {},
   "outputs": [],
   "source": [
    "# 找出那些列包含大於 3 個標準差的值\n",
    "# 一種做法是把這些有包含離群值的列都刪除\n",
    "for i in data_cp.columns:\n",
    "    mask = np.abs(data_cp[i] - data_cp[i].mean()) > 3*data_cp[i].std()\n",
    "    data_cp = data_cp[~mask]"
   ]
  },
  {
   "cell_type": "code",
   "execution_count": null,
   "id": "d278d302",
   "metadata": {},
   "outputs": [],
   "source": [
    "data_cp"
   ]
  },
  {
   "cell_type": "code",
   "execution_count": null,
   "id": "d76aad74",
   "metadata": {},
   "outputs": [],
   "source": [
    "# 我們把有包含超過 3 個標準差的值的列都刪掉了\n",
    "# 濾除離群值，通常利於之後的分析\n",
    "data_cp.describe()"
   ]
  },
  {
   "cell_type": "code",
   "execution_count": null,
   "id": "2f9d9a4f",
   "metadata": {},
   "outputs": [],
   "source": [
    "# 跟沒有刪除離群值的統計量比較一下\n",
    "# 刪除離群值的平均值跟標準差估的比較準一點\n",
    "data.describe()"
   ]
  },
  {
   "cell_type": "markdown",
   "id": "bcd44e34",
   "metadata": {},
   "source": [
    "### 排列與隨機取樣"
   ]
  },
  {
   "cell_type": "code",
   "execution_count": null,
   "id": "215d043f",
   "metadata": {},
   "outputs": [],
   "source": [
    "df = pd.DataFrame(np.arange(20).reshape(5, 4), index = list('abced'))\n",
    "df"
   ]
  },
  {
   "cell_type": "code",
   "execution_count": null,
   "id": "e48af778",
   "metadata": {},
   "outputs": [],
   "source": [
    "# 把 0, 1, 2, 3, 4 隨機排列，也就是洗牌的意思\n",
    "samper = np.random.permutation(len(df))\n",
    "samper"
   ]
  },
  {
   "cell_type": "code",
   "execution_count": null,
   "id": "a1ca0a07",
   "metadata": {},
   "outputs": [],
   "source": [
    "df.iloc[samper]"
   ]
  },
  {
   "cell_type": "code",
   "execution_count": null,
   "id": "a28b83b9",
   "metadata": {},
   "outputs": [],
   "source": [
    "# 跟上面一樣結果\n",
    "# 回憶一下之前學過的 series.take()\n",
    "# Return the elements in the given *positional* indices along an axis.\n",
    "df.take(samper)"
   ]
  },
  {
   "cell_type": "markdown",
   "id": "6ad251b7",
   "metadata": {},
   "source": [
    "---"
   ]
  },
  {
   "cell_type": "code",
   "execution_count": null,
   "id": "06fdab7e",
   "metadata": {},
   "outputs": [],
   "source": [
    "# 隨機選出三列，預設 replace = False，也就是取後不放回\n",
    "df.sample(n = 3)"
   ]
  },
  {
   "cell_type": "code",
   "execution_count": null,
   "id": "f6f028ba",
   "metadata": {},
   "outputs": [],
   "source": [
    "# 預設 replace = False，也就是取後不放回\n",
    "# 就跟剛剛用 permutation 的效果是一樣\n",
    "df.sample(n = len(df))"
   ]
  },
  {
   "cell_type": "code",
   "execution_count": null,
   "id": "e45d4dce",
   "metadata": {},
   "outputs": [],
   "source": [
    "# 取後放回\n",
    "# 可參考我們 mod03，之前有稍微提過 .sample() 方法，複習一下\n",
    "df.sample(n = 10, replace = True)"
   ]
  },
  {
   "cell_type": "markdown",
   "id": "79043030",
   "metadata": {},
   "source": [
    "### 指標 (indicator) 與虛擬變數 (dummy)"
   ]
  },
  {
   "cell_type": "code",
   "execution_count": null,
   "id": "4736aa22",
   "metadata": {},
   "outputs": [],
   "source": [
    "df = pd.DataFrame({'key': ['b', 'b', 'a', 'c', 'a', 'b'],\n",
    "                   'data1': range(6)})\n",
    "df"
   ]
  },
  {
   "cell_type": "code",
   "execution_count": null,
   "id": "68c0acaf",
   "metadata": {},
   "outputs": [],
   "source": [
    "df['key']"
   ]
  },
  {
   "cell_type": "code",
   "execution_count": null,
   "id": "e13cfc28",
   "metadata": {},
   "outputs": [],
   "source": [
    "dummies = pd.get_dummies(df['key'], prefix = 'key') # 在欄位加上前綴\n",
    "dummies"
   ]
  },
  {
   "cell_type": "code",
   "execution_count": null,
   "id": "a6c34537",
   "metadata": {},
   "outputs": [],
   "source": [
    "# 注意 df[['data1']] 的寫法，出來會是一個資料框\n",
    "# 因為只有資料框才有 .join() 方法，不然用 pd.concat() 函式也可以\n",
    "# 資料框的 .join() 方法之後有章節會教到\n",
    "df_with_dummy = df[['data1']].join(dummies) \n",
    "df_with_dummy"
   ]
  },
  {
   "cell_type": "code",
   "execution_count": null,
   "id": "7358629a",
   "metadata": {},
   "outputs": [],
   "source": [
    "pd.concat([df[['data1']], dummies], axis = 1)"
   ]
  },
  {
   "cell_type": "markdown",
   "id": "077a3814",
   "metadata": {},
   "source": [
    "---"
   ]
  },
  {
   "cell_type": "code",
   "execution_count": null,
   "id": "e187653c",
   "metadata": {},
   "outputs": [],
   "source": [
    "mnames = ['movie_id', 'title', 'genres']\n",
    "movies = pd.read_table('./mod06/movies.dat', sep='::',\n",
    "                       header = None, names = mnames, encoding = \"ISO-8859-1\", engine = 'python') # 注意編碼跟引擎\n",
    "movies"
   ]
  },
  {
   "cell_type": "code",
   "execution_count": null,
   "id": "f08787ea",
   "metadata": {
    "scrolled": true
   },
   "outputs": [],
   "source": [
    "# 也可以用 movies.geanres.str.split(\"|\")，再搭配迴圈\n",
    "all_genres = []\n",
    "for i in movies.genres:\n",
    "    all_genres.extend(i.split('|'))\n",
    "all_genres"
   ]
  },
  {
   "cell_type": "code",
   "execution_count": null,
   "id": "90e03026",
   "metadata": {},
   "outputs": [],
   "source": [
    "all_genres = []\n",
    "for i in movies.genres:\n",
    "    all_genres.extend(i.split('|'))\n",
    "all_genres"
   ]
  },
  {
   "cell_type": "code",
   "execution_count": null,
   "id": "15970df0",
   "metadata": {},
   "outputs": [],
   "source": [
    "# 用 pd.unique() 函式找出到底有哪些不重複的電影類型\n",
    "genres = pd.unique(all_genres)\n",
    "genres"
   ]
  },
  {
   "cell_type": "code",
   "execution_count": null,
   "id": "c184de88",
   "metadata": {},
   "outputs": [],
   "source": [
    "# 準備來建立虛擬變數\n",
    "zero_matrix = np.zeros((len(movies), len(genres)))\n",
    "dummies = pd.DataFrame(zero_matrix, columns = genres)\n",
    "dummies"
   ]
  },
  {
   "cell_type": "code",
   "execution_count": null,
   "id": "693f5f67",
   "metadata": {},
   "outputs": [],
   "source": [
    "gen = movies.genres[0].split('|')\n",
    "gen"
   ]
  },
  {
   "cell_type": "code",
   "execution_count": null,
   "id": "216a2754",
   "metadata": {},
   "outputs": [],
   "source": [
    "# index 物件有 .get_indexer() 方法，給索引標籤會返回位置\n",
    "dummies.columns.get_indexer(gen)"
   ]
  },
  {
   "cell_type": "code",
   "execution_count": null,
   "id": "adaa0071",
   "metadata": {},
   "outputs": [],
   "source": [
    "# 其實也可以不用轉成位置，直接用索引標籤操作\n",
    "for i, gen in enumerate(movies.genres):\n",
    "    indices =  dummies.columns.get_indexer(gen.split('|'))\n",
    "    dummies.iloc[i][indices] = 1"
   ]
  },
  {
   "cell_type": "code",
   "execution_count": null,
   "id": "4a169100",
   "metadata": {},
   "outputs": [],
   "source": [
    "dummies"
   ]
  },
  {
   "cell_type": "code",
   "execution_count": null,
   "id": "1bbe56f7",
   "metadata": {},
   "outputs": [],
   "source": [
    "# 也可以用 pd.concat([movies, dummies.add_prefix('Genre')], axis = 1)\n",
    "movies_windic = movies.join(dummies.add_prefix('Genre')) # 資料框有 add.prefix() 方法，幫你把欄位名加前綴字\n",
    "movies_windic"
   ]
  },
  {
   "cell_type": "code",
   "execution_count": null,
   "id": "db33bd11",
   "metadata": {},
   "outputs": [],
   "source": [
    "movies_windic.iloc[0]"
   ]
  },
  {
   "cell_type": "markdown",
   "id": "79f0aa91",
   "metadata": {},
   "source": [
    "---"
   ]
  },
  {
   "cell_type": "code",
   "execution_count": null,
   "id": "23311d04",
   "metadata": {},
   "outputs": [],
   "source": [
    "np.random.seed(12345)\n",
    "values = np.random.rand(10)\n",
    "values"
   ]
  },
  {
   "cell_type": "code",
   "execution_count": null,
   "id": "16d77b0e",
   "metadata": {},
   "outputs": [],
   "source": [
    "bins = [0, 0.2, 0.4, 0.6, 0.8, 1]"
   ]
  },
  {
   "cell_type": "code",
   "execution_count": null,
   "id": "b05b8564",
   "metadata": {},
   "outputs": [],
   "source": [
    "# 這是類別物件\n",
    "cat = pd.cut(values, bins = bins)\n",
    "cat"
   ]
  },
  {
   "cell_type": "code",
   "execution_count": null,
   "id": "f4eff61e",
   "metadata": {},
   "outputs": [],
   "source": [
    "cat.value_counts()"
   ]
  },
  {
   "cell_type": "code",
   "execution_count": null,
   "id": "3423ac78",
   "metadata": {},
   "outputs": [],
   "source": [
    "cat.describe()"
   ]
  },
  {
   "cell_type": "code",
   "execution_count": null,
   "id": "94b65cb5",
   "metadata": {},
   "outputs": [],
   "source": [
    "# pd.get_dummies 函式放入類別物件的效果\n",
    "pd.get_dummies(cat)"
   ]
  },
  {
   "cell_type": "markdown",
   "id": "22164960",
   "metadata": {},
   "source": [
    "### 套用函數來轉換資料"
   ]
  },
  {
   "cell_type": "code",
   "execution_count": null,
   "id": "d5ca1ccc",
   "metadata": {},
   "outputs": [],
   "source": [
    "# 在 mod02 已經有學過，可以複習一下\n",
    "s = pd.Series(np.arange(0, 5))\n",
    "s"
   ]
  },
  {
   "cell_type": "code",
   "execution_count": null,
   "id": "21856598",
   "metadata": {},
   "outputs": [],
   "source": [
    "# df.apply() 方法作用在序列，series.apply() 方法作用在值上\n",
    "# 這裡用 map() 方法效果會一樣\n",
    "s.apply(lambda x: x*2)"
   ]
  },
  {
   "cell_type": "markdown",
   "id": "3efc929f",
   "metadata": {},
   "source": [
    "---"
   ]
  },
  {
   "cell_type": "code",
   "execution_count": null,
   "id": "5e8671de",
   "metadata": {},
   "outputs": [],
   "source": [
    "df = pd.DataFrame(np.arange(12).reshape(4, 3),\n",
    "                 columns = ['a', 'b', 'c'])\n",
    "df"
   ]
  },
  {
   "cell_type": "code",
   "execution_count": null,
   "id": "be50c3a0",
   "metadata": {},
   "outputs": [],
   "source": [
    "df.apply(lambda x: x.sum()) # 預設 axis = 0"
   ]
  },
  {
   "cell_type": "code",
   "execution_count": null,
   "id": "d8f23d61",
   "metadata": {},
   "outputs": [],
   "source": [
    "df.apply(lambda x: x.sum(), axis = 1)"
   ]
  },
  {
   "cell_type": "code",
   "execution_count": null,
   "id": "7db93a42",
   "metadata": {},
   "outputs": [],
   "source": [
    "# 注意這裡的軸容易被誤導\n",
    "# axis = 0 or ‘index’: apply function to each column.\n",
    "# axis = 1 or ‘columns’: apply function to each row.\n",
    "df['interim'] = df.apply(lambda x: x['a']*x['b'], axis = 1)\n",
    "df"
   ]
  },
  {
   "cell_type": "code",
   "execution_count": null,
   "id": "587619c0",
   "metadata": {},
   "outputs": [],
   "source": [
    "df['result'] = df.apply(lambda x: x['c'] + x['interim'], axis = 1)\n",
    "df"
   ]
  },
  {
   "cell_type": "markdown",
   "id": "0cb1a3ab",
   "metadata": {},
   "source": [
    "---"
   ]
  },
  {
   "cell_type": "code",
   "execution_count": null,
   "id": "463cfa3f",
   "metadata": {},
   "outputs": [],
   "source": [
    "df = pd.DataFrame(np.arange(0, 15).reshape(3, 5))\n",
    "df.loc[1, 2] = np.nan\n",
    "df"
   ]
  },
  {
   "cell_type": "code",
   "execution_count": null,
   "id": "a96d5045",
   "metadata": {},
   "outputs": [],
   "source": [
    "df.dropna().apply(lambda x: x.sum(), axis = 1)"
   ]
  },
  {
   "cell_type": "markdown",
   "id": "b1586613",
   "metadata": {},
   "source": [
    "---"
   ]
  },
  {
   "cell_type": "code",
   "execution_count": null,
   "id": "8336b54f",
   "metadata": {},
   "outputs": [],
   "source": [
    "df"
   ]
  },
  {
   "cell_type": "code",
   "execution_count": null,
   "id": "97766cdd",
   "metadata": {},
   "outputs": [],
   "source": [
    "df.applymap(lambda x: '%.2f' % x)"
   ]
  },
  {
   "cell_type": "code",
   "execution_count": null,
   "id": "79fc406f",
   "metadata": {},
   "outputs": [],
   "source": [
    "# 跟上面一樣是字串格式化，也可以用 f-string\n",
    "df.applymap(lambda x: '{:.2f}'.format(x))"
   ]
  },
  {
   "cell_type": "markdown",
   "id": "c5f018fa",
   "metadata": {},
   "source": [
    "## 字串操作"
   ]
  },
  {
   "cell_type": "markdown",
   "id": "7791949f",
   "metadata": {},
   "source": [
    "### 字串物件的方法"
   ]
  },
  {
   "cell_type": "code",
   "execution_count": null,
   "id": "3ec8889d",
   "metadata": {},
   "outputs": [],
   "source": [
    "val = 'a, b, guido'\n",
    "val.split(',')"
   ]
  },
  {
   "cell_type": "code",
   "execution_count": null,
   "id": "367f4f65",
   "metadata": {},
   "outputs": [],
   "source": [
    "pieces = [i.strip(' ') for i in val.split(',')]\n",
    "pieces"
   ]
  },
  {
   "cell_type": "code",
   "execution_count": null,
   "id": "9aecb3b4",
   "metadata": {},
   "outputs": [],
   "source": [
    "# 可能會想把他們用符號 :: 連起來\n",
    "first, second, third = pieces\n",
    "first + '::' + second + '::' + third"
   ]
  },
  {
   "cell_type": "code",
   "execution_count": null,
   "id": "26416efd",
   "metadata": {},
   "outputs": [],
   "source": [
    "'::'.join(pieces) # 實務上比較常用的做法"
   ]
  },
  {
   "cell_type": "markdown",
   "id": "c549945d",
   "metadata": {},
   "source": [
    "---"
   ]
  },
  {
   "cell_type": "code",
   "execution_count": null,
   "id": "a2b3de81",
   "metadata": {},
   "outputs": [],
   "source": [
    "# 成員運算子\n",
    "'guido' in val"
   ]
  },
  {
   "cell_type": "code",
   "execution_count": null,
   "id": "d378ebd3",
   "metadata": {},
   "outputs": [],
   "source": [
    "# 字串的 .index 方法\n",
    "val.index(',')"
   ]
  },
  {
   "cell_type": "code",
   "execution_count": null,
   "id": "b8b98594",
   "metadata": {},
   "outputs": [],
   "source": [
    "val.find(':') # -1 表示找不掉"
   ]
  },
  {
   "cell_type": "code",
   "execution_count": null,
   "id": "200ff571",
   "metadata": {},
   "outputs": [],
   "source": [
    "val.index(':') # .find() 方法跟 .index() 方法的差別"
   ]
  },
  {
   "cell_type": "code",
   "execution_count": null,
   "id": "88fe41d3",
   "metadata": {},
   "outputs": [],
   "source": [
    "val.count(',')"
   ]
  },
  {
   "cell_type": "code",
   "execution_count": null,
   "id": "57a4baeb",
   "metadata": {},
   "outputs": [],
   "source": [
    "val.replace(',', '::')"
   ]
  },
  {
   "cell_type": "code",
   "execution_count": null,
   "id": "4f514d36",
   "metadata": {},
   "outputs": [],
   "source": [
    "val.replace(',', '')"
   ]
  },
  {
   "cell_type": "markdown",
   "id": "e60e1214",
   "metadata": {},
   "source": [
    "### 正規表達式"
   ]
  },
  {
   "cell_type": "code",
   "execution_count": null,
   "id": "b36dc8e7",
   "metadata": {},
   "outputs": [],
   "source": [
    "text = \"foo    bar\\t baz  \\tqux\"\n",
    "text"
   ]
  },
  {
   "cell_type": "code",
   "execution_count": null,
   "id": "934f388a",
   "metadata": {},
   "outputs": [],
   "source": [
    "# 滿足正規表達式的切割符號，會返回列表\n",
    "re.split(r'\\s+', text)"
   ]
  },
  {
   "cell_type": "markdown",
   "id": "b9e34ced",
   "metadata": {},
   "source": [
    "---"
   ]
  },
  {
   "cell_type": "code",
   "execution_count": null,
   "id": "08a56279",
   "metadata": {},
   "outputs": [],
   "source": [
    "regex = re.compile(r'\\s+') # 手動呼叫 re.compile() 來編譯一個 regex，這樣可以有重複可用的 regex 物件"
   ]
  },
  {
   "cell_type": "code",
   "execution_count": null,
   "id": "2cb44cd9",
   "metadata": {},
   "outputs": [],
   "source": [
    "regex.split(text)"
   ]
  },
  {
   "cell_type": "code",
   "execution_count": null,
   "id": "c7d0848f",
   "metadata": {},
   "outputs": [],
   "source": [
    "regex.findall(text)"
   ]
  },
  {
   "cell_type": "markdown",
   "id": "fd790521",
   "metadata": {},
   "source": [
    "---"
   ]
  },
  {
   "cell_type": "code",
   "execution_count": null,
   "id": "ed12c565",
   "metadata": {},
   "outputs": [],
   "source": [
    "text = \"\"\"Dave dave@google.com\n",
    "Steve steve@gmail.com\n",
    "Rob rob@gmail.com\n",
    "Ryan ryan@yahoo.com\n",
    "\"\"\""
   ]
  },
  {
   "cell_type": "code",
   "execution_count": null,
   "id": "421b1aa0",
   "metadata": {},
   "outputs": [],
   "source": [
    "# 有加 flags = re.IGNORECASE，我們就可以不用再加入小寫\n",
    "# 另一種寫法: re.findall(pattern, text, flags=re.IGNORECASE)\n",
    "pattern = r'[A-Z0-9._%+-]+@[A-Z0-9.-]+\\.[A-Z]{2,4}'\n",
    "regex = re.compile(pattern, flags = re.IGNORECASE)\n",
    "regex.findall(text)"
   ]
  },
  {
   "cell_type": "code",
   "execution_count": null,
   "id": "66d5372a",
   "metadata": {},
   "outputs": [],
   "source": [
    "m = regex.search(text)\n",
    "m"
   ]
  },
  {
   "cell_type": "code",
   "execution_count": null,
   "id": "29dbf7df",
   "metadata": {},
   "outputs": [],
   "source": [
    "m = regex.match(text)\n",
    "m"
   ]
  },
  {
   "cell_type": "code",
   "execution_count": null,
   "id": "e3f2300c",
   "metadata": {},
   "outputs": [],
   "source": [
    "# redacted 的意思是為了模糊或刪除敏感信息而做出特殊編輯的\n",
    "print(regex.sub('REDACTED', text))"
   ]
  },
  {
   "cell_type": "code",
   "execution_count": null,
   "id": "245ab08b",
   "metadata": {},
   "outputs": [],
   "source": [
    "text"
   ]
  },
  {
   "cell_type": "code",
   "execution_count": null,
   "id": "80eac7da",
   "metadata": {},
   "outputs": [],
   "source": [
    "# 不要忘記 flags= re.IGNORECASE，不然就一開始就把大小寫都加進 pattern 中\n",
    "print(re.sub(pattern, 'REDACTED', text, flags= re.IGNORECASE))"
   ]
  },
  {
   "cell_type": "markdown",
   "id": "fdee6f78",
   "metadata": {},
   "source": [
    "---"
   ]
  },
  {
   "cell_type": "code",
   "execution_count": null,
   "id": "72940a41",
   "metadata": {},
   "outputs": [],
   "source": [
    "# 用括號 () 來分組\n",
    "pattern = r'([A-Z0-9._%+-]+)@([A-Z0-9.-]+)\\.([A-Z]{2,4})'\n",
    "regex = re.compile(pattern, flags=re.IGNORECASE)"
   ]
  },
  {
   "cell_type": "code",
   "execution_count": null,
   "id": "fca958be",
   "metadata": {},
   "outputs": [],
   "source": [
    "m = regex.match('wesm@bright.net')\n",
    "m.groups()"
   ]
  },
  {
   "cell_type": "code",
   "execution_count": null,
   "id": "07b6378e",
   "metadata": {},
   "outputs": [],
   "source": [
    "# group() 與 group(0) 傳回完整的搜尋字串\n",
    "m.group(0)"
   ]
  },
  {
   "cell_type": "code",
   "execution_count": null,
   "id": "4c84f4f0",
   "metadata": {},
   "outputs": [],
   "source": [
    "m.group(1)"
   ]
  },
  {
   "cell_type": "code",
   "execution_count": null,
   "id": "54c406d1",
   "metadata": {},
   "outputs": [],
   "source": [
    "m.group(2)"
   ]
  },
  {
   "cell_type": "code",
   "execution_count": null,
   "id": "b52d9725",
   "metadata": {},
   "outputs": [],
   "source": [
    "m.group(3)"
   ]
  },
  {
   "cell_type": "code",
   "execution_count": null,
   "id": "276ec01a",
   "metadata": {},
   "outputs": [],
   "source": [
    "regex.findall(text)"
   ]
  },
  {
   "cell_type": "code",
   "execution_count": null,
   "id": "e377a1b2",
   "metadata": {},
   "outputs": [],
   "source": [
    "print(regex.sub(r'Username: \\1, Domain: \\2, Suffix: \\3', text)) # \\1、\\2、\\3 這樣特別的符號是來存取分段的結果"
   ]
  },
  {
   "cell_type": "markdown",
   "id": "2468e913",
   "metadata": {},
   "source": [
    "### pandas 中向量字串函式"
   ]
  },
  {
   "cell_type": "code",
   "execution_count": null,
   "id": "78aeef9e",
   "metadata": {},
   "outputs": [],
   "source": [
    "data = {'Dave': 'dave@google.com', 'Steve': 'steve@gmail.com',\n",
    "        'Rob': 'rob@gmail.com', 'Wes': np.nan}\n",
    "data = pd.Series(data)\n",
    "data"
   ]
  },
  {
   "cell_type": "code",
   "execution_count": null,
   "id": "b3e35252",
   "metadata": {},
   "outputs": [],
   "source": [
    "data.isnull()"
   ]
  },
  {
   "cell_type": "code",
   "execution_count": null,
   "id": "f6b20981",
   "metadata": {},
   "outputs": [],
   "source": [
    "# 遇到遺失值，直接用 .map() 或 .apply() 方法等都會產生例外喔!\n",
    "# 所以要加個條件式過濾\n",
    "# 不能寫 x == np.nan ，過濾遺失值會失敗\n",
    "def func(x):\n",
    "    if x is np.nan:\n",
    "        return x\n",
    "    else:\n",
    "        pattern = r'gmail'\n",
    "        m = re.search(pattern, x)\n",
    "        if m:\n",
    "            return True\n",
    "        else:\n",
    "            return False\n",
    "\n",
    "data.map(func)"
   ]
  },
  {
   "cell_type": "raw",
   "id": "2b23ba57",
   "metadata": {},
   "source": [
    "# 利用 Series.map() 方法可以將字串方法跟正規表達式套用在每個值上，不過碰到遺失值時會變得很麻煩\n",
    "# Series 有幫我們建一些適用的陣列字串方法，這些方法可以跳過遺失值\n",
    "# 我們可以透過 Series 的 str 屬性來進行這些字串的方法\n",
    "# 例如用 str.contains() 來檢查郵件帳號中是否存在 \"gmail\" 這幾個字"
   ]
  },
  {
   "cell_type": "code",
   "execution_count": null,
   "id": "7a453304",
   "metadata": {},
   "outputs": [],
   "source": [
    "data.str.contains('gmail')"
   ]
  },
  {
   "cell_type": "code",
   "execution_count": null,
   "id": "9ecb5620",
   "metadata": {},
   "outputs": [],
   "source": [
    "pattern = r'([A-Z0-9._%+-]+)@([A-Z0-9.-]+)\\.([A-Z]{2,4})'\n",
    "data.str.findall(pattern, flags = re.IGNORECASE)"
   ]
  },
  {
   "cell_type": "code",
   "execution_count": null,
   "id": "ebcc0e40",
   "metadata": {},
   "outputs": [],
   "source": [
    "# 利用可以分組的正規表達式，從字串 Series 中取出一個或多個字串，輸出結果是一個資料框，每個分組會有一欄\n",
    "# 一定要分組，也就是給括號\n",
    "matches = data.str.extract(pattern, flags = re.IGNORECASE)\n",
    "matches"
   ]
  },
  {
   "cell_type": "code",
   "execution_count": null,
   "id": "511956ca",
   "metadata": {},
   "outputs": [],
   "source": [
    "matches[0]"
   ]
  },
  {
   "cell_type": "code",
   "execution_count": null,
   "id": "92b0ce58",
   "metadata": {},
   "outputs": [],
   "source": [
    "matches.iloc[:, 1]"
   ]
  },
  {
   "cell_type": "markdown",
   "id": "fd59060b",
   "metadata": {},
   "source": [
    "---"
   ]
  },
  {
   "cell_type": "code",
   "execution_count": null,
   "id": "4693114e",
   "metadata": {},
   "outputs": [],
   "source": [
    "# 拿到字串物件後會對裡面每個字串做切片\n",
    "data.str[:5]"
   ]
  },
  {
   "cell_type": "markdown",
   "id": "adde79c5",
   "metadata": {},
   "source": [
    "---"
   ]
  },
  {
   "cell_type": "code",
   "execution_count": null,
   "id": "be0b0649",
   "metadata": {},
   "outputs": [],
   "source": [
    "s = pd.Series(['**Crystal;L123  ', ' Matt;L456 ', 'Alice;L789 '])\n",
    "s"
   ]
  },
  {
   "cell_type": "code",
   "execution_count": null,
   "id": "48daa6d9",
   "metadata": {},
   "outputs": [],
   "source": [
    "s = s.str.strip('*').str.strip(' ')\n",
    "s"
   ]
  },
  {
   "cell_type": "code",
   "execution_count": null,
   "id": "89899445",
   "metadata": {},
   "outputs": [],
   "source": [
    "s = s.str.split(';')\n",
    "s"
   ]
  },
  {
   "cell_type": "code",
   "execution_count": null,
   "id": "fab1cfcf",
   "metadata": {},
   "outputs": [],
   "source": [
    "df = pd.DataFrame(np.zeros((len(s), 2)))\n",
    "df"
   ]
  },
  {
   "cell_type": "code",
   "execution_count": null,
   "id": "894689f3",
   "metadata": {},
   "outputs": [],
   "source": [
    "df.iloc[0] = s[0]\n",
    "df"
   ]
  },
  {
   "cell_type": "code",
   "execution_count": null,
   "id": "276ed8d3",
   "metadata": {},
   "outputs": [],
   "source": [
    "for i in range(len(s)):\n",
    "    df.iloc[i] = s[i]\n",
    "df"
   ]
  },
  {
   "cell_type": "markdown",
   "id": "0d3b11a0",
   "metadata": {},
   "source": [
    "---"
   ]
  },
  {
   "cell_type": "code",
   "execution_count": null,
   "id": "464b7ff9",
   "metadata": {},
   "outputs": [],
   "source": [
    "s = pd.Series(['**Crystal;L123  ', ' Matt;L456 ', 'Alice;L789 '])\n",
    "s"
   ]
  },
  {
   "cell_type": "code",
   "execution_count": null,
   "id": "ce25cd2f",
   "metadata": {},
   "outputs": [],
   "source": [
    "pattern = r\"([A-Za-z]+);([A-Z0-9]+)\"\n",
    "s.str.extract(pattern)"
   ]
  },
  {
   "cell_type": "markdown",
   "id": "8fc917ed",
   "metadata": {},
   "source": [
    "## 綜合應用"
   ]
  },
  {
   "cell_type": "code",
   "execution_count": null,
   "id": "67204973",
   "metadata": {},
   "outputs": [],
   "source": [
    "string_data = pd.Series(['aardvark', 'artichoke', np.nan, 'avocado'])\n",
    "string_data"
   ]
  },
  {
   "cell_type": "code",
   "execution_count": null,
   "id": "e4293c69",
   "metadata": {},
   "outputs": [],
   "source": [
    "string_data.isnull()"
   ]
  },
  {
   "cell_type": "code",
   "execution_count": null,
   "id": "b4de6ffd",
   "metadata": {},
   "outputs": [],
   "source": [
    "string_data[0] = None"
   ]
  },
  {
   "cell_type": "code",
   "execution_count": null,
   "id": "753023dd",
   "metadata": {},
   "outputs": [],
   "source": [
    "string_data"
   ]
  },
  {
   "cell_type": "code",
   "execution_count": null,
   "id": "af85620d",
   "metadata": {},
   "outputs": [],
   "source": [
    "string_data.isnull() # None 會被當成 NaN"
   ]
  }
 ],
 "metadata": {
  "kernelspec": {
   "display_name": "Python 3",
   "language": "python",
   "name": "python3"
  },
  "language_info": {
   "codemirror_mode": {
    "name": "ipython",
    "version": 3
   },
   "file_extension": ".py",
   "mimetype": "text/x-python",
   "name": "python",
   "nbconvert_exporter": "python",
   "pygments_lexer": "ipython3",
   "version": "3.8.10"
  }
 },
 "nbformat": 4,
 "nbformat_minor": 5
}
